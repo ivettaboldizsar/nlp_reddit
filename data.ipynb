{
 "cells": [
  {
   "cell_type": "code",
   "execution_count": 1,
   "metadata": {},
   "outputs": [],
   "source": [
    "import pandas as pd\n",
    "import numpy as np\n",
    "import os\n",
    "import umap\n",
    "import seaborn as sns\n",
    "import matplotlib.pyplot as plt\n",
    "from sklearn.datasets import fetch_20newsgroups\n",
    "from sentence_transformers import SentenceTransformer\n",
    "import hdbscan\n",
    "import re\n",
    "from info_gain import info_gain\n",
    "import string\n",
    "from sklearn.feature_extraction.text import CountVectorizer\n",
    "import json\n",
    "from sklearn import preprocessing"
   ]
  },
  {
   "cell_type": "markdown",
   "metadata": {},
   "source": [
    "# Read Data"
   ]
  },
  {
   "cell_type": "code",
   "execution_count": 2,
   "metadata": {},
   "outputs": [],
   "source": [
    "data_dir = r\"C:\\Users\\LENOVO\\Documents\\Python\\RedditData\""
   ]
  },
  {
   "cell_type": "code",
   "execution_count": 3,
   "metadata": {},
   "outputs": [],
   "source": [
    "files = os.listdir(data_dir)"
   ]
  },
  {
   "cell_type": "code",
   "execution_count": 67,
   "metadata": {},
   "outputs": [
    {
     "data": {
      "text/plain": [
       "['reddit_data.csv',\n",
       " 'reddit_stockmarket.csv',\n",
       " 'reddit_stockmarket2021-02-18.csv',\n",
       " 'reddit_stockmarket2021-02-22.csv',\n",
       " 'reddit_stockmarket2021-02-26.csv',\n",
       " 'reddit_stockmarket2021-03-02.csv',\n",
       " 'reddit_stockmarket2021-03-06.csv',\n",
       " 'reddit_stockmarket2021-03-10.csv',\n",
       " 'reddit_stockmarket2021-03-14.csv',\n",
       " 'reddit_stockmarket2021-03-18.csv',\n",
       " 'reddit_stockmarket2021-03-22.csv',\n",
       " 'reddit_stockmarket2021-03-26.csv',\n",
       " 'reddit_stockmarket2021-05-10.csv',\n",
       " 'reddit_stockmarket2021-05-11.csv',\n",
       " 'reddit_stockmarket2021-05-13.csv',\n",
       " 'reddit_stockmarket2021-05-16.csv',\n",
       " 'reddit_stockmarket2021-05-17.csv',\n",
       " 'reddit_stockmarket2021-05-19.csv',\n",
       " 'reddit_stockmarket2021-05-21.csv',\n",
       " 'reddit_stockmarket2021-05-23.csv',\n",
       " 'reddit_stockmarket2021-05-25.csv',\n",
       " 'reddit_stockmarket2021-05-27.csv',\n",
       " 'reddit_stockmarket2021-05-29.csv',\n",
       " 'reddit_stockmarket2021-05-31.csv',\n",
       " 'reddit_stockmarket2021-06-02.csv',\n",
       " 'reddit_stockmarket2021-06-04.csv',\n",
       " 'reddit_stockmarket2021-06-06.csv',\n",
       " 'reddit_stockmarket2021-06-08.csv',\n",
       " 'reddit_stockmarket2021-06-10.csv',\n",
       " 'reddit_stockmarket2021-06-12.csv',\n",
       " 'reddit_stockmarket2021-06-14.csv',\n",
       " 'reddit_stockmarket2021-06-16.csv',\n",
       " 'reddit_stockmarket2021-06-18.csv',\n",
       " 'reddit_stockmarket2021-06-20.csv',\n",
       " 'reddit_wallstreetbets.csv',\n",
       " 'reddit_wallstreetbets1.csv',\n",
       " 'reddit_wallstreetbets2021-02-18.csv',\n",
       " 'reddit_wallstreetbets2021-02-22.csv',\n",
       " 'reddit_wallstreetbets2021-02-26.csv',\n",
       " 'reddit_wallstreetbets2021-03-02.csv',\n",
       " 'reddit_wallstreetbets2021-03-06.csv',\n",
       " 'reddit_wallstreetbets2021-03-10.csv',\n",
       " 'reddit_wallstreetbets2021-03-14.csv',\n",
       " 'reddit_wallstreetbets2021-03-18.csv',\n",
       " 'reddit_wallstreetbets2021-03-22.csv',\n",
       " 'reddit_wallstreetbets2021-03-26.csv',\n",
       " 'reddit_wallstreetbets2021-05-10.csv',\n",
       " 'reddit_wallstreetbets2021-05-11.csv',\n",
       " 'reddit_wallstreetbets2021-05-13.csv',\n",
       " 'reddit_wallstreetbets2021-05-16.csv',\n",
       " 'reddit_wallstreetbets2021-05-17.csv',\n",
       " 'reddit_wallstreetbets2021-05-19.csv',\n",
       " 'reddit_wallstreetbets2021-05-21.csv',\n",
       " 'reddit_wallstreetbets2021-05-23.csv',\n",
       " 'reddit_wallstreetbets2021-05-25.csv',\n",
       " 'reddit_wallstreetbets2021-05-27.csv',\n",
       " 'reddit_wallstreetbets2021-05-29.csv',\n",
       " 'reddit_wallstreetbets2021-05-31.csv',\n",
       " 'reddit_wallstreetbets2021-06-02.csv',\n",
       " 'reddit_wallstreetbets2021-06-04.csv',\n",
       " 'reddit_wallstreetbets2021-06-06.csv',\n",
       " 'reddit_wallstreetbets2021-06-08.csv',\n",
       " 'reddit_wallstreetbets2021-06-10.csv',\n",
       " 'reddit_wallstreetbets2021-06-12.csv',\n",
       " 'reddit_wallstreetbets2021-06-14.csv',\n",
       " 'reddit_wallstreetbets2021-06-16.csv']"
      ]
     },
     "execution_count": 67,
     "metadata": {},
     "output_type": "execute_result"
    }
   ],
   "source": [
    "files"
   ]
  },
  {
   "cell_type": "code",
   "execution_count": 68,
   "metadata": {},
   "outputs": [],
   "source": [
    "df_stock = []\n",
    "df_wall = []\n",
    "for file in files:\n",
    "    if 'stock' in file:\n",
    "        one_stock = pd.read_csv(os.path.join(data_dir, file),encoding='utf-8')\n",
    "        df_stock.append(one_stock)\n",
    "        \n",
    "    elif 'wall' in file:\n",
    "        one_wall = pd.read_csv(os.path.join(data_dir, file),encoding='utf-8')\n",
    "        df_wall.append(one_wall)\n",
    "    "
   ]
  },
  {
   "cell_type": "markdown",
   "metadata": {},
   "source": [
    "# Pre-process"
   ]
  },
  {
   "cell_type": "code",
   "execution_count": 69,
   "metadata": {},
   "outputs": [],
   "source": [
    "stock = pd.concat(df_stock)"
   ]
  },
  {
   "cell_type": "code",
   "execution_count": 70,
   "metadata": {},
   "outputs": [],
   "source": [
    "wall = pd.concat(df_wall)"
   ]
  },
  {
   "cell_type": "code",
   "execution_count": 8,
   "metadata": {},
   "outputs": [],
   "source": [
    "def pre_process(df):\n",
    "    \n",
    "    #drop duplicates\n",
    "    df = df.drop_duplicates()\n",
    "    \n",
    "    #change data types\n",
    "    df.created_utc = pd.to_datetime(df.created_utc)\n",
    "    df.title = df.title.astype(str)\n",
    "    df.selftext = df.selftext.astype(str)\n",
    "    \n",
    "    #concat title and selftext in order to obtain more information \n",
    "    df['concat'] = df['title']  + '. ' + df['selftext']\n",
    "    df = df.reset_index()\n",
    "    \n",
    "    #clean data and delete links in the data\n",
    "    df.concat = df.concat.apply(lambda x: x.replace('nan','').replace('\\n','').replace('&amp;#x200B;',' ').replace('bcx9930','')\n",
    "                                .replace('&gt;','')\n",
    "                               .replace('&amp;',''))\n",
    "    df.concat = df.concat.apply(lambda r: re.sub(r\"http\\S+\", \"\", r))\n",
    "    \n",
    "    #return the concat text and date\n",
    "    df_text = df[['concat', 'created_utc']].copy()\n",
    "    \n",
    "    return df_text"
   ]
  },
  {
   "cell_type": "code",
   "execution_count": 9,
   "metadata": {},
   "outputs": [],
   "source": [
    "def split_doc(document, threshold):\n",
    "    #split the document into words\n",
    "    splitted_doc = document.split()\n",
    "    #doc length\n",
    "    length_original = len(splitted_doc)\n",
    "    length = length_original\n",
    "    n_groups = length // threshold\n",
    "    n_words = length // (n_groups + 1) \n",
    "    s = ' '\n",
    "    result = []\n",
    "    i = 0\n",
    "    while length > 0:\n",
    "        if length >= n_words:\n",
    "            new_doc = [splitted_doc[j] for j in range(i*n_words, i*n_words + n_words)]\n",
    "            result.append(s.join(new_doc))\n",
    "            length = length - n_words\n",
    "        else:\n",
    "            new_doc = [splitted_doc[j] for j in range(i*n_words, length_original)]\n",
    "            result.append(s.join(new_doc))\n",
    "            length = 0\n",
    "\n",
    "        i = i + 1\n",
    "    return result"
   ]
  },
  {
   "cell_type": "code",
   "execution_count": 10,
   "metadata": {},
   "outputs": [],
   "source": [
    "def split_df(dataframe, threshold):\n",
    "\n",
    "    index_list = []\n",
    "    data = []\n",
    "    for index, row in dataframe.iterrows():\n",
    "        if len(row['concat'].split())>threshold:\n",
    "            splitted_doc_list = split_doc(row['concat'], threshold)\n",
    "            date = row['created_utc']\n",
    "            for doc in splitted_doc_list:\n",
    "                data.append({'concat': doc, 'created_utc': date})\n",
    "            index_list.append(index)\n",
    "    return index_list, data           \n",
    "    "
   ]
  },
  {
   "cell_type": "code",
   "execution_count": 11,
   "metadata": {},
   "outputs": [],
   "source": [
    "def split(df_text, threshold=200):\n",
    "    \n",
    "    index_list, data = split_df(df_text, threshold)\n",
    "    df_text = df_text.drop(index_list)\n",
    "    df_text = df_text.append(data, True)\n",
    "    \n",
    "    return df_text"
   ]
  },
  {
   "cell_type": "code",
   "execution_count": 12,
   "metadata": {},
   "outputs": [],
   "source": [
    "def delete_short_doc(df_text, threshold=5):\n",
    "    \n",
    "    df_delete_index = df_text[df_text['concat'].apply(lambda r: len(r.split()))<threshold].index\n",
    "    df_text = df_text.drop(df_delete_index)\n",
    "    df_text = df_text.reset_index().drop('index', axis=1)\n",
    "    \n",
    "    return df_text"
   ]
  },
  {
   "cell_type": "code",
   "execution_count": 13,
   "metadata": {},
   "outputs": [],
   "source": [
    "def process(df):\n",
    "    return delete_short_doc(split(pre_process(df), 200), 5)"
   ]
  },
  {
   "cell_type": "markdown",
   "metadata": {},
   "source": [
    "## Document Embeddings"
   ]
  },
  {
   "cell_type": "code",
   "execution_count": 14,
   "metadata": {},
   "outputs": [
    {
     "name": "stdout",
     "output_type": "stream",
     "text": [
      "There are 1 GPU(s) available.\n",
      "We will use the GPU: NVIDIA GeForce GTX 1050 Ti\n"
     ]
    }
   ],
   "source": [
    "import torch\n",
    "\n",
    "# If there's a GPU available...\n",
    "if torch.cuda.is_available():    \n",
    "\n",
    "    # Tell PyTorch to use the GPU.    \n",
    "    device = torch.device(\"cuda\")\n",
    "\n",
    "    print('There are %d GPU(s) available.' % torch.cuda.device_count())\n",
    "\n",
    "    print('We will use the GPU:', torch.cuda.get_device_name(0))\n",
    "\n",
    "# If not...\n",
    "else:\n",
    "    print('No GPU available, using the CPU instead.')\n",
    "    device = torch.device(\"cpu\")"
   ]
  },
  {
   "cell_type": "code",
   "execution_count": 15,
   "metadata": {},
   "outputs": [],
   "source": [
    "pre_df = wall"
   ]
  },
  {
   "cell_type": "code",
   "execution_count": 16,
   "metadata": {},
   "outputs": [
    {
     "name": "stderr",
     "output_type": "stream",
     "text": [
      "C:\\Users\\LENOVO\\anaconda3\\envs\\transform\\lib\\site-packages\\pandas\\core\\generic.py:5494: SettingWithCopyWarning: \n",
      "A value is trying to be set on a copy of a slice from a DataFrame.\n",
      "Try using .loc[row_indexer,col_indexer] = value instead\n",
      "\n",
      "See the caveats in the documentation: https://pandas.pydata.org/pandas-docs/stable/user_guide/indexing.html#returning-a-view-versus-a-copy\n",
      "  self[name] = value\n",
      "C:\\Users\\LENOVO\\anaconda3\\envs\\transform\\lib\\site-packages\\ipykernel_launcher.py:12: SettingWithCopyWarning: \n",
      "A value is trying to be set on a copy of a slice from a DataFrame.\n",
      "Try using .loc[row_indexer,col_indexer] = value instead\n",
      "\n",
      "See the caveats in the documentation: https://pandas.pydata.org/pandas-docs/stable/user_guide/indexing.html#returning-a-view-versus-a-copy\n",
      "  if sys.path[0] == '':\n"
     ]
    }
   ],
   "source": [
    "df = process(pre_df)"
   ]
  },
  {
   "cell_type": "code",
   "execution_count": 17,
   "metadata": {},
   "outputs": [
    {
     "data": {
      "application/vnd.jupyter.widget-view+json": {
       "model_id": "b1a0f8db98814bf3ab1f665e3c6d4505",
       "version_major": 2,
       "version_minor": 0
      },
      "text/plain": [
       "Batches:   0%|          | 0/993 [00:00<?, ?it/s]"
      ]
     },
     "metadata": {},
     "output_type": "display_data"
    }
   ],
   "source": [
    "model = SentenceTransformer('stsb-roberta-base-v2')\n",
    "embeddings = model.encode(df.concat, show_progress_bar=True)"
   ]
  },
  {
   "cell_type": "code",
   "execution_count": 18,
   "metadata": {},
   "outputs": [
    {
     "data": {
      "text/plain": [
       "(31754, 768)"
      ]
     },
     "execution_count": 18,
     "metadata": {},
     "output_type": "execute_result"
    }
   ],
   "source": [
    "embeddings.shape"
   ]
  },
  {
   "cell_type": "markdown",
   "metadata": {},
   "source": [
    "## TF-IDF Functions"
   ]
  },
  {
   "cell_type": "markdown",
   "metadata": {},
   "source": [
    "### Original TF-IDF calculation"
   ]
  },
  {
   "cell_type": "code",
   "execution_count": 19,
   "metadata": {},
   "outputs": [],
   "source": [
    "def c_tf_idf(documents, m, ngram_range=(1, 1)):\n",
    "    count = CountVectorizer(ngram_range=ngram_range, stop_words=\"english\",lowercase=True,tokenizer=lambda x: x.translate(str.maketrans('', '', string.punctuation)).split()).fit(documents)\n",
    "    t = count.transform(documents).toarray()\n",
    "    w = t.sum(axis=1)\n",
    "    tf = np.divide(t.T, w)\n",
    "    sum_t = t.sum(axis=0)\n",
    "    idf = np.log(np.divide(m, sum_t)).reshape(-1, 1)\n",
    "    tf_idf = np.multiply(tf, idf)\n",
    "\n",
    "    return tf_idf, count"
   ]
  },
  {
   "cell_type": "markdown",
   "metadata": {},
   "source": [
    "### New TF-IDF calculation"
   ]
  },
  {
   "cell_type": "code",
   "execution_count": 20,
   "metadata": {},
   "outputs": [],
   "source": [
    "def c_tf_idf_new(documents, m, ngram_range=(1, 1)):\n",
    "    count = CountVectorizer(ngram_range=ngram_range, stop_words=\"english\",tokenizer=lambda x: x.translate(str.maketrans('', '', string.punctuation)).split()).fit(documents)\n",
    "    t = count.transform(documents).toarray()\n",
    "    max_f = t.max(axis=1)\n",
    "    tf = np.divide(t.T, max_f)\n",
    "    n_i = np.count_nonzero(t, axis=0)\n",
    "    idf = np.log(np.divide(len(documents), n_i)).reshape(-1, 1)\n",
    "    tf_idf = np.multiply(tf, idf)\n",
    "\n",
    "    return tf_idf, count\n",
    "  \n"
   ]
  },
  {
   "cell_type": "code",
   "execution_count": 21,
   "metadata": {},
   "outputs": [],
   "source": [
    "def extract_top_n_words_per_topic(tf_idf, count, docs_per_topic, n=20):\n",
    "    words = count.get_feature_names()\n",
    "    labels = list(docs_per_topic.Topic)\n",
    "    tf_idf_transposed = tf_idf.T\n",
    "    indices = tf_idf_transposed.argsort()[:, -n:]\n",
    "    top_n_words = {label: [(words[j], tf_idf_transposed[i][j]) for j in indices[i]][::-1] for i, label in enumerate(labels)}\n",
    "    return top_n_words\n",
    "\n",
    "def extract_topic_sizes(df):\n",
    "    topic_sizes = (df.groupby(['Topic'])\n",
    "                     .Doc\n",
    "                     .count()\n",
    "                     .reset_index()\n",
    "                     .rename({\"Topic\": \"Topic\", \"Doc\": \"Size\"}, axis='columns')\n",
    "                     .sort_values(\"Size\", ascending=False))\n",
    "    return topic_sizes"
   ]
  },
  {
   "cell_type": "markdown",
   "metadata": {},
   "source": [
    "## Coherence"
   ]
  },
  {
   "cell_type": "code",
   "execution_count": 22,
   "metadata": {},
   "outputs": [
    {
     "name": "stderr",
     "output_type": "stream",
     "text": [
      "C:\\Users\\LENOVO\\anaconda3\\envs\\transform\\lib\\site-packages\\gensim\\similarities\\__init__.py:15: UserWarning: The gensim.similarities.levenshtein submodule is disabled, because the optional Levenshtein package <https://pypi.org/project/python-Levenshtein/> is unavailable. Install Levenhstein (e.g. `pip install python-Levenshtein`) to suppress this warning.\n",
      "  warnings.warn(msg)\n"
     ]
    }
   ],
   "source": [
    "from gensim.models.coherencemodel import CoherenceModel\n",
    "from gensim.utils import tokenize\n",
    "from gensim.corpora import Dictionary"
   ]
  },
  {
   "cell_type": "code",
   "execution_count": 23,
   "metadata": {},
   "outputs": [],
   "source": [
    "def get_topic_words(df, cluster, new=True):\n",
    "    \n",
    "    #create the docs_df dataframe to store documents and their clusters\n",
    "    docs_df = pd.DataFrame(df.concat.values, columns=[\"Doc\"])\n",
    "    docs_df['Topic'] = hdbscan_clusters.labels_\n",
    "    docs_df['Doc_ID'] = range(len(docs_df))\n",
    "    docs_per_topic = docs_df.groupby(['Topic'], as_index = False).agg({'Doc': ' '.join})\n",
    "    \n",
    "    if new:\n",
    "        tf_idf, count = c_tf_idf_new(docs_per_topic.Doc.values, m=len(df.values))\n",
    "    else:\n",
    "        tf_idf, count = c_tf_idf(docs_per_topic.Doc.values, m=len(df.values))\n",
    "        \n",
    "    top_n_words = extract_top_n_words_per_topic(tf_idf, count, docs_per_topic, n=20)\n",
    "    topic_sizes = extract_topic_sizes(docs_df); topic_sizes.head(10)\n",
    "    \n",
    "    return docs_df, top_n_words, topic_sizes"
   ]
  },
  {
   "cell_type": "code",
   "execution_count": 24,
   "metadata": {},
   "outputs": [],
   "source": [
    "def get_coherence(docs_df, top_n_words):\n",
    "    \n",
    "    #function to assign the topic words to the dataframe\n",
    "    def topic_words(topic_number):\n",
    "        word_list =[]\n",
    "        for t in top_n_words[topic_number]:\n",
    "            word_list.append(t[0])\n",
    "        return word_list\n",
    "    \n",
    "    #creating the words_df dataframe to store joined documents and topics\n",
    "    clustered = docs_df[docs_df.Topic!=-1].copy()\n",
    "    words_df = clustered.groupby(['Topic'], as_index = False).agg({'Doc': ' '.join})\n",
    "    words_df['Words']  = words_df['Topic'].apply(lambda r: topic_words(r))\n",
    "    words_df['Altered']  = words_df['Doc'].apply(lambda r: r.translate(str.maketrans('', '', string.punctuation)).lower())\n",
    "    docs = list(words_df['Altered'].apply(lambda r: r.split()).values)\n",
    "    \n",
    "    #create Dictionary from the documents\n",
    "    not_known_word = False\n",
    "    dic=Dictionary(docs)\n",
    "    \n",
    "    #create topic list\n",
    "    topics = list(words_df['Words'].values)\n",
    "    for idx,top in enumerate(topics):\n",
    "        if -1 in dic.doc2idx(top):\n",
    "            print(idx,dic.doc2idx(top))\n",
    "            not_known_word = True\n",
    "        \n",
    "    \n",
    "    #calculate coherence\n",
    "    try:\n",
    "        cm = CoherenceModel(topics=topics, coherence='c_v', dictionary=dic, texts=docs)\n",
    "        coherence = cm.get_coherence()\n",
    "    \n",
    "        return coherence\n",
    "    except:\n",
    "        print(\"Error found.\")"
   ]
  },
  {
   "cell_type": "code",
   "execution_count": 54,
   "metadata": {},
   "outputs": [],
   "source": [
    "list_n_neighbours = [15, 30, 60, 90]\n",
    "list_cluster_size = [15, 45, 75, 95]\n",
    "list_samples = [1, 2, 15]"
   ]
  },
  {
   "cell_type": "code",
   "execution_count": 61,
   "metadata": {},
   "outputs": [
    {
     "name": "stderr",
     "output_type": "stream",
     "text": [
      "C:\\Users\\LENOVO\\anaconda3\\envs\\transform\\lib\\site-packages\\sklearn\\feature_extraction\\text.py:489: UserWarning: The parameter 'token_pattern' will not be used since 'tokenizer' is not None'\n",
      "  warnings.warn(\"The parameter 'token_pattern' will not be used\"\n"
     ]
    },
    {
     "name": "stdout",
     "output_type": "stream",
     "text": [
      "13 [2624, 1501, 1290, 1415, 1397, 6118, 26660, 32884, 4927, 30627, 28406, 32184, 21340, 31108, 38124, 38699, -1, 2898, 26375, 21494]\n",
      "32 [4547, 889, 2157, 526, 7024, 21340, -1, 2898, 32884, 4927, 30627, 28406, 32184, 31108, 17724, 26660, -1, 26375, 21494, 31448]\n",
      "39 [3112, 1567, 1434, 5261, 5263, 194, 1092, 5262, 1415, 21340, 32884, 4927, 30627, 28406, 32184, 26660, 31108, -1, 26375, 21494]\n",
      "56 [2492, 2381, 1415, 527, 4396, 1475, 1290, 22667, 2898, 32884, 4927, 6118, 30627, 28406, 32184, 31448, 31108, 26660, -1, -1]\n",
      "72 [6672, 6675, 6674, 487, 2117, 494, 6671, 504, 6673, 4396, 1414, 274, 1038, -1, 32184, 21340, 31108, 26660, 12154, 26375]\n",
      "74 [6825, 3112, 6826, 194, 1415, 2376, 2208, 3118, 1812, 1530, 3499, 707, 4396, 436, 1507, 21340, 31108, 26660, 31448, -1]\n",
      "172 [10922, 12886, 1952, 1177, 2066, 1200, 2450, 2068, 3490, 1197, 21340, 26375, 19459, -1, 31448, 2898, 32884, 21494, -1, 31108]\n",
      "173 [12886, 10922, 1952, 1177, 2066, 9, 14, 1200, 7024, -1, 2898, 32884, 4927, 30627, 28406, 31108, 32184, 21340, 17724, 26660]\n",
      "201 [3753, 1593, 2624, 14408, 1501, 7282, 3751, 1290, 1415, 283, 14410, 14409, 1397, 10576, 1319, 4056, 26575, 31448, 26660, -1]\n",
      "492 [3112, 19135, 1567, 1434, 3434, 2789, 194, 1092, 1415, 29449, 1397, 11008, 2696, 1324, 2782, 1507, -1, 22667, 31448, 21494]\n",
      "Error found.\n",
      "n_topics: 679n_noise: 3855 n_neighbours: 15 min_cluster_size: 15 min_samples: 15 coherence: None\n"
     ]
    },
    {
     "name": "stderr",
     "output_type": "stream",
     "text": [
      "C:\\Users\\LENOVO\\anaconda3\\envs\\transform\\lib\\site-packages\\sklearn\\feature_extraction\\text.py:489: UserWarning: The parameter 'token_pattern' will not be used since 'tokenizer' is not None'\n",
      "  warnings.warn(\"The parameter 'token_pattern' will not be used\"\n"
     ]
    },
    {
     "name": "stdout",
     "output_type": "stream",
     "text": [
      "23 [3330, 2067, 706, 157, 527, 6802, 26424, 32296, 964, 30382, 21177, 31583, 21620, 31456, 37875, 38744, -1, 3799, 27184, 22373]\n",
      "44 [4909, 1014, 1012, 493, 8867, 21620, -1, 3799, 32296, 964, 30382, 21177, 31583, 31456, 15932, 26424, -1, 27184, 22373, 35776]\n",
      "58 [6117, 2245, 1846, 5691, 6116, 270, 907, 157, 6115, 21620, 32296, 964, 30382, 21177, 31583, 26424, 31456, -1, 27184, 22373]\n",
      "75 [5982, 6805, 6806, 1918, 220, 71, 1332, 1138, 8867, 21177, 3799, 32296, 964, 30382, 21620, 31583, 31456, 26424, -1, 27184]\n",
      "77 [266, 758, 157, 494, 4903, 1077, 706, 23341, 3799, 32296, 964, 6802, 30382, 21177, 31583, 35776, 31456, 26424, -1, -1]\n",
      "105 [8406, 8407, 8408, 2327, 1745, 1410, 8405, 1053, 2901, 4903, 1717, 60, 148, -1, 31583, 21620, 31456, 26424, 13687, 27184]\n",
      "106 [8409, 6117, 270, 8410, 157, 747, 1081, 4603, 2717, 2219, 4243, 618, 4903, 108, 236, 21620, 31456, 26424, 35776, -1]\n",
      "126 [888, 5550, 2093, 1265, 1332, 62, 760, 21620, -1, 3799, 32296, 964, 30382, 21177, 31583, 8867, 31456, 26424, 20285, 27184]\n",
      "140 [1014, 5619, 3401, 49, 6369, 93, 10106, 8073, 1306, 8282, 2021, 10108, 6509, 1682, 10107, 559, 3165, -1, 26424, 31456]\n",
      "147 [10517, 10516, 10515, 1077, 1146, 1880, 1484, 1864, 245, 1195, 200, 124, 907, 340, 800, 1003, 649, -1, 964, 35776]\n",
      "238 [3842, 15434, 2827, 487, 182, 170, 176, 2962, 4218, 566, 21620, 27184, 20285, -1, 35776, 3799, 32296, 22373, -1, 31456]\n",
      "239 [15434, 3842, 2827, 487, 182, 568, 1096, 170, 8867, -1, 3799, 32296, 964, 30382, 21177, 31456, 31583, 21620, 15932, 26424]\n",
      "248 [4590, 2267, 3330, 11163, 2067, 9094, 3171, 706, 157, 3764, 15889, 15888, 527, 12311, 755, 4966, 24939, 35776, 26424, -1]\n",
      "548 [6117, 17701, 2245, 1846, 4230, 1009, 270, 907, 157, 29436, 527, 6814, 3401, 414, 1583, 236, -1, 23341, 35776, 22373]\n",
      "595 [6117, 2245, 1846, 730, 1087, 1095, 7436, 270, 907, 157, 30382, 23341, 3799, 35776, 22373, 32296, 964, -1, 26424, 27184]\n",
      "Error found.\n",
      "n_topics: 756n_noise: 3271 n_neighbours: 15 min_cluster_size: 15 min_samples: 7 coherence: None\n"
     ]
    },
    {
     "name": "stderr",
     "output_type": "stream",
     "text": [
      "C:\\Users\\LENOVO\\anaconda3\\envs\\transform\\lib\\site-packages\\sklearn\\feature_extraction\\text.py:489: UserWarning: The parameter 'token_pattern' will not be used since 'tokenizer' is not None'\n",
      "  warnings.warn(\"The parameter 'token_pattern' will not be used\"\n"
     ]
    },
    {
     "name": "stdout",
     "output_type": "stream",
     "text": [
      "1 [174, 179, 175, 170, 173, 176, 171, 157, 172, 13256, 33642, 1805, 32154, 26117, 33203, 25489, 29660, -1, 28867, 21969]\n",
      "15 [1780, 1779, 714, 157, 535, 4886, 25489, 33642, 1805, 32154, 26117, 33203, 13256, 29660, 38833, 39016, -1, 3171, 28867, 21969]\n",
      "21 [2184, 2186, 2187, 2188, 1818, 2000, 2183, 977, 2185, 2189, 1702, 60, 148, -1, 33203, 13256, 29660, 25489, 9332, 28867]\n",
      "38 [4297, 4296, 4295, 1745, 4102, 4280, 981, 944, 255, 3771, 210, 124, 171, 349, 807, 657, 1620, 1805, -1, 21969]\n",
      "101 [9057, 2213, 2151, 501, 15504, 13256, -1, 3171, 33642, 1805, 32154, 26117, 33203, 29660, 20388, 25489, -1, 28867, 21969, 36211]\n",
      "109 [8677, 9509, 7527, 495, 192, 180, 3651, 186, 2360, 574, 13256, 28867, 18564, -1, 36211, 3171, 33642, 21969, -1, 29660]\n",
      "110 [9509, 8677, 7527, 495, 192, 576, 2190, 180, 15504, -1, 3171, 33642, 1805, 32154, 26117, 29660, 33203, 13256, 20388, 25489]\n",
      "154 [6480, 2111, 1780, 11455, 1779, 7326, 3279, 714, 157, 2969, 11457, 11456, 535, 9056, 763, 5080, 22691, 36211, 25489, -1]\n",
      "201 [10185, 13670, 12953, 1562, 230, 71, 1214, 1168, 15504, 26117, 3171, 33642, 1805, 32154, 13256, 33203, 29660, 25489, -1, 28867]\n",
      "222 [276, 765, 157, 502, 2189, 1745, 714, 26866, 3171, 33642, 1805, 4886, 32154, 26117, 33203, 36211, 29660, 25489, -1, -1]\n",
      "239 [15217, 15214, 5079, 15216, 6564, 1333, 1616, 277, 15215, 2121, 28867, 33203, 13256, 29660, 25489, -1, 39016, 21969, 36211, 26866]\n",
      "240 [15218, 174, 176, 15219, 157, 755, 2349, 5785, 7305, 1747, 8344, 626, 2189, 108, 246, 13256, 29660, 25489, 36211, -1]\n",
      "256 [1433, 2193, 2133, 4631, 1214, 62, 767, 13256, -1, 3171, 33642, 1805, 32154, 26117, 33203, 15504, 29660, 25489, 18564, 28867]\n",
      "271 [2213, 10365, 2749, 49, 11513, 1090, 93, 16227, 3000, 14683, 1681, 16229, 11609, 3057, 16228, 567, 4634, -1, 25489, 29660]\n",
      "624 [174, 179, 175, 738, 3260, 3261, 3263, 176, 171, 157, 32154, 26866, 3171, 36211, 21969, 33642, 1805, -1, 25489, 28867]\n",
      "Error found.\n",
      "n_topics: 784n_noise: 3279 n_neighbours: 15 min_cluster_size: 15 min_samples: 1 coherence: None\n"
     ]
    },
    {
     "name": "stderr",
     "output_type": "stream",
     "text": [
      "C:\\Users\\LENOVO\\anaconda3\\envs\\transform\\lib\\site-packages\\umap\\spectral.py:256: UserWarning: WARNING: spectral initialisation failed! The eigenvector solver\n",
      "failed. This is likely due to too small an eigengap. Consider\n",
      "adding some noise or jitter to your data.\n",
      "\n",
      "Falling back to random initialisation!\n",
      "  \"WARNING: spectral initialisation failed! The eigenvector solver\\n\"\n",
      "C:\\Users\\LENOVO\\anaconda3\\envs\\transform\\lib\\site-packages\\sklearn\\feature_extraction\\text.py:489: UserWarning: The parameter 'token_pattern' will not be used since 'tokenizer' is not None'\n",
      "  warnings.warn(\"The parameter 'token_pattern' will not be used\"\n"
     ]
    },
    {
     "name": "stdout",
     "output_type": "stream",
     "text": [
      "16 [4744, 2134, 4747, 4745, 1178, 2183, 3055, 932, 687, 3906, 3461, 165, 4746, 2569, 178, -1, 32327, 19698, 26299, -1]\n",
      "Error found.\n",
      "n_topics: 167n_noise: 10272 n_neighbours: 15 min_cluster_size: 45 min_samples: 45 coherence: None\n"
     ]
    },
    {
     "name": "stderr",
     "output_type": "stream",
     "text": [
      "C:\\Users\\LENOVO\\anaconda3\\envs\\transform\\lib\\site-packages\\sklearn\\feature_extraction\\text.py:489: UserWarning: The parameter 'token_pattern' will not be used since 'tokenizer' is not None'\n",
      "  warnings.warn(\"The parameter 'token_pattern' will not be used\"\n"
     ]
    },
    {
     "name": "stdout",
     "output_type": "stream",
     "text": [
      "14 [4454, 65, 4455, 234, 858, 124, 2034, 1478, 862, 3157, 1038, 3088, 2235, 1154, 160, -1, 32341, 19111, 32474, -1]\n",
      "Error found.\n",
      "n_topics: 184n_noise: 9167 n_neighbours: 15 min_cluster_size: 45 min_samples: 22 coherence: None\n"
     ]
    },
    {
     "name": "stderr",
     "output_type": "stream",
     "text": [
      "C:\\Users\\LENOVO\\anaconda3\\envs\\transform\\lib\\site-packages\\umap\\spectral.py:256: UserWarning: WARNING: spectral initialisation failed! The eigenvector solver\n",
      "failed. This is likely due to too small an eigengap. Consider\n",
      "adding some noise or jitter to your data.\n",
      "\n",
      "Falling back to random initialisation!\n",
      "  \"WARNING: spectral initialisation failed! The eigenvector solver\\n\"\n",
      "C:\\Users\\LENOVO\\anaconda3\\envs\\transform\\lib\\site-packages\\sklearn\\feature_extraction\\text.py:489: UserWarning: The parameter 'token_pattern' will not be used since 'tokenizer' is not None'\n",
      "  warnings.warn(\"The parameter 'token_pattern' will not be used\"\n"
     ]
    },
    {
     "name": "stdout",
     "output_type": "stream",
     "text": [
      "30 [7250, 50, 7252, 7251, 710, 2265, 5761, 782, 590, 1377, 3574, 1268, 941, 382, 993, -1, 18374, 13218, 16956, -1]\n",
      "Error found.\n",
      "n_topics: 201n_noise: 8540 n_neighbours: 15 min_cluster_size: 45 min_samples: 3 coherence: None\n"
     ]
    },
    {
     "name": "stderr",
     "output_type": "stream",
     "text": [
      "C:\\Users\\LENOVO\\anaconda3\\envs\\transform\\lib\\site-packages\\sklearn\\feature_extraction\\text.py:489: UserWarning: The parameter 'token_pattern' will not be used since 'tokenizer' is not None'\n",
      "  warnings.warn(\"The parameter 'token_pattern' will not be used\"\n"
     ]
    },
    {
     "name": "stdout",
     "output_type": "stream",
     "text": [
      "n_topics: 73n_noise: 12606 n_neighbours: 15 min_cluster_size: 75 min_samples: 75 coherence: 0.42038208059411186\n"
     ]
    },
    {
     "name": "stderr",
     "output_type": "stream",
     "text": [
      "C:\\Users\\LENOVO\\anaconda3\\envs\\transform\\lib\\site-packages\\umap\\spectral.py:256: UserWarning: WARNING: spectral initialisation failed! The eigenvector solver\n",
      "failed. This is likely due to too small an eigengap. Consider\n",
      "adding some noise or jitter to your data.\n",
      "\n",
      "Falling back to random initialisation!\n",
      "  \"WARNING: spectral initialisation failed! The eigenvector solver\\n\"\n",
      "C:\\Users\\LENOVO\\anaconda3\\envs\\transform\\lib\\site-packages\\sklearn\\feature_extraction\\text.py:489: UserWarning: The parameter 'token_pattern' will not be used since 'tokenizer' is not None'\n",
      "  warnings.warn(\"The parameter 'token_pattern' will not be used\"\n"
     ]
    },
    {
     "name": "stdout",
     "output_type": "stream",
     "text": [
      "n_topics: 89n_noise: 13291 n_neighbours: 15 min_cluster_size: 75 min_samples: 37 coherence: 0.4137692084983062\n"
     ]
    },
    {
     "name": "stderr",
     "output_type": "stream",
     "text": [
      "C:\\Users\\LENOVO\\anaconda3\\envs\\transform\\lib\\site-packages\\umap\\spectral.py:256: UserWarning: WARNING: spectral initialisation failed! The eigenvector solver\n",
      "failed. This is likely due to too small an eigengap. Consider\n",
      "adding some noise or jitter to your data.\n",
      "\n",
      "Falling back to random initialisation!\n",
      "  \"WARNING: spectral initialisation failed! The eigenvector solver\\n\"\n",
      "C:\\Users\\LENOVO\\anaconda3\\envs\\transform\\lib\\site-packages\\sklearn\\feature_extraction\\text.py:489: UserWarning: The parameter 'token_pattern' will not be used since 'tokenizer' is not None'\n",
      "  warnings.warn(\"The parameter 'token_pattern' will not be used\"\n"
     ]
    },
    {
     "name": "stdout",
     "output_type": "stream",
     "text": [
      "n_topics: 94n_noise: 12460 n_neighbours: 15 min_cluster_size: 75 min_samples: 5 coherence: 0.41062987676660484\n"
     ]
    },
    {
     "name": "stderr",
     "output_type": "stream",
     "text": [
      "C:\\Users\\LENOVO\\anaconda3\\envs\\transform\\lib\\site-packages\\umap\\spectral.py:256: UserWarning: WARNING: spectral initialisation failed! The eigenvector solver\n",
      "failed. This is likely due to too small an eigengap. Consider\n",
      "adding some noise or jitter to your data.\n",
      "\n",
      "Falling back to random initialisation!\n",
      "  \"WARNING: spectral initialisation failed! The eigenvector solver\\n\"\n",
      "C:\\Users\\LENOVO\\anaconda3\\envs\\transform\\lib\\site-packages\\sklearn\\feature_extraction\\text.py:489: UserWarning: The parameter 'token_pattern' will not be used since 'tokenizer' is not None'\n",
      "  warnings.warn(\"The parameter 'token_pattern' will not be used\"\n"
     ]
    },
    {
     "name": "stdout",
     "output_type": "stream",
     "text": [
      "n_topics: 46n_noise: 16632 n_neighbours: 15 min_cluster_size: 95 min_samples: 95 coherence: 0.44573867494936453\n"
     ]
    },
    {
     "name": "stderr",
     "output_type": "stream",
     "text": [
      "C:\\Users\\LENOVO\\anaconda3\\envs\\transform\\lib\\site-packages\\umap\\spectral.py:256: UserWarning: WARNING: spectral initialisation failed! The eigenvector solver\n",
      "failed. This is likely due to too small an eigengap. Consider\n",
      "adding some noise or jitter to your data.\n",
      "\n",
      "Falling back to random initialisation!\n",
      "  \"WARNING: spectral initialisation failed! The eigenvector solver\\n\"\n",
      "C:\\Users\\LENOVO\\anaconda3\\envs\\transform\\lib\\site-packages\\sklearn\\feature_extraction\\text.py:489: UserWarning: The parameter 'token_pattern' will not be used since 'tokenizer' is not None'\n",
      "  warnings.warn(\"The parameter 'token_pattern' will not be used\"\n"
     ]
    },
    {
     "name": "stdout",
     "output_type": "stream",
     "text": [
      "n_topics: 55n_noise: 14874 n_neighbours: 15 min_cluster_size: 95 min_samples: 47 coherence: 0.42366270278589035\n"
     ]
    },
    {
     "name": "stderr",
     "output_type": "stream",
     "text": [
      "C:\\Users\\LENOVO\\anaconda3\\envs\\transform\\lib\\site-packages\\sklearn\\feature_extraction\\text.py:489: UserWarning: The parameter 'token_pattern' will not be used since 'tokenizer' is not None'\n",
      "  warnings.warn(\"The parameter 'token_pattern' will not be used\"\n"
     ]
    },
    {
     "name": "stdout",
     "output_type": "stream",
     "text": [
      "n_topics: 63n_noise: 12507 n_neighbours: 15 min_cluster_size: 95 min_samples: 6 coherence: 0.4211671073048854\n"
     ]
    },
    {
     "name": "stderr",
     "output_type": "stream",
     "text": [
      "C:\\Users\\LENOVO\\anaconda3\\envs\\transform\\lib\\site-packages\\sklearn\\feature_extraction\\text.py:489: UserWarning: The parameter 'token_pattern' will not be used since 'tokenizer' is not None'\n",
      "  warnings.warn(\"The parameter 'token_pattern' will not be used\"\n"
     ]
    },
    {
     "name": "stdout",
     "output_type": "stream",
     "text": [
      "18 [2354, 63, 1691, 578, 538, 6578, 17054, 28580, 5170, 24371, 28030, 32671, 14577, 27841, 12540, -1, 27609, 3455, 20699, 16689]\n",
      "31 [3303, 3301, 3302, 1002, 728, 35, 1759, 733, 1646, 1100, 14577, 20699, -1, 30631, 27625, 3455, 28580, 16689, 27609, 27841]\n",
      "75 [3303, 3302, 3301, 1002, 728, 3931, 1427, 315, -1, 30631, 3455, 28580, 5170, 24371, 28030, 8626, 32671, 3456, 27841, 17054]\n",
      "77 [3301, 3303, 3302, 3929, 1002, 728, 880, 717, 8626, 24371, -1, 30631, 3455, 28580, 5170, 14577, 28030, 32671, 14273, 27841]\n",
      "219 [15421, 15418, 15419, 15420, 8728, 1409, 288, 659, 13817, 71, 20699, 32671, 14577, 27841, 17054, 27609, -1, 16689, 27625, 33372]\n",
      "317 [5718, 5564, 9845, 788, 3616, 753, 2123, 1511, 978, 1163, 24371, 6578, 28030, 32671, -1, 14577, 28580, 27841, 17054, 27609]\n",
      "Error found.\n",
      "n_topics: 645n_noise: 4467 n_neighbours: 30 min_cluster_size: 15 min_samples: 15 coherence: None\n"
     ]
    },
    {
     "name": "stderr",
     "output_type": "stream",
     "text": [
      "C:\\Users\\LENOVO\\anaconda3\\envs\\transform\\lib\\site-packages\\sklearn\\feature_extraction\\text.py:489: UserWarning: The parameter 'token_pattern' will not be used since 'tokenizer' is not None'\n",
      "  warnings.warn(\"The parameter 'token_pattern' will not be used\"\n"
     ]
    },
    {
     "name": "stdout",
     "output_type": "stream",
     "text": [
      "32 [3845, 42, 639, 14, 939, 8159, 14563, 28392, 5737, 24897, 28299, 32349, 15213, 29380, 13344, -1, 28210, 2960, 22008, 16490]\n",
      "263 [16077, 16074, 16075, 16076, 9691, 980, 686, 1370, 14515, 48, 22008, 32349, 15213, 29380, 14563, 28210, -1, 16490, 28030, 35111]\n",
      "360 [7605, 7293, 9046, 1832, 4656, 1936, 2126, 15, 285, 113, 24897, 8159, 28299, 32349, -1, 15213, 28392, 29380, 14563, 28210]\n",
      "Error found.\n",
      "n_topics: 734n_noise: 3563 n_neighbours: 30 min_cluster_size: 15 min_samples: 7 coherence: None\n"
     ]
    },
    {
     "name": "stderr",
     "output_type": "stream",
     "text": [
      "C:\\Users\\LENOVO\\anaconda3\\envs\\transform\\lib\\site-packages\\sklearn\\feature_extraction\\text.py:489: UserWarning: The parameter 'token_pattern' will not be used since 'tokenizer' is not None'\n",
      "  warnings.warn(\"The parameter 'token_pattern' will not be used\"\n"
     ]
    },
    {
     "name": "stdout",
     "output_type": "stream",
     "text": [
      "53 [1950, 932, 309, 705, 666, 10131, 16243, 30017, 4911, 26108, 30248, 33120, 16603, 31435, 13653, -1, 30075, 4556, 23995, 16960]\n",
      "203 [12712, 12708, 12710, 12711, 9992, 718, 784, 365, 12709, 93, 23995, 33120, 16603, 31435, 16243, 30075, -1, 16960, 29572, 35134]\n",
      "383 [4506, 8368, 13984, 2690, 6030, 2781, 880, 915, 1304, 195, 26108, 10131, 30248, 33120, -1, 16603, 30017, 31435, 16243, 30075]\n",
      "Error found.\n",
      "n_topics: 766n_noise: 3809 n_neighbours: 30 min_cluster_size: 15 min_samples: 1 coherence: None\n"
     ]
    },
    {
     "name": "stderr",
     "output_type": "stream",
     "text": [
      "C:\\Users\\LENOVO\\anaconda3\\envs\\transform\\lib\\site-packages\\sklearn\\feature_extraction\\text.py:489: UserWarning: The parameter 'token_pattern' will not be used since 'tokenizer' is not None'\n",
      "  warnings.warn(\"The parameter 'token_pattern' will not be used\"\n"
     ]
    },
    {
     "name": "stdout",
     "output_type": "stream",
     "text": [
      "n_topics: 144n_noise: 11828 n_neighbours: 30 min_cluster_size: 45 min_samples: 45 coherence: 0.4344700593572625\n"
     ]
    },
    {
     "name": "stderr",
     "output_type": "stream",
     "text": [
      "C:\\Users\\LENOVO\\anaconda3\\envs\\transform\\lib\\site-packages\\sklearn\\feature_extraction\\text.py:489: UserWarning: The parameter 'token_pattern' will not be used since 'tokenizer' is not None'\n",
      "  warnings.warn(\"The parameter 'token_pattern' will not be used\"\n"
     ]
    },
    {
     "name": "stdout",
     "output_type": "stream",
     "text": [
      "n_topics: 169n_noise: 11281 n_neighbours: 30 min_cluster_size: 45 min_samples: 22 coherence: 0.42351927866451333\n"
     ]
    },
    {
     "name": "stderr",
     "output_type": "stream",
     "text": [
      "C:\\Users\\LENOVO\\anaconda3\\envs\\transform\\lib\\site-packages\\sklearn\\feature_extraction\\text.py:489: UserWarning: The parameter 'token_pattern' will not be used since 'tokenizer' is not None'\n",
      "  warnings.warn(\"The parameter 'token_pattern' will not be used\"\n"
     ]
    },
    {
     "name": "stdout",
     "output_type": "stream",
     "text": [
      "n_topics: 189n_noise: 10038 n_neighbours: 30 min_cluster_size: 45 min_samples: 3 coherence: 0.4158740606068862\n"
     ]
    },
    {
     "name": "stderr",
     "output_type": "stream",
     "text": [
      "C:\\Users\\LENOVO\\anaconda3\\envs\\transform\\lib\\site-packages\\sklearn\\feature_extraction\\text.py:489: UserWarning: The parameter 'token_pattern' will not be used since 'tokenizer' is not None'\n",
      "  warnings.warn(\"The parameter 'token_pattern' will not be used\"\n"
     ]
    },
    {
     "name": "stdout",
     "output_type": "stream",
     "text": [
      "n_topics: 64n_noise: 14802 n_neighbours: 30 min_cluster_size: 75 min_samples: 75 coherence: 0.4095634339986938\n"
     ]
    },
    {
     "name": "stderr",
     "output_type": "stream",
     "text": [
      "C:\\Users\\LENOVO\\anaconda3\\envs\\transform\\lib\\site-packages\\sklearn\\feature_extraction\\text.py:489: UserWarning: The parameter 'token_pattern' will not be used since 'tokenizer' is not None'\n",
      "  warnings.warn(\"The parameter 'token_pattern' will not be used\"\n"
     ]
    },
    {
     "name": "stdout",
     "output_type": "stream",
     "text": [
      "n_topics: 71n_noise: 13005 n_neighbours: 30 min_cluster_size: 75 min_samples: 37 coherence: 0.3983457591763819\n"
     ]
    },
    {
     "name": "stderr",
     "output_type": "stream",
     "text": [
      "C:\\Users\\LENOVO\\anaconda3\\envs\\transform\\lib\\site-packages\\sklearn\\feature_extraction\\text.py:489: UserWarning: The parameter 'token_pattern' will not be used since 'tokenizer' is not None'\n",
      "  warnings.warn(\"The parameter 'token_pattern' will not be used\"\n"
     ]
    },
    {
     "name": "stdout",
     "output_type": "stream",
     "text": [
      "n_topics: 85n_noise: 12223 n_neighbours: 30 min_cluster_size: 75 min_samples: 5 coherence: 0.41420142069122595\n"
     ]
    },
    {
     "name": "stderr",
     "output_type": "stream",
     "text": [
      "C:\\Users\\LENOVO\\anaconda3\\envs\\transform\\lib\\site-packages\\sklearn\\feature_extraction\\text.py:489: UserWarning: The parameter 'token_pattern' will not be used since 'tokenizer' is not None'\n",
      "  warnings.warn(\"The parameter 'token_pattern' will not be used\"\n"
     ]
    },
    {
     "name": "stdout",
     "output_type": "stream",
     "text": [
      "n_topics: 43n_noise: 16501 n_neighbours: 30 min_cluster_size: 95 min_samples: 95 coherence: 0.41547385630714134\n"
     ]
    },
    {
     "name": "stderr",
     "output_type": "stream",
     "text": [
      "C:\\Users\\LENOVO\\anaconda3\\envs\\transform\\lib\\site-packages\\sklearn\\feature_extraction\\text.py:489: UserWarning: The parameter 'token_pattern' will not be used since 'tokenizer' is not None'\n",
      "  warnings.warn(\"The parameter 'token_pattern' will not be used\"\n"
     ]
    },
    {
     "name": "stdout",
     "output_type": "stream",
     "text": [
      "n_topics: 47n_noise: 14671 n_neighbours: 30 min_cluster_size: 95 min_samples: 47 coherence: 0.4113396424973159\n"
     ]
    },
    {
     "name": "stderr",
     "output_type": "stream",
     "text": [
      "C:\\Users\\LENOVO\\anaconda3\\envs\\transform\\lib\\site-packages\\sklearn\\feature_extraction\\text.py:489: UserWarning: The parameter 'token_pattern' will not be used since 'tokenizer' is not None'\n",
      "  warnings.warn(\"The parameter 'token_pattern' will not be used\"\n"
     ]
    },
    {
     "name": "stdout",
     "output_type": "stream",
     "text": [
      "n_topics: 56n_noise: 13010 n_neighbours: 30 min_cluster_size: 95 min_samples: 6 coherence: 0.4122138524806793\n"
     ]
    },
    {
     "name": "stderr",
     "output_type": "stream",
     "text": [
      "C:\\Users\\LENOVO\\anaconda3\\envs\\transform\\lib\\site-packages\\sklearn\\feature_extraction\\text.py:489: UserWarning: The parameter 'token_pattern' will not be used since 'tokenizer' is not None'\n",
      "  warnings.warn(\"The parameter 'token_pattern' will not be used\"\n"
     ]
    },
    {
     "name": "stdout",
     "output_type": "stream",
     "text": [
      "10 [1661, 1295, 1050, 753, 143, 8794, 15158, 28736, 2224, 22230, 31692, 27737, 13172, 27431, 4120, -1, 14641, 2329, 21410, 19943]\n",
      "50 [5010, 5009, 5008, 2294, 2006, 863, 864, 319, -1, 24077, 2329, 28736, 2224, 22230, 31692, -1, 27737, 10959, 27431, 15158]\n",
      "60 [5563, 1978, 753, 1222, 3400, 1265, 1050, -1, 2329, 28736, 2224, 8794, 22230, 31692, 27737, 27058, 27431, 15158, 24077, 14641]\n",
      "72 [5008, 5010, 5009, 613, 2006, 2294, 1089, 856, -1, 22230, -1, 24077, 2329, 28736, 2224, 13172, 31692, 27737, 12286, 27431]\n",
      "75 [3585, 2245, 1974, 6557, 130, 2348, -1, 28736, 2224, 22230, 31692, 27737, 13172, 27431, 14641, 15158, 24077, 21410, 19943, 27058]\n",
      "173 [5010, 5008, 5009, 2294, 2006, 512, 2284, 2295, 1362, 2191, 13172, 21410, -1, 24077, 27058, 2329, 28736, 19943, 14641, 27431]\n",
      "244 [8951, 6412, 5583, 6501, 4107, 594, 1302, 1108, 936, 1400, 2180, 345, 22007, 14641, 22230, -1, 31692, 27737, 13172, 27431]\n",
      "365 [2581, 398, 1305, 1089, 3554, 13599, 3146, 238, 860, 753, 22230, -1, 2329, 27058, 19943, 28736, 2224, 14641, 15158, 21410]\n",
      "389 [21628, 3368, 634, 4437, 10419, 62, 21630, 21629, 1351, 3400, 1384, 651, 269, 27431, 22230, 31692, 4120, 27737, 13172, -1]\n",
      "Error found.\n",
      "n_topics: 648n_noise: 4901 n_neighbours: 60 min_cluster_size: 15 min_samples: 15 coherence: None\n"
     ]
    },
    {
     "name": "stderr",
     "output_type": "stream",
     "text": [
      "C:\\Users\\LENOVO\\anaconda3\\envs\\transform\\lib\\site-packages\\sklearn\\feature_extraction\\text.py:489: UserWarning: The parameter 'token_pattern' will not be used since 'tokenizer' is not None'\n",
      "  warnings.warn(\"The parameter 'token_pattern' will not be used\"\n"
     ]
    },
    {
     "name": "stdout",
     "output_type": "stream",
     "text": [
      "19 [2567, 1032, 1368, 410, 383, 7367, 15710, 31161, 2774, 22152, 30801, 29267, 13198, 27453, 4335, -1, 14965, 122, 21598, 20750]\n",
      "78 [6198, 2375, 410, 1598, 681, 1189, 1368, -1, 122, 31161, 2774, 7367, 22152, 30801, 29267, 27076, 27453, 15710, 24068, 14965]\n",
      "270 [9341, 7312, 5583, 5221, 4323, 350, 1040, 242, 558, 1855, 2728, 258, 26290, 14965, 22152, -1, 30801, 29267, 13198, 27453]\n",
      "410 [2830, 960, 1043, 1543, 3859, 14059, 890, 3630, 1025, 410, 22152, -1, 122, 27076, 20750, 31161, 2774, 14965, 15710, 21598]\n",
      "468 [23832, 597, 70, 4876, 9443, 480, 23834, 23833, 1095, 681, 1842, 1220, 599, 27453, 22152, 30801, 4335, 29267, 13198, -1]\n",
      "Error found.\n",
      "n_topics: 729n_noise: 3986 n_neighbours: 60 min_cluster_size: 15 min_samples: 7 coherence: None\n"
     ]
    },
    {
     "name": "stderr",
     "output_type": "stream",
     "text": [
      "C:\\Users\\LENOVO\\anaconda3\\envs\\transform\\lib\\site-packages\\sklearn\\feature_extraction\\text.py:489: UserWarning: The parameter 'token_pattern' will not be used since 'tokenizer' is not None'\n",
      "  warnings.warn(\"The parameter 'token_pattern' will not be used\"\n"
     ]
    },
    {
     "name": "stdout",
     "output_type": "stream",
     "text": [
      "28 [2729, 19, 734, 147, 497, 3732, 16159, 31368, 4565, 22709, 27338, 28293, 14949, 27865, 5931, -1, 16425, 264, 23714, 21273]\n",
      "92 [7270, 2938, 147, 1411, 2344, 687, 734, -1, 264, 31368, 4565, 3732, 22709, 27338, 28293, 27490, 27865, 16159, 25158, 16425]\n",
      "290 [5263, 936, 16041, 5871, 16042, 3301, 16043, 3581, 1449, 2597, 23714, 22709, 25487, 25158, 264, 31368, 4565, -1, 27338, 16425]\n",
      "294 [9579, 7231, 8446, 2940, 5921, 126, 36, 373, 704, 2644, 1842, 388, 26780, 16425, 22709, -1, 27338, 28293, 14949, 27865]\n",
      "469 [3565, 1629, 41, 1338, 5732, 14815, 1569, 5160, 7, 147, 22709, -1, 264, 27490, 21273, 31368, 4565, 16425, 16159, 23714]\n",
      "505 [24588, 2296, 215, 6511, 8484, 890, 24590, 24589, 128, 2344, 1709, 1272, 574, 27865, 22709, 27338, 5931, 28293, 14949, -1]\n",
      "Error found.\n",
      "n_topics: 762n_noise: 3833 n_neighbours: 60 min_cluster_size: 15 min_samples: 1 coherence: None\n"
     ]
    },
    {
     "name": "stderr",
     "output_type": "stream",
     "text": [
      "C:\\Users\\LENOVO\\anaconda3\\envs\\transform\\lib\\site-packages\\sklearn\\feature_extraction\\text.py:489: UserWarning: The parameter 'token_pattern' will not be used since 'tokenizer' is not None'\n",
      "  warnings.warn(\"The parameter 'token_pattern' will not be used\"\n"
     ]
    },
    {
     "name": "stdout",
     "output_type": "stream",
     "text": [
      "n_topics: 142n_noise: 11308 n_neighbours: 60 min_cluster_size: 45 min_samples: 45 coherence: 0.44362856369173287\n"
     ]
    },
    {
     "name": "stderr",
     "output_type": "stream",
     "text": [
      "C:\\Users\\LENOVO\\anaconda3\\envs\\transform\\lib\\site-packages\\sklearn\\feature_extraction\\text.py:489: UserWarning: The parameter 'token_pattern' will not be used since 'tokenizer' is not None'\n",
      "  warnings.warn(\"The parameter 'token_pattern' will not be used\"\n"
     ]
    },
    {
     "name": "stdout",
     "output_type": "stream",
     "text": [
      "n_topics: 163n_noise: 9947 n_neighbours: 60 min_cluster_size: 45 min_samples: 22 coherence: 0.4429094760542384\n"
     ]
    },
    {
     "name": "stderr",
     "output_type": "stream",
     "text": [
      "C:\\Users\\LENOVO\\anaconda3\\envs\\transform\\lib\\site-packages\\sklearn\\feature_extraction\\text.py:489: UserWarning: The parameter 'token_pattern' will not be used since 'tokenizer' is not None'\n",
      "  warnings.warn(\"The parameter 'token_pattern' will not be used\"\n"
     ]
    },
    {
     "name": "stdout",
     "output_type": "stream",
     "text": [
      "n_topics: 198n_noise: 9389 n_neighbours: 60 min_cluster_size: 45 min_samples: 3 coherence: 0.43455268720970397\n"
     ]
    },
    {
     "name": "stderr",
     "output_type": "stream",
     "text": [
      "C:\\Users\\LENOVO\\anaconda3\\envs\\transform\\lib\\site-packages\\sklearn\\feature_extraction\\text.py:489: UserWarning: The parameter 'token_pattern' will not be used since 'tokenizer' is not None'\n",
      "  warnings.warn(\"The parameter 'token_pattern' will not be used\"\n"
     ]
    },
    {
     "name": "stdout",
     "output_type": "stream",
     "text": [
      "n_topics: 58n_noise: 16017 n_neighbours: 60 min_cluster_size: 75 min_samples: 75 coherence: 0.4349767886178307\n"
     ]
    },
    {
     "name": "stderr",
     "output_type": "stream",
     "text": [
      "C:\\Users\\LENOVO\\anaconda3\\envs\\transform\\lib\\site-packages\\sklearn\\feature_extraction\\text.py:489: UserWarning: The parameter 'token_pattern' will not be used since 'tokenizer' is not None'\n",
      "  warnings.warn(\"The parameter 'token_pattern' will not be used\"\n"
     ]
    },
    {
     "name": "stdout",
     "output_type": "stream",
     "text": [
      "n_topics: 69n_noise: 14041 n_neighbours: 60 min_cluster_size: 75 min_samples: 37 coherence: 0.4364402500266907\n"
     ]
    },
    {
     "name": "stderr",
     "output_type": "stream",
     "text": [
      "C:\\Users\\LENOVO\\anaconda3\\envs\\transform\\lib\\site-packages\\sklearn\\feature_extraction\\text.py:489: UserWarning: The parameter 'token_pattern' will not be used since 'tokenizer' is not None'\n",
      "  warnings.warn(\"The parameter 'token_pattern' will not be used\"\n"
     ]
    },
    {
     "name": "stdout",
     "output_type": "stream",
     "text": [
      "n_topics: 83n_noise: 12542 n_neighbours: 60 min_cluster_size: 75 min_samples: 5 coherence: 0.4335824547394682\n"
     ]
    },
    {
     "name": "stderr",
     "output_type": "stream",
     "text": [
      "C:\\Users\\LENOVO\\anaconda3\\envs\\transform\\lib\\site-packages\\sklearn\\feature_extraction\\text.py:489: UserWarning: The parameter 'token_pattern' will not be used since 'tokenizer' is not None'\n",
      "  warnings.warn(\"The parameter 'token_pattern' will not be used\"\n"
     ]
    },
    {
     "name": "stdout",
     "output_type": "stream",
     "text": [
      "n_topics: 38n_noise: 16402 n_neighbours: 60 min_cluster_size: 95 min_samples: 95 coherence: 0.4430088828370783\n"
     ]
    },
    {
     "name": "stderr",
     "output_type": "stream",
     "text": [
      "C:\\Users\\LENOVO\\anaconda3\\envs\\transform\\lib\\site-packages\\sklearn\\feature_extraction\\text.py:489: UserWarning: The parameter 'token_pattern' will not be used since 'tokenizer' is not None'\n",
      "  warnings.warn(\"The parameter 'token_pattern' will not be used\"\n"
     ]
    },
    {
     "name": "stdout",
     "output_type": "stream",
     "text": [
      "n_topics: 44n_noise: 15171 n_neighbours: 60 min_cluster_size: 95 min_samples: 47 coherence: 0.4185453544873747\n"
     ]
    },
    {
     "name": "stderr",
     "output_type": "stream",
     "text": [
      "C:\\Users\\LENOVO\\anaconda3\\envs\\transform\\lib\\site-packages\\sklearn\\feature_extraction\\text.py:489: UserWarning: The parameter 'token_pattern' will not be used since 'tokenizer' is not None'\n",
      "  warnings.warn(\"The parameter 'token_pattern' will not be used\"\n"
     ]
    },
    {
     "name": "stdout",
     "output_type": "stream",
     "text": [
      "n_topics: 57n_noise: 13151 n_neighbours: 60 min_cluster_size: 95 min_samples: 6 coherence: 0.412719570687974\n"
     ]
    },
    {
     "name": "stderr",
     "output_type": "stream",
     "text": [
      "C:\\Users\\LENOVO\\anaconda3\\envs\\transform\\lib\\site-packages\\sklearn\\feature_extraction\\text.py:489: UserWarning: The parameter 'token_pattern' will not be used since 'tokenizer' is not None'\n",
      "  warnings.warn(\"The parameter 'token_pattern' will not be used\"\n"
     ]
    },
    {
     "name": "stdout",
     "output_type": "stream",
     "text": [
      "18 [2677, 2679, 2678, 1027, 1596, 1520, 1243, 639, -1, 22157, -1, 23714, 2267, 28331, 3182, 12493, 31203, 30119, 9388, 25653]\n",
      "36 [2679, 2677, 2678, 1596, 1520, 199, 1833, 2416, 2681, 1817, 12493, 24796, -1, 23714, 25597, 2267, 28331, 16628, 15121, 25653]\n",
      "46 [4535, 1850, 1208, 778, 182, 12492, 17223, 28331, 3182, 22157, 31203, 30119, 12493, 25653, 3011, -1, 15121, 2267, 24796, 16628]\n",
      "70 [2679, 2678, 2677, 1596, 1520, 648, 1030, 398, -1, 23714, 2267, 28331, 3182, 22157, 31203, -1, 30119, 9005, 25653, 17223]\n",
      "95 [7399, 1571, 778, 760, 2209, 1412, 1208, -1, 2267, 28331, 3182, 12492, 22157, 31203, 30119, 25597, 25653, 17223, 23714, 15121]\n",
      "96 [7364, 7365, 4019, 1573, 2998, 165, 660, 1259, 1103, 1921, 1787, 129, 21722, 15121, 22157, -1, 31203, 30119, 12493, 25653]\n",
      "173 [1012, 3202, 727, 166, 11855, 2840, -1, 28331, 3182, 22157, 31203, 30119, 12493, 25653, 15121, 17223, 23714, 24796, 16628, 25597]\n",
      "352 [2206, 494, 2236, 1243, 936, 13866, 311, 1845, 13, 778, 22157, -1, 2267, 25597, 16628, 28331, 3182, 15121, 17223, 24796]\n",
      "Error found.\n",
      "n_topics: 637n_noise: 5316 n_neighbours: 90 min_cluster_size: 15 min_samples: 15 coherence: None\n"
     ]
    },
    {
     "name": "stderr",
     "output_type": "stream",
     "text": [
      "C:\\Users\\LENOVO\\anaconda3\\envs\\transform\\lib\\site-packages\\sklearn\\feature_extraction\\text.py:489: UserWarning: The parameter 'token_pattern' will not be used since 'tokenizer' is not None'\n",
      "  warnings.warn(\"The parameter 'token_pattern' will not be used\"\n"
     ]
    },
    {
     "name": "stdout",
     "output_type": "stream",
     "text": [
      "57 [4735, 2152, 706, 1030, 206, 10892, 17435, 27293, 3242, 37962, 29006, 28534, 12984, 25367, 3775, -1, 15163, 2356, 24579, 17135]\n",
      "112 [7888, 1767, 1030, 757, 2308, 1451, 706, -1, 2356, 27293, 3242, 10892, 37962, 29006, 28534, 26240, 25367, 17435, 24163, 15163]\n",
      "114 [7853, 7854, 4036, 1769, 3767, 191, 937, 1297, 1144, 2197, 1962, 156, 23238, 15163, 37962, -1, 29006, 28534, 12984, 25367]\n",
      "394 [2305, 516, 2785, 1280, 1472, 14466, 334, 2148, 45, 1030, 37962, -1, 2356, 26240, 17135, 27293, 3242, 15163, 17435, 24579]\n",
      "Error found.\n",
      "n_topics: 720n_noise: 4092 n_neighbours: 90 min_cluster_size: 15 min_samples: 7 coherence: None\n"
     ]
    },
    {
     "name": "stderr",
     "output_type": "stream",
     "text": [
      "C:\\Users\\LENOVO\\anaconda3\\envs\\transform\\lib\\site-packages\\sklearn\\feature_extraction\\text.py:489: UserWarning: The parameter 'token_pattern' will not be used since 'tokenizer' is not None'\n",
      "  warnings.warn(\"The parameter 'token_pattern' will not be used\"\n"
     ]
    },
    {
     "name": "stdout",
     "output_type": "stream",
     "text": [
      "16 [2174, 1367, 1449, 14, 711, 12084, 19686, 28708, 2229, 38350, 29875, 30152, 13693, 25378, -1, -1, 16772, 1047, 26066, 19333]\n",
      "54 [4502, 4492, 4499, 1552, 997, 144, 985, 999, 2449, 978, 13693, 26066, -1, 24951, 27177, 1047, 28708, 19333, 16772, 25378]\n",
      "59 [5264, 5265, 1219, 2149, 5038, 679, 176, 1106, 401, 1242, 723, 80, 15523, 16772, 38350, -1, 29875, 30152, 13693, 25378]\n",
      "82 [4502, 4499, 4492, 1552, 997, 157, 988, 549, -1, 24951, 1047, 28708, 2229, 38350, 29875, 3721, 30152, 10778, 25378, 19686]\n",
      "95 [7156, 7157, 2174, 3416, 6885, 1367, 711, 1449, 721, 3406, 14, 3414, 425, 27177, 13693, -1, 12084, 38350, 29875, 30152]\n",
      "133 [9059, 1497, 14, 317, 15, 1761, 1449, -1, 1047, 28708, 2229, 12084, 38350, 29875, 30152, 27177, 25378, 19686, 24951, 16772]\n",
      "250 [2844, 5827, 1053, 225, 1502, 919, 80, 13693, 24951, 1047, 28708, 2229, 38350, 29875, 30152, 3721, 25378, 19686, -1, 26066]\n",
      "424 [0, 2402, 1628, 1889, 2921, 15917, 5, 2985, 774, 14, 38350, -1, 1047, 27177, 19333, 28708, 2229, 16772, 19686, 26066]\n",
      "519 [23853, 5871, 26093, 1525, 15, 291, 2242, 848, 5041, 224, 2166, 2615, -1, 19686, 29875, -1, 30152, 13693, 25378, 16772]\n",
      "Error found.\n",
      "n_topics: 750n_noise: 3901 n_neighbours: 90 min_cluster_size: 15 min_samples: 1 coherence: None\n"
     ]
    },
    {
     "name": "stderr",
     "output_type": "stream",
     "text": [
      "C:\\Users\\LENOVO\\anaconda3\\envs\\transform\\lib\\site-packages\\sklearn\\feature_extraction\\text.py:489: UserWarning: The parameter 'token_pattern' will not be used since 'tokenizer' is not None'\n",
      "  warnings.warn(\"The parameter 'token_pattern' will not be used\"\n"
     ]
    },
    {
     "name": "stdout",
     "output_type": "stream",
     "text": [
      "n_topics: 133n_noise: 11978 n_neighbours: 90 min_cluster_size: 45 min_samples: 45 coherence: 0.4445408644339804\n"
     ]
    },
    {
     "name": "stderr",
     "output_type": "stream",
     "text": [
      "C:\\Users\\LENOVO\\anaconda3\\envs\\transform\\lib\\site-packages\\sklearn\\feature_extraction\\text.py:489: UserWarning: The parameter 'token_pattern' will not be used since 'tokenizer' is not None'\n",
      "  warnings.warn(\"The parameter 'token_pattern' will not be used\"\n"
     ]
    },
    {
     "name": "stdout",
     "output_type": "stream",
     "text": [
      "n_topics: 158n_noise: 10843 n_neighbours: 90 min_cluster_size: 45 min_samples: 22 coherence: 0.4414760607097445\n"
     ]
    },
    {
     "name": "stderr",
     "output_type": "stream",
     "text": [
      "C:\\Users\\LENOVO\\anaconda3\\envs\\transform\\lib\\site-packages\\sklearn\\feature_extraction\\text.py:489: UserWarning: The parameter 'token_pattern' will not be used since 'tokenizer' is not None'\n",
      "  warnings.warn(\"The parameter 'token_pattern' will not be used\"\n"
     ]
    },
    {
     "name": "stdout",
     "output_type": "stream",
     "text": [
      "n_topics: 187n_noise: 9881 n_neighbours: 90 min_cluster_size: 45 min_samples: 3 coherence: 0.4303700230634606\n"
     ]
    },
    {
     "name": "stderr",
     "output_type": "stream",
     "text": [
      "C:\\Users\\LENOVO\\anaconda3\\envs\\transform\\lib\\site-packages\\sklearn\\feature_extraction\\text.py:489: UserWarning: The parameter 'token_pattern' will not be used since 'tokenizer' is not None'\n",
      "  warnings.warn(\"The parameter 'token_pattern' will not be used\"\n"
     ]
    },
    {
     "name": "stdout",
     "output_type": "stream",
     "text": [
      "n_topics: 55n_noise: 15434 n_neighbours: 90 min_cluster_size: 75 min_samples: 75 coherence: 0.4478964795303924\n"
     ]
    },
    {
     "name": "stderr",
     "output_type": "stream",
     "text": [
      "C:\\Users\\LENOVO\\anaconda3\\envs\\transform\\lib\\site-packages\\sklearn\\feature_extraction\\text.py:489: UserWarning: The parameter 'token_pattern' will not be used since 'tokenizer' is not None'\n",
      "  warnings.warn(\"The parameter 'token_pattern' will not be used\"\n"
     ]
    },
    {
     "name": "stdout",
     "output_type": "stream",
     "text": [
      "n_topics: 66n_noise: 13394 n_neighbours: 90 min_cluster_size: 75 min_samples: 37 coherence: 0.4327809477891322\n"
     ]
    },
    {
     "name": "stderr",
     "output_type": "stream",
     "text": [
      "C:\\Users\\LENOVO\\anaconda3\\envs\\transform\\lib\\site-packages\\sklearn\\feature_extraction\\text.py:489: UserWarning: The parameter 'token_pattern' will not be used since 'tokenizer' is not None'\n",
      "  warnings.warn(\"The parameter 'token_pattern' will not be used\"\n"
     ]
    },
    {
     "name": "stdout",
     "output_type": "stream",
     "text": [
      "n_topics: 81n_noise: 12160 n_neighbours: 90 min_cluster_size: 75 min_samples: 5 coherence: 0.4218350513594144\n"
     ]
    },
    {
     "name": "stderr",
     "output_type": "stream",
     "text": [
      "C:\\Users\\LENOVO\\anaconda3\\envs\\transform\\lib\\site-packages\\sklearn\\feature_extraction\\text.py:489: UserWarning: The parameter 'token_pattern' will not be used since 'tokenizer' is not None'\n",
      "  warnings.warn(\"The parameter 'token_pattern' will not be used\"\n"
     ]
    },
    {
     "name": "stdout",
     "output_type": "stream",
     "text": [
      "n_topics: 39n_noise: 17128 n_neighbours: 90 min_cluster_size: 95 min_samples: 95 coherence: 0.43851487103656833\n"
     ]
    },
    {
     "name": "stderr",
     "output_type": "stream",
     "text": [
      "C:\\Users\\LENOVO\\anaconda3\\envs\\transform\\lib\\site-packages\\sklearn\\feature_extraction\\text.py:489: UserWarning: The parameter 'token_pattern' will not be used since 'tokenizer' is not None'\n",
      "  warnings.warn(\"The parameter 'token_pattern' will not be used\"\n"
     ]
    },
    {
     "name": "stdout",
     "output_type": "stream",
     "text": [
      "n_topics: 52n_noise: 14643 n_neighbours: 90 min_cluster_size: 95 min_samples: 47 coherence: 0.4262073401795065\n"
     ]
    },
    {
     "name": "stderr",
     "output_type": "stream",
     "text": [
      "C:\\Users\\LENOVO\\anaconda3\\envs\\transform\\lib\\site-packages\\sklearn\\feature_extraction\\text.py:489: UserWarning: The parameter 'token_pattern' will not be used since 'tokenizer' is not None'\n",
      "  warnings.warn(\"The parameter 'token_pattern' will not be used\"\n"
     ]
    },
    {
     "name": "stdout",
     "output_type": "stream",
     "text": [
      "n_topics: 60n_noise: 13269 n_neighbours: 90 min_cluster_size: 95 min_samples: 6 coherence: 0.4153975172981252\n"
     ]
    }
   ],
   "source": [
    "grid_result_stock_new = []\n",
    "for nn in list_n_neighbours:\n",
    "    for cs in list_cluster_size:\n",
    "        for sa in list_samples:\n",
    "                umap_embeddings = umap.UMAP(n_neighbors=nn, \n",
    "                                            n_components=15, \n",
    "                                            metric='cosine',\n",
    "                                            min_dist=0.1,\n",
    "                                            random_state=42).fit_transform(embeddings)\n",
    "                hdbscan_clusters = hdbscan.HDBSCAN(min_cluster_size=cs,\n",
    "                                          metric='euclidean',\n",
    "                                          min_samples = int(cs/sa),                      \n",
    "                                          cluster_selection_method='eom',\n",
    "                                  #cluster_selection_epsilon=0.3,\n",
    "                                          allow_single_cluster=False).fit(umap_embeddings)\n",
    "                docs_df, top_n_words, topic_sizes = get_topic_words(df, hdbscan_clusters,True)\n",
    "                co = get_coherence(docs_df, top_n_words)\n",
    "                n_topics = len(top_n_words)\n",
    "                n_noise = topic_sizes[topic_sizes['Topic']==-1].Size.values[0]\n",
    "        \n",
    "                print('n_topics: '+str(n_topics)+ 'n_noise: '+str(n_noise)+' n_neighbours: '+str(nn)+' min_cluster_size: '+str(cs)+  ' min_samples: '+ str(int(cs/sa))+' coherence: '+str(co))\n",
    "                res_dic = {'n_topics': n_topics, 'n_noise': n_noise, 'n_neighbours': nn, 'min_cluster_size':cs, 'min_samples': int(cs/sa), 'coherence':co}\n",
    "                grid_result_stock_new.append(res_dic)"
   ]
  },
  {
   "cell_type": "markdown",
   "metadata": {},
   "source": [
    "### Read in coherence results"
   ]
  },
  {
   "cell_type": "markdown",
   "metadata": {},
   "source": [
    "'grid_result_large.csv'- wallstreetbets grid search results <br>\n",
    "'grid_result_large_stock.csv' - stockmarket grid search results <br>\n",
    "'grid_result_large_stock_new.csv' - stockmarket with new tf-idf calculation"
   ]
  },
  {
   "cell_type": "code",
   "execution_count": 61,
   "metadata": {},
   "outputs": [],
   "source": [
    "co_df = pd.read_csv('grid_result_large_stock.csv')"
   ]
  },
  {
   "cell_type": "code",
   "execution_count": 62,
   "metadata": {},
   "outputs": [],
   "source": [
    "df_sort = co_df.sort_values(['coherence'],ascending=[False])"
   ]
  },
  {
   "cell_type": "code",
   "execution_count": 64,
   "metadata": {},
   "outputs": [],
   "source": [
    "no_nan = df_sort[(~np.isnan(df_sort['coherence']))]\n",
    "x = no_nan[['n_topics','n_noise','coherence']].values\n",
    "min_max_scaler = preprocessing.MinMaxScaler()\n",
    "x_scaled = min_max_scaler.fit_transform(x)\n",
    "df_norm = pd.DataFrame(x_scaled)"
   ]
  },
  {
   "cell_type": "code",
   "execution_count": 68,
   "metadata": {},
   "outputs": [
    {
     "data": {
      "text/plain": [
       "<matplotlib.legend.Legend at 0x1565a8c54c8>"
      ]
     },
     "execution_count": 68,
     "metadata": {},
     "output_type": "execute_result"
    },
    {
     "data": {
      "image/png": "[encoded data removed]",
      "text/plain": [
       "<Figure size 1224x720 with 1 Axes>"
      ]
     },
     "metadata": {
      "needs_background": "light"
     },
     "output_type": "display_data"
    }
   ],
   "source": [
    "fig, ax = plt.subplots(figsize=(17, 10))\n",
    "ax = sns.lineplot(data=df_norm, marker='o', markevery=[6], markersize=15)\n",
    "ax.legend(['n_topics','n_noise','coherence'])"
   ]
  },
  {
   "cell_type": "markdown",
   "metadata": {},
   "source": [
    "# Over Time"
   ]
  },
  {
   "cell_type": "markdown",
   "metadata": {},
   "source": [
    "### Parameters"
   ]
  },
  {
   "cell_type": "code",
   "execution_count": 25,
   "metadata": {},
   "outputs": [],
   "source": [
    "#wallstreetbets\n",
    "n_neighbours = 60\n",
    "min_cluster_size = 45\n",
    "min_samples = 3"
   ]
  },
  {
   "cell_type": "markdown",
   "metadata": {},
   "source": [
    "### UMAP"
   ]
  },
  {
   "cell_type": "code",
   "execution_count": 26,
   "metadata": {},
   "outputs": [],
   "source": [
    "umap_embeddings = umap.UMAP(n_neighbors=n_neighbours, \n",
    "                            n_components=15, \n",
    "                            metric='cosine',\n",
    "                            min_dist=0.1,\n",
    "                            random_state=42).fit_transform(embeddings)"
   ]
  },
  {
   "cell_type": "markdown",
   "metadata": {},
   "source": [
    "### HDBSCAN"
   ]
  },
  {
   "cell_type": "code",
   "execution_count": 27,
   "metadata": {},
   "outputs": [],
   "source": [
    "hdbscan_clusters = hdbscan.HDBSCAN(min_cluster_size=min_cluster_size,\n",
    "                          metric='euclidean',\n",
    "                          min_samples = min_samples,                      \n",
    "                          cluster_selection_method='eom',\n",
    "                          #cluster_selection_epsilon=0.3,\n",
    "                          allow_single_cluster=False).fit(umap_embeddings)"
   ]
  },
  {
   "cell_type": "code",
   "execution_count": 28,
   "metadata": {},
   "outputs": [],
   "source": [
    "# Prepare data\n",
    "umap_data = umap.UMAP(n_neighbors=60, n_components=2, metric='cosine', min_dist=0.2, random_state=42).fit_transform(embeddings)\n",
    "result = pd.DataFrame(umap_data, columns=['x', 'y'])\n",
    "result['labels'] = hdbscan_clusters.labels_"
   ]
  },
  {
   "cell_type": "code",
   "execution_count": 29,
   "metadata": {},
   "outputs": [
    {
     "data": {
      "text/plain": [
       "<matplotlib.colorbar.Colorbar at 0x13eb59c6508>"
      ]
     },
     "execution_count": 29,
     "metadata": {},
     "output_type": "execute_result"
    },
    {
     "data": {
      "image/png": "[encoded data removed]",
      "text/plain": [
       "<Figure size 1080x720 with 2 Axes>"
      ]
     },
     "metadata": {
      "needs_background": "light"
     },
     "output_type": "display_data"
    }
   ],
   "source": [
    "# Visualize clusters\n",
    "fig, ax = plt.subplots(figsize=(15, 10))\n",
    "outliers = result.loc[result.labels == -1, :]\n",
    "clustered = result.loc[result.labels != -1, :]\n",
    "plt.scatter(outliers.x, outliers.y, color='#BDBDBD', s=0.05)\n",
    "plt.scatter(clustered.x, clustered.y, c=clustered.labels, s=0.05, cmap='hsv_r')\n",
    "plt.colorbar()"
   ]
  },
  {
   "cell_type": "markdown",
   "metadata": {},
   "source": [
    "### TF-IDF"
   ]
  },
  {
   "cell_type": "code",
   "execution_count": 30,
   "metadata": {},
   "outputs": [],
   "source": [
    "docs_df = pd.DataFrame(df.concat.values, columns=[\"Doc\"])\n",
    "docs_df['Topic'] = hdbscan_clusters.labels_\n",
    "docs_df['Doc_ID'] = range(len(docs_df))\n",
    "docs_per_topic = docs_df.groupby(['Topic'], as_index = False).agg({'Doc': ' '.join})"
   ]
  },
  {
   "cell_type": "code",
   "execution_count": 31,
   "metadata": {},
   "outputs": [
    {
     "name": "stderr",
     "output_type": "stream",
     "text": [
      "C:\\Users\\LENOVO\\anaconda3\\envs\\transform\\lib\\site-packages\\sklearn\\feature_extraction\\text.py:489: UserWarning: The parameter 'token_pattern' will not be used since 'tokenizer' is not None'\n",
      "  warnings.warn(\"The parameter 'token_pattern' will not be used\"\n"
     ]
    },
    {
     "data": {
      "text/html": [
       "<div>\n",
       "<style scoped>\n",
       "    .dataframe tbody tr th:only-of-type {\n",
       "        vertical-align: middle;\n",
       "    }\n",
       "\n",
       "    .dataframe tbody tr th {\n",
       "        vertical-align: top;\n",
       "    }\n",
       "\n",
       "    .dataframe thead th {\n",
       "        text-align: right;\n",
       "    }\n",
       "</style>\n",
       "<table border=\"1\" class=\"dataframe\">\n",
       "  <thead>\n",
       "    <tr style=\"text-align: right;\">\n",
       "      <th></th>\n",
       "      <th>Topic</th>\n",
       "      <th>Size</th>\n",
       "    </tr>\n",
       "  </thead>\n",
       "  <tbody>\n",
       "    <tr>\n",
       "      <th>0</th>\n",
       "      <td>-1</td>\n",
       "      <td>10274</td>\n",
       "    </tr>\n",
       "    <tr>\n",
       "      <th>202</th>\n",
       "      <td>201</td>\n",
       "      <td>436</td>\n",
       "    </tr>\n",
       "    <tr>\n",
       "      <th>63</th>\n",
       "      <td>62</td>\n",
       "      <td>381</td>\n",
       "    </tr>\n",
       "    <tr>\n",
       "      <th>197</th>\n",
       "      <td>196</td>\n",
       "      <td>321</td>\n",
       "    </tr>\n",
       "    <tr>\n",
       "      <th>127</th>\n",
       "      <td>126</td>\n",
       "      <td>274</td>\n",
       "    </tr>\n",
       "    <tr>\n",
       "      <th>211</th>\n",
       "      <td>210</td>\n",
       "      <td>268</td>\n",
       "    </tr>\n",
       "    <tr>\n",
       "      <th>173</th>\n",
       "      <td>172</td>\n",
       "      <td>256</td>\n",
       "    </tr>\n",
       "    <tr>\n",
       "      <th>226</th>\n",
       "      <td>225</td>\n",
       "      <td>246</td>\n",
       "    </tr>\n",
       "    <tr>\n",
       "      <th>118</th>\n",
       "      <td>117</td>\n",
       "      <td>243</td>\n",
       "    </tr>\n",
       "    <tr>\n",
       "      <th>238</th>\n",
       "      <td>237</td>\n",
       "      <td>210</td>\n",
       "    </tr>\n",
       "  </tbody>\n",
       "</table>\n",
       "</div>"
      ],
      "text/plain": [
       "     Topic   Size\n",
       "0       -1  10274\n",
       "202    201    436\n",
       "63      62    381\n",
       "197    196    321\n",
       "127    126    274\n",
       "211    210    268\n",
       "173    172    256\n",
       "226    225    246\n",
       "118    117    243\n",
       "238    237    210"
      ]
     },
     "execution_count": 31,
     "metadata": {},
     "output_type": "execute_result"
    }
   ],
   "source": [
    "tf_idf, count = c_tf_idf(docs_per_topic.Doc.values, m=len(df.values))\n",
    "top_n_words = extract_top_n_words_per_topic(tf_idf, count, docs_per_topic, n=20)\n",
    "topic_sizes = extract_topic_sizes(docs_df); topic_sizes.head(10)"
   ]
  },
  {
   "cell_type": "code",
   "execution_count": 32,
   "metadata": {},
   "outputs": [
    {
     "data": {
      "text/plain": [
       "241"
      ]
     },
     "execution_count": 32,
     "metadata": {},
     "output_type": "execute_result"
    }
   ],
   "source": [
    "len(topic_sizes)"
   ]
  },
  {
   "cell_type": "code",
   "execution_count": 33,
   "metadata": {},
   "outputs": [],
   "source": [
    "docs_df['created_utc'] = df.created_utc"
   ]
  },
  {
   "cell_type": "code",
   "execution_count": 34,
   "metadata": {},
   "outputs": [],
   "source": [
    "topic_indecies = topic_sizes.index"
   ]
  },
  {
   "cell_type": "code",
   "execution_count": 35,
   "metadata": {},
   "outputs": [],
   "source": [
    "topic_indecies = topic_indecies - 1"
   ]
  },
  {
   "cell_type": "code",
   "execution_count": 36,
   "metadata": {},
   "outputs": [
    {
     "name": "stdout",
     "output_type": "stream",
     "text": [
      "-1 [('best', 0.006361533610466484), ('market', 0.006004959035722819), ('company', 0.005993062981380321), ('short', 0.005562220145943429), ('like', 0.005538588235263884)]\n",
      "201 [('cannabis', 0.04781555503590969), ('tilray', 0.02735258972361732), ('weed', 0.02614879159688265), ('medical', 0.017258217685812323), ('marijuana', 0.016050093659531556)]\n",
      "62 [('blackberry', 0.0687326298694677), ('bb', 0.042135937913927585), ('qnx', 0.033189338014496035), ('software', 0.03136248705940425), ('security', 0.01957152549070699)]\n",
      "196 [('lose', 0.015357295087013514), ('dont', 0.01403948102132798), ('know', 0.012998357828773304), ('im', 0.012603308087284505), ('just', 0.012365195755411918)]\n",
      "126 [('hands', 0.036416989759919645), ('class', 0.03057025537523421), ('animal', 0.02765283042589024), ('diamond', 0.026558080629688615), ('uwmc', 0.02605948229829115)]\n",
      "210 [('dd', 0.03732198702821299), ('post', 0.01870164563396642), ('redditcom', 0.017155056240526354), ('im', 0.01615556650541571), ('rkt', 0.015494281539823398)]\n",
      "172 [('vaccine', 0.05126245199619623), ('vaccines', 0.0387236996095799), ('strains', 0.03227381795566997), ('chlorine', 0.031371581933442944), ('virus', 0.022909131720790746)]\n",
      "225 [('palantir', 0.017878401805038562), ('software', 0.015342003169777367), ('pltr', 0.015041468664085076), ('digital', 0.014481039453382291), ('company', 0.012893405008961136)]\n",
      "117 [('amc', 0.042763045558342185), ('viac', 0.03761715988893069), ('ape', 0.01797887946016663), ('rebm', 0.017415030697153954), ('calls', 0.01587507119314257)]\n",
      "237 [('naked', 0.021665951222131215), ('dtcc', 0.020081326427290297), ('brokers', 0.01980194441972252), ('prime', 0.018169742224666472), ('retail', 0.016768467772334338)]\n"
     ]
    }
   ],
   "source": [
    "for i in topic_indecies[0:10]:\n",
    "    print(i,top_n_words[i][0:5])"
   ]
  },
  {
   "cell_type": "code",
   "execution_count": 37,
   "metadata": {},
   "outputs": [],
   "source": [
    "def topic_words(topic_number):\n",
    "    word_list =[]\n",
    "    for t in top_n_words[topic_number]:\n",
    "        word_list.append(t[0])\n",
    "    return word_list"
   ]
  },
  {
   "cell_type": "code",
   "execution_count": 38,
   "metadata": {},
   "outputs": [
    {
     "data": {
      "text/plain": [
       "['otc',\n",
       " 'puts',\n",
       " 'float',\n",
       " 'position',\n",
       " 'value',\n",
       " 'trades',\n",
       " 'citadel',\n",
       " 'volume',\n",
       " 'tehe',\n",
       " 'r']"
      ]
     },
     "execution_count": 38,
     "metadata": {},
     "output_type": "execute_result"
    }
   ],
   "source": [
    "topic_words(46)[0:10]"
   ]
  },
  {
   "cell_type": "code",
   "execution_count": 39,
   "metadata": {},
   "outputs": [
    {
     "data": {
      "text/plain": [
       "Int64Index([ -1, 201,  62, 196, 126, 210, 172, 225, 117, 237,\n",
       "            ...\n",
       "             32, 231, 120, 188,  89,  14,  42, 107,  56,   7],\n",
       "           dtype='int64', length=241)"
      ]
     },
     "execution_count": 39,
     "metadata": {},
     "output_type": "execute_result"
    }
   ],
   "source": [
    "topic_indecies"
   ]
  },
  {
   "cell_type": "code",
   "execution_count": 41,
   "metadata": {},
   "outputs": [],
   "source": [
    "clustered['date'] = clustered.created_utc.dt.date"
   ]
  },
  {
   "cell_type": "code",
   "execution_count": 42,
   "metadata": {},
   "outputs": [
    {
     "data": {
      "text/plain": [
       "<AxesSubplot:xlabel='created_utc', ylabel='Count'>"
      ]
     },
     "execution_count": 42,
     "metadata": {},
     "output_type": "execute_result"
    },
    {
     "data": {
      "image/png": "[encoded data removed]",
      "text/plain": [
       "<Figure size 1080x720 with 1 Axes>"
      ]
     },
     "metadata": {
      "needs_background": "light"
     },
     "output_type": "display_data"
    }
   ],
   "source": [
    "fig, ax = plt.subplots(figsize=(15, 10))\n",
    "sns.histplot(data = clustered, x='created_utc', hue='Topic',palette='tab10',element=\"poly\")"
   ]
  },
  {
   "cell_type": "code",
   "execution_count": 43,
   "metadata": {},
   "outputs": [],
   "source": [
    "clustered = docs_df[docs_df.Topic.isin(topic_indecies[1:20])].copy()"
   ]
  },
  {
   "cell_type": "code",
   "execution_count": 44,
   "metadata": {},
   "outputs": [],
   "source": [
    "clustered['date'] = clustered.created_utc.dt.date"
   ]
  },
  {
   "cell_type": "code",
   "execution_count": 45,
   "metadata": {},
   "outputs": [],
   "source": [
    "topic_df = clustered[['Topic','date','Doc_ID']].groupby(['Topic', 'date'], as_index = False).count()"
   ]
  },
  {
   "cell_type": "code",
   "execution_count": 46,
   "metadata": {},
   "outputs": [],
   "source": [
    "idx = topic_df.groupby(['Topic'])['Doc_ID'].transform(max) == topic_df['Doc_ID']"
   ]
  },
  {
   "cell_type": "code",
   "execution_count": 47,
   "metadata": {},
   "outputs": [],
   "source": [
    "topic_max = topic_df[idx]"
   ]
  },
  {
   "cell_type": "code",
   "execution_count": 48,
   "metadata": {},
   "outputs": [],
   "source": [
    "topic_max = topic_max.rename(columns={'Doc_ID': 'count'})"
   ]
  },
  {
   "cell_type": "code",
   "execution_count": 49,
   "metadata": {},
   "outputs": [],
   "source": [
    "topic_max = topic_max.sort_values(by=['date','count'],ascending=[True,False])"
   ]
  },
  {
   "cell_type": "code",
   "execution_count": 50,
   "metadata": {},
   "outputs": [],
   "source": [
    "topic_max=topic_max.reset_index()"
   ]
  },
  {
   "cell_type": "code",
   "execution_count": 51,
   "metadata": {},
   "outputs": [],
   "source": [
    "topic_max = topic_max.drop('index',axis=1)"
   ]
  },
  {
   "cell_type": "code",
   "execution_count": 52,
   "metadata": {},
   "outputs": [
    {
     "data": {
      "text/html": [
       "<div>\n",
       "<style scoped>\n",
       "    .dataframe tbody tr th:only-of-type {\n",
       "        vertical-align: middle;\n",
       "    }\n",
       "\n",
       "    .dataframe tbody tr th {\n",
       "        vertical-align: top;\n",
       "    }\n",
       "\n",
       "    .dataframe thead th {\n",
       "        text-align: right;\n",
       "    }\n",
       "</style>\n",
       "<table border=\"1\" class=\"dataframe\">\n",
       "  <thead>\n",
       "    <tr style=\"text-align: right;\">\n",
       "      <th></th>\n",
       "      <th>Topic</th>\n",
       "      <th>date</th>\n",
       "      <th>count</th>\n",
       "    </tr>\n",
       "  </thead>\n",
       "  <tbody>\n",
       "    <tr>\n",
       "      <th>0</th>\n",
       "      <td>201</td>\n",
       "      <td>2021-02-11</td>\n",
       "      <td>43</td>\n",
       "    </tr>\n",
       "    <tr>\n",
       "      <th>1</th>\n",
       "      <td>211</td>\n",
       "      <td>2021-02-14</td>\n",
       "      <td>14</td>\n",
       "    </tr>\n",
       "    <tr>\n",
       "      <th>2</th>\n",
       "      <td>237</td>\n",
       "      <td>2021-02-18</td>\n",
       "      <td>25</td>\n",
       "    </tr>\n",
       "    <tr>\n",
       "      <th>3</th>\n",
       "      <td>25</td>\n",
       "      <td>2021-02-18</td>\n",
       "      <td>24</td>\n",
       "    </tr>\n",
       "    <tr>\n",
       "      <th>4</th>\n",
       "      <td>126</td>\n",
       "      <td>2021-02-26</td>\n",
       "      <td>20</td>\n",
       "    </tr>\n",
       "    <tr>\n",
       "      <th>5</th>\n",
       "      <td>203</td>\n",
       "      <td>2021-02-26</td>\n",
       "      <td>20</td>\n",
       "    </tr>\n",
       "    <tr>\n",
       "      <th>6</th>\n",
       "      <td>211</td>\n",
       "      <td>2021-03-02</td>\n",
       "      <td>14</td>\n",
       "    </tr>\n",
       "    <tr>\n",
       "      <th>7</th>\n",
       "      <td>196</td>\n",
       "      <td>2021-03-06</td>\n",
       "      <td>33</td>\n",
       "    </tr>\n",
       "    <tr>\n",
       "      <th>8</th>\n",
       "      <td>213</td>\n",
       "      <td>2021-03-06</td>\n",
       "      <td>19</td>\n",
       "    </tr>\n",
       "    <tr>\n",
       "      <th>9</th>\n",
       "      <td>126</td>\n",
       "      <td>2021-03-10</td>\n",
       "      <td>20</td>\n",
       "    </tr>\n",
       "    <tr>\n",
       "      <th>10</th>\n",
       "      <td>136</td>\n",
       "      <td>2021-03-14</td>\n",
       "      <td>23</td>\n",
       "    </tr>\n",
       "    <tr>\n",
       "      <th>11</th>\n",
       "      <td>68</td>\n",
       "      <td>2021-05-10</td>\n",
       "      <td>32</td>\n",
       "    </tr>\n",
       "    <tr>\n",
       "      <th>12</th>\n",
       "      <td>12</td>\n",
       "      <td>2021-05-16</td>\n",
       "      <td>22</td>\n",
       "    </tr>\n",
       "    <tr>\n",
       "      <th>13</th>\n",
       "      <td>225</td>\n",
       "      <td>2021-05-24</td>\n",
       "      <td>26</td>\n",
       "    </tr>\n",
       "    <tr>\n",
       "      <th>14</th>\n",
       "      <td>104</td>\n",
       "      <td>2021-05-24</td>\n",
       "      <td>15</td>\n",
       "    </tr>\n",
       "    <tr>\n",
       "      <th>15</th>\n",
       "      <td>172</td>\n",
       "      <td>2021-05-28</td>\n",
       "      <td>42</td>\n",
       "    </tr>\n",
       "    <tr>\n",
       "      <th>16</th>\n",
       "      <td>117</td>\n",
       "      <td>2021-05-28</td>\n",
       "      <td>27</td>\n",
       "    </tr>\n",
       "    <tr>\n",
       "      <th>17</th>\n",
       "      <td>15</td>\n",
       "      <td>2021-05-29</td>\n",
       "      <td>22</td>\n",
       "    </tr>\n",
       "    <tr>\n",
       "      <th>18</th>\n",
       "      <td>210</td>\n",
       "      <td>2021-05-29</td>\n",
       "      <td>21</td>\n",
       "    </tr>\n",
       "    <tr>\n",
       "      <th>19</th>\n",
       "      <td>190</td>\n",
       "      <td>2021-06-04</td>\n",
       "      <td>26</td>\n",
       "    </tr>\n",
       "    <tr>\n",
       "      <th>20</th>\n",
       "      <td>62</td>\n",
       "      <td>2021-06-16</td>\n",
       "      <td>39</td>\n",
       "    </tr>\n",
       "  </tbody>\n",
       "</table>\n",
       "</div>"
      ],
      "text/plain": [
       "    Topic        date  count\n",
       "0     201  2021-02-11     43\n",
       "1     211  2021-02-14     14\n",
       "2     237  2021-02-18     25\n",
       "3      25  2021-02-18     24\n",
       "4     126  2021-02-26     20\n",
       "5     203  2021-02-26     20\n",
       "6     211  2021-03-02     14\n",
       "7     196  2021-03-06     33\n",
       "8     213  2021-03-06     19\n",
       "9     126  2021-03-10     20\n",
       "10    136  2021-03-14     23\n",
       "11     68  2021-05-10     32\n",
       "12     12  2021-05-16     22\n",
       "13    225  2021-05-24     26\n",
       "14    104  2021-05-24     15\n",
       "15    172  2021-05-28     42\n",
       "16    117  2021-05-28     27\n",
       "17     15  2021-05-29     22\n",
       "18    210  2021-05-29     21\n",
       "19    190  2021-06-04     26\n",
       "20     62  2021-06-16     39"
      ]
     },
     "execution_count": 52,
     "metadata": {},
     "output_type": "execute_result"
    }
   ],
   "source": [
    "topic_max"
   ]
  },
  {
   "cell_type": "code",
   "execution_count": 53,
   "metadata": {},
   "outputs": [
    {
     "data": {
      "image/png": "[encoded data removed]",
      "text/plain": [
       "<Figure size 1224x720 with 1 Axes>"
      ]
     },
     "metadata": {
      "needs_background": "light"
     },
     "output_type": "display_data"
    }
   ],
   "source": [
    "fig, ax = plt.subplots(figsize=(17, 10))\n",
    "ax = sns.barplot(y=\"date\", x=\"count\", data=topic_max, hue='Topic', palette='tab20',dodge=False, orient='h')"
   ]
  },
  {
   "cell_type": "code",
   "execution_count": 55,
   "metadata": {
    "scrolled": true
   },
   "outputs": [
    {
     "data": {
      "text/plain": [
       "[('amc', 0.042763045558342185),\n",
       " ('viac', 0.03761715988893069),\n",
       " ('ape', 0.01797887946016663),\n",
       " ('rebm', 0.017415030697153954),\n",
       " ('calls', 0.01587507119314257),\n",
       " ('ingredion', 0.014839830652959737),\n",
       " ('gme', 0.013968985142256439),\n",
       " ('flag', 0.013736924245957694),\n",
       " ('tight', 0.013443239897088536),\n",
       " ('understand', 0.012362148695228807),\n",
       " ('apes', 0.01207154168682023),\n",
       " ('posts', 0.011619224990054848),\n",
       " ('pfof', 0.011366939499402798),\n",
       " ('play', 0.01106752115212845),\n",
       " ('thank', 0.011009680447777921),\n",
       " ('nuked', 0.010681595236404788),\n",
       " ('stock', 0.010525792574320424),\n",
       " ('volume', 0.01046455275485839),\n",
       " ('taste', 0.010454394025505137),\n",
       " ('dark', 0.010365647873382532)]"
      ]
     },
     "execution_count": 55,
     "metadata": {},
     "output_type": "execute_result"
    }
   ],
   "source": [
    "top_n_words[117]"
   ]
  },
  {
   "cell_type": "code",
   "execution_count": 56,
   "metadata": {},
   "outputs": [
    {
     "data": {
      "text/plain": [
       "<AxesSubplot:xlabel='created_utc', ylabel='Count'>"
      ]
     },
     "execution_count": 56,
     "metadata": {},
     "output_type": "execute_result"
    },
    {
     "data": {
      "image/png": "[encoded data removed]",
      "text/plain": [
       "<Figure size 1080x720 with 1 Axes>"
      ]
     },
     "metadata": {
      "needs_background": "light"
     },
     "output_type": "display_data"
    }
   ],
   "source": [
    "fig, ax = plt.subplots(figsize=(15, 10))\n",
    "sns.histplot(data = clustered[clustered['Topic']==117], x='created_utc', hue='Topic',palette='tab10',element=\"poly\")"
   ]
  },
  {
   "cell_type": "markdown",
   "metadata": {},
   "source": [
    "## Read new data"
   ]
  },
  {
   "cell_type": "code",
   "execution_count": 57,
   "metadata": {},
   "outputs": [],
   "source": [
    "new_data_dir = r\"C:\\Users\\LENOVO\\Documents\\Python\\new reddit\""
   ]
  },
  {
   "cell_type": "code",
   "execution_count": 58,
   "metadata": {},
   "outputs": [],
   "source": [
    "new_files = os.listdir(new_data_dir)"
   ]
  },
  {
   "cell_type": "code",
   "execution_count": 59,
   "metadata": {},
   "outputs": [
    {
     "data": {
      "text/plain": [
       "['reddit_wallstreetbets2021-06-18.csv']"
      ]
     },
     "execution_count": 59,
     "metadata": {},
     "output_type": "execute_result"
    }
   ],
   "source": [
    "new_files"
   ]
  },
  {
   "cell_type": "code",
   "execution_count": 65,
   "metadata": {},
   "outputs": [],
   "source": [
    "new_df_wall = []\n",
    "for file in new_files:\n",
    "    if 'stock' in file:\n",
    "        one_stock_df = pd.read_csv(os.path.join(new_data_dir, file),encoding='utf-8')\n",
    "        new_df_stock.append(one_stock_df)\n",
    "        \n",
    "    elif 'wall' in file:\n",
    "        one_wall_df = pd.read_csv(os.path.join(new_data_dir, file),encoding='utf-8')\n",
    "        new_df_wall.append(one_wall_df)"
   ]
  },
  {
   "cell_type": "code",
   "execution_count": 66,
   "metadata": {},
   "outputs": [
    {
     "data": {
      "text/html": [
       "<div>\n",
       "<style scoped>\n",
       "    .dataframe tbody tr th:only-of-type {\n",
       "        vertical-align: middle;\n",
       "    }\n",
       "\n",
       "    .dataframe tbody tr th {\n",
       "        vertical-align: top;\n",
       "    }\n",
       "\n",
       "    .dataframe thead th {\n",
       "        text-align: right;\n",
       "    }\n",
       "</style>\n",
       "<table border=\"1\" class=\"dataframe\">\n",
       "  <thead>\n",
       "    <tr style=\"text-align: right;\">\n",
       "      <th></th>\n",
       "      <th>created_utc</th>\n",
       "      <th>downs</th>\n",
       "      <th>id</th>\n",
       "      <th>kind</th>\n",
       "      <th>link_flair_css_class</th>\n",
       "      <th>score</th>\n",
       "      <th>selftext</th>\n",
       "      <th>subreddit</th>\n",
       "      <th>title</th>\n",
       "      <th>ups</th>\n",
       "      <th>upvote_ratio</th>\n",
       "    </tr>\n",
       "  </thead>\n",
       "  <tbody>\n",
       "    <tr>\n",
       "      <th>0</th>\n",
       "      <td>2021-06-18T16:58:07Z</td>\n",
       "      <td>0.0</td>\n",
       "      <td>o2r0mi</td>\n",
       "      <td>t3</td>\n",
       "      <td>dd</td>\n",
       "      <td>1.0</td>\n",
       "      <td>Hedge funds have researchers to pull this info...</td>\n",
       "      <td>wallstreetbets</td>\n",
       "      <td>Blackberry QNX Software MOADD!!!</td>\n",
       "      <td>1.0</td>\n",
       "      <td>1.00</td>\n",
       "    </tr>\n",
       "    <tr>\n",
       "      <th>1</th>\n",
       "      <td>2021-06-18T16:55:32Z</td>\n",
       "      <td>0.0</td>\n",
       "      <td>o2qyom</td>\n",
       "      <td>t3</td>\n",
       "      <td>yolo</td>\n",
       "      <td>31.0</td>\n",
       "      <td>NaN</td>\n",
       "      <td>wallstreetbets</td>\n",
       "      <td>Gave my baby brother $2000 6 months ago. My me...</td>\n",
       "      <td>31.0</td>\n",
       "      <td>0.97</td>\n",
       "    </tr>\n",
       "    <tr>\n",
       "      <th>2</th>\n",
       "      <td>2021-06-18T16:53:25Z</td>\n",
       "      <td>0.0</td>\n",
       "      <td>o2qx1d</td>\n",
       "      <td>t3</td>\n",
       "      <td>profit</td>\n",
       "      <td>27.0</td>\n",
       "      <td>NaN</td>\n",
       "      <td>wallstreetbets</td>\n",
       "      <td>WISH 🚀🚀🚀 LFG $12.5c 😝</td>\n",
       "      <td>27.0</td>\n",
       "      <td>0.88</td>\n",
       "    </tr>\n",
       "    <tr>\n",
       "      <th>3</th>\n",
       "      <td>2021-06-18T16:49:21Z</td>\n",
       "      <td>0.0</td>\n",
       "      <td>o2qttr</td>\n",
       "      <td>t3</td>\n",
       "      <td>loss</td>\n",
       "      <td>21.0</td>\n",
       "      <td>NaN</td>\n",
       "      <td>wallstreetbets</td>\n",
       "      <td>WKHS CLNE Loss. Holding shares for now, but op...</td>\n",
       "      <td>21.0</td>\n",
       "      <td>0.96</td>\n",
       "    </tr>\n",
       "    <tr>\n",
       "      <th>4</th>\n",
       "      <td>2021-06-18T16:42:24Z</td>\n",
       "      <td>0.0</td>\n",
       "      <td>o2qokt</td>\n",
       "      <td>t3</td>\n",
       "      <td>loss</td>\n",
       "      <td>27.0</td>\n",
       "      <td>NaN</td>\n",
       "      <td>wallstreetbets</td>\n",
       "      <td>I still have time lol😂</td>\n",
       "      <td>27.0</td>\n",
       "      <td>0.83</td>\n",
       "    </tr>\n",
       "    <tr>\n",
       "      <th>...</th>\n",
       "      <td>...</td>\n",
       "      <td>...</td>\n",
       "      <td>...</td>\n",
       "      <td>...</td>\n",
       "      <td>...</td>\n",
       "      <td>...</td>\n",
       "      <td>...</td>\n",
       "      <td>...</td>\n",
       "      <td>...</td>\n",
       "      <td>...</td>\n",
       "      <td>...</td>\n",
       "    </tr>\n",
       "    <tr>\n",
       "      <th>995</th>\n",
       "      <td>2021-06-17T20:22:52Z</td>\n",
       "      <td>0.0</td>\n",
       "      <td>o23yon</td>\n",
       "      <td>t3</td>\n",
       "      <td>question</td>\n",
       "      <td>0.0</td>\n",
       "      <td>Federal government just announced that they wi...</td>\n",
       "      <td>wallstreetbets</td>\n",
       "      <td>ATEA pharmaceuticals (AVIR)</td>\n",
       "      <td>0.0</td>\n",
       "      <td>0.27</td>\n",
       "    </tr>\n",
       "    <tr>\n",
       "      <th>996</th>\n",
       "      <td>2021-06-17T20:09:12Z</td>\n",
       "      <td>0.0</td>\n",
       "      <td>o23n6f</td>\n",
       "      <td>t3</td>\n",
       "      <td>question</td>\n",
       "      <td>9.0</td>\n",
       "      <td>Many people believe inflation is here. I perso...</td>\n",
       "      <td>wallstreetbets</td>\n",
       "      <td>How to play inflation without exposing yoursel...</td>\n",
       "      <td>9.0</td>\n",
       "      <td>0.62</td>\n",
       "    </tr>\n",
       "    <tr>\n",
       "      <th>997</th>\n",
       "      <td>2021-06-17T20:05:32Z</td>\n",
       "      <td>0.0</td>\n",
       "      <td>o23k4e</td>\n",
       "      <td>t3</td>\n",
       "      <td>dd</td>\n",
       "      <td>116.0</td>\n",
       "      <td>The one thing holding Canoo back was their lac...</td>\n",
       "      <td>wallstreetbets</td>\n",
       "      <td>Canoo ($GOEV) Manufacturing Announcement Solid...</td>\n",
       "      <td>116.0</td>\n",
       "      <td>0.75</td>\n",
       "    </tr>\n",
       "    <tr>\n",
       "      <th>998</th>\n",
       "      <td>2021-06-17T19:57:56Z</td>\n",
       "      <td>0.0</td>\n",
       "      <td>o23dge</td>\n",
       "      <td>t3</td>\n",
       "      <td>dd</td>\n",
       "      <td>15.0</td>\n",
       "      <td>Green energy investing is all the rage these d...</td>\n",
       "      <td>wallstreetbets</td>\n",
       "      <td>$PLUG. Plug Power Plugging Away at Improving H...</td>\n",
       "      <td>15.0</td>\n",
       "      <td>0.60</td>\n",
       "    </tr>\n",
       "    <tr>\n",
       "      <th>999</th>\n",
       "      <td>2021-06-17T19:55:45Z</td>\n",
       "      <td>0.0</td>\n",
       "      <td>o23bm1</td>\n",
       "      <td>t3</td>\n",
       "      <td>dd</td>\n",
       "      <td>0.0</td>\n",
       "      <td>The recent pandemic and the COVID-19 virus has...</td>\n",
       "      <td>wallstreetbets</td>\n",
       "      <td>Biowarfare is the future</td>\n",
       "      <td>0.0</td>\n",
       "      <td>0.26</td>\n",
       "    </tr>\n",
       "  </tbody>\n",
       "</table>\n",
       "<p>1000 rows × 11 columns</p>\n",
       "</div>"
      ],
      "text/plain": [
       "              created_utc  downs      id kind link_flair_css_class  score  \\\n",
       "0    2021-06-18T16:58:07Z    0.0  o2r0mi   t3                   dd    1.0   \n",
       "1    2021-06-18T16:55:32Z    0.0  o2qyom   t3                 yolo   31.0   \n",
       "2    2021-06-18T16:53:25Z    0.0  o2qx1d   t3               profit   27.0   \n",
       "3    2021-06-18T16:49:21Z    0.0  o2qttr   t3                 loss   21.0   \n",
       "4    2021-06-18T16:42:24Z    0.0  o2qokt   t3                 loss   27.0   \n",
       "..                    ...    ...     ...  ...                  ...    ...   \n",
       "995  2021-06-17T20:22:52Z    0.0  o23yon   t3             question    0.0   \n",
       "996  2021-06-17T20:09:12Z    0.0  o23n6f   t3             question    9.0   \n",
       "997  2021-06-17T20:05:32Z    0.0  o23k4e   t3                   dd  116.0   \n",
       "998  2021-06-17T19:57:56Z    0.0  o23dge   t3                   dd   15.0   \n",
       "999  2021-06-17T19:55:45Z    0.0  o23bm1   t3                   dd    0.0   \n",
       "\n",
       "                                              selftext       subreddit  \\\n",
       "0    Hedge funds have researchers to pull this info...  wallstreetbets   \n",
       "1                                                  NaN  wallstreetbets   \n",
       "2                                                  NaN  wallstreetbets   \n",
       "3                                                  NaN  wallstreetbets   \n",
       "4                                                  NaN  wallstreetbets   \n",
       "..                                                 ...             ...   \n",
       "995  Federal government just announced that they wi...  wallstreetbets   \n",
       "996  Many people believe inflation is here. I perso...  wallstreetbets   \n",
       "997  The one thing holding Canoo back was their lac...  wallstreetbets   \n",
       "998  Green energy investing is all the rage these d...  wallstreetbets   \n",
       "999  The recent pandemic and the COVID-19 virus has...  wallstreetbets   \n",
       "\n",
       "                                                 title    ups  upvote_ratio  \n",
       "0                     Blackberry QNX Software MOADD!!!    1.0          1.00  \n",
       "1    Gave my baby brother $2000 6 months ago. My me...   31.0          0.97  \n",
       "2                                WISH 🚀🚀🚀 LFG $12.5c 😝   27.0          0.88  \n",
       "3    WKHS CLNE Loss. Holding shares for now, but op...   21.0          0.96  \n",
       "4                               I still have time lol😂   27.0          0.83  \n",
       "..                                                 ...    ...           ...  \n",
       "995                        ATEA pharmaceuticals (AVIR)    0.0          0.27  \n",
       "996  How to play inflation without exposing yoursel...    9.0          0.62  \n",
       "997  Canoo ($GOEV) Manufacturing Announcement Solid...  116.0          0.75  \n",
       "998  $PLUG. Plug Power Plugging Away at Improving H...   15.0          0.60  \n",
       "999                           Biowarfare is the future    0.0          0.26  \n",
       "\n",
       "[1000 rows x 11 columns]"
      ]
     },
     "execution_count": 66,
     "metadata": {},
     "output_type": "execute_result"
    }
   ],
   "source": [
    "new_df_wall[0]"
   ]
  },
  {
   "cell_type": "code",
   "execution_count": 71,
   "metadata": {},
   "outputs": [
    {
     "data": {
      "text/html": [
       "<div>\n",
       "<style scoped>\n",
       "    .dataframe tbody tr th:only-of-type {\n",
       "        vertical-align: middle;\n",
       "    }\n",
       "\n",
       "    .dataframe tbody tr th {\n",
       "        vertical-align: top;\n",
       "    }\n",
       "\n",
       "    .dataframe thead th {\n",
       "        text-align: right;\n",
       "    }\n",
       "</style>\n",
       "<table border=\"1\" class=\"dataframe\">\n",
       "  <thead>\n",
       "    <tr style=\"text-align: right;\">\n",
       "      <th></th>\n",
       "      <th>created_utc</th>\n",
       "      <th>downs</th>\n",
       "      <th>id</th>\n",
       "      <th>kind</th>\n",
       "      <th>link_flair_css_class</th>\n",
       "      <th>score</th>\n",
       "      <th>selftext</th>\n",
       "      <th>subreddit</th>\n",
       "      <th>title</th>\n",
       "      <th>ups</th>\n",
       "      <th>upvote_ratio</th>\n",
       "    </tr>\n",
       "  </thead>\n",
       "  <tbody>\n",
       "    <tr>\n",
       "      <th>0</th>\n",
       "      <td>2021-02-15T15:30:12Z</td>\n",
       "      <td>0.0</td>\n",
       "      <td>lker56</td>\n",
       "      <td>t3</td>\n",
       "      <td>dd</td>\n",
       "      <td>10.0</td>\n",
       "      <td>Listen up, idiots. Do your own research. Here ...</td>\n",
       "      <td>wallstreetbets</td>\n",
       "      <td>Some Quick DD on UCTT (Ultra Clean Holdings, I...</td>\n",
       "      <td>10.0</td>\n",
       "      <td>0.71</td>\n",
       "    </tr>\n",
       "    <tr>\n",
       "      <th>1</th>\n",
       "      <td>2021-02-15T15:28:57Z</td>\n",
       "      <td>0.0</td>\n",
       "      <td>lkeqb3</td>\n",
       "      <td>t3</td>\n",
       "      <td>meme</td>\n",
       "      <td>577.0</td>\n",
       "      <td>NaN</td>\n",
       "      <td>wallstreetbets</td>\n",
       "      <td>When a CNBC anchor asks, \"Is the Reddit Army g...</td>\n",
       "      <td>577.0</td>\n",
       "      <td>0.97</td>\n",
       "    </tr>\n",
       "    <tr>\n",
       "      <th>2</th>\n",
       "      <td>2021-02-15T15:10:32Z</td>\n",
       "      <td>0.0</td>\n",
       "      <td>lkeej1</td>\n",
       "      <td>t3</td>\n",
       "      <td>chart</td>\n",
       "      <td>275.0</td>\n",
       "      <td>NaN</td>\n",
       "      <td>wallstreetbets</td>\n",
       "      <td>Weekend Discussion</td>\n",
       "      <td>275.0</td>\n",
       "      <td>0.96</td>\n",
       "    </tr>\n",
       "    <tr>\n",
       "      <th>3</th>\n",
       "      <td>2021-02-15T15:10:30Z</td>\n",
       "      <td>0.0</td>\n",
       "      <td>lkeeie</td>\n",
       "      <td>t3</td>\n",
       "      <td>question</td>\n",
       "      <td>16.0</td>\n",
       "      <td>I was reading OPs DD [HERE](https://www.reddit...</td>\n",
       "      <td>wallstreetbets</td>\n",
       "      <td>My UK Plays for the Oil Boom because I can't Y...</td>\n",
       "      <td>16.0</td>\n",
       "      <td>0.74</td>\n",
       "    </tr>\n",
       "    <tr>\n",
       "      <th>4</th>\n",
       "      <td>2021-02-15T14:38:33Z</td>\n",
       "      <td>0.0</td>\n",
       "      <td>lkdu3w</td>\n",
       "      <td>t3</td>\n",
       "      <td>dd</td>\n",
       "      <td>33.0</td>\n",
       "      <td>LEGITIMATE ARGUMENT TO INVEST IN CANNABIS (Sho...</td>\n",
       "      <td>wallstreetbets</td>\n",
       "      <td>Cannabis Stocks are Going BONGkers Ultimate DD</td>\n",
       "      <td>33.0</td>\n",
       "      <td>0.64</td>\n",
       "    </tr>\n",
       "    <tr>\n",
       "      <th>...</th>\n",
       "      <td>...</td>\n",
       "      <td>...</td>\n",
       "      <td>...</td>\n",
       "      <td>...</td>\n",
       "      <td>...</td>\n",
       "      <td>...</td>\n",
       "      <td>...</td>\n",
       "      <td>...</td>\n",
       "      <td>...</td>\n",
       "      <td>...</td>\n",
       "      <td>...</td>\n",
       "    </tr>\n",
       "    <tr>\n",
       "      <th>995</th>\n",
       "      <td>2021-06-15T22:27:15Z</td>\n",
       "      <td>0.0</td>\n",
       "      <td>o0ns5g</td>\n",
       "      <td>t3</td>\n",
       "      <td>yolo</td>\n",
       "      <td>0.0</td>\n",
       "      <td>NaN</td>\n",
       "      <td>wallstreetbets</td>\n",
       "      <td>TQQQ fed meeting YOLO 🌈🐻</td>\n",
       "      <td>0.0</td>\n",
       "      <td>0.48</td>\n",
       "    </tr>\n",
       "    <tr>\n",
       "      <th>996</th>\n",
       "      <td>2021-06-15T22:26:07Z</td>\n",
       "      <td>0.0</td>\n",
       "      <td>o0nr9l</td>\n",
       "      <td>t3</td>\n",
       "      <td>news</td>\n",
       "      <td>31.0</td>\n",
       "      <td>NaN</td>\n",
       "      <td>wallstreetbets</td>\n",
       "      <td>Here Is Why United Wholesale Is Designed to Co...</td>\n",
       "      <td>31.0</td>\n",
       "      <td>0.71</td>\n",
       "    </tr>\n",
       "    <tr>\n",
       "      <th>997</th>\n",
       "      <td>2021-06-15T22:17:06Z</td>\n",
       "      <td>0.0</td>\n",
       "      <td>o0nk8c</td>\n",
       "      <td>t3</td>\n",
       "      <td>loss</td>\n",
       "      <td>43.0</td>\n",
       "      <td>NaN</td>\n",
       "      <td>wallstreetbets</td>\n",
       "      <td>Loss porn 💀</td>\n",
       "      <td>43.0</td>\n",
       "      <td>0.74</td>\n",
       "    </tr>\n",
       "    <tr>\n",
       "      <th>998</th>\n",
       "      <td>2021-06-15T22:12:59Z</td>\n",
       "      <td>0.0</td>\n",
       "      <td>o0ngzb</td>\n",
       "      <td>t3</td>\n",
       "      <td>question</td>\n",
       "      <td>482.0</td>\n",
       "      <td>Hey everyone,\\n\\n&amp;amp;#x200B;\\n\\nBelow is the ...</td>\n",
       "      <td>wallstreetbets</td>\n",
       "      <td>Daily option statistics for CLEN, AMC, WISH, G...</td>\n",
       "      <td>482.0</td>\n",
       "      <td>0.90</td>\n",
       "    </tr>\n",
       "    <tr>\n",
       "      <th>999</th>\n",
       "      <td>2021-06-15T22:11:35Z</td>\n",
       "      <td>0.0</td>\n",
       "      <td>o0nfx6</td>\n",
       "      <td>t3</td>\n",
       "      <td>chart</td>\n",
       "      <td>104.0</td>\n",
       "      <td>First I just want to reference this post which...</td>\n",
       "      <td>wallstreetbets</td>\n",
       "      <td>$ARVL TA - Strong Uptrend | Nice Breakout | Gr...</td>\n",
       "      <td>104.0</td>\n",
       "      <td>0.76</td>\n",
       "    </tr>\n",
       "  </tbody>\n",
       "</table>\n",
       "<p>31453 rows × 11 columns</p>\n",
       "</div>"
      ],
      "text/plain": [
       "              created_utc  downs      id kind link_flair_css_class  score  \\\n",
       "0    2021-02-15T15:30:12Z    0.0  lker56   t3                   dd   10.0   \n",
       "1    2021-02-15T15:28:57Z    0.0  lkeqb3   t3                 meme  577.0   \n",
       "2    2021-02-15T15:10:32Z    0.0  lkeej1   t3                chart  275.0   \n",
       "3    2021-02-15T15:10:30Z    0.0  lkeeie   t3             question   16.0   \n",
       "4    2021-02-15T14:38:33Z    0.0  lkdu3w   t3                   dd   33.0   \n",
       "..                    ...    ...     ...  ...                  ...    ...   \n",
       "995  2021-06-15T22:27:15Z    0.0  o0ns5g   t3                 yolo    0.0   \n",
       "996  2021-06-15T22:26:07Z    0.0  o0nr9l   t3                 news   31.0   \n",
       "997  2021-06-15T22:17:06Z    0.0  o0nk8c   t3                 loss   43.0   \n",
       "998  2021-06-15T22:12:59Z    0.0  o0ngzb   t3             question  482.0   \n",
       "999  2021-06-15T22:11:35Z    0.0  o0nfx6   t3                chart  104.0   \n",
       "\n",
       "                                              selftext       subreddit  \\\n",
       "0    Listen up, idiots. Do your own research. Here ...  wallstreetbets   \n",
       "1                                                  NaN  wallstreetbets   \n",
       "2                                                  NaN  wallstreetbets   \n",
       "3    I was reading OPs DD [HERE](https://www.reddit...  wallstreetbets   \n",
       "4    LEGITIMATE ARGUMENT TO INVEST IN CANNABIS (Sho...  wallstreetbets   \n",
       "..                                                 ...             ...   \n",
       "995                                                NaN  wallstreetbets   \n",
       "996                                                NaN  wallstreetbets   \n",
       "997                                                NaN  wallstreetbets   \n",
       "998  Hey everyone,\\n\\n&amp;#x200B;\\n\\nBelow is the ...  wallstreetbets   \n",
       "999  First I just want to reference this post which...  wallstreetbets   \n",
       "\n",
       "                                                 title    ups  upvote_ratio  \n",
       "0    Some Quick DD on UCTT (Ultra Clean Holdings, I...   10.0          0.71  \n",
       "1    When a CNBC anchor asks, \"Is the Reddit Army g...  577.0          0.97  \n",
       "2                                   Weekend Discussion  275.0          0.96  \n",
       "3    My UK Plays for the Oil Boom because I can't Y...   16.0          0.74  \n",
       "4       Cannabis Stocks are Going BONGkers Ultimate DD   33.0          0.64  \n",
       "..                                                 ...    ...           ...  \n",
       "995                           TQQQ fed meeting YOLO 🌈🐻    0.0          0.48  \n",
       "996  Here Is Why United Wholesale Is Designed to Co...   31.0          0.71  \n",
       "997                                        Loss porn 💀   43.0          0.74  \n",
       "998  Daily option statistics for CLEN, AMC, WISH, G...  482.0          0.90  \n",
       "999  $ARVL TA - Strong Uptrend | Nice Breakout | Gr...  104.0          0.76  \n",
       "\n",
       "[31453 rows x 11 columns]"
      ]
     },
     "execution_count": 71,
     "metadata": {},
     "output_type": "execute_result"
    }
   ],
   "source": [
    "wall"
   ]
  },
  {
   "cell_type": "code",
   "execution_count": 75,
   "metadata": {},
   "outputs": [],
   "source": [
    "ds1 = set([tuple(line) for line in new_df_wall[0].values])\n",
    "ds2 = set([tuple(line) for line in wall.values])\n",
    "ds1.difference(ds2)\n",
    "new_wall = pd.DataFrame(list(ds1.difference(ds2)))"
   ]
  },
  {
   "cell_type": "code",
   "execution_count": 76,
   "metadata": {},
   "outputs": [
    {
     "name": "stderr",
     "output_type": "stream",
     "text": [
      "C:\\Users\\LENOVO\\anaconda3\\envs\\transform\\lib\\site-packages\\ipykernel_launcher.py:1: UserWarning: Pandas doesn't allow columns to be created via a new attribute name - see https://pandas.pydata.org/pandas-docs/stable/indexing.html#attribute-access\n",
      "  \"\"\"Entry point for launching an IPython kernel.\n"
     ]
    }
   ],
   "source": [
    "new_wall.rename(['0':'created_utc','downs','id','kind','link_flair_css_class','score','selftext','subreddit','title','ups','upvote_ratio'])"
   ]
  },
  {
   "cell_type": "code",
   "execution_count": null,
   "metadata": {},
   "outputs": [],
   "source": []
  }
 ],
 "metadata": {
  "kernelspec": {
   "display_name": "Python 3",
   "language": "python",
   "name": "python3"
  },
  "language_info": {
   "codemirror_mode": {
    "name": "ipython",
    "version": 3
   },
   "file_extension": ".py",
   "mimetype": "text/x-python",
   "name": "python",
   "nbconvert_exporter": "python",
   "pygments_lexer": "ipython3",
   "version": "3.7.10"
  }
 },
 "nbformat": 4,
 "nbformat_minor": 4
}
