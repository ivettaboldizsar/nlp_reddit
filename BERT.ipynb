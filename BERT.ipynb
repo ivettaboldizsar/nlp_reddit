{
  "nbformat": 4,
  "nbformat_minor": 0,
  "metadata": {
    "accelerator": "GPU",
    "colab": {
      "name": "BERT.ipynb",
      "provenance": [],
      "collapsed_sections": [],
      "toc_visible": true
    },
    "kernelspec": {
      "display_name": "Python 3",
      "name": "python3"
    },
    "language_info": {
      "name": "python"
    },
    "widgets": {
      "application/vnd.jupyter.widget-state+json": {
        "5fbd82bc970944a4a2dd6f0ab0e16cad": {
          "model_module": "@jupyter-widgets/controls",
          "model_name": "HBoxModel",
          "model_module_version": "1.5.0",
          "state": {
            "_view_name": "HBoxView",
            "_dom_classes": [],
            "_model_name": "HBoxModel",
            "_view_module": "@jupyter-widgets/controls",
            "_model_module_version": "1.5.0",
            "_view_count": null,
            "_view_module_version": "1.5.0",
            "box_style": "",
            "layout": "IPY_MODEL_f9c95cacbed04192a0e384275d85b342",
            "_model_module": "@jupyter-widgets/controls",
            "children": [
              "IPY_MODEL_8e292bb90a0947479ac1e4d1cc45454d",
              "IPY_MODEL_fe23a4a844aa44d0911a06288a952651"
            ]
          }
        },
        "f9c95cacbed04192a0e384275d85b342": {
          "model_module": "@jupyter-widgets/base",
          "model_name": "LayoutModel",
          "model_module_version": "1.2.0",
          "state": {
            "_view_name": "LayoutView",
            "grid_template_rows": null,
            "right": null,
            "justify_content": null,
            "_view_module": "@jupyter-widgets/base",
            "overflow": null,
            "_model_module_version": "1.2.0",
            "_view_count": null,
            "flex_flow": null,
            "width": null,
            "min_width": null,
            "border": null,
            "align_items": null,
            "bottom": null,
            "_model_module": "@jupyter-widgets/base",
            "top": null,
            "grid_column": null,
            "overflow_y": null,
            "overflow_x": null,
            "grid_auto_flow": null,
            "grid_area": null,
            "grid_template_columns": null,
            "flex": null,
            "_model_name": "LayoutModel",
            "justify_items": null,
            "grid_row": null,
            "max_height": null,
            "align_content": null,
            "visibility": null,
            "align_self": null,
            "height": null,
            "min_height": null,
            "padding": null,
            "grid_auto_rows": null,
            "grid_gap": null,
            "max_width": null,
            "order": null,
            "_view_module_version": "1.2.0",
            "grid_template_areas": null,
            "object_position": null,
            "object_fit": null,
            "grid_auto_columns": null,
            "margin": null,
            "display": null,
            "left": null
          }
        },
        "8e292bb90a0947479ac1e4d1cc45454d": {
          "model_module": "@jupyter-widgets/controls",
          "model_name": "FloatProgressModel",
          "model_module_version": "1.5.0",
          "state": {
            "_view_name": "ProgressView",
            "style": "IPY_MODEL_e7bdc9b542a84ba7a299c64d7b8fd752",
            "_dom_classes": [],
            "description": "Downloading: 100%",
            "_model_name": "FloatProgressModel",
            "bar_style": "success",
            "max": 231508,
            "_view_module": "@jupyter-widgets/controls",
            "_model_module_version": "1.5.0",
            "value": 231508,
            "_view_count": null,
            "_view_module_version": "1.5.0",
            "orientation": "horizontal",
            "min": 0,
            "description_tooltip": null,
            "_model_module": "@jupyter-widgets/controls",
            "layout": "IPY_MODEL_63dc04393df54507ad27165a7d4b6424"
          }
        },
        "fe23a4a844aa44d0911a06288a952651": {
          "model_module": "@jupyter-widgets/controls",
          "model_name": "HTMLModel",
          "model_module_version": "1.5.0",
          "state": {
            "_view_name": "HTMLView",
            "style": "IPY_MODEL_871b3e5b1e274aa3b299b11f2f556eee",
            "_dom_classes": [],
            "description": "",
            "_model_name": "HTMLModel",
            "placeholder": "​",
            "_view_module": "@jupyter-widgets/controls",
            "_model_module_version": "1.5.0",
            "value": " 232k/232k [00:00&lt;00:00, 693kB/s]",
            "_view_count": null,
            "_view_module_version": "1.5.0",
            "description_tooltip": null,
            "_model_module": "@jupyter-widgets/controls",
            "layout": "IPY_MODEL_4bfab1adad354b719ddc6e602d80a121"
          }
        },
        "e7bdc9b542a84ba7a299c64d7b8fd752": {
          "model_module": "@jupyter-widgets/controls",
          "model_name": "ProgressStyleModel",
          "model_module_version": "1.5.0",
          "state": {
            "_view_name": "StyleView",
            "_model_name": "ProgressStyleModel",
            "description_width": "initial",
            "_view_module": "@jupyter-widgets/base",
            "_model_module_version": "1.5.0",
            "_view_count": null,
            "_view_module_version": "1.2.0",
            "bar_color": null,
            "_model_module": "@jupyter-widgets/controls"
          }
        },
        "63dc04393df54507ad27165a7d4b6424": {
          "model_module": "@jupyter-widgets/base",
          "model_name": "LayoutModel",
          "model_module_version": "1.2.0",
          "state": {
            "_view_name": "LayoutView",
            "grid_template_rows": null,
            "right": null,
            "justify_content": null,
            "_view_module": "@jupyter-widgets/base",
            "overflow": null,
            "_model_module_version": "1.2.0",
            "_view_count": null,
            "flex_flow": null,
            "width": null,
            "min_width": null,
            "border": null,
            "align_items": null,
            "bottom": null,
            "_model_module": "@jupyter-widgets/base",
            "top": null,
            "grid_column": null,
            "overflow_y": null,
            "overflow_x": null,
            "grid_auto_flow": null,
            "grid_area": null,
            "grid_template_columns": null,
            "flex": null,
            "_model_name": "LayoutModel",
            "justify_items": null,
            "grid_row": null,
            "max_height": null,
            "align_content": null,
            "visibility": null,
            "align_self": null,
            "height": null,
            "min_height": null,
            "padding": null,
            "grid_auto_rows": null,
            "grid_gap": null,
            "max_width": null,
            "order": null,
            "_view_module_version": "1.2.0",
            "grid_template_areas": null,
            "object_position": null,
            "object_fit": null,
            "grid_auto_columns": null,
            "margin": null,
            "display": null,
            "left": null
          }
        },
        "871b3e5b1e274aa3b299b11f2f556eee": {
          "model_module": "@jupyter-widgets/controls",
          "model_name": "DescriptionStyleModel",
          "model_module_version": "1.5.0",
          "state": {
            "_view_name": "StyleView",
            "_model_name": "DescriptionStyleModel",
            "description_width": "",
            "_view_module": "@jupyter-widgets/base",
            "_model_module_version": "1.5.0",
            "_view_count": null,
            "_view_module_version": "1.2.0",
            "_model_module": "@jupyter-widgets/controls"
          }
        },
        "4bfab1adad354b719ddc6e602d80a121": {
          "model_module": "@jupyter-widgets/base",
          "model_name": "LayoutModel",
          "model_module_version": "1.2.0",
          "state": {
            "_view_name": "LayoutView",
            "grid_template_rows": null,
            "right": null,
            "justify_content": null,
            "_view_module": "@jupyter-widgets/base",
            "overflow": null,
            "_model_module_version": "1.2.0",
            "_view_count": null,
            "flex_flow": null,
            "width": null,
            "min_width": null,
            "border": null,
            "align_items": null,
            "bottom": null,
            "_model_module": "@jupyter-widgets/base",
            "top": null,
            "grid_column": null,
            "overflow_y": null,
            "overflow_x": null,
            "grid_auto_flow": null,
            "grid_area": null,
            "grid_template_columns": null,
            "flex": null,
            "_model_name": "LayoutModel",
            "justify_items": null,
            "grid_row": null,
            "max_height": null,
            "align_content": null,
            "visibility": null,
            "align_self": null,
            "height": null,
            "min_height": null,
            "padding": null,
            "grid_auto_rows": null,
            "grid_gap": null,
            "max_width": null,
            "order": null,
            "_view_module_version": "1.2.0",
            "grid_template_areas": null,
            "object_position": null,
            "object_fit": null,
            "grid_auto_columns": null,
            "margin": null,
            "display": null,
            "left": null
          }
        },
        "0fb3862d06ca43809ec15d06c0ad1488": {
          "model_module": "@jupyter-widgets/controls",
          "model_name": "HBoxModel",
          "model_module_version": "1.5.0",
          "state": {
            "_view_name": "HBoxView",
            "_dom_classes": [],
            "_model_name": "HBoxModel",
            "_view_module": "@jupyter-widgets/controls",
            "_model_module_version": "1.5.0",
            "_view_count": null,
            "_view_module_version": "1.5.0",
            "box_style": "",
            "layout": "IPY_MODEL_7557482ba3b64f5298948e8a7b166b38",
            "_model_module": "@jupyter-widgets/controls",
            "children": [
              "IPY_MODEL_f9def5495c544478a76a5ddccfb3581e",
              "IPY_MODEL_36cf75aa25874128bef4e3f173ccebba"
            ]
          }
        },
        "7557482ba3b64f5298948e8a7b166b38": {
          "model_module": "@jupyter-widgets/base",
          "model_name": "LayoutModel",
          "model_module_version": "1.2.0",
          "state": {
            "_view_name": "LayoutView",
            "grid_template_rows": null,
            "right": null,
            "justify_content": null,
            "_view_module": "@jupyter-widgets/base",
            "overflow": null,
            "_model_module_version": "1.2.0",
            "_view_count": null,
            "flex_flow": null,
            "width": null,
            "min_width": null,
            "border": null,
            "align_items": null,
            "bottom": null,
            "_model_module": "@jupyter-widgets/base",
            "top": null,
            "grid_column": null,
            "overflow_y": null,
            "overflow_x": null,
            "grid_auto_flow": null,
            "grid_area": null,
            "grid_template_columns": null,
            "flex": null,
            "_model_name": "LayoutModel",
            "justify_items": null,
            "grid_row": null,
            "max_height": null,
            "align_content": null,
            "visibility": null,
            "align_self": null,
            "height": null,
            "min_height": null,
            "padding": null,
            "grid_auto_rows": null,
            "grid_gap": null,
            "max_width": null,
            "order": null,
            "_view_module_version": "1.2.0",
            "grid_template_areas": null,
            "object_position": null,
            "object_fit": null,
            "grid_auto_columns": null,
            "margin": null,
            "display": null,
            "left": null
          }
        },
        "f9def5495c544478a76a5ddccfb3581e": {
          "model_module": "@jupyter-widgets/controls",
          "model_name": "FloatProgressModel",
          "model_module_version": "1.5.0",
          "state": {
            "_view_name": "ProgressView",
            "style": "IPY_MODEL_a5fdd16e5a0f4951846c4cf72b7ad45d",
            "_dom_classes": [],
            "description": "Downloading: 100%",
            "_model_name": "FloatProgressModel",
            "bar_style": "success",
            "max": 28,
            "_view_module": "@jupyter-widgets/controls",
            "_model_module_version": "1.5.0",
            "value": 28,
            "_view_count": null,
            "_view_module_version": "1.5.0",
            "orientation": "horizontal",
            "min": 0,
            "description_tooltip": null,
            "_model_module": "@jupyter-widgets/controls",
            "layout": "IPY_MODEL_0525e99f428645888a72fc1b38cfdbab"
          }
        },
        "36cf75aa25874128bef4e3f173ccebba": {
          "model_module": "@jupyter-widgets/controls",
          "model_name": "HTMLModel",
          "model_module_version": "1.5.0",
          "state": {
            "_view_name": "HTMLView",
            "style": "IPY_MODEL_2d7d431929a74e1d8ca0ded002c357ca",
            "_dom_classes": [],
            "description": "",
            "_model_name": "HTMLModel",
            "placeholder": "​",
            "_view_module": "@jupyter-widgets/controls",
            "_model_module_version": "1.5.0",
            "value": " 28.0/28.0 [00:00&lt;00:00, 148B/s]",
            "_view_count": null,
            "_view_module_version": "1.5.0",
            "description_tooltip": null,
            "_model_module": "@jupyter-widgets/controls",
            "layout": "IPY_MODEL_84481f936260459c935599e49fbe0237"
          }
        },
        "a5fdd16e5a0f4951846c4cf72b7ad45d": {
          "model_module": "@jupyter-widgets/controls",
          "model_name": "ProgressStyleModel",
          "model_module_version": "1.5.0",
          "state": {
            "_view_name": "StyleView",
            "_model_name": "ProgressStyleModel",
            "description_width": "initial",
            "_view_module": "@jupyter-widgets/base",
            "_model_module_version": "1.5.0",
            "_view_count": null,
            "_view_module_version": "1.2.0",
            "bar_color": null,
            "_model_module": "@jupyter-widgets/controls"
          }
        },
        "0525e99f428645888a72fc1b38cfdbab": {
          "model_module": "@jupyter-widgets/base",
          "model_name": "LayoutModel",
          "model_module_version": "1.2.0",
          "state": {
            "_view_name": "LayoutView",
            "grid_template_rows": null,
            "right": null,
            "justify_content": null,
            "_view_module": "@jupyter-widgets/base",
            "overflow": null,
            "_model_module_version": "1.2.0",
            "_view_count": null,
            "flex_flow": null,
            "width": null,
            "min_width": null,
            "border": null,
            "align_items": null,
            "bottom": null,
            "_model_module": "@jupyter-widgets/base",
            "top": null,
            "grid_column": null,
            "overflow_y": null,
            "overflow_x": null,
            "grid_auto_flow": null,
            "grid_area": null,
            "grid_template_columns": null,
            "flex": null,
            "_model_name": "LayoutModel",
            "justify_items": null,
            "grid_row": null,
            "max_height": null,
            "align_content": null,
            "visibility": null,
            "align_self": null,
            "height": null,
            "min_height": null,
            "padding": null,
            "grid_auto_rows": null,
            "grid_gap": null,
            "max_width": null,
            "order": null,
            "_view_module_version": "1.2.0",
            "grid_template_areas": null,
            "object_position": null,
            "object_fit": null,
            "grid_auto_columns": null,
            "margin": null,
            "display": null,
            "left": null
          }
        },
        "2d7d431929a74e1d8ca0ded002c357ca": {
          "model_module": "@jupyter-widgets/controls",
          "model_name": "DescriptionStyleModel",
          "model_module_version": "1.5.0",
          "state": {
            "_view_name": "StyleView",
            "_model_name": "DescriptionStyleModel",
            "description_width": "",
            "_view_module": "@jupyter-widgets/base",
            "_model_module_version": "1.5.0",
            "_view_count": null,
            "_view_module_version": "1.2.0",
            "_model_module": "@jupyter-widgets/controls"
          }
        },
        "84481f936260459c935599e49fbe0237": {
          "model_module": "@jupyter-widgets/base",
          "model_name": "LayoutModel",
          "model_module_version": "1.2.0",
          "state": {
            "_view_name": "LayoutView",
            "grid_template_rows": null,
            "right": null,
            "justify_content": null,
            "_view_module": "@jupyter-widgets/base",
            "overflow": null,
            "_model_module_version": "1.2.0",
            "_view_count": null,
            "flex_flow": null,
            "width": null,
            "min_width": null,
            "border": null,
            "align_items": null,
            "bottom": null,
            "_model_module": "@jupyter-widgets/base",
            "top": null,
            "grid_column": null,
            "overflow_y": null,
            "overflow_x": null,
            "grid_auto_flow": null,
            "grid_area": null,
            "grid_template_columns": null,
            "flex": null,
            "_model_name": "LayoutModel",
            "justify_items": null,
            "grid_row": null,
            "max_height": null,
            "align_content": null,
            "visibility": null,
            "align_self": null,
            "height": null,
            "min_height": null,
            "padding": null,
            "grid_auto_rows": null,
            "grid_gap": null,
            "max_width": null,
            "order": null,
            "_view_module_version": "1.2.0",
            "grid_template_areas": null,
            "object_position": null,
            "object_fit": null,
            "grid_auto_columns": null,
            "margin": null,
            "display": null,
            "left": null
          }
        },
        "e5d2a67f3b9a4d75bb8e5d52107203c9": {
          "model_module": "@jupyter-widgets/controls",
          "model_name": "HBoxModel",
          "model_module_version": "1.5.0",
          "state": {
            "_view_name": "HBoxView",
            "_dom_classes": [],
            "_model_name": "HBoxModel",
            "_view_module": "@jupyter-widgets/controls",
            "_model_module_version": "1.5.0",
            "_view_count": null,
            "_view_module_version": "1.5.0",
            "box_style": "",
            "layout": "IPY_MODEL_fa7a999773984c06a43b64dc871be56e",
            "_model_module": "@jupyter-widgets/controls",
            "children": [
              "IPY_MODEL_eda97fbe82ab4df890e82eadb57e5957",
              "IPY_MODEL_fc9a22e01a1e4d6483fa5030672d0ac9"
            ]
          }
        },
        "fa7a999773984c06a43b64dc871be56e": {
          "model_module": "@jupyter-widgets/base",
          "model_name": "LayoutModel",
          "model_module_version": "1.2.0",
          "state": {
            "_view_name": "LayoutView",
            "grid_template_rows": null,
            "right": null,
            "justify_content": null,
            "_view_module": "@jupyter-widgets/base",
            "overflow": null,
            "_model_module_version": "1.2.0",
            "_view_count": null,
            "flex_flow": null,
            "width": null,
            "min_width": null,
            "border": null,
            "align_items": null,
            "bottom": null,
            "_model_module": "@jupyter-widgets/base",
            "top": null,
            "grid_column": null,
            "overflow_y": null,
            "overflow_x": null,
            "grid_auto_flow": null,
            "grid_area": null,
            "grid_template_columns": null,
            "flex": null,
            "_model_name": "LayoutModel",
            "justify_items": null,
            "grid_row": null,
            "max_height": null,
            "align_content": null,
            "visibility": null,
            "align_self": null,
            "height": null,
            "min_height": null,
            "padding": null,
            "grid_auto_rows": null,
            "grid_gap": null,
            "max_width": null,
            "order": null,
            "_view_module_version": "1.2.0",
            "grid_template_areas": null,
            "object_position": null,
            "object_fit": null,
            "grid_auto_columns": null,
            "margin": null,
            "display": null,
            "left": null
          }
        },
        "eda97fbe82ab4df890e82eadb57e5957": {
          "model_module": "@jupyter-widgets/controls",
          "model_name": "FloatProgressModel",
          "model_module_version": "1.5.0",
          "state": {
            "_view_name": "ProgressView",
            "style": "IPY_MODEL_7d93aae47cab47b2ac5813be8165ac98",
            "_dom_classes": [],
            "description": "Downloading: 100%",
            "_model_name": "FloatProgressModel",
            "bar_style": "success",
            "max": 466062,
            "_view_module": "@jupyter-widgets/controls",
            "_model_module_version": "1.5.0",
            "value": 466062,
            "_view_count": null,
            "_view_module_version": "1.5.0",
            "orientation": "horizontal",
            "min": 0,
            "description_tooltip": null,
            "_model_module": "@jupyter-widgets/controls",
            "layout": "IPY_MODEL_9007d471c2a0467580b89a4010d4a97b"
          }
        },
        "fc9a22e01a1e4d6483fa5030672d0ac9": {
          "model_module": "@jupyter-widgets/controls",
          "model_name": "HTMLModel",
          "model_module_version": "1.5.0",
          "state": {
            "_view_name": "HTMLView",
            "style": "IPY_MODEL_f2aecbc04497444a8a59c287cfd9bd43",
            "_dom_classes": [],
            "description": "",
            "_model_name": "HTMLModel",
            "placeholder": "​",
            "_view_module": "@jupyter-widgets/controls",
            "_model_module_version": "1.5.0",
            "value": " 466k/466k [00:00&lt;00:00, 5.57MB/s]",
            "_view_count": null,
            "_view_module_version": "1.5.0",
            "description_tooltip": null,
            "_model_module": "@jupyter-widgets/controls",
            "layout": "IPY_MODEL_e78d27e4add14bc48125f4576ebd2fea"
          }
        },
        "7d93aae47cab47b2ac5813be8165ac98": {
          "model_module": "@jupyter-widgets/controls",
          "model_name": "ProgressStyleModel",
          "model_module_version": "1.5.0",
          "state": {
            "_view_name": "StyleView",
            "_model_name": "ProgressStyleModel",
            "description_width": "initial",
            "_view_module": "@jupyter-widgets/base",
            "_model_module_version": "1.5.0",
            "_view_count": null,
            "_view_module_version": "1.2.0",
            "bar_color": null,
            "_model_module": "@jupyter-widgets/controls"
          }
        },
        "9007d471c2a0467580b89a4010d4a97b": {
          "model_module": "@jupyter-widgets/base",
          "model_name": "LayoutModel",
          "model_module_version": "1.2.0",
          "state": {
            "_view_name": "LayoutView",
            "grid_template_rows": null,
            "right": null,
            "justify_content": null,
            "_view_module": "@jupyter-widgets/base",
            "overflow": null,
            "_model_module_version": "1.2.0",
            "_view_count": null,
            "flex_flow": null,
            "width": null,
            "min_width": null,
            "border": null,
            "align_items": null,
            "bottom": null,
            "_model_module": "@jupyter-widgets/base",
            "top": null,
            "grid_column": null,
            "overflow_y": null,
            "overflow_x": null,
            "grid_auto_flow": null,
            "grid_area": null,
            "grid_template_columns": null,
            "flex": null,
            "_model_name": "LayoutModel",
            "justify_items": null,
            "grid_row": null,
            "max_height": null,
            "align_content": null,
            "visibility": null,
            "align_self": null,
            "height": null,
            "min_height": null,
            "padding": null,
            "grid_auto_rows": null,
            "grid_gap": null,
            "max_width": null,
            "order": null,
            "_view_module_version": "1.2.0",
            "grid_template_areas": null,
            "object_position": null,
            "object_fit": null,
            "grid_auto_columns": null,
            "margin": null,
            "display": null,
            "left": null
          }
        },
        "f2aecbc04497444a8a59c287cfd9bd43": {
          "model_module": "@jupyter-widgets/controls",
          "model_name": "DescriptionStyleModel",
          "model_module_version": "1.5.0",
          "state": {
            "_view_name": "StyleView",
            "_model_name": "DescriptionStyleModel",
            "description_width": "",
            "_view_module": "@jupyter-widgets/base",
            "_model_module_version": "1.5.0",
            "_view_count": null,
            "_view_module_version": "1.2.0",
            "_model_module": "@jupyter-widgets/controls"
          }
        },
        "e78d27e4add14bc48125f4576ebd2fea": {
          "model_module": "@jupyter-widgets/base",
          "model_name": "LayoutModel",
          "model_module_version": "1.2.0",
          "state": {
            "_view_name": "LayoutView",
            "grid_template_rows": null,
            "right": null,
            "justify_content": null,
            "_view_module": "@jupyter-widgets/base",
            "overflow": null,
            "_model_module_version": "1.2.0",
            "_view_count": null,
            "flex_flow": null,
            "width": null,
            "min_width": null,
            "border": null,
            "align_items": null,
            "bottom": null,
            "_model_module": "@jupyter-widgets/base",
            "top": null,
            "grid_column": null,
            "overflow_y": null,
            "overflow_x": null,
            "grid_auto_flow": null,
            "grid_area": null,
            "grid_template_columns": null,
            "flex": null,
            "_model_name": "LayoutModel",
            "justify_items": null,
            "grid_row": null,
            "max_height": null,
            "align_content": null,
            "visibility": null,
            "align_self": null,
            "height": null,
            "min_height": null,
            "padding": null,
            "grid_auto_rows": null,
            "grid_gap": null,
            "max_width": null,
            "order": null,
            "_view_module_version": "1.2.0",
            "grid_template_areas": null,
            "object_position": null,
            "object_fit": null,
            "grid_auto_columns": null,
            "margin": null,
            "display": null,
            "left": null
          }
        },
        "24f7c7cf7f83448c8f45030f14941477": {
          "model_module": "@jupyter-widgets/controls",
          "model_name": "HBoxModel",
          "model_module_version": "1.5.0",
          "state": {
            "_view_name": "HBoxView",
            "_dom_classes": [],
            "_model_name": "HBoxModel",
            "_view_module": "@jupyter-widgets/controls",
            "_model_module_version": "1.5.0",
            "_view_count": null,
            "_view_module_version": "1.5.0",
            "box_style": "",
            "layout": "IPY_MODEL_d84be9e2a89a43b2ab4b1b6b9723b89d",
            "_model_module": "@jupyter-widgets/controls",
            "children": [
              "IPY_MODEL_d8bccd06736f4543a3efc9d022cea843",
              "IPY_MODEL_88cccea85ad542999d6184d4f178bcc5"
            ]
          }
        },
        "d84be9e2a89a43b2ab4b1b6b9723b89d": {
          "model_module": "@jupyter-widgets/base",
          "model_name": "LayoutModel",
          "model_module_version": "1.2.0",
          "state": {
            "_view_name": "LayoutView",
            "grid_template_rows": null,
            "right": null,
            "justify_content": null,
            "_view_module": "@jupyter-widgets/base",
            "overflow": null,
            "_model_module_version": "1.2.0",
            "_view_count": null,
            "flex_flow": null,
            "width": null,
            "min_width": null,
            "border": null,
            "align_items": null,
            "bottom": null,
            "_model_module": "@jupyter-widgets/base",
            "top": null,
            "grid_column": null,
            "overflow_y": null,
            "overflow_x": null,
            "grid_auto_flow": null,
            "grid_area": null,
            "grid_template_columns": null,
            "flex": null,
            "_model_name": "LayoutModel",
            "justify_items": null,
            "grid_row": null,
            "max_height": null,
            "align_content": null,
            "visibility": null,
            "align_self": null,
            "height": null,
            "min_height": null,
            "padding": null,
            "grid_auto_rows": null,
            "grid_gap": null,
            "max_width": null,
            "order": null,
            "_view_module_version": "1.2.0",
            "grid_template_areas": null,
            "object_position": null,
            "object_fit": null,
            "grid_auto_columns": null,
            "margin": null,
            "display": null,
            "left": null
          }
        },
        "d8bccd06736f4543a3efc9d022cea843": {
          "model_module": "@jupyter-widgets/controls",
          "model_name": "FloatProgressModel",
          "model_module_version": "1.5.0",
          "state": {
            "_view_name": "ProgressView",
            "style": "IPY_MODEL_86d094008e6445e9b288cc53a660f1e2",
            "_dom_classes": [],
            "description": "Downloading: 100%",
            "_model_name": "FloatProgressModel",
            "bar_style": "success",
            "max": 570,
            "_view_module": "@jupyter-widgets/controls",
            "_model_module_version": "1.5.0",
            "value": 570,
            "_view_count": null,
            "_view_module_version": "1.5.0",
            "orientation": "horizontal",
            "min": 0,
            "description_tooltip": null,
            "_model_module": "@jupyter-widgets/controls",
            "layout": "IPY_MODEL_e5fd82e778aa430e804bd31884ff6f5d"
          }
        },
        "88cccea85ad542999d6184d4f178bcc5": {
          "model_module": "@jupyter-widgets/controls",
          "model_name": "HTMLModel",
          "model_module_version": "1.5.0",
          "state": {
            "_view_name": "HTMLView",
            "style": "IPY_MODEL_d43d69a33de4481a95df56c508fa8eb7",
            "_dom_classes": [],
            "description": "",
            "_model_name": "HTMLModel",
            "placeholder": "​",
            "_view_module": "@jupyter-widgets/controls",
            "_model_module_version": "1.5.0",
            "value": " 570/570 [40:18&lt;00:00, 4.24s/B]",
            "_view_count": null,
            "_view_module_version": "1.5.0",
            "description_tooltip": null,
            "_model_module": "@jupyter-widgets/controls",
            "layout": "IPY_MODEL_2ac3e4da1d0d47eeacac7754c863aebe"
          }
        },
        "86d094008e6445e9b288cc53a660f1e2": {
          "model_module": "@jupyter-widgets/controls",
          "model_name": "ProgressStyleModel",
          "model_module_version": "1.5.0",
          "state": {
            "_view_name": "StyleView",
            "_model_name": "ProgressStyleModel",
            "description_width": "initial",
            "_view_module": "@jupyter-widgets/base",
            "_model_module_version": "1.5.0",
            "_view_count": null,
            "_view_module_version": "1.2.0",
            "bar_color": null,
            "_model_module": "@jupyter-widgets/controls"
          }
        },
        "e5fd82e778aa430e804bd31884ff6f5d": {
          "model_module": "@jupyter-widgets/base",
          "model_name": "LayoutModel",
          "model_module_version": "1.2.0",
          "state": {
            "_view_name": "LayoutView",
            "grid_template_rows": null,
            "right": null,
            "justify_content": null,
            "_view_module": "@jupyter-widgets/base",
            "overflow": null,
            "_model_module_version": "1.2.0",
            "_view_count": null,
            "flex_flow": null,
            "width": null,
            "min_width": null,
            "border": null,
            "align_items": null,
            "bottom": null,
            "_model_module": "@jupyter-widgets/base",
            "top": null,
            "grid_column": null,
            "overflow_y": null,
            "overflow_x": null,
            "grid_auto_flow": null,
            "grid_area": null,
            "grid_template_columns": null,
            "flex": null,
            "_model_name": "LayoutModel",
            "justify_items": null,
            "grid_row": null,
            "max_height": null,
            "align_content": null,
            "visibility": null,
            "align_self": null,
            "height": null,
            "min_height": null,
            "padding": null,
            "grid_auto_rows": null,
            "grid_gap": null,
            "max_width": null,
            "order": null,
            "_view_module_version": "1.2.0",
            "grid_template_areas": null,
            "object_position": null,
            "object_fit": null,
            "grid_auto_columns": null,
            "margin": null,
            "display": null,
            "left": null
          }
        },
        "d43d69a33de4481a95df56c508fa8eb7": {
          "model_module": "@jupyter-widgets/controls",
          "model_name": "DescriptionStyleModel",
          "model_module_version": "1.5.0",
          "state": {
            "_view_name": "StyleView",
            "_model_name": "DescriptionStyleModel",
            "description_width": "",
            "_view_module": "@jupyter-widgets/base",
            "_model_module_version": "1.5.0",
            "_view_count": null,
            "_view_module_version": "1.2.0",
            "_model_module": "@jupyter-widgets/controls"
          }
        },
        "2ac3e4da1d0d47eeacac7754c863aebe": {
          "model_module": "@jupyter-widgets/base",
          "model_name": "LayoutModel",
          "model_module_version": "1.2.0",
          "state": {
            "_view_name": "LayoutView",
            "grid_template_rows": null,
            "right": null,
            "justify_content": null,
            "_view_module": "@jupyter-widgets/base",
            "overflow": null,
            "_model_module_version": "1.2.0",
            "_view_count": null,
            "flex_flow": null,
            "width": null,
            "min_width": null,
            "border": null,
            "align_items": null,
            "bottom": null,
            "_model_module": "@jupyter-widgets/base",
            "top": null,
            "grid_column": null,
            "overflow_y": null,
            "overflow_x": null,
            "grid_auto_flow": null,
            "grid_area": null,
            "grid_template_columns": null,
            "flex": null,
            "_model_name": "LayoutModel",
            "justify_items": null,
            "grid_row": null,
            "max_height": null,
            "align_content": null,
            "visibility": null,
            "align_self": null,
            "height": null,
            "min_height": null,
            "padding": null,
            "grid_auto_rows": null,
            "grid_gap": null,
            "max_width": null,
            "order": null,
            "_view_module_version": "1.2.0",
            "grid_template_areas": null,
            "object_position": null,
            "object_fit": null,
            "grid_auto_columns": null,
            "margin": null,
            "display": null,
            "left": null
          }
        },
        "6ec2a9de28ec460f9bacf3c49740245e": {
          "model_module": "@jupyter-widgets/controls",
          "model_name": "HBoxModel",
          "model_module_version": "1.5.0",
          "state": {
            "_view_name": "HBoxView",
            "_dom_classes": [],
            "_model_name": "HBoxModel",
            "_view_module": "@jupyter-widgets/controls",
            "_model_module_version": "1.5.0",
            "_view_count": null,
            "_view_module_version": "1.5.0",
            "box_style": "",
            "layout": "IPY_MODEL_0c982ed0fc52493fa906fa7589739db6",
            "_model_module": "@jupyter-widgets/controls",
            "children": [
              "IPY_MODEL_799b722b656847cf82f937f7281565d5",
              "IPY_MODEL_e46869517db64b2c8be58ecd215d1e8e"
            ]
          }
        },
        "0c982ed0fc52493fa906fa7589739db6": {
          "model_module": "@jupyter-widgets/base",
          "model_name": "LayoutModel",
          "model_module_version": "1.2.0",
          "state": {
            "_view_name": "LayoutView",
            "grid_template_rows": null,
            "right": null,
            "justify_content": null,
            "_view_module": "@jupyter-widgets/base",
            "overflow": null,
            "_model_module_version": "1.2.0",
            "_view_count": null,
            "flex_flow": null,
            "width": null,
            "min_width": null,
            "border": null,
            "align_items": null,
            "bottom": null,
            "_model_module": "@jupyter-widgets/base",
            "top": null,
            "grid_column": null,
            "overflow_y": null,
            "overflow_x": null,
            "grid_auto_flow": null,
            "grid_area": null,
            "grid_template_columns": null,
            "flex": null,
            "_model_name": "LayoutModel",
            "justify_items": null,
            "grid_row": null,
            "max_height": null,
            "align_content": null,
            "visibility": null,
            "align_self": null,
            "height": null,
            "min_height": null,
            "padding": null,
            "grid_auto_rows": null,
            "grid_gap": null,
            "max_width": null,
            "order": null,
            "_view_module_version": "1.2.0",
            "grid_template_areas": null,
            "object_position": null,
            "object_fit": null,
            "grid_auto_columns": null,
            "margin": null,
            "display": null,
            "left": null
          }
        },
        "799b722b656847cf82f937f7281565d5": {
          "model_module": "@jupyter-widgets/controls",
          "model_name": "FloatProgressModel",
          "model_module_version": "1.5.0",
          "state": {
            "_view_name": "ProgressView",
            "style": "IPY_MODEL_1058fb4b9d4c4ee198a162c51996e243",
            "_dom_classes": [],
            "description": "Downloading: 100%",
            "_model_name": "FloatProgressModel",
            "bar_style": "success",
            "max": 440473133,
            "_view_module": "@jupyter-widgets/controls",
            "_model_module_version": "1.5.0",
            "value": 440473133,
            "_view_count": null,
            "_view_module_version": "1.5.0",
            "orientation": "horizontal",
            "min": 0,
            "description_tooltip": null,
            "_model_module": "@jupyter-widgets/controls",
            "layout": "IPY_MODEL_77d6101aab9e47e3a1d3a442eea3c4a1"
          }
        },
        "e46869517db64b2c8be58ecd215d1e8e": {
          "model_module": "@jupyter-widgets/controls",
          "model_name": "HTMLModel",
          "model_module_version": "1.5.0",
          "state": {
            "_view_name": "HTMLView",
            "style": "IPY_MODEL_ea4edfff1a8848858358d9d508b9c7ca",
            "_dom_classes": [],
            "description": "",
            "_model_name": "HTMLModel",
            "placeholder": "​",
            "_view_module": "@jupyter-widgets/controls",
            "_model_module_version": "1.5.0",
            "value": " 440M/440M [00:08&lt;00:00, 49.2MB/s]",
            "_view_count": null,
            "_view_module_version": "1.5.0",
            "description_tooltip": null,
            "_model_module": "@jupyter-widgets/controls",
            "layout": "IPY_MODEL_ab53195eecbb4d969feb8863bcd94854"
          }
        },
        "1058fb4b9d4c4ee198a162c51996e243": {
          "model_module": "@jupyter-widgets/controls",
          "model_name": "ProgressStyleModel",
          "model_module_version": "1.5.0",
          "state": {
            "_view_name": "StyleView",
            "_model_name": "ProgressStyleModel",
            "description_width": "initial",
            "_view_module": "@jupyter-widgets/base",
            "_model_module_version": "1.5.0",
            "_view_count": null,
            "_view_module_version": "1.2.0",
            "bar_color": null,
            "_model_module": "@jupyter-widgets/controls"
          }
        },
        "77d6101aab9e47e3a1d3a442eea3c4a1": {
          "model_module": "@jupyter-widgets/base",
          "model_name": "LayoutModel",
          "model_module_version": "1.2.0",
          "state": {
            "_view_name": "LayoutView",
            "grid_template_rows": null,
            "right": null,
            "justify_content": null,
            "_view_module": "@jupyter-widgets/base",
            "overflow": null,
            "_model_module_version": "1.2.0",
            "_view_count": null,
            "flex_flow": null,
            "width": null,
            "min_width": null,
            "border": null,
            "align_items": null,
            "bottom": null,
            "_model_module": "@jupyter-widgets/base",
            "top": null,
            "grid_column": null,
            "overflow_y": null,
            "overflow_x": null,
            "grid_auto_flow": null,
            "grid_area": null,
            "grid_template_columns": null,
            "flex": null,
            "_model_name": "LayoutModel",
            "justify_items": null,
            "grid_row": null,
            "max_height": null,
            "align_content": null,
            "visibility": null,
            "align_self": null,
            "height": null,
            "min_height": null,
            "padding": null,
            "grid_auto_rows": null,
            "grid_gap": null,
            "max_width": null,
            "order": null,
            "_view_module_version": "1.2.0",
            "grid_template_areas": null,
            "object_position": null,
            "object_fit": null,
            "grid_auto_columns": null,
            "margin": null,
            "display": null,
            "left": null
          }
        },
        "ea4edfff1a8848858358d9d508b9c7ca": {
          "model_module": "@jupyter-widgets/controls",
          "model_name": "DescriptionStyleModel",
          "model_module_version": "1.5.0",
          "state": {
            "_view_name": "StyleView",
            "_model_name": "DescriptionStyleModel",
            "description_width": "",
            "_view_module": "@jupyter-widgets/base",
            "_model_module_version": "1.5.0",
            "_view_count": null,
            "_view_module_version": "1.2.0",
            "_model_module": "@jupyter-widgets/controls"
          }
        },
        "ab53195eecbb4d969feb8863bcd94854": {
          "model_module": "@jupyter-widgets/base",
          "model_name": "LayoutModel",
          "model_module_version": "1.2.0",
          "state": {
            "_view_name": "LayoutView",
            "grid_template_rows": null,
            "right": null,
            "justify_content": null,
            "_view_module": "@jupyter-widgets/base",
            "overflow": null,
            "_model_module_version": "1.2.0",
            "_view_count": null,
            "flex_flow": null,
            "width": null,
            "min_width": null,
            "border": null,
            "align_items": null,
            "bottom": null,
            "_model_module": "@jupyter-widgets/base",
            "top": null,
            "grid_column": null,
            "overflow_y": null,
            "overflow_x": null,
            "grid_auto_flow": null,
            "grid_area": null,
            "grid_template_columns": null,
            "flex": null,
            "_model_name": "LayoutModel",
            "justify_items": null,
            "grid_row": null,
            "max_height": null,
            "align_content": null,
            "visibility": null,
            "align_self": null,
            "height": null,
            "min_height": null,
            "padding": null,
            "grid_auto_rows": null,
            "grid_gap": null,
            "max_width": null,
            "order": null,
            "_view_module_version": "1.2.0",
            "grid_template_areas": null,
            "object_position": null,
            "object_fit": null,
            "grid_auto_columns": null,
            "margin": null,
            "display": null,
            "left": null
          }
        }
      }
    }
  },
  "cells": [
    {
      "cell_type": "markdown",
      "metadata": {
        "id": "F5yOhCiDbAbB"
      },
      "source": [
        "# Installation and System Check"
      ]
    },
    {
      "cell_type": "markdown",
      "metadata": {
        "id": "bdkMu20mFZjh"
      },
      "source": [
        "Installing the transformers library and checking GPU availability."
      ]
    },
    {
      "cell_type": "code",
      "metadata": {
        "colab": {
          "base_uri": "https://localhost:8080/"
        },
        "id": "nRgToewvcDsy",
        "outputId": "3a05703b-2614-4dae-f73b-3bfd8e4fdfeb"
      },
      "source": [
        "!pip install transformers"
      ],
      "execution_count": null,
      "outputs": [
        {
          "output_type": "stream",
          "text": [
            "Collecting transformers\n",
            "\u001b[?25l  Downloading https://files.pythonhosted.org/packages/d5/43/cfe4ee779bbd6a678ac6a97c5a5cdeb03c35f9eaebbb9720b036680f9a2d/transformers-4.6.1-py3-none-any.whl (2.2MB)\n",
            "\u001b[K     |████████████████████████████████| 2.3MB 23.6MB/s \n",
            "\u001b[?25hRequirement already satisfied: importlib-metadata; python_version < \"3.8\" in /usr/local/lib/python3.7/dist-packages (from transformers) (4.0.1)\n",
            "Collecting huggingface-hub==0.0.8\n",
            "  Downloading https://files.pythonhosted.org/packages/a1/88/7b1e45720ecf59c6c6737ff332f41c955963090a18e72acbcbeac6b25e86/huggingface_hub-0.0.8-py3-none-any.whl\n",
            "Requirement already satisfied: tqdm>=4.27 in /usr/local/lib/python3.7/dist-packages (from transformers) (4.41.1)\n",
            "Requirement already satisfied: requests in /usr/local/lib/python3.7/dist-packages (from transformers) (2.23.0)\n",
            "Collecting tokenizers<0.11,>=0.10.1\n",
            "\u001b[?25l  Downloading https://files.pythonhosted.org/packages/d4/e2/df3543e8ffdab68f5acc73f613de9c2b155ac47f162e725dcac87c521c11/tokenizers-0.10.3-cp37-cp37m-manylinux_2_5_x86_64.manylinux1_x86_64.manylinux_2_12_x86_64.manylinux2010_x86_64.whl (3.3MB)\n",
            "\u001b[K     |████████████████████████████████| 3.3MB 49.5MB/s \n",
            "\u001b[?25hRequirement already satisfied: regex!=2019.12.17 in /usr/local/lib/python3.7/dist-packages (from transformers) (2019.12.20)\n",
            "Requirement already satisfied: packaging in /usr/local/lib/python3.7/dist-packages (from transformers) (20.9)\n",
            "Requirement already satisfied: filelock in /usr/local/lib/python3.7/dist-packages (from transformers) (3.0.12)\n",
            "Requirement already satisfied: numpy>=1.17 in /usr/local/lib/python3.7/dist-packages (from transformers) (1.19.5)\n",
            "Collecting sacremoses\n",
            "\u001b[?25l  Downloading https://files.pythonhosted.org/packages/75/ee/67241dc87f266093c533a2d4d3d69438e57d7a90abb216fa076e7d475d4a/sacremoses-0.0.45-py3-none-any.whl (895kB)\n",
            "\u001b[K     |████████████████████████████████| 901kB 50.3MB/s \n",
            "\u001b[?25hRequirement already satisfied: typing-extensions>=3.6.4; python_version < \"3.8\" in /usr/local/lib/python3.7/dist-packages (from importlib-metadata; python_version < \"3.8\"->transformers) (3.7.4.3)\n",
            "Requirement already satisfied: zipp>=0.5 in /usr/local/lib/python3.7/dist-packages (from importlib-metadata; python_version < \"3.8\"->transformers) (3.4.1)\n",
            "Requirement already satisfied: urllib3!=1.25.0,!=1.25.1,<1.26,>=1.21.1 in /usr/local/lib/python3.7/dist-packages (from requests->transformers) (1.24.3)\n",
            "Requirement already satisfied: chardet<4,>=3.0.2 in /usr/local/lib/python3.7/dist-packages (from requests->transformers) (3.0.4)\n",
            "Requirement already satisfied: certifi>=2017.4.17 in /usr/local/lib/python3.7/dist-packages (from requests->transformers) (2020.12.5)\n",
            "Requirement already satisfied: idna<3,>=2.5 in /usr/local/lib/python3.7/dist-packages (from requests->transformers) (2.10)\n",
            "Requirement already satisfied: pyparsing>=2.0.2 in /usr/local/lib/python3.7/dist-packages (from packaging->transformers) (2.4.7)\n",
            "Requirement already satisfied: click in /usr/local/lib/python3.7/dist-packages (from sacremoses->transformers) (7.1.2)\n",
            "Requirement already satisfied: joblib in /usr/local/lib/python3.7/dist-packages (from sacremoses->transformers) (1.0.1)\n",
            "Requirement already satisfied: six in /usr/local/lib/python3.7/dist-packages (from sacremoses->transformers) (1.15.0)\n",
            "Installing collected packages: huggingface-hub, tokenizers, sacremoses, transformers\n",
            "Successfully installed huggingface-hub-0.0.8 sacremoses-0.0.45 tokenizers-0.10.3 transformers-4.6.1\n"
          ],
          "name": "stdout"
        }
      ]
    },
    {
      "cell_type": "code",
      "metadata": {
        "id": "sjhQ1ZrMZDlR"
      },
      "source": [
        "import numpy as np"
      ],
      "execution_count": null,
      "outputs": []
    },
    {
      "cell_type": "code",
      "metadata": {
        "colab": {
          "base_uri": "https://localhost:8080/"
        },
        "id": "fGGgE99zbYRY",
        "outputId": "0319afd3-3853-4c39-96e1-58aa208d5fcc"
      },
      "source": [
        "import torch\n",
        "\n",
        "# If there's a GPU available...\n",
        "if torch.cuda.is_available():    \n",
        "\n",
        "    # Tell PyTorch to use the GPU.    \n",
        "    device = torch.device(\"cuda\")\n",
        "\n",
        "    print('There are %d GPU(s) available.' % torch.cuda.device_count())\n",
        "\n",
        "    print('We will use the GPU:', torch.cuda.get_device_name(0))\n",
        "\n",
        "# If not...\n",
        "else:\n",
        "    print('No GPU available, using the CPU instead.')\n",
        "    device = torch.device(\"cpu\")"
      ],
      "execution_count": null,
      "outputs": [
        {
          "output_type": "stream",
          "text": [
            "There are 1 GPU(s) available.\n",
            "We will use the GPU: Tesla T4\n"
          ],
          "name": "stdout"
        }
      ]
    },
    {
      "cell_type": "markdown",
      "metadata": {
        "id": "nTC_HrpkE92J"
      },
      "source": [
        "# Data Pre-processing"
      ]
    },
    {
      "cell_type": "markdown",
      "metadata": {
        "id": "SxHgV9fwFNli"
      },
      "source": [
        "## Reading train"
      ]
    },
    {
      "cell_type": "code",
      "metadata": {
        "id": "0mCL4xtCbAbI"
      },
      "source": [
        "import pandas as pd\n",
        "from sklearn.datasets import fetch_20newsgroups"
      ],
      "execution_count": null,
      "outputs": []
    },
    {
      "cell_type": "markdown",
      "metadata": {
        "id": "AGrDN4eRVeod"
      },
      "source": [
        "Version 2: keep headers"
      ]
    },
    {
      "cell_type": "code",
      "metadata": {
        "id": "HIUIaMLQ5RUM"
      },
      "source": [
        "newsgroups_train = fetch_20newsgroups(remove=('footers', 'quotes'), subset='train')"
      ],
      "execution_count": null,
      "outputs": []
    },
    {
      "cell_type": "code",
      "metadata": {
        "id": "GKj2bhTobAbJ"
      },
      "source": [
        "df = pd.DataFrame()\n",
        "df['data'] = newsgroups_train['data']\n",
        "df['target'] = newsgroups_train['target']"
      ],
      "execution_count": null,
      "outputs": []
    },
    {
      "cell_type": "markdown",
      "metadata": {
        "id": "yIQM5uin6_8J"
      },
      "source": [
        "## Read All"
      ]
    },
    {
      "cell_type": "code",
      "metadata": {
        "id": "0N7a9j0AVA2I"
      },
      "source": [
        "import pandas as pd\n",
        "from sklearn.datasets import fetch_20newsgroups"
      ],
      "execution_count": null,
      "outputs": []
    },
    {
      "cell_type": "markdown",
      "metadata": {
        "id": "I94JOxG4ZNE9"
      },
      "source": [
        "Change: headers removed"
      ]
    },
    {
      "cell_type": "code",
      "metadata": {
        "id": "IoNdOGEX65N5",
        "colab": {
          "base_uri": "https://localhost:8080/"
        },
        "outputId": "0a42ae7f-c467-4032-bb53-9215aa91bdbb"
      },
      "source": [
        "newsgroups = fetch_20newsgroups(remove=('footers', 'quotes'), subset='all')"
      ],
      "execution_count": null,
      "outputs": [
        {
          "output_type": "stream",
          "text": [
            "Downloading 20news dataset. This may take a few minutes.\n",
            "Downloading dataset from https://ndownloader.figshare.com/files/5975967 (14 MB)\n"
          ],
          "name": "stderr"
        }
      ]
    },
    {
      "cell_type": "code",
      "metadata": {
        "id": "kFbFwRwm69U5"
      },
      "source": [
        "df = pd.DataFrame()\n",
        "df['data'] = newsgroups['data']\n",
        "df['target'] = newsgroups['target']"
      ],
      "execution_count": null,
      "outputs": []
    },
    {
      "cell_type": "markdown",
      "metadata": {
        "id": "PAHFEwjk6xDY"
      },
      "source": [
        "## Train/Validation/Test Split"
      ]
    },
    {
      "cell_type": "code",
      "metadata": {
        "id": "KDjFz43vAVAm"
      },
      "source": [
        "from sklearn.model_selection import train_test_split"
      ],
      "execution_count": null,
      "outputs": []
    },
    {
      "cell_type": "code",
      "metadata": {
        "id": "Ea6n72GZAVi8"
      },
      "source": [
        "df, df_test = train_test_split(df, test_size=0.1, random_state=42)"
      ],
      "execution_count": null,
      "outputs": []
    },
    {
      "cell_type": "code",
      "metadata": {
        "colab": {
          "base_uri": "https://localhost:8080/"
        },
        "id": "FTkXObmVBDW9",
        "outputId": "3e6cfe2e-4c93-4bb0-ac1d-130a2a524d5a"
      },
      "source": [
        "df['target'].value_counts()"
      ],
      "execution_count": null,
      "outputs": [
        {
          "output_type": "execute_result",
          "data": {
            "text/plain": [
              "14    913\n",
              "8     910\n",
              "10    904\n",
              "15    898\n",
              "3     896\n",
              "13    891\n",
              "9     890\n",
              "5     888\n",
              "7     887\n",
              "11    886\n",
              "6     877\n",
              "12    875\n",
              "2     874\n",
              "1     871\n",
              "4     859\n",
              "17    850\n",
              "16    817\n",
              "0     726\n",
              "18    696\n",
              "19    553\n",
              "Name: target, dtype: int64"
            ]
          },
          "metadata": {
            "tags": []
          },
          "execution_count": 11
        }
      ]
    },
    {
      "cell_type": "markdown",
      "metadata": {
        "id": "RRdTiDwGbAbJ"
      },
      "source": [
        "## Cleaning"
      ]
    },
    {
      "cell_type": "markdown",
      "metadata": {
        "id": "yb1FKH3WFoe_"
      },
      "source": [
        "Deleting special characters from the text documents.\n"
      ]
    },
    {
      "cell_type": "code",
      "metadata": {
        "colab": {
          "base_uri": "https://localhost:8080/"
        },
        "id": "GwJ3ciV1bAbJ",
        "outputId": "183795f8-0826-4fe9-97a9-62a342722f46"
      },
      "source": [
        "df['data'] = df['data'].apply(lambda x: x.replace(\"\\n\", \"\").replace(\"-\", \"\").replace(\"....\", \"\")) "
      ],
      "execution_count": null,
      "outputs": [
        {
          "output_type": "stream",
          "text": [
            "/usr/local/lib/python3.7/dist-packages/ipykernel_launcher.py:1: SettingWithCopyWarning: \n",
            "A value is trying to be set on a copy of a slice from a DataFrame.\n",
            "Try using .loc[row_indexer,col_indexer] = value instead\n",
            "\n",
            "See the caveats in the documentation: https://pandas.pydata.org/pandas-docs/stable/user_guide/indexing.html#returning-a-view-versus-a-copy\n",
            "  \"\"\"Entry point for launching an IPython kernel.\n"
          ],
          "name": "stderr"
        }
      ]
    },
    {
      "cell_type": "markdown",
      "metadata": {
        "id": "IgAdGjL6bAbK"
      },
      "source": [
        "Deleting missing values."
      ]
    },
    {
      "cell_type": "code",
      "metadata": {
        "id": "ioHEkLcmbAbK"
      },
      "source": [
        "df = df.drop(df[df['data']==''].index)"
      ],
      "execution_count": null,
      "outputs": []
    },
    {
      "cell_type": "markdown",
      "metadata": {
        "id": "Oje6nZeobAbL"
      },
      "source": [
        "### Splitting the documents into *n* equal parts"
      ]
    },
    {
      "cell_type": "markdown",
      "metadata": {
        "id": "ZP5TA_vmbAbM"
      },
      "source": [
        "Defined functions:\n",
        "\n",
        "\n",
        "*   **split_doc**: splits the document into *n* equal parts based on the **threshold** (number of words) and returns the the list of shorter documents\n",
        "*   **count_len**: returns the number of documents where the word count exceeds the given threshold\n",
        "*   **split_df**: splits the documents in the *data* column of a dataframe based on a given **threshold** (number of words) and returns the splitted parts of the document while saving a list of indeces which need to be removed (records which exceed the threshold)\n",
        "\n"
      ]
    },
    {
      "cell_type": "code",
      "metadata": {
        "id": "KbdHAVlabAbM"
      },
      "source": [
        "def split_doc(document, threshold):\n",
        "    #split the document into words\n",
        "    splitted_doc = document.split()\n",
        "    #doc length\n",
        "    length_original = len(splitted_doc)\n",
        "    length = length_original\n",
        "    n_groups = length // threshold\n",
        "    n_words = length // (n_groups + 1) \n",
        "    s = ' '\n",
        "    result = []\n",
        "    i = 0\n",
        "    while length > 0:\n",
        "        if length >= n_words:\n",
        "            new_doc = [splitted_doc[j] for j in range(i*n_words, i*n_words + n_words)]\n",
        "            result.append(s.join(new_doc))\n",
        "            length = length - n_words\n",
        "        else:\n",
        "            new_doc = [splitted_doc[j] for j in range(i*n_words, length_original)]\n",
        "            result.append(s.join(new_doc))\n",
        "            length = 0\n",
        "\n",
        "        i = i + 1\n",
        "    return result"
      ],
      "execution_count": null,
      "outputs": []
    },
    {
      "cell_type": "code",
      "metadata": {
        "id": "wd2LR9-hbAbM"
      },
      "source": [
        "def count_len(df, threshold):\n",
        "    count = 0\n",
        "    for index, row in df.iterrows():\n",
        "        if len(row['data'].split())>threshold:\n",
        "            count = count + 1\n",
        "            #print(len(row['data'].split()))\n",
        "    return count"
      ],
      "execution_count": null,
      "outputs": []
    },
    {
      "cell_type": "code",
      "metadata": {
        "id": "g-FylF9DbAbN"
      },
      "source": [
        "def split_df(dataframe, threshold):\n",
        "\n",
        "    index_list = []\n",
        "    data = []\n",
        "    for index, row in dataframe.iterrows():\n",
        "        if len(row['data'].split())>threshold:\n",
        "            splitted_doc_list = split_doc(row['data'], threshold)\n",
        "            target = row['target']\n",
        "            for doc in splitted_doc_list:\n",
        "                data.append({'data': doc, 'target': target})\n",
        "            index_list.append(index)\n",
        "    return index_list, data           \n",
        "    "
      ],
      "execution_count": null,
      "outputs": []
    },
    {
      "cell_type": "code",
      "metadata": {
        "id": "Xlr67r_IbAbN"
      },
      "source": [
        "threshold = 150\n",
        "index_list, data = split_df(df, threshold)\n",
        "df = df.drop(index_list)\n",
        "df = df.append(data, True)\n"
      ],
      "execution_count": null,
      "outputs": []
    },
    {
      "cell_type": "code",
      "metadata": {
        "colab": {
          "base_uri": "https://localhost:8080/"
        },
        "id": "dNSC3JpybAbO",
        "outputId": "d81e4016-46a8-43ca-f9b7-587146c729ef"
      },
      "source": [
        "count_len(df, 200)"
      ],
      "execution_count": null,
      "outputs": [
        {
          "output_type": "execute_result",
          "data": {
            "text/plain": [
              "0"
            ]
          },
          "metadata": {
            "tags": []
          },
          "execution_count": 19
        }
      ]
    },
    {
      "cell_type": "markdown",
      "metadata": {
        "id": "QLfotHrcI0j8"
      },
      "source": [
        "### Filtering encoded documents"
      ]
    },
    {
      "cell_type": "markdown",
      "metadata": {
        "id": "h1YXnxd9LYki"
      },
      "source": [
        "There are some encoded documents in the data set which need to be filtered. These will be filtered based on the ratio between the number of characters and number of words in the documents. This ratio is around 5 in the english language."
      ]
    },
    {
      "cell_type": "markdown",
      "metadata": {
        "id": "Wtgx96VeMNkT"
      },
      "source": [
        "Defined functions:\n",
        "\n",
        "\n",
        "*   **chars_for_words**: returns a Boolean value which is **True** if the ratio for the given document is above threshold (number of characters and number of words ratio)\n",
        "*   **count_charlen**: count the number of documents in a dataframe where the character count exceeds a given threshold\n",
        "*   **filter_encoded**: returns the indeces of records where the character-words ratio exceeds a given threshold\n",
        "\n"
      ]
    },
    {
      "cell_type": "code",
      "metadata": {
        "id": "4kbOOxRZbAbP"
      },
      "source": [
        "def chars_for_words(doc, threshold):\n",
        "    n_words = len(doc.split())\n",
        "    n_chars = len(doc)\n",
        "    avg = n_chars/max(n_words,1)\n",
        "    if (avg > threshold):\n",
        "        return True\n",
        "    else:\n",
        "        False"
      ],
      "execution_count": null,
      "outputs": []
    },
    {
      "cell_type": "code",
      "metadata": {
        "id": "5ljlAnpSbAbP"
      },
      "source": [
        "def count_charlen(df, threshold):\n",
        "    count = 0\n",
        "    index_list = []\n",
        "    for index, row in df.iterrows():\n",
        "        if (len(row['data'])>threshold):\n",
        "            count = count + 1\n",
        "            index_list.append(index)\n",
        "    return count, index_list"
      ],
      "execution_count": null,
      "outputs": []
    },
    {
      "cell_type": "code",
      "metadata": {
        "id": "MAlKRJ2EbAbQ"
      },
      "source": [
        "def filter_encoded(df, threshold):\n",
        "    index_list = []\n",
        "    for index, row in df.iterrows():\n",
        "        if chars_for_words(row['data'], threshold):\n",
        "            index_list.append(index)\n",
        "    return index_list"
      ],
      "execution_count": null,
      "outputs": []
    },
    {
      "cell_type": "code",
      "metadata": {
        "id": "p6SeoO5LbAbQ"
      },
      "source": [
        "i = filter_encoded(df,9)"
      ],
      "execution_count": null,
      "outputs": []
    },
    {
      "cell_type": "code",
      "metadata": {
        "id": "O2_-7PcWbAbR"
      },
      "source": [
        "df = df.drop(i)"
      ],
      "execution_count": null,
      "outputs": []
    },
    {
      "cell_type": "markdown",
      "metadata": {
        "id": "sTlo51MGbAbR"
      },
      "source": [
        "# BERT Model"
      ]
    },
    {
      "cell_type": "code",
      "metadata": {
        "id": "p6ombBcPbAbS"
      },
      "source": [
        "from transformers import BertTokenizer"
      ],
      "execution_count": null,
      "outputs": []
    },
    {
      "cell_type": "markdown",
      "metadata": {
        "id": "vXCKzJy_an2-"
      },
      "source": [
        "Change: bert-cased"
      ]
    },
    {
      "cell_type": "code",
      "metadata": {
        "id": "TG7FxCaxbAbS",
        "colab": {
          "base_uri": "https://localhost:8080/",
          "height": 164,
          "referenced_widgets": [
            "5fbd82bc970944a4a2dd6f0ab0e16cad",
            "f9c95cacbed04192a0e384275d85b342",
            "8e292bb90a0947479ac1e4d1cc45454d",
            "fe23a4a844aa44d0911a06288a952651",
            "e7bdc9b542a84ba7a299c64d7b8fd752",
            "63dc04393df54507ad27165a7d4b6424",
            "871b3e5b1e274aa3b299b11f2f556eee",
            "4bfab1adad354b719ddc6e602d80a121",
            "0fb3862d06ca43809ec15d06c0ad1488",
            "7557482ba3b64f5298948e8a7b166b38",
            "f9def5495c544478a76a5ddccfb3581e",
            "36cf75aa25874128bef4e3f173ccebba",
            "a5fdd16e5a0f4951846c4cf72b7ad45d",
            "0525e99f428645888a72fc1b38cfdbab",
            "2d7d431929a74e1d8ca0ded002c357ca",
            "84481f936260459c935599e49fbe0237",
            "e5d2a67f3b9a4d75bb8e5d52107203c9",
            "fa7a999773984c06a43b64dc871be56e",
            "eda97fbe82ab4df890e82eadb57e5957",
            "fc9a22e01a1e4d6483fa5030672d0ac9",
            "7d93aae47cab47b2ac5813be8165ac98",
            "9007d471c2a0467580b89a4010d4a97b",
            "f2aecbc04497444a8a59c287cfd9bd43",
            "e78d27e4add14bc48125f4576ebd2fea"
          ]
        },
        "outputId": "1f9af3b3-0d5a-4737-bb33-eeba8a7bdfdf"
      },
      "source": [
        "tokenizer = BertTokenizer.from_pretrained('bert-base-uncased')"
      ],
      "execution_count": null,
      "outputs": [
        {
          "output_type": "display_data",
          "data": {
            "application/vnd.jupyter.widget-view+json": {
              "model_id": "5fbd82bc970944a4a2dd6f0ab0e16cad",
              "version_minor": 0,
              "version_major": 2
            },
            "text/plain": [
              "HBox(children=(FloatProgress(value=0.0, description='Downloading', max=231508.0, style=ProgressStyle(descripti…"
            ]
          },
          "metadata": {
            "tags": []
          }
        },
        {
          "output_type": "stream",
          "text": [
            "\n"
          ],
          "name": "stdout"
        },
        {
          "output_type": "display_data",
          "data": {
            "application/vnd.jupyter.widget-view+json": {
              "model_id": "0fb3862d06ca43809ec15d06c0ad1488",
              "version_minor": 0,
              "version_major": 2
            },
            "text/plain": [
              "HBox(children=(FloatProgress(value=0.0, description='Downloading', max=28.0, style=ProgressStyle(description_w…"
            ]
          },
          "metadata": {
            "tags": []
          }
        },
        {
          "output_type": "stream",
          "text": [
            "\n"
          ],
          "name": "stdout"
        },
        {
          "output_type": "display_data",
          "data": {
            "application/vnd.jupyter.widget-view+json": {
              "model_id": "e5d2a67f3b9a4d75bb8e5d52107203c9",
              "version_minor": 0,
              "version_major": 2
            },
            "text/plain": [
              "HBox(children=(FloatProgress(value=0.0, description='Downloading', max=466062.0, style=ProgressStyle(descripti…"
            ]
          },
          "metadata": {
            "tags": []
          }
        },
        {
          "output_type": "stream",
          "text": [
            "\n"
          ],
          "name": "stdout"
        }
      ]
    },
    {
      "cell_type": "code",
      "metadata": {
        "colab": {
          "base_uri": "https://localhost:8080/"
        },
        "id": "8_TGJ5z0bAbS",
        "outputId": "181d493d-26c6-4a2e-845b-a921ea9fcd71"
      },
      "source": [
        "import torch\n",
        "torch.cuda.is_available()"
      ],
      "execution_count": null,
      "outputs": [
        {
          "output_type": "execute_result",
          "data": {
            "text/plain": [
              "True"
            ]
          },
          "metadata": {
            "tags": []
          },
          "execution_count": 29
        }
      ]
    },
    {
      "cell_type": "markdown",
      "metadata": {
        "id": "7edaAL2obAbS"
      },
      "source": [
        "## Tokenizer"
      ]
    },
    {
      "cell_type": "code",
      "metadata": {
        "id": "egychVNpbAbS"
      },
      "source": [
        "sentence_train = df['data'].values\n",
        "labels_train = df['target'].values"
      ],
      "execution_count": null,
      "outputs": []
    },
    {
      "cell_type": "markdown",
      "metadata": {
        "id": "ujahsfjubAbT"
      },
      "source": [
        "tokenizer.encode = tokenizer.tokenize +  tokenizer.convert_tokens_to_ids"
      ]
    },
    {
      "cell_type": "code",
      "metadata": {
        "colab": {
          "base_uri": "https://localhost:8080/"
        },
        "id": "fOgWuQiNbAbT",
        "outputId": "db19664c-99d1-4ae1-9878-843cdec892e5"
      },
      "source": [
        "# Tokenize all of the sentences and map the tokens to thier word IDs.\n",
        "input_ids = []\n",
        "attention_masks = []\n",
        "\n",
        "# For every sentence...\n",
        "for sent in sentence_train:\n",
        "    # `encode_plus` will:\n",
        "    #   (1) Tokenize the sentence.\n",
        "    #   (2) Prepend the `[CLS]` token to the start.\n",
        "    #   (3) Append the `[SEP]` token to the end.\n",
        "    #   (4) Map tokens to their IDs.\n",
        "    #   (5) Pad or truncate the sentence to `max_length`\n",
        "    #   (6) Create attention masks for [PAD] tokens.\n",
        "    encoded_dict = tokenizer.encode_plus(\n",
        "                        sent,                      # Sentence to encode.\n",
        "                        add_special_tokens = True, # Add '[CLS]' and '[SEP]'\n",
        "                        max_length = 512,           # Pad & truncate all sentences.\n",
        "                        padding = 'max_length',\n",
        "                        truncation = True,\n",
        "                        return_attention_mask = True,   # Construct attn. masks.\n",
        "                        return_tensors = 'pt',     # Return pytorch tensors.\n",
        "                   )\n",
        "    \n",
        "    # Add the encoded sentence to the list.    \n",
        "    input_ids.append(encoded_dict['input_ids'])\n",
        "    \n",
        "    # And its attention mask (simply differentiates padding from non-padding).\n",
        "    attention_masks.append(encoded_dict['attention_mask'])\n",
        "\n",
        "# Convert the lists into tensors.\n",
        "input_ids = torch.cat(input_ids, dim=0)\n",
        "attention_masks = torch.cat(attention_masks, dim=0)\n",
        "labels = torch.tensor(labels_train)"
      ],
      "execution_count": null,
      "outputs": [
        {
          "output_type": "stream",
          "text": [
            "Original:  From: walkup@cs.washington.edu (Elizabeth Walkup)Subject: Re: Menangitis questionOrganization: Computer Science & Engineering, U. of Washington, SeattleDistribution: naLines: 19Assuming one has been cultured as having a throat laden withneiseria meningococcus and given (and taken) a course of ERYC without the culture becoming negative, should one worry aboutbeing a carrier?  \n",
            "Token IDs: tensor([  101,  2013,  1024,  3328,  6279,  1030, 20116,  1012,  2899,  1012,\n",
            "         3968,  2226,  1006,  3870,  3328,  6279,  1007,  3395,  1024,  2128,\n",
            "         1024,  2273,  5654, 13706,  3160, 21759,  7088,  9276,  1024,  3274,\n",
            "         2671,  1004,  3330,  1010,  1057,  1012,  1997,  2899,  1010,  5862,\n",
            "        10521, 18886, 29446,  1024,  6583, 12735,  1024,  2539, 12054, 24270,\n",
            "         2028,  2038,  2042,  3226,  2094,  2004,  2383,  1037,  3759, 14887,\n",
            "         2007,  2638, 17288,  2401,  2273,  2075, 24163, 27631,  1998,  2445,\n",
            "         1006,  1998,  2579,  1007,  1037,  2607,  1997,  9413,  2100,  2278,\n",
            "         2302,  1996,  3226,  3352,  4997,  1010,  2323,  2028,  4737,  2055,\n",
            "        19205,  3070,  1037,  6839,  1029,   102,     0,     0,     0,     0,\n",
            "            0,     0,     0,     0,     0,     0,     0,     0,     0,     0,\n",
            "            0,     0,     0,     0,     0,     0,     0,     0,     0,     0,\n",
            "            0,     0,     0,     0,     0,     0,     0,     0,     0,     0,\n",
            "            0,     0,     0,     0,     0,     0,     0,     0,     0,     0,\n",
            "            0,     0,     0,     0,     0,     0,     0,     0,     0,     0,\n",
            "            0,     0,     0,     0,     0,     0,     0,     0,     0,     0,\n",
            "            0,     0,     0,     0,     0,     0,     0,     0,     0,     0,\n",
            "            0,     0,     0,     0,     0,     0,     0,     0,     0,     0,\n",
            "            0,     0,     0,     0,     0,     0,     0,     0,     0,     0,\n",
            "            0,     0,     0,     0,     0,     0,     0,     0,     0,     0,\n",
            "            0,     0,     0,     0,     0,     0,     0,     0,     0,     0,\n",
            "            0,     0,     0,     0,     0,     0,     0,     0,     0,     0,\n",
            "            0,     0,     0,     0,     0,     0,     0,     0,     0,     0,\n",
            "            0,     0,     0,     0,     0,     0,     0,     0,     0,     0,\n",
            "            0,     0,     0,     0,     0,     0,     0,     0,     0,     0,\n",
            "            0,     0,     0,     0,     0,     0,     0,     0,     0,     0,\n",
            "            0,     0,     0,     0,     0,     0,     0,     0,     0,     0,\n",
            "            0,     0,     0,     0,     0,     0,     0,     0,     0,     0,\n",
            "            0,     0,     0,     0,     0,     0,     0,     0,     0,     0,\n",
            "            0,     0,     0,     0,     0,     0,     0,     0,     0,     0,\n",
            "            0,     0,     0,     0,     0,     0,     0,     0,     0,     0,\n",
            "            0,     0,     0,     0,     0,     0,     0,     0,     0,     0,\n",
            "            0,     0,     0,     0,     0,     0,     0,     0,     0,     0,\n",
            "            0,     0,     0,     0,     0,     0,     0,     0,     0,     0,\n",
            "            0,     0,     0,     0,     0,     0,     0,     0,     0,     0,\n",
            "            0,     0,     0,     0,     0,     0,     0,     0,     0,     0,\n",
            "            0,     0,     0,     0,     0,     0,     0,     0,     0,     0,\n",
            "            0,     0,     0,     0,     0,     0,     0,     0,     0,     0,\n",
            "            0,     0,     0,     0,     0,     0,     0,     0,     0,     0,\n",
            "            0,     0,     0,     0,     0,     0,     0,     0,     0,     0,\n",
            "            0,     0,     0,     0,     0,     0,     0,     0,     0,     0,\n",
            "            0,     0,     0,     0,     0,     0,     0,     0,     0,     0,\n",
            "            0,     0,     0,     0,     0,     0,     0,     0,     0,     0,\n",
            "            0,     0,     0,     0,     0,     0,     0,     0,     0,     0,\n",
            "            0,     0,     0,     0,     0,     0,     0,     0,     0,     0,\n",
            "            0,     0,     0,     0,     0,     0,     0,     0,     0,     0,\n",
            "            0,     0,     0,     0,     0,     0,     0,     0,     0,     0,\n",
            "            0,     0,     0,     0,     0,     0,     0,     0,     0,     0,\n",
            "            0,     0,     0,     0,     0,     0,     0,     0,     0,     0,\n",
            "            0,     0,     0,     0,     0,     0,     0,     0,     0,     0,\n",
            "            0,     0,     0,     0,     0,     0,     0,     0,     0,     0,\n",
            "            0,     0])\n"
          ],
          "name": "stdout"
        }
      ]
    },
    {
      "cell_type": "markdown",
      "metadata": {
        "id": "fFIgeJVibAbU"
      },
      "source": [
        "## Validation Set Split and DataLoader"
      ]
    },
    {
      "cell_type": "code",
      "metadata": {
        "colab": {
          "base_uri": "https://localhost:8080/"
        },
        "id": "Fu3P4MeZbAbU",
        "outputId": "c1acb72c-f02d-4de1-b63d-64805566f313"
      },
      "source": [
        "from torch.utils.data import TensorDataset, random_split\n",
        "\n",
        "# Combine the training inputs into a TensorDataset.\n",
        "dataset = TensorDataset(input_ids, attention_masks, labels)\n",
        "\n",
        "# Create a 90-10 train-validation split.\n",
        "\n",
        "# Calculate the number of samples to include in each set.\n",
        "train_size = int(0.9 * len(dataset))\n",
        "val_size = len(dataset) - train_size\n",
        "\n",
        "# Divide the dataset by randomly selecting samples.\n",
        "train_dataset, val_dataset = random_split(dataset, [train_size, val_size])\n",
        "\n",
        "print('{:>5,} training samples'.format(train_size))\n",
        "print('{:>5,} validation samples'.format(val_size))"
      ],
      "execution_count": null,
      "outputs": [
        {
          "output_type": "stream",
          "text": [
            "26,847 training samples\n",
            "2,984 validation samples\n"
          ],
          "name": "stdout"
        }
      ]
    },
    {
      "cell_type": "code",
      "metadata": {
        "id": "6b8TFfIKbAbV"
      },
      "source": [
        "from torch.utils.data import DataLoader, RandomSampler, SequentialSampler\n",
        "\n",
        "# The DataLoader needs to know our batch size for training, so we specify it \n",
        "# here. For fine-tuning BERT on a specific task, the authors recommend a batch \n",
        "# size of 16 or 32.\n",
        "batch_size = 4\n",
        "\n",
        "# Create the DataLoaders for our training and validation sets.\n",
        "# We'll take training samples in random order. \n",
        "train_dataloader = DataLoader(\n",
        "            train_dataset,  # The training samples.\n",
        "            sampler = RandomSampler(train_dataset), # Select batches randomly\n",
        "            batch_size = batch_size # Trains with this batch size.\n",
        "        )\n",
        "\n",
        "# For validation the order doesn't matter, so we'll just read them sequentially.\n",
        "validation_dataloader = DataLoader(\n",
        "            val_dataset, # The validation samples.\n",
        "            sampler = SequentialSampler(val_dataset), # Pull out batches sequentially.\n",
        "            batch_size = batch_size # Evaluate with this batch size.\n",
        "        )"
      ],
      "execution_count": null,
      "outputs": []
    },
    {
      "cell_type": "markdown",
      "metadata": {
        "id": "YtQuGF58aumV"
      },
      "source": [
        "Change: bert-cased"
      ]
    },
    {
      "cell_type": "markdown",
      "metadata": {
        "id": "iugAL5NmbAbV"
      },
      "source": [
        "## Modelling"
      ]
    },
    {
      "cell_type": "code",
      "metadata": {
        "colab": {
          "base_uri": "https://localhost:8080/",
          "height": 1000,
          "referenced_widgets": [
            "24f7c7cf7f83448c8f45030f14941477",
            "d84be9e2a89a43b2ab4b1b6b9723b89d",
            "d8bccd06736f4543a3efc9d022cea843",
            "88cccea85ad542999d6184d4f178bcc5",
            "86d094008e6445e9b288cc53a660f1e2",
            "e5fd82e778aa430e804bd31884ff6f5d",
            "d43d69a33de4481a95df56c508fa8eb7",
            "2ac3e4da1d0d47eeacac7754c863aebe",
            "6ec2a9de28ec460f9bacf3c49740245e",
            "0c982ed0fc52493fa906fa7589739db6",
            "799b722b656847cf82f937f7281565d5",
            "e46869517db64b2c8be58ecd215d1e8e",
            "1058fb4b9d4c4ee198a162c51996e243",
            "77d6101aab9e47e3a1d3a442eea3c4a1",
            "ea4edfff1a8848858358d9d508b9c7ca",
            "ab53195eecbb4d969feb8863bcd94854"
          ]
        },
        "id": "l4_1X_HhbAbW",
        "outputId": "891369c9-82cf-4bfb-abbb-5fddf9c5afb5"
      },
      "source": [
        "from transformers import BertForSequenceClassification, AdamW, BertConfig\n",
        "\n",
        "# Load BertForSequenceClassification, the pretrained BERT model with a single \n",
        "# linear classification layer on top. \n",
        "model = BertForSequenceClassification.from_pretrained(\n",
        "    \"bert-base-uncased\", # Use the 12-layer BERT model, with an uncased vocab.\n",
        "    num_labels = 20, # The number of output labels--2 for binary classification.\n",
        "                    # You can increase this for multi-class tasks.   \n",
        "    output_attentions = False, # Whether the model returns attentions weights.\n",
        "    output_hidden_states = False, # Whether the model returns all hidden-states.\n",
        ")\n",
        "\n",
        "# Tell pytorch to run this model on the GPU.\n",
        "model.cuda()"
      ],
      "execution_count": null,
      "outputs": [
        {
          "output_type": "display_data",
          "data": {
            "application/vnd.jupyter.widget-view+json": {
              "model_id": "24f7c7cf7f83448c8f45030f14941477",
              "version_minor": 0,
              "version_major": 2
            },
            "text/plain": [
              "HBox(children=(FloatProgress(value=0.0, description='Downloading', max=570.0, style=ProgressStyle(description_…"
            ]
          },
          "metadata": {
            "tags": []
          }
        },
        {
          "output_type": "stream",
          "text": [
            "\n"
          ],
          "name": "stdout"
        },
        {
          "output_type": "display_data",
          "data": {
            "application/vnd.jupyter.widget-view+json": {
              "model_id": "6ec2a9de28ec460f9bacf3c49740245e",
              "version_minor": 0,
              "version_major": 2
            },
            "text/plain": [
              "HBox(children=(FloatProgress(value=0.0, description='Downloading', max=440473133.0, style=ProgressStyle(descri…"
            ]
          },
          "metadata": {
            "tags": []
          }
        },
        {
          "output_type": "stream",
          "text": [
            "\n"
          ],
          "name": "stdout"
        },
        {
          "output_type": "stream",
          "text": [
            "Some weights of the model checkpoint at bert-base-uncased were not used when initializing BertForSequenceClassification: ['cls.predictions.transform.LayerNorm.bias', 'cls.seq_relationship.weight', 'cls.predictions.transform.LayerNorm.weight', 'cls.predictions.transform.dense.bias', 'cls.predictions.bias', 'cls.predictions.decoder.weight', 'cls.seq_relationship.bias', 'cls.predictions.transform.dense.weight']\n",
            "- This IS expected if you are initializing BertForSequenceClassification from the checkpoint of a model trained on another task or with another architecture (e.g. initializing a BertForSequenceClassification model from a BertForPreTraining model).\n",
            "- This IS NOT expected if you are initializing BertForSequenceClassification from the checkpoint of a model that you expect to be exactly identical (initializing a BertForSequenceClassification model from a BertForSequenceClassification model).\n",
            "Some weights of BertForSequenceClassification were not initialized from the model checkpoint at bert-base-uncased and are newly initialized: ['classifier.weight', 'classifier.bias']\n",
            "You should probably TRAIN this model on a down-stream task to be able to use it for predictions and inference.\n"
          ],
          "name": "stderr"
        },
        {
          "output_type": "execute_result",
          "data": {
            "text/plain": [
              "BertForSequenceClassification(\n",
              "  (bert): BertModel(\n",
              "    (embeddings): BertEmbeddings(\n",
              "      (word_embeddings): Embedding(30522, 768, padding_idx=0)\n",
              "      (position_embeddings): Embedding(512, 768)\n",
              "      (token_type_embeddings): Embedding(2, 768)\n",
              "      (LayerNorm): LayerNorm((768,), eps=1e-12, elementwise_affine=True)\n",
              "      (dropout): Dropout(p=0.1, inplace=False)\n",
              "    )\n",
              "    (encoder): BertEncoder(\n",
              "      (layer): ModuleList(\n",
              "        (0): BertLayer(\n",
              "          (attention): BertAttention(\n",
              "            (self): BertSelfAttention(\n",
              "              (query): Linear(in_features=768, out_features=768, bias=True)\n",
              "              (key): Linear(in_features=768, out_features=768, bias=True)\n",
              "              (value): Linear(in_features=768, out_features=768, bias=True)\n",
              "              (dropout): Dropout(p=0.1, inplace=False)\n",
              "            )\n",
              "            (output): BertSelfOutput(\n",
              "              (dense): Linear(in_features=768, out_features=768, bias=True)\n",
              "              (LayerNorm): LayerNorm((768,), eps=1e-12, elementwise_affine=True)\n",
              "              (dropout): Dropout(p=0.1, inplace=False)\n",
              "            )\n",
              "          )\n",
              "          (intermediate): BertIntermediate(\n",
              "            (dense): Linear(in_features=768, out_features=3072, bias=True)\n",
              "          )\n",
              "          (output): BertOutput(\n",
              "            (dense): Linear(in_features=3072, out_features=768, bias=True)\n",
              "            (LayerNorm): LayerNorm((768,), eps=1e-12, elementwise_affine=True)\n",
              "            (dropout): Dropout(p=0.1, inplace=False)\n",
              "          )\n",
              "        )\n",
              "        (1): BertLayer(\n",
              "          (attention): BertAttention(\n",
              "            (self): BertSelfAttention(\n",
              "              (query): Linear(in_features=768, out_features=768, bias=True)\n",
              "              (key): Linear(in_features=768, out_features=768, bias=True)\n",
              "              (value): Linear(in_features=768, out_features=768, bias=True)\n",
              "              (dropout): Dropout(p=0.1, inplace=False)\n",
              "            )\n",
              "            (output): BertSelfOutput(\n",
              "              (dense): Linear(in_features=768, out_features=768, bias=True)\n",
              "              (LayerNorm): LayerNorm((768,), eps=1e-12, elementwise_affine=True)\n",
              "              (dropout): Dropout(p=0.1, inplace=False)\n",
              "            )\n",
              "          )\n",
              "          (intermediate): BertIntermediate(\n",
              "            (dense): Linear(in_features=768, out_features=3072, bias=True)\n",
              "          )\n",
              "          (output): BertOutput(\n",
              "            (dense): Linear(in_features=3072, out_features=768, bias=True)\n",
              "            (LayerNorm): LayerNorm((768,), eps=1e-12, elementwise_affine=True)\n",
              "            (dropout): Dropout(p=0.1, inplace=False)\n",
              "          )\n",
              "        )\n",
              "        (2): BertLayer(\n",
              "          (attention): BertAttention(\n",
              "            (self): BertSelfAttention(\n",
              "              (query): Linear(in_features=768, out_features=768, bias=True)\n",
              "              (key): Linear(in_features=768, out_features=768, bias=True)\n",
              "              (value): Linear(in_features=768, out_features=768, bias=True)\n",
              "              (dropout): Dropout(p=0.1, inplace=False)\n",
              "            )\n",
              "            (output): BertSelfOutput(\n",
              "              (dense): Linear(in_features=768, out_features=768, bias=True)\n",
              "              (LayerNorm): LayerNorm((768,), eps=1e-12, elementwise_affine=True)\n",
              "              (dropout): Dropout(p=0.1, inplace=False)\n",
              "            )\n",
              "          )\n",
              "          (intermediate): BertIntermediate(\n",
              "            (dense): Linear(in_features=768, out_features=3072, bias=True)\n",
              "          )\n",
              "          (output): BertOutput(\n",
              "            (dense): Linear(in_features=3072, out_features=768, bias=True)\n",
              "            (LayerNorm): LayerNorm((768,), eps=1e-12, elementwise_affine=True)\n",
              "            (dropout): Dropout(p=0.1, inplace=False)\n",
              "          )\n",
              "        )\n",
              "        (3): BertLayer(\n",
              "          (attention): BertAttention(\n",
              "            (self): BertSelfAttention(\n",
              "              (query): Linear(in_features=768, out_features=768, bias=True)\n",
              "              (key): Linear(in_features=768, out_features=768, bias=True)\n",
              "              (value): Linear(in_features=768, out_features=768, bias=True)\n",
              "              (dropout): Dropout(p=0.1, inplace=False)\n",
              "            )\n",
              "            (output): BertSelfOutput(\n",
              "              (dense): Linear(in_features=768, out_features=768, bias=True)\n",
              "              (LayerNorm): LayerNorm((768,), eps=1e-12, elementwise_affine=True)\n",
              "              (dropout): Dropout(p=0.1, inplace=False)\n",
              "            )\n",
              "          )\n",
              "          (intermediate): BertIntermediate(\n",
              "            (dense): Linear(in_features=768, out_features=3072, bias=True)\n",
              "          )\n",
              "          (output): BertOutput(\n",
              "            (dense): Linear(in_features=3072, out_features=768, bias=True)\n",
              "            (LayerNorm): LayerNorm((768,), eps=1e-12, elementwise_affine=True)\n",
              "            (dropout): Dropout(p=0.1, inplace=False)\n",
              "          )\n",
              "        )\n",
              "        (4): BertLayer(\n",
              "          (attention): BertAttention(\n",
              "            (self): BertSelfAttention(\n",
              "              (query): Linear(in_features=768, out_features=768, bias=True)\n",
              "              (key): Linear(in_features=768, out_features=768, bias=True)\n",
              "              (value): Linear(in_features=768, out_features=768, bias=True)\n",
              "              (dropout): Dropout(p=0.1, inplace=False)\n",
              "            )\n",
              "            (output): BertSelfOutput(\n",
              "              (dense): Linear(in_features=768, out_features=768, bias=True)\n",
              "              (LayerNorm): LayerNorm((768,), eps=1e-12, elementwise_affine=True)\n",
              "              (dropout): Dropout(p=0.1, inplace=False)\n",
              "            )\n",
              "          )\n",
              "          (intermediate): BertIntermediate(\n",
              "            (dense): Linear(in_features=768, out_features=3072, bias=True)\n",
              "          )\n",
              "          (output): BertOutput(\n",
              "            (dense): Linear(in_features=3072, out_features=768, bias=True)\n",
              "            (LayerNorm): LayerNorm((768,), eps=1e-12, elementwise_affine=True)\n",
              "            (dropout): Dropout(p=0.1, inplace=False)\n",
              "          )\n",
              "        )\n",
              "        (5): BertLayer(\n",
              "          (attention): BertAttention(\n",
              "            (self): BertSelfAttention(\n",
              "              (query): Linear(in_features=768, out_features=768, bias=True)\n",
              "              (key): Linear(in_features=768, out_features=768, bias=True)\n",
              "              (value): Linear(in_features=768, out_features=768, bias=True)\n",
              "              (dropout): Dropout(p=0.1, inplace=False)\n",
              "            )\n",
              "            (output): BertSelfOutput(\n",
              "              (dense): Linear(in_features=768, out_features=768, bias=True)\n",
              "              (LayerNorm): LayerNorm((768,), eps=1e-12, elementwise_affine=True)\n",
              "              (dropout): Dropout(p=0.1, inplace=False)\n",
              "            )\n",
              "          )\n",
              "          (intermediate): BertIntermediate(\n",
              "            (dense): Linear(in_features=768, out_features=3072, bias=True)\n",
              "          )\n",
              "          (output): BertOutput(\n",
              "            (dense): Linear(in_features=3072, out_features=768, bias=True)\n",
              "            (LayerNorm): LayerNorm((768,), eps=1e-12, elementwise_affine=True)\n",
              "            (dropout): Dropout(p=0.1, inplace=False)\n",
              "          )\n",
              "        )\n",
              "        (6): BertLayer(\n",
              "          (attention): BertAttention(\n",
              "            (self): BertSelfAttention(\n",
              "              (query): Linear(in_features=768, out_features=768, bias=True)\n",
              "              (key): Linear(in_features=768, out_features=768, bias=True)\n",
              "              (value): Linear(in_features=768, out_features=768, bias=True)\n",
              "              (dropout): Dropout(p=0.1, inplace=False)\n",
              "            )\n",
              "            (output): BertSelfOutput(\n",
              "              (dense): Linear(in_features=768, out_features=768, bias=True)\n",
              "              (LayerNorm): LayerNorm((768,), eps=1e-12, elementwise_affine=True)\n",
              "              (dropout): Dropout(p=0.1, inplace=False)\n",
              "            )\n",
              "          )\n",
              "          (intermediate): BertIntermediate(\n",
              "            (dense): Linear(in_features=768, out_features=3072, bias=True)\n",
              "          )\n",
              "          (output): BertOutput(\n",
              "            (dense): Linear(in_features=3072, out_features=768, bias=True)\n",
              "            (LayerNorm): LayerNorm((768,), eps=1e-12, elementwise_affine=True)\n",
              "            (dropout): Dropout(p=0.1, inplace=False)\n",
              "          )\n",
              "        )\n",
              "        (7): BertLayer(\n",
              "          (attention): BertAttention(\n",
              "            (self): BertSelfAttention(\n",
              "              (query): Linear(in_features=768, out_features=768, bias=True)\n",
              "              (key): Linear(in_features=768, out_features=768, bias=True)\n",
              "              (value): Linear(in_features=768, out_features=768, bias=True)\n",
              "              (dropout): Dropout(p=0.1, inplace=False)\n",
              "            )\n",
              "            (output): BertSelfOutput(\n",
              "              (dense): Linear(in_features=768, out_features=768, bias=True)\n",
              "              (LayerNorm): LayerNorm((768,), eps=1e-12, elementwise_affine=True)\n",
              "              (dropout): Dropout(p=0.1, inplace=False)\n",
              "            )\n",
              "          )\n",
              "          (intermediate): BertIntermediate(\n",
              "            (dense): Linear(in_features=768, out_features=3072, bias=True)\n",
              "          )\n",
              "          (output): BertOutput(\n",
              "            (dense): Linear(in_features=3072, out_features=768, bias=True)\n",
              "            (LayerNorm): LayerNorm((768,), eps=1e-12, elementwise_affine=True)\n",
              "            (dropout): Dropout(p=0.1, inplace=False)\n",
              "          )\n",
              "        )\n",
              "        (8): BertLayer(\n",
              "          (attention): BertAttention(\n",
              "            (self): BertSelfAttention(\n",
              "              (query): Linear(in_features=768, out_features=768, bias=True)\n",
              "              (key): Linear(in_features=768, out_features=768, bias=True)\n",
              "              (value): Linear(in_features=768, out_features=768, bias=True)\n",
              "              (dropout): Dropout(p=0.1, inplace=False)\n",
              "            )\n",
              "            (output): BertSelfOutput(\n",
              "              (dense): Linear(in_features=768, out_features=768, bias=True)\n",
              "              (LayerNorm): LayerNorm((768,), eps=1e-12, elementwise_affine=True)\n",
              "              (dropout): Dropout(p=0.1, inplace=False)\n",
              "            )\n",
              "          )\n",
              "          (intermediate): BertIntermediate(\n",
              "            (dense): Linear(in_features=768, out_features=3072, bias=True)\n",
              "          )\n",
              "          (output): BertOutput(\n",
              "            (dense): Linear(in_features=3072, out_features=768, bias=True)\n",
              "            (LayerNorm): LayerNorm((768,), eps=1e-12, elementwise_affine=True)\n",
              "            (dropout): Dropout(p=0.1, inplace=False)\n",
              "          )\n",
              "        )\n",
              "        (9): BertLayer(\n",
              "          (attention): BertAttention(\n",
              "            (self): BertSelfAttention(\n",
              "              (query): Linear(in_features=768, out_features=768, bias=True)\n",
              "              (key): Linear(in_features=768, out_features=768, bias=True)\n",
              "              (value): Linear(in_features=768, out_features=768, bias=True)\n",
              "              (dropout): Dropout(p=0.1, inplace=False)\n",
              "            )\n",
              "            (output): BertSelfOutput(\n",
              "              (dense): Linear(in_features=768, out_features=768, bias=True)\n",
              "              (LayerNorm): LayerNorm((768,), eps=1e-12, elementwise_affine=True)\n",
              "              (dropout): Dropout(p=0.1, inplace=False)\n",
              "            )\n",
              "          )\n",
              "          (intermediate): BertIntermediate(\n",
              "            (dense): Linear(in_features=768, out_features=3072, bias=True)\n",
              "          )\n",
              "          (output): BertOutput(\n",
              "            (dense): Linear(in_features=3072, out_features=768, bias=True)\n",
              "            (LayerNorm): LayerNorm((768,), eps=1e-12, elementwise_affine=True)\n",
              "            (dropout): Dropout(p=0.1, inplace=False)\n",
              "          )\n",
              "        )\n",
              "        (10): BertLayer(\n",
              "          (attention): BertAttention(\n",
              "            (self): BertSelfAttention(\n",
              "              (query): Linear(in_features=768, out_features=768, bias=True)\n",
              "              (key): Linear(in_features=768, out_features=768, bias=True)\n",
              "              (value): Linear(in_features=768, out_features=768, bias=True)\n",
              "              (dropout): Dropout(p=0.1, inplace=False)\n",
              "            )\n",
              "            (output): BertSelfOutput(\n",
              "              (dense): Linear(in_features=768, out_features=768, bias=True)\n",
              "              (LayerNorm): LayerNorm((768,), eps=1e-12, elementwise_affine=True)\n",
              "              (dropout): Dropout(p=0.1, inplace=False)\n",
              "            )\n",
              "          )\n",
              "          (intermediate): BertIntermediate(\n",
              "            (dense): Linear(in_features=768, out_features=3072, bias=True)\n",
              "          )\n",
              "          (output): BertOutput(\n",
              "            (dense): Linear(in_features=3072, out_features=768, bias=True)\n",
              "            (LayerNorm): LayerNorm((768,), eps=1e-12, elementwise_affine=True)\n",
              "            (dropout): Dropout(p=0.1, inplace=False)\n",
              "          )\n",
              "        )\n",
              "        (11): BertLayer(\n",
              "          (attention): BertAttention(\n",
              "            (self): BertSelfAttention(\n",
              "              (query): Linear(in_features=768, out_features=768, bias=True)\n",
              "              (key): Linear(in_features=768, out_features=768, bias=True)\n",
              "              (value): Linear(in_features=768, out_features=768, bias=True)\n",
              "              (dropout): Dropout(p=0.1, inplace=False)\n",
              "            )\n",
              "            (output): BertSelfOutput(\n",
              "              (dense): Linear(in_features=768, out_features=768, bias=True)\n",
              "              (LayerNorm): LayerNorm((768,), eps=1e-12, elementwise_affine=True)\n",
              "              (dropout): Dropout(p=0.1, inplace=False)\n",
              "            )\n",
              "          )\n",
              "          (intermediate): BertIntermediate(\n",
              "            (dense): Linear(in_features=768, out_features=3072, bias=True)\n",
              "          )\n",
              "          (output): BertOutput(\n",
              "            (dense): Linear(in_features=3072, out_features=768, bias=True)\n",
              "            (LayerNorm): LayerNorm((768,), eps=1e-12, elementwise_affine=True)\n",
              "            (dropout): Dropout(p=0.1, inplace=False)\n",
              "          )\n",
              "        )\n",
              "      )\n",
              "    )\n",
              "    (pooler): BertPooler(\n",
              "      (dense): Linear(in_features=768, out_features=768, bias=True)\n",
              "      (activation): Tanh()\n",
              "    )\n",
              "  )\n",
              "  (dropout): Dropout(p=0.1, inplace=False)\n",
              "  (classifier): Linear(in_features=768, out_features=20, bias=True)\n",
              ")"
            ]
          },
          "metadata": {
            "tags": []
          },
          "execution_count": 36
        }
      ]
    },
    {
      "cell_type": "markdown",
      "metadata": {
        "id": "LvsrnQvSa1_N"
      },
      "source": [
        "Change: 2e-5 <br>\n",
        "regular optimizer (last layer change commented)"
      ]
    },
    {
      "cell_type": "code",
      "metadata": {
        "id": "EoLOEjX3bAbW"
      },
      "source": [
        "learning_rate = 2e-6\n",
        "#pretrained = model.bert.parameters()\n",
        "#Get names of pretrained parameters (including `bert.` prefix)\n",
        "#pretrained_names = [f'bert.{k}' for (k, v) in model.bert.named_parameters()]\n",
        "\n",
        "#new_params= [v for k, v in model.named_parameters() if k not in pretrained_names]\n",
        "\n",
        "#optimizer = AdamW(\n",
        "#    [{'params': pretrained}, {'params': new_params, 'lr': learning_rate * 100}],\n",
        "#    lr=learning_rate,\n",
        "#)\n",
        "optimizer = AdamW(model.parameters(), lr=learning_rate)"
      ],
      "execution_count": null,
      "outputs": []
    },
    {
      "cell_type": "code",
      "metadata": {
        "id": "QcsbSi0ObAbX"
      },
      "source": [
        "from transformers import get_linear_schedule_with_warmup\n",
        "\n",
        "# Number of training epochs. The BERT authors recommend between 2 and 4. \n",
        "# We chose to run for 4, but we'll see later that this may be over-fitting the\n",
        "# training data.\n",
        "epochs = 6\n",
        "\n",
        "# Total number of training steps is [number of batches] x [number of epochs]. \n",
        "# (Note that this is not the same as the number of training samples).\n",
        "total_steps = len(train_dataloader) * epochs\n",
        "\n",
        "# Create the learning rate scheduler.\n",
        "scheduler = get_linear_schedule_with_warmup(optimizer, \n",
        "                                            num_warmup_steps = 0, # Default value in run_glue.py\n",
        "                                            num_training_steps = total_steps)"
      ],
      "execution_count": null,
      "outputs": []
    },
    {
      "cell_type": "code",
      "metadata": {
        "id": "nu0TaFMwbAbX"
      },
      "source": [
        "def flat_accuracy(preds, labels):\n",
        "    pred_flat = np.argmax(preds, axis=1).flatten()\n",
        "    labels_flat = labels.flatten()\n",
        "    return np.sum(pred_flat == labels_flat) / len(labels_flat)"
      ],
      "execution_count": null,
      "outputs": []
    },
    {
      "cell_type": "code",
      "metadata": {
        "id": "VolOsM0hbAbX"
      },
      "source": [
        "import time\n",
        "import datetime\n",
        "\n",
        "def format_time(elapsed):\n",
        "    '''\n",
        "    Takes a time in seconds and returns a string hh:mm:ss\n",
        "    '''\n",
        "    # Round to the nearest second.\n",
        "    elapsed_rounded = int(round((elapsed)))\n",
        "    \n",
        "    # Format as hh:mm:ss\n",
        "    return str(datetime.timedelta(seconds=elapsed_rounded))\n"
      ],
      "execution_count": null,
      "outputs": []
    },
    {
      "cell_type": "code",
      "metadata": {
        "id": "nUXTKh4Ai5Yk"
      },
      "source": [
        "def save_checkpoint(epoch, model, optimizer, avg_val_loss):\n",
        "\n",
        "    save_path = F\"/content/gdrive/My Drive/Reddit/lr_2e_6_newsplit/model_epoch_%s.tar\" % str(epoch)\n",
        "    if save_path == None:\n",
        "        return\n",
        "    \n",
        "    torch.save({\n",
        "            'epoch': epoch_i,\n",
        "            'model_state_dict': model.state_dict(),\n",
        "            'optimizer_state_dict': optimizer.state_dict(),\n",
        "            'validation_loss': avg_val_loss\n",
        "            }, save_path)\n",
        "    print(f'Model saved to ==> {save_path}')"
      ],
      "execution_count": null,
      "outputs": []
    },
    {
      "cell_type": "code",
      "metadata": {
        "id": "ACJFq4tVjVhR"
      },
      "source": [
        "def save_metrics(epoch, avg_val_loss, avg_val_accuracy, avg_train_loss, predictions, true_labels):\n",
        "\n",
        "    save_path = F\"/content/gdrive/My Drive/Reddit/lr_2e_6_newsplit/metrics_epoch_%s.tar\" % str(epoch)\n",
        "    if save_path == None:\n",
        "        return\n",
        "    \n",
        "    torch.save({\n",
        "            'epoch': epoch_i,\n",
        "            'validation_loss': avg_val_loss,\n",
        "            'validation_accuracy': avg_val_accuracy,\n",
        "            'train_loss': avg_train_loss,\n",
        "            'validation_logits': predictions,\n",
        "            'validation_labels': true_labels\n",
        "            }, save_path)\n",
        "    print(f'Metrics saved to ==> {save_path}')"
      ],
      "execution_count": null,
      "outputs": []
    },
    {
      "cell_type": "markdown",
      "metadata": {
        "id": "meqvdZZpOzz0"
      },
      "source": [
        "### Training"
      ]
    },
    {
      "cell_type": "code",
      "metadata": {
        "colab": {
          "background_save": true,
          "base_uri": "https://localhost:8080/"
        },
        "id": "9NETlS-gbAbY",
        "outputId": "2ab078cb-baf9-4856-b8ad-21d46c417fa7"
      },
      "source": [
        "import random\n",
        "import numpy as np\n",
        "import gc\n",
        "\n",
        "# Set the seed value all over the place to make this reproducible.\n",
        "seed_val = 42\n",
        "\n",
        "random.seed(seed_val)\n",
        "np.random.seed(seed_val)\n",
        "torch.manual_seed(seed_val)\n",
        "torch.cuda.manual_seed_all(seed_val)\n",
        "\n",
        "# We'll store a number of quantities such as training and validation loss, \n",
        "# validation accuracy, and timings.\n",
        "training_stats = []\n",
        "\n",
        "# Measure the total training time for the whole run.\n",
        "total_t0 = time.time()\n",
        "\n",
        "# For each epoch...\n",
        "for epoch_i in range(0, epochs):\n",
        "    \n",
        "    # ========================================\n",
        "    #               Training\n",
        "    # ========================================\n",
        "    \n",
        "    # Perform one full pass over the training set.\n",
        "\n",
        "    print(\"\")\n",
        "    print('======== Epoch {:} / {:} ========'.format(epoch_i + 1, epochs))\n",
        "    print('Training...')\n",
        "\n",
        "    # Measure how long the training epoch takes.\n",
        "    t0 = time.time()\n",
        "\n",
        "    # Reset the total loss for this epoch.\n",
        "    total_train_loss = 0\n",
        "    \n",
        "    #training mode\n",
        "    model.train()\n",
        "\n",
        "    # For each batch of training data...\n",
        "    for step, batch in enumerate(train_dataloader):\n",
        "\n",
        "        # Progress update every 40 batches.\n",
        "        if step % 40 == 0 and not step == 0:\n",
        "            # Calculate elapsed time in minutes.\n",
        "            elapsed = format_time(time.time() - t0)\n",
        "            \n",
        "            # Report progress.\n",
        "            print('  Batch {:>5,}  of  {:>5,}.    Elapsed: {:}.'.format(step, len(train_dataloader), elapsed))\n",
        "\n",
        "        # As we unpack the batch, we'll also copy each tensor to the GPU using the \n",
        "        # `to` method.\n",
        "    \n",
        "        b_input_ids = batch[0].to(device)\n",
        "        b_input_mask = batch[1].to(device)\n",
        "        b_labels = batch[2].to(device)\n",
        "\n",
        "        # Always clear any previously calculated gradients before performing a\n",
        "        # backward pass. PyTorch doesn't do this automatically because \n",
        "        # accumulating the gradients is \"convenient while training RNNs\". \n",
        "\n",
        "        model.zero_grad()        \n",
        "\n",
        "        # Perform a forward pass (evaluate the model on this training batch).\n",
        "        outputs = model(b_input_ids, \n",
        "                             token_type_ids=None, \n",
        "                             attention_mask=b_input_mask, \n",
        "                             labels=b_labels)\n",
        "        loss = outputs.loss\n",
        "\n",
        "        # Accumulate the training loss over all of the batches so that we can\n",
        "        # calculate the average loss at the end. `loss` is a Tensor containing a\n",
        "        # single value; the `.item()` function just returns the Python value \n",
        "        # from the tensor.\n",
        "        total_train_loss += loss.item()\n",
        "\n",
        "        # Perform a backward pass to calculate the gradients.\n",
        "        loss.backward()\n",
        "\n",
        "        # Clip the norm of the gradients to 1.0.\n",
        "        # This is to help prevent the \"exploding gradients\" problem.\n",
        "        torch.nn.utils.clip_grad_norm_(model.parameters(), 1.0)\n",
        "\n",
        "        # Update parameters and take a step using the computed gradient.\n",
        "        # The optimizer dictates the \"update rule\"--how the parameters are\n",
        "        # modified based on their gradients, the learning rate, etc.\n",
        "        optimizer.step()\n",
        "\n",
        "        # Update the learning rate.\n",
        "        scheduler.step()\n",
        "\n",
        "    # Calculate the average loss over all of the batches.\n",
        "    avg_train_loss = total_train_loss / len(train_dataloader)            \n",
        "    \n",
        "    # Measure how long this epoch took.\n",
        "    training_time = format_time(time.time() - t0)\n",
        "\n",
        "    print(\"\")\n",
        "    print(\"  Average training loss: {0:.2f}\".format(avg_train_loss))\n",
        "    print(\"  Training epcoh took: {:}\".format(training_time))\n",
        "        \n",
        "    # ========================================\n",
        "    #               Validation\n",
        "    # ========================================\n",
        "    # After the completion of each training epoch, measure our performance on\n",
        "    # our validation set.\n",
        "\n",
        "    print(\"\")\n",
        "    print(\"Running Validation...\")\n",
        "\n",
        "    t0 = time.time()\n",
        "\n",
        "    # Put the model in evaluation mode--the dropout layers behave differently\n",
        "    # during evaluation.\n",
        "    model.eval()\n",
        "\n",
        "    # Tracking variables \n",
        "    total_eval_accuracy = 0\n",
        "    total_eval_loss = 0\n",
        "    nb_eval_steps = 0\n",
        "\n",
        "    predictions , true_labels = [], []\n",
        "\n",
        "    # Evaluate data for one epoch\n",
        "    for batch in validation_dataloader:\n",
        "        \n",
        "        b_input_ids = batch[0].to(device)\n",
        "        b_input_mask = batch[1].to(device)\n",
        "        b_labels = batch[2].to(device)\n",
        "        \n",
        "        # Tell pytorch not to bother with constructing the compute graph during\n",
        "        # the forward pass, since this is only needed for backprop (training).\n",
        "        with torch.no_grad():        \n",
        "\n",
        "\n",
        "            outputs = model(b_input_ids, \n",
        "                                   token_type_ids=None, \n",
        "                                   attention_mask=b_input_mask,\n",
        "                                   labels=b_labels)\n",
        "        loss = outputs.loss\n",
        "        logits = outputs.logits\n",
        "            \n",
        "        # Accumulate the validation loss.\n",
        "        total_eval_loss += loss.item()\n",
        "\n",
        "        # Move logits and labels to CPU\n",
        "        logits = logits.detach().cpu().numpy()\n",
        "        label_ids = b_labels.to('cpu').numpy()\n",
        "\n",
        "        # Store predictions and true labels\n",
        "        predictions.append(logits)\n",
        "        true_labels.append(label_ids)\n",
        "\n",
        "        # Calculate the accuracy for this batch of test sentences, and\n",
        "        # accumulate it over all batches.\n",
        "        total_eval_accuracy += flat_accuracy(logits, label_ids)\n",
        "        \n",
        "\n",
        "    # Report the final accuracy for this validation run.\n",
        "    avg_val_accuracy = total_eval_accuracy / len(validation_dataloader)\n",
        "    print(\"  Accuracy: {0:.2f}\".format(avg_val_accuracy))\n",
        "\n",
        "    # Calculate the average loss over all of the batches.\n",
        "    avg_val_loss = total_eval_loss / len(validation_dataloader)\n",
        "    \n",
        "    # Measure how long the validation run took.\n",
        "    validation_time = format_time(time.time() - t0)\n",
        "    \n",
        "    print(\"  Validation Loss: {0:.2f}\".format(avg_val_loss))\n",
        "    print(\"  Validation took: {:}\".format(validation_time))\n",
        "\n",
        "    # Record all statistics from this epoch.\n",
        "    training_stats.append(\n",
        "        {\n",
        "            'epoch': epoch_i + 1,\n",
        "            'Training Loss': avg_train_loss,\n",
        "            'Valid. Loss': avg_val_loss,\n",
        "            'Valid. Accur.': avg_val_accuracy,\n",
        "            'Training Time': training_time,\n",
        "            'Validation Time': validation_time\n",
        "        }\n",
        "    )\n",
        "    save_checkpoint(epoch_i, model, optimizer, avg_val_loss)\n",
        "    save_metrics(epoch_i, avg_val_loss, avg_val_accuracy, avg_train_loss, predictions, true_labels)\n",
        "\n",
        "    gc.collect()\n",
        "    torch.cuda.empty_cache()\n",
        "\n",
        "print(\"\")\n",
        "print(\"Training complete!\")\n",
        "\n",
        "print(\"Total training took {:} (h:mm:ss)\".format(format_time(time.time()-total_t0)))"
      ],
      "execution_count": null,
      "outputs": [
        {
          "output_type": "stream",
          "text": [
            "\n",
            "======== Epoch 1 / 6 ========\n",
            "Training...\n",
            "  Batch    40  of  6,712.    Elapsed: 0:00:18.\n",
            "  Batch    80  of  6,712.    Elapsed: 0:00:36.\n",
            "  Batch   120  of  6,712.    Elapsed: 0:00:54.\n",
            "  Batch   160  of  6,712.    Elapsed: 0:01:11.\n",
            "  Batch   200  of  6,712.    Elapsed: 0:01:29.\n",
            "  Batch   240  of  6,712.    Elapsed: 0:01:46.\n",
            "  Batch   280  of  6,712.    Elapsed: 0:02:04.\n",
            "  Batch   320  of  6,712.    Elapsed: 0:02:21.\n",
            "  Batch   360  of  6,712.    Elapsed: 0:02:39.\n",
            "  Batch   400  of  6,712.    Elapsed: 0:02:56.\n",
            "  Batch   440  of  6,712.    Elapsed: 0:03:14.\n",
            "  Batch   480  of  6,712.    Elapsed: 0:03:32.\n",
            "  Batch   520  of  6,712.    Elapsed: 0:03:49.\n",
            "  Batch   560  of  6,712.    Elapsed: 0:04:07.\n",
            "  Batch   600  of  6,712.    Elapsed: 0:04:24.\n",
            "  Batch   640  of  6,712.    Elapsed: 0:04:42.\n",
            "  Batch   680  of  6,712.    Elapsed: 0:04:59.\n",
            "  Batch   720  of  6,712.    Elapsed: 0:05:17.\n",
            "  Batch   760  of  6,712.    Elapsed: 0:05:34.\n",
            "  Batch   800  of  6,712.    Elapsed: 0:05:52.\n",
            "  Batch   840  of  6,712.    Elapsed: 0:06:09.\n",
            "  Batch   880  of  6,712.    Elapsed: 0:06:27.\n",
            "  Batch   920  of  6,712.    Elapsed: 0:06:44.\n",
            "  Batch   960  of  6,712.    Elapsed: 0:07:02.\n",
            "  Batch 1,000  of  6,712.    Elapsed: 0:07:20.\n",
            "  Batch 1,040  of  6,712.    Elapsed: 0:07:37.\n",
            "  Batch 1,080  of  6,712.    Elapsed: 0:07:55.\n",
            "  Batch 1,120  of  6,712.    Elapsed: 0:08:12.\n",
            "  Batch 1,160  of  6,712.    Elapsed: 0:08:30.\n",
            "  Batch 1,200  of  6,712.    Elapsed: 0:08:47.\n",
            "  Batch 1,240  of  6,712.    Elapsed: 0:09:05.\n",
            "  Batch 1,280  of  6,712.    Elapsed: 0:09:22.\n",
            "  Batch 1,320  of  6,712.    Elapsed: 0:09:40.\n",
            "  Batch 1,360  of  6,712.    Elapsed: 0:09:57.\n",
            "  Batch 1,400  of  6,712.    Elapsed: 0:10:15.\n",
            "  Batch 1,440  of  6,712.    Elapsed: 0:10:33.\n",
            "  Batch 1,480  of  6,712.    Elapsed: 0:10:50.\n",
            "  Batch 1,520  of  6,712.    Elapsed: 0:11:08.\n",
            "  Batch 1,560  of  6,712.    Elapsed: 0:11:25.\n",
            "  Batch 1,600  of  6,712.    Elapsed: 0:11:43.\n",
            "  Batch 1,640  of  6,712.    Elapsed: 0:12:00.\n",
            "  Batch 1,680  of  6,712.    Elapsed: 0:12:18.\n",
            "  Batch 1,720  of  6,712.    Elapsed: 0:12:35.\n",
            "  Batch 1,760  of  6,712.    Elapsed: 0:12:53.\n",
            "  Batch 1,800  of  6,712.    Elapsed: 0:13:10.\n",
            "  Batch 1,840  of  6,712.    Elapsed: 0:13:28.\n",
            "  Batch 1,880  of  6,712.    Elapsed: 0:13:46.\n",
            "  Batch 1,920  of  6,712.    Elapsed: 0:14:03.\n",
            "  Batch 1,960  of  6,712.    Elapsed: 0:14:21.\n",
            "  Batch 2,000  of  6,712.    Elapsed: 0:14:38.\n",
            "  Batch 2,040  of  6,712.    Elapsed: 0:14:56.\n",
            "  Batch 2,080  of  6,712.    Elapsed: 0:15:13.\n",
            "  Batch 2,120  of  6,712.    Elapsed: 0:15:31.\n",
            "  Batch 2,160  of  6,712.    Elapsed: 0:15:48.\n",
            "  Batch 2,200  of  6,712.    Elapsed: 0:16:06.\n",
            "  Batch 2,240  of  6,712.    Elapsed: 0:16:23.\n",
            "  Batch 2,280  of  6,712.    Elapsed: 0:16:41.\n",
            "  Batch 2,320  of  6,712.    Elapsed: 0:16:58.\n",
            "  Batch 2,360  of  6,712.    Elapsed: 0:17:16.\n",
            "  Batch 2,400  of  6,712.    Elapsed: 0:17:33.\n",
            "  Batch 2,440  of  6,712.    Elapsed: 0:17:51.\n",
            "  Batch 2,480  of  6,712.    Elapsed: 0:18:09.\n",
            "  Batch 2,520  of  6,712.    Elapsed: 0:18:26.\n",
            "  Batch 2,560  of  6,712.    Elapsed: 0:18:44.\n",
            "  Batch 2,600  of  6,712.    Elapsed: 0:19:01.\n",
            "  Batch 2,640  of  6,712.    Elapsed: 0:19:19.\n",
            "  Batch 2,680  of  6,712.    Elapsed: 0:19:36.\n",
            "  Batch 2,720  of  6,712.    Elapsed: 0:19:54.\n",
            "  Batch 2,760  of  6,712.    Elapsed: 0:20:11.\n",
            "  Batch 2,800  of  6,712.    Elapsed: 0:20:29.\n",
            "  Batch 2,840  of  6,712.    Elapsed: 0:20:46.\n",
            "  Batch 2,880  of  6,712.    Elapsed: 0:21:04.\n",
            "  Batch 2,920  of  6,712.    Elapsed: 0:21:21.\n",
            "  Batch 2,960  of  6,712.    Elapsed: 0:21:39.\n",
            "  Batch 3,000  of  6,712.    Elapsed: 0:21:56.\n",
            "  Batch 3,040  of  6,712.    Elapsed: 0:22:14.\n",
            "  Batch 3,080  of  6,712.    Elapsed: 0:22:32.\n",
            "  Batch 3,120  of  6,712.    Elapsed: 0:22:49.\n",
            "  Batch 3,160  of  6,712.    Elapsed: 0:23:07.\n",
            "  Batch 3,200  of  6,712.    Elapsed: 0:23:24.\n",
            "  Batch 3,240  of  6,712.    Elapsed: 0:23:42.\n",
            "  Batch 3,280  of  6,712.    Elapsed: 0:23:59.\n",
            "  Batch 3,320  of  6,712.    Elapsed: 0:24:17.\n",
            "  Batch 3,360  of  6,712.    Elapsed: 0:24:34.\n",
            "  Batch 3,400  of  6,712.    Elapsed: 0:24:52.\n",
            "  Batch 3,440  of  6,712.    Elapsed: 0:25:09.\n",
            "  Batch 3,480  of  6,712.    Elapsed: 0:25:27.\n",
            "  Batch 3,520  of  6,712.    Elapsed: 0:25:44.\n",
            "  Batch 3,560  of  6,712.    Elapsed: 0:26:02.\n",
            "  Batch 3,600  of  6,712.    Elapsed: 0:26:19.\n",
            "  Batch 3,640  of  6,712.    Elapsed: 0:26:37.\n",
            "  Batch 3,680  of  6,712.    Elapsed: 0:26:54.\n",
            "  Batch 3,720  of  6,712.    Elapsed: 0:27:12.\n",
            "  Batch 3,760  of  6,712.    Elapsed: 0:27:29.\n",
            "  Batch 3,800  of  6,712.    Elapsed: 0:27:47.\n",
            "  Batch 3,840  of  6,712.    Elapsed: 0:28:05.\n",
            "  Batch 3,880  of  6,712.    Elapsed: 0:28:22.\n",
            "  Batch 3,920  of  6,712.    Elapsed: 0:28:40.\n",
            "  Batch 3,960  of  6,712.    Elapsed: 0:28:57.\n",
            "  Batch 4,000  of  6,712.    Elapsed: 0:29:15.\n",
            "  Batch 4,040  of  6,712.    Elapsed: 0:29:32.\n",
            "  Batch 4,080  of  6,712.    Elapsed: 0:29:50.\n",
            "  Batch 4,120  of  6,712.    Elapsed: 0:30:07.\n",
            "  Batch 4,160  of  6,712.    Elapsed: 0:30:25.\n",
            "  Batch 4,200  of  6,712.    Elapsed: 0:30:42.\n",
            "  Batch 4,240  of  6,712.    Elapsed: 0:31:00.\n",
            "  Batch 4,280  of  6,712.    Elapsed: 0:31:17.\n",
            "  Batch 4,320  of  6,712.    Elapsed: 0:31:35.\n",
            "  Batch 4,360  of  6,712.    Elapsed: 0:31:52.\n",
            "  Batch 4,400  of  6,712.    Elapsed: 0:32:10.\n",
            "  Batch 4,440  of  6,712.    Elapsed: 0:32:27.\n",
            "  Batch 4,480  of  6,712.    Elapsed: 0:32:45.\n",
            "  Batch 4,520  of  6,712.    Elapsed: 0:33:02.\n",
            "  Batch 4,560  of  6,712.    Elapsed: 0:33:20.\n",
            "  Batch 4,600  of  6,712.    Elapsed: 0:33:37.\n",
            "  Batch 4,640  of  6,712.    Elapsed: 0:33:55.\n",
            "  Batch 4,680  of  6,712.    Elapsed: 0:34:12.\n",
            "  Batch 4,720  of  6,712.    Elapsed: 0:34:30.\n",
            "  Batch 4,760  of  6,712.    Elapsed: 0:34:47.\n",
            "  Batch 4,800  of  6,712.    Elapsed: 0:35:05.\n",
            "  Batch 4,840  of  6,712.    Elapsed: 0:35:22.\n",
            "  Batch 4,880  of  6,712.    Elapsed: 0:35:40.\n",
            "  Batch 4,920  of  6,712.    Elapsed: 0:35:58.\n",
            "  Batch 4,960  of  6,712.    Elapsed: 0:36:15.\n",
            "  Batch 5,000  of  6,712.    Elapsed: 0:36:33.\n",
            "  Batch 5,040  of  6,712.    Elapsed: 0:36:50.\n",
            "  Batch 5,080  of  6,712.    Elapsed: 0:37:08.\n",
            "  Batch 5,120  of  6,712.    Elapsed: 0:37:25.\n",
            "  Batch 5,160  of  6,712.    Elapsed: 0:37:43.\n",
            "  Batch 5,200  of  6,712.    Elapsed: 0:38:00.\n",
            "  Batch 5,240  of  6,712.    Elapsed: 0:38:18.\n",
            "  Batch 5,280  of  6,712.    Elapsed: 0:38:36.\n",
            "  Batch 5,320  of  6,712.    Elapsed: 0:38:53.\n",
            "  Batch 5,360  of  6,712.    Elapsed: 0:39:11.\n",
            "  Batch 5,400  of  6,712.    Elapsed: 0:39:28.\n",
            "  Batch 5,440  of  6,712.    Elapsed: 0:39:46.\n",
            "  Batch 5,480  of  6,712.    Elapsed: 0:40:03.\n",
            "  Batch 5,520  of  6,712.    Elapsed: 0:40:21.\n",
            "  Batch 5,560  of  6,712.    Elapsed: 0:40:38.\n",
            "  Batch 5,600  of  6,712.    Elapsed: 0:40:56.\n",
            "  Batch 5,640  of  6,712.    Elapsed: 0:41:13.\n",
            "  Batch 5,680  of  6,712.    Elapsed: 0:41:31.\n",
            "  Batch 5,720  of  6,712.    Elapsed: 0:41:48.\n",
            "  Batch 5,760  of  6,712.    Elapsed: 0:42:06.\n",
            "  Batch 5,800  of  6,712.    Elapsed: 0:42:23.\n",
            "  Batch 5,840  of  6,712.    Elapsed: 0:42:41.\n",
            "  Batch 5,880  of  6,712.    Elapsed: 0:42:58.\n",
            "  Batch 5,920  of  6,712.    Elapsed: 0:43:16.\n",
            "  Batch 5,960  of  6,712.    Elapsed: 0:43:33.\n",
            "  Batch 6,000  of  6,712.    Elapsed: 0:43:51.\n",
            "  Batch 6,040  of  6,712.    Elapsed: 0:44:08.\n",
            "  Batch 6,080  of  6,712.    Elapsed: 0:44:26.\n",
            "  Batch 6,120  of  6,712.    Elapsed: 0:44:43.\n",
            "  Batch 6,160  of  6,712.    Elapsed: 0:45:01.\n",
            "  Batch 6,200  of  6,712.    Elapsed: 0:45:18.\n",
            "  Batch 6,240  of  6,712.    Elapsed: 0:45:36.\n",
            "  Batch 6,280  of  6,712.    Elapsed: 0:45:54.\n",
            "  Batch 6,320  of  6,712.    Elapsed: 0:46:11.\n",
            "  Batch 6,360  of  6,712.    Elapsed: 0:46:29.\n",
            "  Batch 6,400  of  6,712.    Elapsed: 0:46:46.\n",
            "  Batch 6,440  of  6,712.    Elapsed: 0:47:04.\n",
            "  Batch 6,480  of  6,712.    Elapsed: 0:47:21.\n",
            "  Batch 6,520  of  6,712.    Elapsed: 0:47:39.\n",
            "  Batch 6,560  of  6,712.    Elapsed: 0:47:56.\n",
            "  Batch 6,600  of  6,712.    Elapsed: 0:48:14.\n",
            "  Batch 6,640  of  6,712.    Elapsed: 0:48:32.\n",
            "  Batch 6,680  of  6,712.    Elapsed: 0:48:49.\n",
            "\n",
            "  Average training loss: 1.67\n",
            "  Training epcoh took: 0:49:03\n",
            "\n",
            "Running Validation...\n",
            "  Accuracy: 0.73\n",
            "  Validation Loss: 0.99\n",
            "  Validation took: 0:01:55\n",
            "Model saved to ==> /content/gdrive/My Drive/Reddit/lr_2e_6_newsplit/model_epoch_0.tar\n",
            "Metrics saved to ==> /content/gdrive/My Drive/Reddit/lr_2e_6_newsplit/metrics_epoch_0.tar\n",
            "\n",
            "======== Epoch 2 / 6 ========\n",
            "Training...\n",
            "  Batch    40  of  6,712.    Elapsed: 0:00:18.\n",
            "  Batch    80  of  6,712.    Elapsed: 0:00:36.\n",
            "  Batch   120  of  6,712.    Elapsed: 0:00:53.\n",
            "  Batch   160  of  6,712.    Elapsed: 0:01:11.\n",
            "  Batch   200  of  6,712.    Elapsed: 0:01:28.\n",
            "  Batch   240  of  6,712.    Elapsed: 0:01:46.\n",
            "  Batch   280  of  6,712.    Elapsed: 0:02:03.\n",
            "  Batch   320  of  6,712.    Elapsed: 0:02:21.\n",
            "  Batch   360  of  6,712.    Elapsed: 0:02:38.\n",
            "  Batch   400  of  6,712.    Elapsed: 0:02:56.\n",
            "  Batch   440  of  6,712.    Elapsed: 0:03:13.\n",
            "  Batch   480  of  6,712.    Elapsed: 0:03:31.\n",
            "  Batch   520  of  6,712.    Elapsed: 0:03:48.\n",
            "  Batch   560  of  6,712.    Elapsed: 0:04:06.\n",
            "  Batch   600  of  6,712.    Elapsed: 0:04:23.\n",
            "  Batch   640  of  6,712.    Elapsed: 0:04:41.\n",
            "  Batch   680  of  6,712.    Elapsed: 0:04:58.\n",
            "  Batch   720  of  6,712.    Elapsed: 0:05:16.\n",
            "  Batch   760  of  6,712.    Elapsed: 0:05:33.\n",
            "  Batch   800  of  6,712.    Elapsed: 0:05:51.\n",
            "  Batch   840  of  6,712.    Elapsed: 0:06:09.\n",
            "  Batch   880  of  6,712.    Elapsed: 0:06:26.\n",
            "  Batch   920  of  6,712.    Elapsed: 0:06:44.\n",
            "  Batch   960  of  6,712.    Elapsed: 0:07:01.\n",
            "  Batch 1,000  of  6,712.    Elapsed: 0:07:19.\n",
            "  Batch 1,040  of  6,712.    Elapsed: 0:07:36.\n",
            "  Batch 1,080  of  6,712.    Elapsed: 0:07:54.\n",
            "  Batch 1,120  of  6,712.    Elapsed: 0:08:11.\n",
            "  Batch 1,160  of  6,712.    Elapsed: 0:08:29.\n",
            "  Batch 1,200  of  6,712.    Elapsed: 0:08:46.\n",
            "  Batch 1,240  of  6,712.    Elapsed: 0:09:04.\n",
            "  Batch 1,280  of  6,712.    Elapsed: 0:09:21.\n",
            "  Batch 1,320  of  6,712.    Elapsed: 0:09:39.\n",
            "  Batch 1,360  of  6,712.    Elapsed: 0:09:56.\n",
            "  Batch 1,400  of  6,712.    Elapsed: 0:10:14.\n",
            "  Batch 1,440  of  6,712.    Elapsed: 0:10:31.\n",
            "  Batch 1,480  of  6,712.    Elapsed: 0:10:49.\n",
            "  Batch 1,520  of  6,712.    Elapsed: 0:11:06.\n",
            "  Batch 1,560  of  6,712.    Elapsed: 0:11:24.\n",
            "  Batch 1,600  of  6,712.    Elapsed: 0:11:42.\n",
            "  Batch 1,640  of  6,712.    Elapsed: 0:11:59.\n",
            "  Batch 1,680  of  6,712.    Elapsed: 0:12:17.\n",
            "  Batch 1,720  of  6,712.    Elapsed: 0:12:34.\n",
            "  Batch 1,760  of  6,712.    Elapsed: 0:12:52.\n",
            "  Batch 1,800  of  6,712.    Elapsed: 0:13:09.\n",
            "  Batch 1,840  of  6,712.    Elapsed: 0:13:27.\n",
            "  Batch 1,880  of  6,712.    Elapsed: 0:13:44.\n",
            "  Batch 1,920  of  6,712.    Elapsed: 0:14:02.\n",
            "  Batch 1,960  of  6,712.    Elapsed: 0:14:19.\n",
            "  Batch 2,000  of  6,712.    Elapsed: 0:14:37.\n",
            "  Batch 2,040  of  6,712.    Elapsed: 0:14:55.\n",
            "  Batch 2,080  of  6,712.    Elapsed: 0:15:12.\n",
            "  Batch 2,120  of  6,712.    Elapsed: 0:15:30.\n",
            "  Batch 2,160  of  6,712.    Elapsed: 0:15:47.\n",
            "  Batch 2,200  of  6,712.    Elapsed: 0:16:05.\n",
            "  Batch 2,240  of  6,712.    Elapsed: 0:16:22.\n",
            "  Batch 2,280  of  6,712.    Elapsed: 0:16:40.\n",
            "  Batch 2,320  of  6,712.    Elapsed: 0:16:57.\n",
            "  Batch 2,360  of  6,712.    Elapsed: 0:17:15.\n",
            "  Batch 2,400  of  6,712.    Elapsed: 0:17:32.\n",
            "  Batch 2,440  of  6,712.    Elapsed: 0:17:50.\n",
            "  Batch 2,480  of  6,712.    Elapsed: 0:18:07.\n",
            "  Batch 2,520  of  6,712.    Elapsed: 0:18:25.\n",
            "  Batch 2,560  of  6,712.    Elapsed: 0:18:42.\n",
            "  Batch 2,600  of  6,712.    Elapsed: 0:19:00.\n",
            "  Batch 2,640  of  6,712.    Elapsed: 0:19:17.\n",
            "  Batch 2,680  of  6,712.    Elapsed: 0:19:35.\n",
            "  Batch 2,720  of  6,712.    Elapsed: 0:19:53.\n",
            "  Batch 2,760  of  6,712.    Elapsed: 0:20:10.\n",
            "  Batch 2,800  of  6,712.    Elapsed: 0:20:28.\n",
            "  Batch 2,840  of  6,712.    Elapsed: 0:20:45.\n",
            "  Batch 2,880  of  6,712.    Elapsed: 0:21:03.\n",
            "  Batch 2,920  of  6,712.    Elapsed: 0:21:20.\n",
            "  Batch 2,960  of  6,712.    Elapsed: 0:21:38.\n",
            "  Batch 3,000  of  6,712.    Elapsed: 0:21:55.\n",
            "  Batch 3,040  of  6,712.    Elapsed: 0:22:13.\n",
            "  Batch 3,080  of  6,712.    Elapsed: 0:22:30.\n",
            "  Batch 3,120  of  6,712.    Elapsed: 0:22:48.\n",
            "  Batch 3,160  of  6,712.    Elapsed: 0:23:05.\n",
            "  Batch 3,200  of  6,712.    Elapsed: 0:23:23.\n",
            "  Batch 3,240  of  6,712.    Elapsed: 0:23:40.\n",
            "  Batch 3,280  of  6,712.    Elapsed: 0:23:58.\n",
            "  Batch 3,320  of  6,712.    Elapsed: 0:24:15.\n",
            "  Batch 3,360  of  6,712.    Elapsed: 0:24:33.\n",
            "  Batch 3,400  of  6,712.    Elapsed: 0:24:50.\n",
            "  Batch 3,440  of  6,712.    Elapsed: 0:25:08.\n",
            "  Batch 3,480  of  6,712.    Elapsed: 0:25:25.\n",
            "  Batch 3,520  of  6,712.    Elapsed: 0:25:43.\n",
            "  Batch 3,560  of  6,712.    Elapsed: 0:26:00.\n",
            "  Batch 3,600  of  6,712.    Elapsed: 0:26:18.\n",
            "  Batch 3,640  of  6,712.    Elapsed: 0:26:35.\n",
            "  Batch 3,680  of  6,712.    Elapsed: 0:26:53.\n",
            "  Batch 3,720  of  6,712.    Elapsed: 0:27:10.\n",
            "  Batch 3,760  of  6,712.    Elapsed: 0:27:28.\n",
            "  Batch 3,800  of  6,712.    Elapsed: 0:27:45.\n",
            "  Batch 3,840  of  6,712.    Elapsed: 0:28:03.\n",
            "  Batch 3,880  of  6,712.    Elapsed: 0:28:20.\n",
            "  Batch 3,920  of  6,712.    Elapsed: 0:28:38.\n",
            "  Batch 3,960  of  6,712.    Elapsed: 0:28:55.\n",
            "  Batch 4,000  of  6,712.    Elapsed: 0:29:13.\n",
            "  Batch 4,040  of  6,712.    Elapsed: 0:29:30.\n",
            "  Batch 4,080  of  6,712.    Elapsed: 0:29:48.\n",
            "  Batch 4,120  of  6,712.    Elapsed: 0:30:05.\n",
            "  Batch 4,160  of  6,712.    Elapsed: 0:30:23.\n",
            "  Batch 4,200  of  6,712.    Elapsed: 0:30:40.\n",
            "  Batch 4,240  of  6,712.    Elapsed: 0:30:58.\n",
            "  Batch 4,280  of  6,712.    Elapsed: 0:31:15.\n",
            "  Batch 4,320  of  6,712.    Elapsed: 0:31:33.\n",
            "  Batch 4,360  of  6,712.    Elapsed: 0:31:50.\n",
            "  Batch 4,400  of  6,712.    Elapsed: 0:32:08.\n",
            "  Batch 4,440  of  6,712.    Elapsed: 0:32:25.\n",
            "  Batch 4,480  of  6,712.    Elapsed: 0:32:43.\n",
            "  Batch 4,520  of  6,712.    Elapsed: 0:33:00.\n",
            "  Batch 4,560  of  6,712.    Elapsed: 0:33:18.\n",
            "  Batch 4,600  of  6,712.    Elapsed: 0:33:35.\n",
            "  Batch 4,640  of  6,712.    Elapsed: 0:33:53.\n",
            "  Batch 4,680  of  6,712.    Elapsed: 0:34:10.\n",
            "  Batch 4,720  of  6,712.    Elapsed: 0:34:28.\n",
            "  Batch 4,760  of  6,712.    Elapsed: 0:34:45.\n",
            "  Batch 4,800  of  6,712.    Elapsed: 0:35:03.\n",
            "  Batch 4,840  of  6,712.    Elapsed: 0:35:20.\n",
            "  Batch 4,880  of  6,712.    Elapsed: 0:35:38.\n",
            "  Batch 4,920  of  6,712.    Elapsed: 0:35:55.\n",
            "  Batch 4,960  of  6,712.    Elapsed: 0:36:13.\n",
            "  Batch 5,000  of  6,712.    Elapsed: 0:36:30.\n",
            "  Batch 5,040  of  6,712.    Elapsed: 0:36:48.\n",
            "  Batch 5,080  of  6,712.    Elapsed: 0:37:05.\n",
            "  Batch 5,120  of  6,712.    Elapsed: 0:37:23.\n",
            "  Batch 5,160  of  6,712.    Elapsed: 0:37:40.\n",
            "  Batch 5,200  of  6,712.    Elapsed: 0:37:58.\n",
            "  Batch 5,240  of  6,712.    Elapsed: 0:38:15.\n",
            "  Batch 5,280  of  6,712.    Elapsed: 0:38:33.\n",
            "  Batch 5,320  of  6,712.    Elapsed: 0:38:50.\n",
            "  Batch 5,360  of  6,712.    Elapsed: 0:39:08.\n",
            "  Batch 5,400  of  6,712.    Elapsed: 0:39:25.\n",
            "  Batch 5,440  of  6,712.    Elapsed: 0:39:43.\n",
            "  Batch 5,480  of  6,712.    Elapsed: 0:40:00.\n",
            "  Batch 5,520  of  6,712.    Elapsed: 0:40:18.\n",
            "  Batch 5,560  of  6,712.    Elapsed: 0:40:35.\n",
            "  Batch 5,600  of  6,712.    Elapsed: 0:40:53.\n",
            "  Batch 5,640  of  6,712.    Elapsed: 0:41:10.\n",
            "  Batch 5,680  of  6,712.    Elapsed: 0:41:28.\n",
            "  Batch 5,720  of  6,712.    Elapsed: 0:41:45.\n",
            "  Batch 5,760  of  6,712.    Elapsed: 0:42:03.\n",
            "  Batch 5,800  of  6,712.    Elapsed: 0:42:20.\n",
            "  Batch 5,840  of  6,712.    Elapsed: 0:42:38.\n",
            "  Batch 5,880  of  6,712.    Elapsed: 0:42:56.\n",
            "  Batch 5,920  of  6,712.    Elapsed: 0:43:13.\n",
            "  Batch 5,960  of  6,712.    Elapsed: 0:43:31.\n",
            "  Batch 6,000  of  6,712.    Elapsed: 0:43:48.\n",
            "  Batch 6,040  of  6,712.    Elapsed: 0:44:06.\n",
            "  Batch 6,080  of  6,712.    Elapsed: 0:44:23.\n",
            "  Batch 6,120  of  6,712.    Elapsed: 0:44:41.\n",
            "  Batch 6,160  of  6,712.    Elapsed: 0:44:58.\n",
            "  Batch 6,200  of  6,712.    Elapsed: 0:45:16.\n",
            "  Batch 6,240  of  6,712.    Elapsed: 0:45:33.\n",
            "  Batch 6,280  of  6,712.    Elapsed: 0:45:51.\n",
            "  Batch 6,320  of  6,712.    Elapsed: 0:46:09.\n",
            "  Batch 6,360  of  6,712.    Elapsed: 0:46:26.\n",
            "  Batch 6,400  of  6,712.    Elapsed: 0:46:44.\n",
            "  Batch 6,440  of  6,712.    Elapsed: 0:47:01.\n",
            "  Batch 6,480  of  6,712.    Elapsed: 0:47:19.\n",
            "  Batch 6,520  of  6,712.    Elapsed: 0:47:36.\n",
            "  Batch 6,560  of  6,712.    Elapsed: 0:47:54.\n",
            "  Batch 6,600  of  6,712.    Elapsed: 0:48:11.\n",
            "  Batch 6,640  of  6,712.    Elapsed: 0:48:29.\n",
            "  Batch 6,680  of  6,712.    Elapsed: 0:48:46.\n",
            "\n",
            "  Average training loss: 0.89\n",
            "  Training epcoh took: 0:49:00\n",
            "\n",
            "Running Validation...\n",
            "  Accuracy: 0.76\n",
            "  Validation Loss: 0.78\n",
            "  Validation took: 0:01:55\n",
            "Model saved to ==> /content/gdrive/My Drive/Reddit/lr_2e_6_newsplit/model_epoch_1.tar\n",
            "Metrics saved to ==> /content/gdrive/My Drive/Reddit/lr_2e_6_newsplit/metrics_epoch_1.tar\n",
            "\n",
            "======== Epoch 3 / 6 ========\n",
            "Training...\n",
            "  Batch    40  of  6,712.    Elapsed: 0:00:17.\n",
            "  Batch    80  of  6,712.    Elapsed: 0:00:35.\n",
            "  Batch   120  of  6,712.    Elapsed: 0:00:53.\n",
            "  Batch   160  of  6,712.    Elapsed: 0:01:10.\n",
            "  Batch   200  of  6,712.    Elapsed: 0:01:28.\n",
            "  Batch   240  of  6,712.    Elapsed: 0:01:45.\n",
            "  Batch   280  of  6,712.    Elapsed: 0:02:03.\n",
            "  Batch   320  of  6,712.    Elapsed: 0:02:20.\n",
            "  Batch   360  of  6,712.    Elapsed: 0:02:38.\n",
            "  Batch   400  of  6,712.    Elapsed: 0:02:56.\n",
            "  Batch   440  of  6,712.    Elapsed: 0:03:13.\n",
            "  Batch   480  of  6,712.    Elapsed: 0:03:31.\n",
            "  Batch   520  of  6,712.    Elapsed: 0:03:48.\n",
            "  Batch   560  of  6,712.    Elapsed: 0:04:06.\n",
            "  Batch   600  of  6,712.    Elapsed: 0:04:23.\n",
            "  Batch   640  of  6,712.    Elapsed: 0:04:41.\n",
            "  Batch   680  of  6,712.    Elapsed: 0:04:58.\n",
            "  Batch   720  of  6,712.    Elapsed: 0:05:16.\n",
            "  Batch   760  of  6,712.    Elapsed: 0:05:33.\n",
            "  Batch   800  of  6,712.    Elapsed: 0:05:51.\n",
            "  Batch   840  of  6,712.    Elapsed: 0:06:08.\n",
            "  Batch   880  of  6,712.    Elapsed: 0:06:26.\n",
            "  Batch   920  of  6,712.    Elapsed: 0:06:43.\n",
            "  Batch   960  of  6,712.    Elapsed: 0:07:01.\n",
            "  Batch 1,000  of  6,712.    Elapsed: 0:07:18.\n",
            "  Batch 1,040  of  6,712.    Elapsed: 0:07:36.\n",
            "  Batch 1,080  of  6,712.    Elapsed: 0:07:53.\n",
            "  Batch 1,120  of  6,712.    Elapsed: 0:08:11.\n",
            "  Batch 1,160  of  6,712.    Elapsed: 0:08:28.\n",
            "  Batch 1,200  of  6,712.    Elapsed: 0:08:46.\n",
            "  Batch 1,240  of  6,712.    Elapsed: 0:09:03.\n",
            "  Batch 1,280  of  6,712.    Elapsed: 0:09:21.\n",
            "  Batch 1,320  of  6,712.    Elapsed: 0:09:38.\n",
            "  Batch 1,360  of  6,712.    Elapsed: 0:09:56.\n",
            "  Batch 1,400  of  6,712.    Elapsed: 0:10:13.\n",
            "  Batch 1,440  of  6,712.    Elapsed: 0:10:31.\n",
            "  Batch 1,480  of  6,712.    Elapsed: 0:10:48.\n",
            "  Batch 1,520  of  6,712.    Elapsed: 0:11:06.\n",
            "  Batch 1,560  of  6,712.    Elapsed: 0:11:24.\n",
            "  Batch 1,600  of  6,712.    Elapsed: 0:11:41.\n",
            "  Batch 1,640  of  6,712.    Elapsed: 0:11:59.\n",
            "  Batch 1,680  of  6,712.    Elapsed: 0:12:16.\n",
            "  Batch 1,720  of  6,712.    Elapsed: 0:12:34.\n",
            "  Batch 1,760  of  6,712.    Elapsed: 0:12:51.\n",
            "  Batch 1,800  of  6,712.    Elapsed: 0:13:09.\n",
            "  Batch 1,840  of  6,712.    Elapsed: 0:13:26.\n",
            "  Batch 1,880  of  6,712.    Elapsed: 0:13:44.\n",
            "  Batch 1,920  of  6,712.    Elapsed: 0:14:01.\n",
            "  Batch 1,960  of  6,712.    Elapsed: 0:14:19.\n",
            "  Batch 2,000  of  6,712.    Elapsed: 0:14:36.\n",
            "  Batch 2,040  of  6,712.    Elapsed: 0:14:54.\n",
            "  Batch 2,080  of  6,712.    Elapsed: 0:15:11.\n",
            "  Batch 2,120  of  6,712.    Elapsed: 0:15:29.\n",
            "  Batch 2,160  of  6,712.    Elapsed: 0:15:46.\n",
            "  Batch 2,200  of  6,712.    Elapsed: 0:16:04.\n",
            "  Batch 2,240  of  6,712.    Elapsed: 0:16:21.\n",
            "  Batch 2,280  of  6,712.    Elapsed: 0:16:39.\n",
            "  Batch 2,320  of  6,712.    Elapsed: 0:16:56.\n",
            "  Batch 2,360  of  6,712.    Elapsed: 0:17:14.\n",
            "  Batch 2,400  of  6,712.    Elapsed: 0:17:31.\n",
            "  Batch 2,440  of  6,712.    Elapsed: 0:17:49.\n",
            "  Batch 2,480  of  6,712.    Elapsed: 0:18:06.\n",
            "  Batch 2,520  of  6,712.    Elapsed: 0:18:24.\n",
            "  Batch 2,560  of  6,712.    Elapsed: 0:18:41.\n",
            "  Batch 2,600  of  6,712.    Elapsed: 0:18:59.\n",
            "  Batch 2,640  of  6,712.    Elapsed: 0:19:17.\n",
            "  Batch 2,680  of  6,712.    Elapsed: 0:19:34.\n",
            "  Batch 2,720  of  6,712.    Elapsed: 0:19:52.\n",
            "  Batch 2,760  of  6,712.    Elapsed: 0:20:09.\n",
            "  Batch 2,800  of  6,712.    Elapsed: 0:20:27.\n",
            "  Batch 2,840  of  6,712.    Elapsed: 0:20:44.\n",
            "  Batch 2,880  of  6,712.    Elapsed: 0:21:02.\n",
            "  Batch 2,920  of  6,712.    Elapsed: 0:21:19.\n",
            "  Batch 2,960  of  6,712.    Elapsed: 0:21:37.\n",
            "  Batch 3,000  of  6,712.    Elapsed: 0:21:54.\n",
            "  Batch 3,040  of  6,712.    Elapsed: 0:22:12.\n",
            "  Batch 3,080  of  6,712.    Elapsed: 0:22:29.\n",
            "  Batch 3,120  of  6,712.    Elapsed: 0:22:47.\n",
            "  Batch 3,160  of  6,712.    Elapsed: 0:23:04.\n",
            "  Batch 3,200  of  6,712.    Elapsed: 0:23:22.\n",
            "  Batch 3,240  of  6,712.    Elapsed: 0:23:39.\n",
            "  Batch 3,280  of  6,712.    Elapsed: 0:23:57.\n",
            "  Batch 3,320  of  6,712.    Elapsed: 0:24:14.\n",
            "  Batch 3,360  of  6,712.    Elapsed: 0:24:32.\n",
            "  Batch 3,400  of  6,712.    Elapsed: 0:24:50.\n",
            "  Batch 3,440  of  6,712.    Elapsed: 0:25:07.\n",
            "  Batch 3,480  of  6,712.    Elapsed: 0:25:25.\n",
            "  Batch 3,520  of  6,712.    Elapsed: 0:25:42.\n",
            "  Batch 3,560  of  6,712.    Elapsed: 0:26:00.\n",
            "  Batch 3,600  of  6,712.    Elapsed: 0:26:17.\n",
            "  Batch 3,640  of  6,712.    Elapsed: 0:26:35.\n",
            "  Batch 3,680  of  6,712.    Elapsed: 0:26:52.\n",
            "  Batch 3,720  of  6,712.    Elapsed: 0:27:10.\n",
            "  Batch 3,760  of  6,712.    Elapsed: 0:27:27.\n",
            "  Batch 3,800  of  6,712.    Elapsed: 0:27:45.\n",
            "  Batch 3,840  of  6,712.    Elapsed: 0:28:02.\n",
            "  Batch 3,880  of  6,712.    Elapsed: 0:28:20.\n",
            "  Batch 3,920  of  6,712.    Elapsed: 0:28:37.\n",
            "  Batch 3,960  of  6,712.    Elapsed: 0:28:55.\n",
            "  Batch 4,000  of  6,712.    Elapsed: 0:29:12.\n",
            "  Batch 4,040  of  6,712.    Elapsed: 0:29:30.\n",
            "  Batch 4,080  of  6,712.    Elapsed: 0:29:48.\n",
            "  Batch 4,120  of  6,712.    Elapsed: 0:30:05.\n",
            "  Batch 4,160  of  6,712.    Elapsed: 0:30:23.\n",
            "  Batch 4,200  of  6,712.    Elapsed: 0:30:40.\n",
            "  Batch 4,240  of  6,712.    Elapsed: 0:30:58.\n",
            "  Batch 4,280  of  6,712.    Elapsed: 0:31:15.\n",
            "  Batch 4,320  of  6,712.    Elapsed: 0:31:33.\n",
            "  Batch 4,360  of  6,712.    Elapsed: 0:31:51.\n",
            "  Batch 4,400  of  6,712.    Elapsed: 0:32:08.\n",
            "  Batch 4,440  of  6,712.    Elapsed: 0:32:25.\n",
            "  Batch 4,480  of  6,712.    Elapsed: 0:32:43.\n",
            "  Batch 4,520  of  6,712.    Elapsed: 0:33:00.\n",
            "  Batch 4,560  of  6,712.    Elapsed: 0:33:18.\n",
            "  Batch 4,600  of  6,712.    Elapsed: 0:33:35.\n",
            "  Batch 4,640  of  6,712.    Elapsed: 0:33:53.\n",
            "  Batch 4,680  of  6,712.    Elapsed: 0:34:10.\n",
            "  Batch 4,720  of  6,712.    Elapsed: 0:34:28.\n",
            "  Batch 4,760  of  6,712.    Elapsed: 0:34:45.\n",
            "  Batch 4,800  of  6,712.    Elapsed: 0:35:03.\n",
            "  Batch 4,840  of  6,712.    Elapsed: 0:35:20.\n",
            "  Batch 4,880  of  6,712.    Elapsed: 0:35:38.\n",
            "  Batch 4,920  of  6,712.    Elapsed: 0:35:55.\n",
            "  Batch 4,960  of  6,712.    Elapsed: 0:36:13.\n",
            "  Batch 5,000  of  6,712.    Elapsed: 0:36:30.\n",
            "  Batch 5,040  of  6,712.    Elapsed: 0:36:48.\n",
            "  Batch 5,080  of  6,712.    Elapsed: 0:37:05.\n",
            "  Batch 5,120  of  6,712.    Elapsed: 0:37:23.\n",
            "  Batch 5,160  of  6,712.    Elapsed: 0:37:40.\n",
            "  Batch 5,200  of  6,712.    Elapsed: 0:37:58.\n",
            "  Batch 5,240  of  6,712.    Elapsed: 0:38:15.\n",
            "  Batch 5,280  of  6,712.    Elapsed: 0:38:33.\n",
            "  Batch 5,320  of  6,712.    Elapsed: 0:38:50.\n",
            "  Batch 5,360  of  6,712.    Elapsed: 0:39:08.\n",
            "  Batch 5,400  of  6,712.    Elapsed: 0:39:25.\n",
            "  Batch 5,440  of  6,712.    Elapsed: 0:39:43.\n",
            "  Batch 5,480  of  6,712.    Elapsed: 0:40:01.\n",
            "  Batch 5,520  of  6,712.    Elapsed: 0:40:18.\n",
            "  Batch 5,560  of  6,712.    Elapsed: 0:40:36.\n",
            "  Batch 5,600  of  6,712.    Elapsed: 0:40:53.\n",
            "  Batch 5,640  of  6,712.    Elapsed: 0:41:11.\n",
            "  Batch 5,680  of  6,712.    Elapsed: 0:41:28.\n",
            "  Batch 5,720  of  6,712.    Elapsed: 0:41:45.\n",
            "  Batch 5,760  of  6,712.    Elapsed: 0:42:03.\n",
            "  Batch 5,800  of  6,712.    Elapsed: 0:42:20.\n",
            "  Batch 5,840  of  6,712.    Elapsed: 0:42:38.\n",
            "  Batch 5,880  of  6,712.    Elapsed: 0:42:55.\n",
            "  Batch 5,920  of  6,712.    Elapsed: 0:43:13.\n",
            "  Batch 5,960  of  6,712.    Elapsed: 0:43:30.\n",
            "  Batch 6,000  of  6,712.    Elapsed: 0:43:48.\n",
            "  Batch 6,040  of  6,712.    Elapsed: 0:44:05.\n",
            "  Batch 6,080  of  6,712.    Elapsed: 0:44:23.\n",
            "  Batch 6,120  of  6,712.    Elapsed: 0:44:40.\n",
            "  Batch 6,160  of  6,712.    Elapsed: 0:44:58.\n",
            "  Batch 6,200  of  6,712.    Elapsed: 0:45:15.\n",
            "  Batch 6,240  of  6,712.    Elapsed: 0:45:33.\n",
            "  Batch 6,280  of  6,712.    Elapsed: 0:45:50.\n",
            "  Batch 6,320  of  6,712.    Elapsed: 0:46:08.\n",
            "  Batch 6,360  of  6,712.    Elapsed: 0:46:25.\n",
            "  Batch 6,400  of  6,712.    Elapsed: 0:46:43.\n",
            "  Batch 6,440  of  6,712.    Elapsed: 0:47:01.\n",
            "  Batch 6,480  of  6,712.    Elapsed: 0:47:18.\n",
            "  Batch 6,520  of  6,712.    Elapsed: 0:47:36.\n",
            "  Batch 6,560  of  6,712.    Elapsed: 0:47:53.\n",
            "  Batch 6,600  of  6,712.    Elapsed: 0:48:11.\n",
            "  Batch 6,640  of  6,712.    Elapsed: 0:48:28.\n",
            "  Batch 6,680  of  6,712.    Elapsed: 0:48:46.\n",
            "\n",
            "  Average training loss: 0.72\n",
            "  Training epcoh took: 0:49:00\n",
            "\n",
            "Running Validation...\n",
            "  Accuracy: 0.78\n",
            "  Validation Loss: 0.75\n",
            "  Validation took: 0:01:55\n",
            "Model saved to ==> /content/gdrive/My Drive/Reddit/lr_2e_6_newsplit/model_epoch_2.tar\n",
            "Metrics saved to ==> /content/gdrive/My Drive/Reddit/lr_2e_6_newsplit/metrics_epoch_2.tar\n",
            "\n",
            "======== Epoch 4 / 6 ========\n",
            "Training...\n",
            "  Batch    40  of  6,712.    Elapsed: 0:00:17.\n",
            "  Batch    80  of  6,712.    Elapsed: 0:00:35.\n",
            "  Batch   120  of  6,712.    Elapsed: 0:00:53.\n",
            "  Batch   160  of  6,712.    Elapsed: 0:01:10.\n",
            "  Batch   200  of  6,712.    Elapsed: 0:01:28.\n",
            "  Batch   240  of  6,712.    Elapsed: 0:01:45.\n",
            "  Batch   280  of  6,712.    Elapsed: 0:02:03.\n",
            "  Batch   320  of  6,712.    Elapsed: 0:02:20.\n",
            "  Batch   360  of  6,712.    Elapsed: 0:02:38.\n",
            "  Batch   400  of  6,712.    Elapsed: 0:02:55.\n",
            "  Batch   440  of  6,712.    Elapsed: 0:03:13.\n",
            "  Batch   480  of  6,712.    Elapsed: 0:03:30.\n",
            "  Batch   520  of  6,712.    Elapsed: 0:03:48.\n",
            "  Batch   560  of  6,712.    Elapsed: 0:04:05.\n",
            "  Batch   600  of  6,712.    Elapsed: 0:04:23.\n",
            "  Batch   640  of  6,712.    Elapsed: 0:04:41.\n",
            "  Batch   680  of  6,712.    Elapsed: 0:04:58.\n",
            "  Batch   720  of  6,712.    Elapsed: 0:05:15.\n",
            "  Batch   760  of  6,712.    Elapsed: 0:05:33.\n",
            "  Batch   800  of  6,712.    Elapsed: 0:05:51.\n",
            "  Batch   840  of  6,712.    Elapsed: 0:06:08.\n",
            "  Batch   880  of  6,712.    Elapsed: 0:06:26.\n",
            "  Batch   920  of  6,712.    Elapsed: 0:06:43.\n",
            "  Batch   960  of  6,712.    Elapsed: 0:07:01.\n",
            "  Batch 1,000  of  6,712.    Elapsed: 0:07:18.\n",
            "  Batch 1,040  of  6,712.    Elapsed: 0:07:36.\n",
            "  Batch 1,080  of  6,712.    Elapsed: 0:07:53.\n",
            "  Batch 1,120  of  6,712.    Elapsed: 0:08:11.\n",
            "  Batch 1,160  of  6,712.    Elapsed: 0:08:28.\n",
            "  Batch 1,200  of  6,712.    Elapsed: 0:08:46.\n",
            "  Batch 1,240  of  6,712.    Elapsed: 0:09:03.\n",
            "  Batch 1,280  of  6,712.    Elapsed: 0:09:21.\n",
            "  Batch 1,320  of  6,712.    Elapsed: 0:09:39.\n",
            "  Batch 1,360  of  6,712.    Elapsed: 0:09:56.\n",
            "  Batch 1,400  of  6,712.    Elapsed: 0:10:14.\n",
            "  Batch 1,440  of  6,712.    Elapsed: 0:10:31.\n",
            "  Batch 1,480  of  6,712.    Elapsed: 0:10:49.\n",
            "  Batch 1,520  of  6,712.    Elapsed: 0:11:06.\n",
            "  Batch 1,560  of  6,712.    Elapsed: 0:11:24.\n",
            "  Batch 1,600  of  6,712.    Elapsed: 0:11:41.\n",
            "  Batch 1,640  of  6,712.    Elapsed: 0:11:59.\n",
            "  Batch 1,680  of  6,712.    Elapsed: 0:12:16.\n",
            "  Batch 1,720  of  6,712.    Elapsed: 0:12:34.\n",
            "  Batch 1,760  of  6,712.    Elapsed: 0:12:51.\n",
            "  Batch 1,800  of  6,712.    Elapsed: 0:13:09.\n",
            "  Batch 1,840  of  6,712.    Elapsed: 0:13:26.\n",
            "  Batch 1,880  of  6,712.    Elapsed: 0:13:43.\n",
            "  Batch 1,920  of  6,712.    Elapsed: 0:14:01.\n",
            "  Batch 1,960  of  6,712.    Elapsed: 0:14:18.\n",
            "  Batch 2,000  of  6,712.    Elapsed: 0:14:36.\n",
            "  Batch 2,040  of  6,712.    Elapsed: 0:14:53.\n",
            "  Batch 2,080  of  6,712.    Elapsed: 0:15:11.\n",
            "  Batch 2,120  of  6,712.    Elapsed: 0:15:29.\n",
            "  Batch 2,160  of  6,712.    Elapsed: 0:15:46.\n",
            "  Batch 2,200  of  6,712.    Elapsed: 0:16:04.\n",
            "  Batch 2,240  of  6,712.    Elapsed: 0:16:21.\n",
            "  Batch 2,280  of  6,712.    Elapsed: 0:16:39.\n",
            "  Batch 2,320  of  6,712.    Elapsed: 0:16:56.\n",
            "  Batch 2,360  of  6,712.    Elapsed: 0:17:14.\n",
            "  Batch 2,400  of  6,712.    Elapsed: 0:17:31.\n",
            "  Batch 2,440  of  6,712.    Elapsed: 0:17:49.\n",
            "  Batch 2,480  of  6,712.    Elapsed: 0:18:06.\n",
            "  Batch 2,520  of  6,712.    Elapsed: 0:18:24.\n",
            "  Batch 2,560  of  6,712.    Elapsed: 0:18:41.\n",
            "  Batch 2,600  of  6,712.    Elapsed: 0:18:59.\n",
            "  Batch 2,640  of  6,712.    Elapsed: 0:19:16.\n",
            "  Batch 2,680  of  6,712.    Elapsed: 0:19:34.\n",
            "  Batch 2,720  of  6,712.    Elapsed: 0:19:51.\n",
            "  Batch 2,760  of  6,712.    Elapsed: 0:20:09.\n",
            "  Batch 2,800  of  6,712.    Elapsed: 0:20:26.\n",
            "  Batch 2,840  of  6,712.    Elapsed: 0:20:44.\n",
            "  Batch 2,880  of  6,712.    Elapsed: 0:21:01.\n",
            "  Batch 2,920  of  6,712.    Elapsed: 0:21:19.\n",
            "  Batch 2,960  of  6,712.    Elapsed: 0:21:36.\n",
            "  Batch 3,000  of  6,712.    Elapsed: 0:21:54.\n",
            "  Batch 3,040  of  6,712.    Elapsed: 0:22:11.\n",
            "  Batch 3,080  of  6,712.    Elapsed: 0:22:29.\n",
            "  Batch 3,120  of  6,712.    Elapsed: 0:22:46.\n",
            "  Batch 3,160  of  6,712.    Elapsed: 0:23:04.\n",
            "  Batch 3,200  of  6,712.    Elapsed: 0:23:21.\n",
            "  Batch 3,240  of  6,712.    Elapsed: 0:23:39.\n",
            "  Batch 3,280  of  6,712.    Elapsed: 0:23:56.\n",
            "  Batch 3,320  of  6,712.    Elapsed: 0:24:14.\n",
            "  Batch 3,360  of  6,712.    Elapsed: 0:24:31.\n",
            "  Batch 3,400  of  6,712.    Elapsed: 0:24:49.\n",
            "  Batch 3,440  of  6,712.    Elapsed: 0:25:06.\n",
            "  Batch 3,480  of  6,712.    Elapsed: 0:25:24.\n",
            "  Batch 3,520  of  6,712.    Elapsed: 0:25:42.\n",
            "  Batch 3,560  of  6,712.    Elapsed: 0:25:59.\n",
            "  Batch 3,600  of  6,712.    Elapsed: 0:26:17.\n",
            "  Batch 3,640  of  6,712.    Elapsed: 0:26:34.\n",
            "  Batch 3,680  of  6,712.    Elapsed: 0:26:52.\n",
            "  Batch 3,720  of  6,712.    Elapsed: 0:27:09.\n",
            "  Batch 3,760  of  6,712.    Elapsed: 0:27:27.\n",
            "  Batch 3,800  of  6,712.    Elapsed: 0:27:44.\n",
            "  Batch 3,840  of  6,712.    Elapsed: 0:28:02.\n",
            "  Batch 3,880  of  6,712.    Elapsed: 0:28:19.\n",
            "  Batch 3,920  of  6,712.    Elapsed: 0:28:37.\n",
            "  Batch 3,960  of  6,712.    Elapsed: 0:28:54.\n",
            "  Batch 4,000  of  6,712.    Elapsed: 0:29:12.\n",
            "  Batch 4,040  of  6,712.    Elapsed: 0:29:29.\n",
            "  Batch 4,080  of  6,712.    Elapsed: 0:29:47.\n",
            "  Batch 4,120  of  6,712.    Elapsed: 0:30:04.\n",
            "  Batch 4,160  of  6,712.    Elapsed: 0:30:22.\n",
            "  Batch 4,200  of  6,712.    Elapsed: 0:30:39.\n",
            "  Batch 4,240  of  6,712.    Elapsed: 0:30:57.\n",
            "  Batch 4,280  of  6,712.    Elapsed: 0:31:14.\n",
            "  Batch 4,320  of  6,712.    Elapsed: 0:31:32.\n",
            "  Batch 4,360  of  6,712.    Elapsed: 0:31:49.\n",
            "  Batch 4,400  of  6,712.    Elapsed: 0:32:07.\n",
            "  Batch 4,440  of  6,712.    Elapsed: 0:32:24.\n",
            "  Batch 4,480  of  6,712.    Elapsed: 0:32:42.\n",
            "  Batch 4,520  of  6,712.    Elapsed: 0:32:59.\n",
            "  Batch 4,560  of  6,712.    Elapsed: 0:33:17.\n",
            "  Batch 4,600  of  6,712.    Elapsed: 0:33:34.\n",
            "  Batch 4,640  of  6,712.    Elapsed: 0:33:52.\n",
            "  Batch 4,680  of  6,712.    Elapsed: 0:34:10.\n",
            "  Batch 4,720  of  6,712.    Elapsed: 0:34:27.\n",
            "  Batch 4,760  of  6,712.    Elapsed: 0:34:45.\n",
            "  Batch 4,800  of  6,712.    Elapsed: 0:35:02.\n",
            "  Batch 4,840  of  6,712.    Elapsed: 0:35:20.\n",
            "  Batch 4,880  of  6,712.    Elapsed: 0:35:37.\n",
            "  Batch 4,920  of  6,712.    Elapsed: 0:35:55.\n",
            "  Batch 4,960  of  6,712.    Elapsed: 0:36:12.\n",
            "  Batch 5,000  of  6,712.    Elapsed: 0:36:30.\n",
            "  Batch 5,040  of  6,712.    Elapsed: 0:36:47.\n",
            "  Batch 5,080  of  6,712.    Elapsed: 0:37:05.\n",
            "  Batch 5,120  of  6,712.    Elapsed: 0:37:22.\n",
            "  Batch 5,160  of  6,712.    Elapsed: 0:37:40.\n",
            "  Batch 5,200  of  6,712.    Elapsed: 0:37:57.\n",
            "  Batch 5,240  of  6,712.    Elapsed: 0:38:15.\n",
            "  Batch 5,280  of  6,712.    Elapsed: 0:38:32.\n",
            "  Batch 5,320  of  6,712.    Elapsed: 0:38:50.\n",
            "  Batch 5,360  of  6,712.    Elapsed: 0:39:07.\n",
            "  Batch 5,400  of  6,712.    Elapsed: 0:39:25.\n",
            "  Batch 5,440  of  6,712.    Elapsed: 0:39:42.\n",
            "  Batch 5,480  of  6,712.    Elapsed: 0:40:00.\n",
            "  Batch 5,520  of  6,712.    Elapsed: 0:40:17.\n",
            "  Batch 5,560  of  6,712.    Elapsed: 0:40:35.\n",
            "  Batch 5,600  of  6,712.    Elapsed: 0:40:52.\n",
            "  Batch 5,640  of  6,712.    Elapsed: 0:41:10.\n",
            "  Batch 5,680  of  6,712.    Elapsed: 0:41:27.\n",
            "  Batch 5,720  of  6,712.    Elapsed: 0:41:45.\n",
            "  Batch 5,760  of  6,712.    Elapsed: 0:42:02.\n",
            "  Batch 5,800  of  6,712.    Elapsed: 0:42:20.\n",
            "  Batch 5,840  of  6,712.    Elapsed: 0:42:37.\n",
            "  Batch 5,880  of  6,712.    Elapsed: 0:42:55.\n",
            "  Batch 5,920  of  6,712.    Elapsed: 0:43:12.\n",
            "  Batch 5,960  of  6,712.    Elapsed: 0:43:30.\n",
            "  Batch 6,000  of  6,712.    Elapsed: 0:43:47.\n",
            "  Batch 6,040  of  6,712.    Elapsed: 0:44:05.\n",
            "  Batch 6,080  of  6,712.    Elapsed: 0:44:22.\n",
            "  Batch 6,120  of  6,712.    Elapsed: 0:44:40.\n",
            "  Batch 6,160  of  6,712.    Elapsed: 0:44:57.\n",
            "  Batch 6,200  of  6,712.    Elapsed: 0:45:15.\n",
            "  Batch 6,240  of  6,712.    Elapsed: 0:45:32.\n",
            "  Batch 6,280  of  6,712.    Elapsed: 0:45:50.\n",
            "  Batch 6,320  of  6,712.    Elapsed: 0:46:07.\n",
            "  Batch 6,360  of  6,712.    Elapsed: 0:46:25.\n",
            "  Batch 6,400  of  6,712.    Elapsed: 0:46:42.\n",
            "  Batch 6,440  of  6,712.    Elapsed: 0:47:00.\n",
            "  Batch 6,480  of  6,712.    Elapsed: 0:47:17.\n",
            "  Batch 6,520  of  6,712.    Elapsed: 0:47:35.\n",
            "  Batch 6,560  of  6,712.    Elapsed: 0:47:52.\n",
            "  Batch 6,600  of  6,712.    Elapsed: 0:48:10.\n",
            "  Batch 6,640  of  6,712.    Elapsed: 0:48:27.\n",
            "  Batch 6,680  of  6,712.    Elapsed: 0:48:45.\n",
            "\n",
            "  Average training loss: 0.64\n",
            "  Training epcoh took: 0:48:59\n",
            "\n",
            "Running Validation...\n",
            "  Accuracy: 0.80\n",
            "  Validation Loss: 0.73\n",
            "  Validation took: 0:01:55\n",
            "Model saved to ==> /content/gdrive/My Drive/Reddit/lr_2e_6_newsplit/model_epoch_3.tar\n",
            "Metrics saved to ==> /content/gdrive/My Drive/Reddit/lr_2e_6_newsplit/metrics_epoch_3.tar\n",
            "\n",
            "======== Epoch 5 / 6 ========\n",
            "Training...\n",
            "  Batch    40  of  6,712.    Elapsed: 0:00:17.\n",
            "  Batch    80  of  6,712.    Elapsed: 0:00:35.\n",
            "  Batch   120  of  6,712.    Elapsed: 0:00:53.\n",
            "  Batch   160  of  6,712.    Elapsed: 0:01:10.\n",
            "  Batch   200  of  6,712.    Elapsed: 0:01:28.\n",
            "  Batch   240  of  6,712.    Elapsed: 0:01:45.\n",
            "  Batch   280  of  6,712.    Elapsed: 0:02:03.\n",
            "  Batch   320  of  6,712.    Elapsed: 0:02:20.\n",
            "  Batch   360  of  6,712.    Elapsed: 0:02:38.\n",
            "  Batch   400  of  6,712.    Elapsed: 0:02:55.\n",
            "  Batch   440  of  6,712.    Elapsed: 0:03:13.\n",
            "  Batch   480  of  6,712.    Elapsed: 0:03:30.\n",
            "  Batch   520  of  6,712.    Elapsed: 0:03:48.\n",
            "  Batch   560  of  6,712.    Elapsed: 0:04:05.\n",
            "  Batch   600  of  6,712.    Elapsed: 0:04:23.\n",
            "  Batch   640  of  6,712.    Elapsed: 0:04:40.\n",
            "  Batch   680  of  6,712.    Elapsed: 0:04:58.\n",
            "  Batch   720  of  6,712.    Elapsed: 0:05:15.\n",
            "  Batch   760  of  6,712.    Elapsed: 0:05:33.\n",
            "  Batch   800  of  6,712.    Elapsed: 0:05:50.\n",
            "  Batch   840  of  6,712.    Elapsed: 0:06:08.\n",
            "  Batch   880  of  6,712.    Elapsed: 0:06:25.\n",
            "  Batch   920  of  6,712.    Elapsed: 0:06:43.\n",
            "  Batch   960  of  6,712.    Elapsed: 0:07:00.\n",
            "  Batch 1,000  of  6,712.    Elapsed: 0:07:18.\n",
            "  Batch 1,040  of  6,712.    Elapsed: 0:07:35.\n",
            "  Batch 1,080  of  6,712.    Elapsed: 0:07:53.\n",
            "  Batch 1,120  of  6,712.    Elapsed: 0:08:10.\n",
            "  Batch 1,160  of  6,712.    Elapsed: 0:08:28.\n",
            "  Batch 1,200  of  6,712.    Elapsed: 0:08:46.\n",
            "  Batch 1,240  of  6,712.    Elapsed: 0:09:03.\n",
            "  Batch 1,280  of  6,712.    Elapsed: 0:09:21.\n",
            "  Batch 1,320  of  6,712.    Elapsed: 0:09:38.\n",
            "  Batch 1,360  of  6,712.    Elapsed: 0:09:56.\n",
            "  Batch 1,400  of  6,712.    Elapsed: 0:10:13.\n",
            "  Batch 1,440  of  6,712.    Elapsed: 0:10:31.\n",
            "  Batch 1,480  of  6,712.    Elapsed: 0:10:48.\n",
            "  Batch 1,520  of  6,712.    Elapsed: 0:11:06.\n",
            "  Batch 1,560  of  6,712.    Elapsed: 0:11:23.\n",
            "  Batch 1,600  of  6,712.    Elapsed: 0:11:41.\n",
            "  Batch 1,640  of  6,712.    Elapsed: 0:11:58.\n",
            "  Batch 1,680  of  6,712.    Elapsed: 0:12:16.\n",
            "  Batch 1,720  of  6,712.    Elapsed: 0:12:33.\n",
            "  Batch 1,760  of  6,712.    Elapsed: 0:12:51.\n",
            "  Batch 1,800  of  6,712.    Elapsed: 0:13:08.\n",
            "  Batch 1,840  of  6,712.    Elapsed: 0:13:26.\n",
            "  Batch 1,880  of  6,712.    Elapsed: 0:13:43.\n",
            "  Batch 1,920  of  6,712.    Elapsed: 0:14:01.\n",
            "  Batch 1,960  of  6,712.    Elapsed: 0:14:19.\n",
            "  Batch 2,000  of  6,712.    Elapsed: 0:14:36.\n",
            "  Batch 2,040  of  6,712.    Elapsed: 0:14:53.\n",
            "  Batch 2,080  of  6,712.    Elapsed: 0:15:11.\n",
            "  Batch 2,120  of  6,712.    Elapsed: 0:15:28.\n",
            "  Batch 2,160  of  6,712.    Elapsed: 0:15:46.\n",
            "  Batch 2,200  of  6,712.    Elapsed: 0:16:03.\n",
            "  Batch 2,240  of  6,712.    Elapsed: 0:16:21.\n",
            "  Batch 2,280  of  6,712.    Elapsed: 0:16:38.\n",
            "  Batch 2,320  of  6,712.    Elapsed: 0:16:56.\n",
            "  Batch 2,360  of  6,712.    Elapsed: 0:17:14.\n",
            "  Batch 2,400  of  6,712.    Elapsed: 0:17:31.\n",
            "  Batch 2,440  of  6,712.    Elapsed: 0:17:49.\n",
            "  Batch 2,480  of  6,712.    Elapsed: 0:18:06.\n",
            "  Batch 2,520  of  6,712.    Elapsed: 0:18:24.\n",
            "  Batch 2,560  of  6,712.    Elapsed: 0:18:41.\n",
            "  Batch 2,600  of  6,712.    Elapsed: 0:18:59.\n",
            "  Batch 2,640  of  6,712.    Elapsed: 0:19:16.\n",
            "  Batch 2,680  of  6,712.    Elapsed: 0:19:34.\n",
            "  Batch 2,720  of  6,712.    Elapsed: 0:19:51.\n",
            "  Batch 2,760  of  6,712.    Elapsed: 0:20:09.\n",
            "  Batch 2,800  of  6,712.    Elapsed: 0:20:27.\n",
            "  Batch 2,840  of  6,712.    Elapsed: 0:20:44.\n",
            "  Batch 2,880  of  6,712.    Elapsed: 0:21:02.\n",
            "  Batch 2,920  of  6,712.    Elapsed: 0:21:19.\n",
            "  Batch 2,960  of  6,712.    Elapsed: 0:21:37.\n",
            "  Batch 3,000  of  6,712.    Elapsed: 0:21:54.\n",
            "  Batch 3,040  of  6,712.    Elapsed: 0:22:12.\n",
            "  Batch 3,080  of  6,712.    Elapsed: 0:22:29.\n",
            "  Batch 3,120  of  6,712.    Elapsed: 0:22:47.\n",
            "  Batch 3,160  of  6,712.    Elapsed: 0:23:04.\n",
            "  Batch 3,200  of  6,712.    Elapsed: 0:23:22.\n",
            "  Batch 3,240  of  6,712.    Elapsed: 0:23:39.\n",
            "  Batch 3,280  of  6,712.    Elapsed: 0:23:57.\n",
            "  Batch 3,320  of  6,712.    Elapsed: 0:24:14.\n",
            "  Batch 3,360  of  6,712.    Elapsed: 0:24:32.\n",
            "  Batch 3,400  of  6,712.    Elapsed: 0:24:49.\n",
            "  Batch 3,440  of  6,712.    Elapsed: 0:25:07.\n",
            "  Batch 3,480  of  6,712.    Elapsed: 0:25:24.\n",
            "  Batch 3,520  of  6,712.    Elapsed: 0:25:42.\n",
            "  Batch 3,560  of  6,712.    Elapsed: 0:26:00.\n",
            "  Batch 3,600  of  6,712.    Elapsed: 0:26:17.\n",
            "  Batch 3,640  of  6,712.    Elapsed: 0:26:35.\n",
            "  Batch 3,680  of  6,712.    Elapsed: 0:26:52.\n",
            "  Batch 3,720  of  6,712.    Elapsed: 0:27:10.\n",
            "  Batch 3,760  of  6,712.    Elapsed: 0:27:27.\n",
            "  Batch 3,800  of  6,712.    Elapsed: 0:27:45.\n",
            "  Batch 3,840  of  6,712.    Elapsed: 0:28:02.\n",
            "  Batch 3,880  of  6,712.    Elapsed: 0:28:20.\n",
            "  Batch 3,920  of  6,712.    Elapsed: 0:28:38.\n",
            "  Batch 3,960  of  6,712.    Elapsed: 0:28:55.\n",
            "  Batch 4,000  of  6,712.    Elapsed: 0:29:13.\n",
            "  Batch 4,040  of  6,712.    Elapsed: 0:29:30.\n",
            "  Batch 4,080  of  6,712.    Elapsed: 0:29:48.\n",
            "  Batch 4,120  of  6,712.    Elapsed: 0:30:05.\n",
            "  Batch 4,160  of  6,712.    Elapsed: 0:30:23.\n",
            "  Batch 4,200  of  6,712.    Elapsed: 0:30:40.\n",
            "  Batch 4,240  of  6,712.    Elapsed: 0:30:58.\n",
            "  Batch 4,280  of  6,712.    Elapsed: 0:31:15.\n",
            "  Batch 4,320  of  6,712.    Elapsed: 0:31:33.\n",
            "  Batch 4,360  of  6,712.    Elapsed: 0:31:50.\n",
            "  Batch 4,400  of  6,712.    Elapsed: 0:32:08.\n",
            "  Batch 4,440  of  6,712.    Elapsed: 0:32:25.\n",
            "  Batch 4,480  of  6,712.    Elapsed: 0:32:43.\n",
            "  Batch 4,520  of  6,712.    Elapsed: 0:33:00.\n",
            "  Batch 4,560  of  6,712.    Elapsed: 0:33:18.\n",
            "  Batch 4,600  of  6,712.    Elapsed: 0:33:36.\n",
            "  Batch 4,640  of  6,712.    Elapsed: 0:33:53.\n",
            "  Batch 4,680  of  6,712.    Elapsed: 0:34:11.\n",
            "  Batch 4,720  of  6,712.    Elapsed: 0:34:28.\n",
            "  Batch 4,760  of  6,712.    Elapsed: 0:34:46.\n",
            "  Batch 4,800  of  6,712.    Elapsed: 0:35:03.\n",
            "  Batch 4,840  of  6,712.    Elapsed: 0:35:21.\n",
            "  Batch 4,880  of  6,712.    Elapsed: 0:35:39.\n",
            "  Batch 4,920  of  6,712.    Elapsed: 0:35:56.\n",
            "  Batch 4,960  of  6,712.    Elapsed: 0:36:14.\n",
            "  Batch 5,000  of  6,712.    Elapsed: 0:36:31.\n",
            "  Batch 5,040  of  6,712.    Elapsed: 0:36:49.\n",
            "  Batch 5,080  of  6,712.    Elapsed: 0:37:06.\n",
            "  Batch 5,120  of  6,712.    Elapsed: 0:37:24.\n",
            "  Batch 5,160  of  6,712.    Elapsed: 0:37:41.\n",
            "  Batch 5,200  of  6,712.    Elapsed: 0:37:59.\n",
            "  Batch 5,240  of  6,712.    Elapsed: 0:38:16.\n",
            "  Batch 5,280  of  6,712.    Elapsed: 0:38:34.\n",
            "  Batch 5,320  of  6,712.    Elapsed: 0:38:51.\n",
            "  Batch 5,360  of  6,712.    Elapsed: 0:39:09.\n",
            "  Batch 5,400  of  6,712.    Elapsed: 0:39:26.\n",
            "  Batch 5,440  of  6,712.    Elapsed: 0:39:44.\n",
            "  Batch 5,480  of  6,712.    Elapsed: 0:40:01.\n",
            "  Batch 5,520  of  6,712.    Elapsed: 0:40:19.\n",
            "  Batch 5,560  of  6,712.    Elapsed: 0:40:36.\n",
            "  Batch 5,600  of  6,712.    Elapsed: 0:40:54.\n",
            "  Batch 5,640  of  6,712.    Elapsed: 0:41:11.\n",
            "  Batch 5,680  of  6,712.    Elapsed: 0:41:29.\n",
            "  Batch 5,720  of  6,712.    Elapsed: 0:41:46.\n",
            "  Batch 5,760  of  6,712.    Elapsed: 0:42:04.\n",
            "  Batch 5,800  of  6,712.    Elapsed: 0:42:21.\n",
            "  Batch 5,840  of  6,712.    Elapsed: 0:42:39.\n",
            "  Batch 5,880  of  6,712.    Elapsed: 0:42:56.\n",
            "  Batch 5,920  of  6,712.    Elapsed: 0:43:14.\n",
            "  Batch 5,960  of  6,712.    Elapsed: 0:43:32.\n",
            "  Batch 6,000  of  6,712.    Elapsed: 0:43:49.\n",
            "  Batch 6,040  of  6,712.    Elapsed: 0:44:07.\n",
            "  Batch 6,080  of  6,712.    Elapsed: 0:44:24.\n",
            "  Batch 6,120  of  6,712.    Elapsed: 0:44:42.\n",
            "  Batch 6,160  of  6,712.    Elapsed: 0:44:59.\n",
            "  Batch 6,200  of  6,712.    Elapsed: 0:45:17.\n",
            "  Batch 6,240  of  6,712.    Elapsed: 0:45:34.\n",
            "  Batch 6,280  of  6,712.    Elapsed: 0:45:52.\n",
            "  Batch 6,320  of  6,712.    Elapsed: 0:46:09.\n",
            "  Batch 6,360  of  6,712.    Elapsed: 0:46:27.\n",
            "  Batch 6,400  of  6,712.    Elapsed: 0:46:44.\n",
            "  Batch 6,440  of  6,712.    Elapsed: 0:47:02.\n",
            "  Batch 6,480  of  6,712.    Elapsed: 0:47:19.\n",
            "  Batch 6,520  of  6,712.    Elapsed: 0:47:37.\n",
            "  Batch 6,560  of  6,712.    Elapsed: 0:47:54.\n",
            "  Batch 6,600  of  6,712.    Elapsed: 0:48:12.\n",
            "  Batch 6,640  of  6,712.    Elapsed: 0:48:29.\n",
            "  Batch 6,680  of  6,712.    Elapsed: 0:48:47.\n",
            "\n",
            "  Average training loss: 0.60\n",
            "  Training epcoh took: 0:49:01\n",
            "\n",
            "Running Validation...\n",
            "  Accuracy: 0.80\n",
            "  Validation Loss: 0.73\n",
            "  Validation took: 0:01:55\n",
            "Model saved to ==> /content/gdrive/My Drive/Reddit/lr_2e_6_newsplit/model_epoch_4.tar\n",
            "Metrics saved to ==> /content/gdrive/My Drive/Reddit/lr_2e_6_newsplit/metrics_epoch_4.tar\n",
            "\n",
            "======== Epoch 6 / 6 ========\n",
            "Training...\n",
            "  Batch    40  of  6,712.    Elapsed: 0:00:17.\n",
            "  Batch    80  of  6,712.    Elapsed: 0:00:35.\n",
            "  Batch   120  of  6,712.    Elapsed: 0:00:52.\n",
            "  Batch   160  of  6,712.    Elapsed: 0:01:10.\n",
            "  Batch   200  of  6,712.    Elapsed: 0:01:27.\n",
            "  Batch   240  of  6,712.    Elapsed: 0:01:45.\n",
            "  Batch   280  of  6,712.    Elapsed: 0:02:03.\n",
            "  Batch   320  of  6,712.    Elapsed: 0:02:20.\n",
            "  Batch   360  of  6,712.    Elapsed: 0:02:38.\n",
            "  Batch   400  of  6,712.    Elapsed: 0:02:55.\n",
            "  Batch   440  of  6,712.    Elapsed: 0:03:13.\n",
            "  Batch   480  of  6,712.    Elapsed: 0:03:30.\n",
            "  Batch   520  of  6,712.    Elapsed: 0:03:48.\n",
            "  Batch   560  of  6,712.    Elapsed: 0:04:05.\n",
            "  Batch   600  of  6,712.    Elapsed: 0:04:23.\n",
            "  Batch   640  of  6,712.    Elapsed: 0:04:40.\n",
            "  Batch   680  of  6,712.    Elapsed: 0:04:58.\n",
            "  Batch   720  of  6,712.    Elapsed: 0:05:15.\n",
            "  Batch   760  of  6,712.    Elapsed: 0:05:33.\n",
            "  Batch   800  of  6,712.    Elapsed: 0:05:50.\n",
            "  Batch   840  of  6,712.    Elapsed: 0:06:08.\n",
            "  Batch   880  of  6,712.    Elapsed: 0:06:25.\n",
            "  Batch   920  of  6,712.    Elapsed: 0:06:43.\n",
            "  Batch   960  of  6,712.    Elapsed: 0:07:01.\n",
            "  Batch 1,000  of  6,712.    Elapsed: 0:07:18.\n",
            "  Batch 1,040  of  6,712.    Elapsed: 0:07:36.\n",
            "  Batch 1,080  of  6,712.    Elapsed: 0:07:53.\n",
            "  Batch 1,120  of  6,712.    Elapsed: 0:08:11.\n",
            "  Batch 1,160  of  6,712.    Elapsed: 0:08:28.\n",
            "  Batch 1,200  of  6,712.    Elapsed: 0:08:46.\n",
            "  Batch 1,240  of  6,712.    Elapsed: 0:09:03.\n",
            "  Batch 1,280  of  6,712.    Elapsed: 0:09:21.\n",
            "  Batch 1,320  of  6,712.    Elapsed: 0:09:39.\n",
            "  Batch 1,360  of  6,712.    Elapsed: 0:09:56.\n",
            "  Batch 1,400  of  6,712.    Elapsed: 0:10:14.\n",
            "  Batch 1,440  of  6,712.    Elapsed: 0:10:31.\n",
            "  Batch 1,480  of  6,712.    Elapsed: 0:10:49.\n",
            "  Batch 1,520  of  6,712.    Elapsed: 0:11:06.\n",
            "  Batch 1,560  of  6,712.    Elapsed: 0:11:24.\n",
            "  Batch 1,600  of  6,712.    Elapsed: 0:11:41.\n",
            "  Batch 1,640  of  6,712.    Elapsed: 0:11:59.\n",
            "  Batch 1,680  of  6,712.    Elapsed: 0:12:17.\n",
            "  Batch 1,720  of  6,712.    Elapsed: 0:12:34.\n",
            "  Batch 1,760  of  6,712.    Elapsed: 0:12:52.\n",
            "  Batch 1,800  of  6,712.    Elapsed: 0:13:09.\n",
            "  Batch 1,840  of  6,712.    Elapsed: 0:13:27.\n",
            "  Batch 1,880  of  6,712.    Elapsed: 0:13:44.\n",
            "  Batch 1,920  of  6,712.    Elapsed: 0:14:02.\n",
            "  Batch 1,960  of  6,712.    Elapsed: 0:14:19.\n",
            "  Batch 2,000  of  6,712.    Elapsed: 0:14:37.\n",
            "  Batch 2,040  of  6,712.    Elapsed: 0:14:54.\n",
            "  Batch 2,080  of  6,712.    Elapsed: 0:15:12.\n",
            "  Batch 2,120  of  6,712.    Elapsed: 0:15:29.\n",
            "  Batch 2,160  of  6,712.    Elapsed: 0:15:47.\n",
            "  Batch 2,200  of  6,712.    Elapsed: 0:16:04.\n",
            "  Batch 2,240  of  6,712.    Elapsed: 0:16:22.\n",
            "  Batch 2,280  of  6,712.    Elapsed: 0:16:39.\n",
            "  Batch 2,320  of  6,712.    Elapsed: 0:16:57.\n",
            "  Batch 2,360  of  6,712.    Elapsed: 0:17:15.\n",
            "  Batch 2,400  of  6,712.    Elapsed: 0:17:32.\n",
            "  Batch 2,440  of  6,712.    Elapsed: 0:17:50.\n",
            "  Batch 2,480  of  6,712.    Elapsed: 0:18:07.\n",
            "  Batch 2,520  of  6,712.    Elapsed: 0:18:25.\n",
            "  Batch 2,560  of  6,712.    Elapsed: 0:18:42.\n",
            "  Batch 2,600  of  6,712.    Elapsed: 0:19:00.\n",
            "  Batch 2,640  of  6,712.    Elapsed: 0:19:17.\n",
            "  Batch 2,680  of  6,712.    Elapsed: 0:19:35.\n",
            "  Batch 2,720  of  6,712.    Elapsed: 0:19:52.\n",
            "  Batch 2,760  of  6,712.    Elapsed: 0:20:10.\n",
            "  Batch 2,800  of  6,712.    Elapsed: 0:20:27.\n",
            "  Batch 2,840  of  6,712.    Elapsed: 0:20:45.\n",
            "  Batch 2,880  of  6,712.    Elapsed: 0:21:02.\n",
            "  Batch 2,920  of  6,712.    Elapsed: 0:21:20.\n",
            "  Batch 2,960  of  6,712.    Elapsed: 0:21:38.\n",
            "  Batch 3,000  of  6,712.    Elapsed: 0:21:55.\n",
            "  Batch 3,040  of  6,712.    Elapsed: 0:22:13.\n",
            "  Batch 3,080  of  6,712.    Elapsed: 0:22:30.\n",
            "  Batch 3,120  of  6,712.    Elapsed: 0:22:48.\n",
            "  Batch 3,160  of  6,712.    Elapsed: 0:23:05.\n",
            "  Batch 3,200  of  6,712.    Elapsed: 0:23:23.\n",
            "  Batch 3,240  of  6,712.    Elapsed: 0:23:40.\n",
            "  Batch 3,280  of  6,712.    Elapsed: 0:23:58.\n",
            "  Batch 3,320  of  6,712.    Elapsed: 0:24:15.\n",
            "  Batch 3,360  of  6,712.    Elapsed: 0:24:33.\n",
            "  Batch 3,400  of  6,712.    Elapsed: 0:24:50.\n",
            "  Batch 3,440  of  6,712.    Elapsed: 0:25:08.\n",
            "  Batch 3,480  of  6,712.    Elapsed: 0:25:25.\n",
            "  Batch 3,520  of  6,712.    Elapsed: 0:25:43.\n",
            "  Batch 3,560  of  6,712.    Elapsed: 0:26:00.\n",
            "  Batch 3,600  of  6,712.    Elapsed: 0:26:18.\n",
            "  Batch 3,640  of  6,712.    Elapsed: 0:26:35.\n",
            "  Batch 3,680  of  6,712.    Elapsed: 0:26:53.\n",
            "  Batch 3,720  of  6,712.    Elapsed: 0:27:10.\n",
            "  Batch 3,760  of  6,712.    Elapsed: 0:27:28.\n",
            "  Batch 3,800  of  6,712.    Elapsed: 0:27:45.\n",
            "  Batch 3,840  of  6,712.    Elapsed: 0:28:03.\n",
            "  Batch 3,880  of  6,712.    Elapsed: 0:28:20.\n",
            "  Batch 3,920  of  6,712.    Elapsed: 0:28:38.\n",
            "  Batch 3,960  of  6,712.    Elapsed: 0:28:55.\n",
            "  Batch 4,000  of  6,712.    Elapsed: 0:29:13.\n",
            "  Batch 4,040  of  6,712.    Elapsed: 0:29:31.\n",
            "  Batch 4,080  of  6,712.    Elapsed: 0:29:48.\n",
            "  Batch 4,120  of  6,712.    Elapsed: 0:30:06.\n",
            "  Batch 4,160  of  6,712.    Elapsed: 0:30:23.\n",
            "  Batch 4,200  of  6,712.    Elapsed: 0:30:41.\n",
            "  Batch 4,240  of  6,712.    Elapsed: 0:30:58.\n",
            "  Batch 4,280  of  6,712.    Elapsed: 0:31:16.\n",
            "  Batch 4,320  of  6,712.    Elapsed: 0:31:33.\n",
            "  Batch 4,360  of  6,712.    Elapsed: 0:31:51.\n",
            "  Batch 4,400  of  6,712.    Elapsed: 0:32:08.\n",
            "  Batch 4,440  of  6,712.    Elapsed: 0:32:26.\n",
            "  Batch 4,480  of  6,712.    Elapsed: 0:32:43.\n",
            "  Batch 4,520  of  6,712.    Elapsed: 0:33:01.\n",
            "  Batch 4,560  of  6,712.    Elapsed: 0:33:18.\n",
            "  Batch 4,600  of  6,712.    Elapsed: 0:33:36.\n",
            "  Batch 4,640  of  6,712.    Elapsed: 0:33:53.\n",
            "  Batch 4,680  of  6,712.    Elapsed: 0:34:11.\n",
            "  Batch 4,720  of  6,712.    Elapsed: 0:34:28.\n",
            "  Batch 4,760  of  6,712.    Elapsed: 0:34:46.\n",
            "  Batch 4,800  of  6,712.    Elapsed: 0:35:03.\n",
            "  Batch 4,840  of  6,712.    Elapsed: 0:35:21.\n",
            "  Batch 4,880  of  6,712.    Elapsed: 0:35:38.\n",
            "  Batch 4,920  of  6,712.    Elapsed: 0:35:56.\n",
            "  Batch 4,960  of  6,712.    Elapsed: 0:36:13.\n",
            "  Batch 5,000  of  6,712.    Elapsed: 0:36:31.\n",
            "  Batch 5,040  of  6,712.    Elapsed: 0:36:48.\n",
            "  Batch 5,080  of  6,712.    Elapsed: 0:37:06.\n",
            "  Batch 5,120  of  6,712.    Elapsed: 0:37:23.\n",
            "  Batch 5,160  of  6,712.    Elapsed: 0:37:41.\n",
            "  Batch 5,200  of  6,712.    Elapsed: 0:37:59.\n",
            "  Batch 5,240  of  6,712.    Elapsed: 0:38:16.\n",
            "  Batch 5,280  of  6,712.    Elapsed: 0:38:34.\n",
            "  Batch 5,320  of  6,712.    Elapsed: 0:38:51.\n",
            "  Batch 5,360  of  6,712.    Elapsed: 0:39:09.\n",
            "  Batch 5,400  of  6,712.    Elapsed: 0:39:26.\n",
            "  Batch 5,440  of  6,712.    Elapsed: 0:39:44.\n",
            "  Batch 5,480  of  6,712.    Elapsed: 0:40:01.\n",
            "  Batch 5,520  of  6,712.    Elapsed: 0:40:19.\n",
            "  Batch 5,560  of  6,712.    Elapsed: 0:40:36.\n",
            "  Batch 5,600  of  6,712.    Elapsed: 0:40:54.\n",
            "  Batch 5,640  of  6,712.    Elapsed: 0:41:11.\n",
            "  Batch 5,680  of  6,712.    Elapsed: 0:41:29.\n",
            "  Batch 5,720  of  6,712.    Elapsed: 0:41:46.\n",
            "  Batch 5,760  of  6,712.    Elapsed: 0:42:04.\n",
            "  Batch 5,800  of  6,712.    Elapsed: 0:42:21.\n",
            "  Batch 5,840  of  6,712.    Elapsed: 0:42:39.\n",
            "  Batch 5,880  of  6,712.    Elapsed: 0:42:56.\n",
            "  Batch 5,920  of  6,712.    Elapsed: 0:43:14.\n",
            "  Batch 5,960  of  6,712.    Elapsed: 0:43:31.\n",
            "  Batch 6,000  of  6,712.    Elapsed: 0:43:49.\n",
            "  Batch 6,040  of  6,712.    Elapsed: 0:44:06.\n",
            "  Batch 6,080  of  6,712.    Elapsed: 0:44:24.\n",
            "  Batch 6,120  of  6,712.    Elapsed: 0:44:41.\n",
            "  Batch 6,160  of  6,712.    Elapsed: 0:44:59.\n",
            "  Batch 6,200  of  6,712.    Elapsed: 0:45:16.\n",
            "  Batch 6,240  of  6,712.    Elapsed: 0:45:34.\n",
            "  Batch 6,280  of  6,712.    Elapsed: 0:45:51.\n",
            "  Batch 6,320  of  6,712.    Elapsed: 0:46:09.\n",
            "  Batch 6,360  of  6,712.    Elapsed: 0:46:26.\n",
            "  Batch 6,400  of  6,712.    Elapsed: 0:46:44.\n",
            "  Batch 6,440  of  6,712.    Elapsed: 0:47:01.\n",
            "  Batch 6,480  of  6,712.    Elapsed: 0:47:19.\n",
            "  Batch 6,520  of  6,712.    Elapsed: 0:47:36.\n",
            "  Batch 6,560  of  6,712.    Elapsed: 0:47:54.\n",
            "  Batch 6,600  of  6,712.    Elapsed: 0:48:11.\n",
            "  Batch 6,640  of  6,712.    Elapsed: 0:48:29.\n",
            "  Batch 6,680  of  6,712.    Elapsed: 0:48:46.\n",
            "\n",
            "  Average training loss: 0.57\n",
            "  Training epcoh took: 0:49:00\n",
            "\n",
            "Running Validation...\n",
            "  Accuracy: 0.81\n",
            "  Validation Loss: 0.74\n",
            "  Validation took: 0:01:56\n",
            "Model saved to ==> /content/gdrive/My Drive/Reddit/lr_2e_6_newsplit/model_epoch_5.tar\n",
            "Metrics saved to ==> /content/gdrive/My Drive/Reddit/lr_2e_6_newsplit/metrics_epoch_5.tar\n",
            "\n",
            "Training complete!\n",
            "Total training took 5:06:45 (h:mm:ss)\n"
          ],
          "name": "stdout"
        }
      ]
    },
    {
      "cell_type": "markdown",
      "metadata": {
        "id": "7mPBQM4D9rbj"
      },
      "source": [
        "### Load Training Results"
      ]
    },
    {
      "cell_type": "code",
      "metadata": {
        "id": "oScelfrW9wy4"
      },
      "source": [
        "epochs = 6\n",
        "val_loss = []\n",
        "train_loss = []\n",
        "val_accuracy = []\n",
        "val_logits = []\n",
        "val_labels = []\n",
        "for epoch_i in range(0, epochs):\n",
        "  PATH  = F\"/content/gdrive/My Drive/Reddit/lr_2e_6_newsplit/metrics_epoch_%s.tar\" % str(epoch_i)\n",
        "  checkpoint = torch.load(PATH, map_location=torch.device('cpu'))\n",
        "  val_loss.append(checkpoint['validation_loss'])\n",
        "  train_loss.append(checkpoint['train_loss'])\n",
        "  val_accuracy.append(checkpoint['validation_accuracy'])\n",
        "  val_logits.append(checkpoint['validation_logits'])\n",
        "  val_labels.append(checkpoint['validation_labels'])"
      ],
      "execution_count": null,
      "outputs": []
    },
    {
      "cell_type": "code",
      "metadata": {
        "colab": {
          "base_uri": "https://localhost:8080/",
          "height": 427
        },
        "id": "Osl41aONC65Y",
        "outputId": "f24eea4c-bd01-4168-f5e9-72ddeb46bf12"
      },
      "source": [
        "import matplotlib.pyplot as plt\n",
        "% matplotlib inline\n",
        "\n",
        "import seaborn as sns\n",
        "\n",
        "# Use plot styling from seaborn.\n",
        "sns.set(style='darkgrid')\n",
        "\n",
        "# Increase the plot size and font size.\n",
        "sns.set(font_scale=1.5)\n",
        "plt.rcParams[\"figure.figsize\"] = (12,6)\n",
        "\n",
        "# Plot the learning curve.\n",
        "plt.plot(train_loss, 'b-o', label=\"Training\")\n",
        "plt.plot(val_loss, 'g-o', label=\"Validation\")\n",
        "\n",
        "# Label the plot.\n",
        "plt.title(\"Training & Validation Loss\")\n",
        "plt.xlabel(\"Epoch\")\n",
        "plt.ylabel(\"Loss\")\n",
        "plt.legend()\n",
        "plt.xticks([0, 1, 2, 3, 4, 5])\n",
        "\n",
        "plt.show()"
      ],
      "execution_count": null,
      "outputs": [
        {
          "output_type": "display_data",
          "data": {
            "image/png": "[encoded data removed]",
            "text/plain": [
              "<Figure size 864x432 with 1 Axes>"
            ]
          },
          "metadata": {
            "tags": []
          }
        }
      ]
    },
    {
      "cell_type": "code",
      "metadata": {
        "colab": {
          "base_uri": "https://localhost:8080/",
          "height": 427
        },
        "id": "15ExNbDEFLZS",
        "outputId": "7a101600-6487-4f85-eead-35da216dc941"
      },
      "source": [
        "plt.plot(val_accuracy, 'b-o', label=\"Training\")\n",
        "\n",
        "plt.title(\"Validation Accuracy\")\n",
        "plt.xlabel(\"Epoch\")\n",
        "plt.ylabel(\"Accuracy\")\n",
        "plt.xticks([0, 1, 2, 3, 4, 5])\n",
        "\n",
        "plt.show()"
      ],
      "execution_count": null,
      "outputs": [
        {
          "output_type": "display_data",
          "data": {
            "image/png": "[encoded data removed]",
            "text/plain": [
              "<Figure size 864x432 with 1 Axes>"
            ]
          },
          "metadata": {
            "tags": []
          }
        }
      ]
    },
    {
      "cell_type": "code",
      "metadata": {
        "colab": {
          "base_uri": "https://localhost:8080/"
        },
        "id": "r3cpkJo6zn_l",
        "outputId": "d51a08e2-a907-4a36-cd75-e73c7a701461"
      },
      "source": [
        "epoch = 5\n",
        "PATH  = F\"/content/gdrive/My Drive/Reddit/lr_2e_6_newsplit/model_epoch_%s.tar\" % str(epoch)\n",
        "state_dict = torch.load(PATH, map_location=device)\n",
        "model.load_state_dict(state_dict['model_state_dict'])"
      ],
      "execution_count": null,
      "outputs": [
        {
          "output_type": "execute_result",
          "data": {
            "text/plain": [
              "<All keys matched successfully>"
            ]
          },
          "metadata": {
            "tags": []
          },
          "execution_count": 47
        }
      ]
    },
    {
      "cell_type": "markdown",
      "metadata": {
        "id": "Q9TWnQevPG_P"
      },
      "source": [
        "### Results"
      ]
    },
    {
      "cell_type": "code",
      "metadata": {
        "colab": {
          "base_uri": "https://localhost:8080/",
          "height": 266
        },
        "id": "Vwl0jrNf8W97",
        "outputId": "1b13888c-e678-4a99-8b15-86716a9e7259"
      },
      "source": [
        "pd.set_option('precision', 2)\n",
        "\n",
        "df_stats = pd.DataFrame(data=training_stats)\n",
        "\n",
        "df_stats = df_stats.set_index('epoch')\n",
        "\n",
        "df_stats"
      ],
      "execution_count": null,
      "outputs": [
        {
          "output_type": "execute_result",
          "data": {
            "text/html": [
              "<div>\n",
              "<style scoped>\n",
              "    .dataframe tbody tr th:only-of-type {\n",
              "        vertical-align: middle;\n",
              "    }\n",
              "\n",
              "    .dataframe tbody tr th {\n",
              "        vertical-align: top;\n",
              "    }\n",
              "\n",
              "    .dataframe thead th {\n",
              "        text-align: right;\n",
              "    }\n",
              "</style>\n",
              "<table border=\"1\" class=\"dataframe\">\n",
              "  <thead>\n",
              "    <tr style=\"text-align: right;\">\n",
              "      <th></th>\n",
              "      <th>Training Loss</th>\n",
              "      <th>Valid. Loss</th>\n",
              "      <th>Valid. Accur.</th>\n",
              "      <th>Training Time</th>\n",
              "      <th>Validation Time</th>\n",
              "    </tr>\n",
              "    <tr>\n",
              "      <th>epoch</th>\n",
              "      <th></th>\n",
              "      <th></th>\n",
              "      <th></th>\n",
              "      <th></th>\n",
              "      <th></th>\n",
              "    </tr>\n",
              "  </thead>\n",
              "  <tbody>\n",
              "    <tr>\n",
              "      <th>1</th>\n",
              "      <td>1.67</td>\n",
              "      <td>0.99</td>\n",
              "      <td>0.73</td>\n",
              "      <td>0:49:03</td>\n",
              "      <td>0:01:55</td>\n",
              "    </tr>\n",
              "    <tr>\n",
              "      <th>2</th>\n",
              "      <td>0.89</td>\n",
              "      <td>0.78</td>\n",
              "      <td>0.76</td>\n",
              "      <td>0:49:00</td>\n",
              "      <td>0:01:55</td>\n",
              "    </tr>\n",
              "    <tr>\n",
              "      <th>3</th>\n",
              "      <td>0.72</td>\n",
              "      <td>0.75</td>\n",
              "      <td>0.78</td>\n",
              "      <td>0:49:00</td>\n",
              "      <td>0:01:55</td>\n",
              "    </tr>\n",
              "    <tr>\n",
              "      <th>4</th>\n",
              "      <td>0.64</td>\n",
              "      <td>0.73</td>\n",
              "      <td>0.80</td>\n",
              "      <td>0:48:59</td>\n",
              "      <td>0:01:55</td>\n",
              "    </tr>\n",
              "    <tr>\n",
              "      <th>5</th>\n",
              "      <td>0.60</td>\n",
              "      <td>0.73</td>\n",
              "      <td>0.80</td>\n",
              "      <td>0:49:01</td>\n",
              "      <td>0:01:55</td>\n",
              "    </tr>\n",
              "    <tr>\n",
              "      <th>6</th>\n",
              "      <td>0.57</td>\n",
              "      <td>0.74</td>\n",
              "      <td>0.81</td>\n",
              "      <td>0:49:00</td>\n",
              "      <td>0:01:56</td>\n",
              "    </tr>\n",
              "  </tbody>\n",
              "</table>\n",
              "</div>"
            ],
            "text/plain": [
              "       Training Loss  Valid. Loss  Valid. Accur. Training Time Validation Time\n",
              "epoch                                                                         \n",
              "1               1.67         0.99           0.73       0:49:03         0:01:55\n",
              "2               0.89         0.78           0.76       0:49:00         0:01:55\n",
              "3               0.72         0.75           0.78       0:49:00         0:01:55\n",
              "4               0.64         0.73           0.80       0:48:59         0:01:55\n",
              "5               0.60         0.73           0.80       0:49:01         0:01:55\n",
              "6               0.57         0.74           0.81       0:49:00         0:01:56"
            ]
          },
          "metadata": {
            "tags": []
          },
          "execution_count": 146
        }
      ]
    },
    {
      "cell_type": "code",
      "metadata": {
        "colab": {
          "base_uri": "https://localhost:8080/",
          "height": 427
        },
        "id": "tXbHCfIS8rCV",
        "outputId": "fa4cca6b-9107-4d32-ec5d-a15e45c405ed"
      },
      "source": [
        "import matplotlib.pyplot as plt\n",
        "% matplotlib inline\n",
        "\n",
        "import seaborn as sns\n",
        "\n",
        "# Use plot styling from seaborn.\n",
        "sns.set(style='darkgrid')\n",
        "\n",
        "# Increase the plot size and font size.\n",
        "sns.set(font_scale=1.5)\n",
        "plt.rcParams[\"figure.figsize\"] = (12,6)\n",
        "\n",
        "# Plot the learning curve.\n",
        "plt.plot(df_stats['Training Loss'], 'b-o', label=\"Training\")\n",
        "plt.plot(df_stats['Valid. Loss'], 'g-o', label=\"Validation\")\n",
        "\n",
        "# Label the plot.\n",
        "plt.title(\"Training & Validation Loss\")\n",
        "plt.xlabel(\"Epoch\")\n",
        "plt.ylabel(\"Loss\")\n",
        "plt.legend()\n",
        "plt.xticks([1, 2, 3, 4, 5, 6])\n",
        "\n",
        "plt.show()"
      ],
      "execution_count": null,
      "outputs": [
        {
          "output_type": "display_data",
          "data": {
            "image/png": "[encoded data removed]",
            "text/plain": [
              "<Figure size 864x432 with 1 Axes>"
            ]
          },
          "metadata": {
            "tags": []
          }
        }
      ]
    },
    {
      "cell_type": "code",
      "metadata": {
        "colab": {
          "base_uri": "https://localhost:8080/",
          "height": 427
        },
        "id": "sV3NZ2gDgnvH",
        "outputId": "ba65772c-d2dc-4bc9-80a8-e93dfd926f6f"
      },
      "source": [
        "plt.plot(df_stats['Valid. Accur.'], 'g-o', label=\"Validation\")\n",
        "\n",
        "# Label the plot.\n",
        "plt.title(\"Validation Accuracy\")\n",
        "plt.xlabel(\"Epoch\")\n",
        "plt.ylabel(\"Accuracy\")\n",
        "plt.legend()\n",
        "plt.xticks([1, 2, 3, 4, 5, 6])\n",
        "\n",
        "plt.show()"
      ],
      "execution_count": null,
      "outputs": [
        {
          "output_type": "display_data",
          "data": {
            "image/png": "[encoded data removed]",
            "text/plain": [
              "<Figure size 864x432 with 1 Axes>"
            ]
          },
          "metadata": {
            "tags": []
          }
        }
      ]
    },
    {
      "cell_type": "markdown",
      "metadata": {
        "id": "BeX_1XfhSDKX"
      },
      "source": [
        "### Save Model"
      ]
    },
    {
      "cell_type": "code",
      "metadata": {
        "id": "nxf0cz-TSN5W"
      },
      "source": [
        "model_save_name = 'classifier_version4_lr1e_6_uncased.pt'\n",
        "path = F\"/content/gdrive/My Drive/Reddit/{model_save_name}\" \n",
        "torch.save(model.state_dict(), path)"
      ],
      "execution_count": null,
      "outputs": []
    },
    {
      "cell_type": "markdown",
      "metadata": {
        "id": "wKkOfT4_TfZS"
      },
      "source": [
        "### Load Model"
      ]
    },
    {
      "cell_type": "code",
      "metadata": {
        "colab": {
          "base_uri": "https://localhost:8080/"
        },
        "id": "nCzCvjqZTi2b",
        "outputId": "39983b13-3672-42d6-c9e1-5dcb99f7f010"
      },
      "source": [
        "model_save_name = 'classifier_version3_75_uncased.pt'\n",
        "path = F\"/content/gdrive/My Drive/Reddit/{model_save_name}\"\n",
        "model.load_state_dict(torch.load(path))"
      ],
      "execution_count": null,
      "outputs": [
        {
          "output_type": "execute_result",
          "data": {
            "text/plain": [
              "<All keys matched successfully>"
            ]
          },
          "metadata": {
            "tags": []
          },
          "execution_count": 95
        }
      ]
    },
    {
      "cell_type": "markdown",
      "metadata": {
        "id": "K7Vsw45c9Ehv"
      },
      "source": [
        "## Testing "
      ]
    },
    {
      "cell_type": "markdown",
      "metadata": {
        "id": "U4KLcL-j9RAG"
      },
      "source": [
        "### Performing prepocessing steps on test data"
      ]
    },
    {
      "cell_type": "code",
      "metadata": {
        "id": "1IZTSlPfnDb0",
        "colab": {
          "base_uri": "https://localhost:8080/"
        },
        "outputId": "9edc98ca-4ff3-4ebc-fc02-4cd1a2884cb8"
      },
      "source": [
        "df_test['data'] = df_test['data'].apply(lambda x: x.replace(\"\\n\", \"\").replace(\"-\", \"\").replace(\"....\", \"\")) "
      ],
      "execution_count": null,
      "outputs": [
        {
          "output_type": "stream",
          "text": [
            "/usr/local/lib/python3.7/dist-packages/ipykernel_launcher.py:1: SettingWithCopyWarning: \n",
            "A value is trying to be set on a copy of a slice from a DataFrame.\n",
            "Try using .loc[row_indexer,col_indexer] = value instead\n",
            "\n",
            "See the caveats in the documentation: https://pandas.pydata.org/pandas-docs/stable/user_guide/indexing.html#returning-a-view-versus-a-copy\n",
            "  \"\"\"Entry point for launching an IPython kernel.\n"
          ],
          "name": "stderr"
        }
      ]
    },
    {
      "cell_type": "code",
      "metadata": {
        "id": "tc9fdqGAnOmT"
      },
      "source": [
        "df_test = df_test.drop(df_test[df_test['data']==''].index)"
      ],
      "execution_count": null,
      "outputs": []
    },
    {
      "cell_type": "code",
      "metadata": {
        "id": "EOBWVGGs0F-q"
      },
      "source": [
        "threshold = 150\n",
        "index_list, data = split_df(df_test, threshold)\n",
        "df_test = df_test.drop(index_list)\n",
        "df_test = df_test.append(data, True)"
      ],
      "execution_count": null,
      "outputs": []
    },
    {
      "cell_type": "code",
      "metadata": {
        "id": "fS5MxYjcqzqV"
      },
      "source": [
        "i_test = filter_encoded(df_test,9)"
      ],
      "execution_count": null,
      "outputs": []
    },
    {
      "cell_type": "code",
      "metadata": {
        "id": "fWneLmYrrIbU"
      },
      "source": [
        "df_test = df_test.drop(i_test)"
      ],
      "execution_count": null,
      "outputs": []
    },
    {
      "cell_type": "markdown",
      "metadata": {
        "id": "nyXwU7I0udWT"
      },
      "source": [
        "### Tokenizer"
      ]
    },
    {
      "cell_type": "code",
      "metadata": {
        "id": "5bQTXCxvugy1"
      },
      "source": [
        "sentence_test= df_test['data'].values\n",
        "labels_test = df_test['target'].values"
      ],
      "execution_count": null,
      "outputs": []
    },
    {
      "cell_type": "code",
      "metadata": {
        "id": "_Hp4DxgxvGxI"
      },
      "source": [
        "input_ids = []\n",
        "attention_masks = []\n",
        "\n",
        "# For every sentence...\n",
        "for sent in sentence_test:\n",
        "    # `encode_plus` will:\n",
        "    #   (1) Tokenize the sentence.\n",
        "    #   (2) Prepend the `[CLS]` token to the start.\n",
        "    #   (3) Append the `[SEP]` token to the end.\n",
        "    #   (4) Map tokens to their IDs.\n",
        "    #   (5) Pad or truncate the sentence to `max_length`\n",
        "    #   (6) Create attention masks for [PAD] tokens.\n",
        "    encoded_dict = tokenizer.encode_plus(\n",
        "                        sent,                      # Sentence to encode.\n",
        "                        add_special_tokens = True, # Add '[CLS]' and '[SEP]'\n",
        "                        max_length = 512,           # Pad & truncate all sentences.\n",
        "                        padding = 'max_length',\n",
        "                        truncation = True,\n",
        "                        return_attention_mask = True,   # Construct attn. masks.\n",
        "                        return_tensors = 'pt',     # Return pytorch tensors.\n",
        "                   )\n",
        "    \n",
        "    # Add the encoded sentence to the list.    \n",
        "    input_ids.append(encoded_dict['input_ids'])\n",
        "    \n",
        "    # And its attention mask (simply differentiates padding from non-padding).\n",
        "    attention_masks.append(encoded_dict['attention_mask'])\n",
        "\n",
        "# Convert the lists into tensors.\n",
        "input_ids = torch.cat(input_ids, dim=0)\n",
        "attention_masks = torch.cat(attention_masks, dim=0)\n",
        "labels = torch.tensor(labels_test)\n",
        "\n",
        "\n",
        "prediction_data = TensorDataset(input_ids, attention_masks, labels)\n",
        "prediction_sampler = SequentialSampler(prediction_data)\n",
        "prediction_dataloader = DataLoader(prediction_data, sampler=prediction_sampler, batch_size=batch_size)"
      ],
      "execution_count": null,
      "outputs": []
    },
    {
      "cell_type": "markdown",
      "metadata": {
        "id": "fEPuubkPPQtK"
      },
      "source": [
        "### Prediction"
      ]
    },
    {
      "cell_type": "code",
      "metadata": {
        "colab": {
          "base_uri": "https://localhost:8080/"
        },
        "id": "7Xgn_6CLvyc-",
        "outputId": "073ecfb2-0af4-41bf-f145-d18e1c7ff8e0"
      },
      "source": [
        "print('Predicting labels for {:,} test sentences...'.format(len(input_ids)))\n",
        "\n",
        "# Put model in evaluation mode\n",
        "model.eval()\n",
        "\n",
        "# Tracking variables \n",
        "predictions , true_labels = [], []\n",
        "\n",
        "# Predict \n",
        "for batch in prediction_dataloader:\n",
        "  # Add batch to GPU\n",
        "  batch = tuple(t.to(device) for t in batch)\n",
        "  \n",
        "  # Unpack the inputs from our dataloader\n",
        "  b_input_ids, b_input_mask, b_labels = batch\n",
        "  \n",
        "  # Telling the model not to compute or store gradients, saving memory and \n",
        "  # speeding up prediction\n",
        "  with torch.no_grad():\n",
        "      # Forward pass, calculate logit predictions\n",
        "      outputs = model(b_input_ids, token_type_ids=None, \n",
        "                      attention_mask=b_input_mask)\n",
        "\n",
        "  logits = outputs.logits\n",
        "\n",
        "  # Move logits and labels to CPU\n",
        "  logits = logits.detach().cpu().numpy()\n",
        "  label_ids = b_labels.to('cpu').numpy()\n",
        "  \n",
        "  # Store predictions and true labels\n",
        "  predictions.append(logits)\n",
        "  true_labels.append(label_ids)\n",
        "\n",
        "print('    DONE.')"
      ],
      "execution_count": null,
      "outputs": [
        {
          "output_type": "stream",
          "text": [
            "Predicting labels for 3,398 test sentences...\n",
            "    DONE.\n"
          ],
          "name": "stdout"
        }
      ]
    },
    {
      "cell_type": "code",
      "metadata": {
        "id": "U7PImkdFCAvg"
      },
      "source": [
        "def flat_accuracy_pred(preds, labels):\n",
        "  preds_flat = np.hstack(np.array(list(map(lambda x: np.argmax(x, axis=1),preds)),dtype='object'))\n",
        "  labels_flat = np.hstack(np.array(labels, dtype='object'))\n",
        "  return np.sum(preds_flat == labels_flat) / len(labels_flat)"
      ],
      "execution_count": null,
      "outputs": []
    },
    {
      "cell_type": "code",
      "metadata": {
        "colab": {
          "base_uri": "https://localhost:8080/"
        },
        "id": "yQuUqD-4zy52",
        "outputId": "3998574e-4116-4f14-83ff-d4a1c1f0a917"
      },
      "source": [
        " flat_accuracy_pred(predictions, true_labels)"
      ],
      "execution_count": null,
      "outputs": [
        {
          "output_type": "execute_result",
          "data": {
            "text/plain": [
              "0.7754561506768688"
            ]
          },
          "metadata": {
            "tags": []
          },
          "execution_count": 61
        }
      ]
    },
    {
      "cell_type": "markdown",
      "metadata": {
        "id": "3APYNgBZZZRf"
      },
      "source": [
        "### Metrics"
      ]
    },
    {
      "cell_type": "code",
      "metadata": {
        "id": "bcQWECFhZJKH"
      },
      "source": [
        "from sklearn.metrics import confusion_matrix\n",
        "from sklearn.metrics import precision_score, recall_score, f1_score\n",
        "import seaborn as sns\n",
        "import matplotlib.pyplot as plt"
      ],
      "execution_count": null,
      "outputs": []
    },
    {
      "cell_type": "code",
      "metadata": {
        "id": "gNg8loVM4vOX"
      },
      "source": [
        "preds_flat = np.hstack(np.array(list(map(lambda x: np.argmax(x, axis=1),predictions)),dtype='object')).astype(int)\n",
        "labels_flat = np.hstack(np.array(true_labels, dtype='object')).astype(int)"
      ],
      "execution_count": null,
      "outputs": []
    },
    {
      "cell_type": "code",
      "metadata": {
        "id": "qjPqXmxPa6iL"
      },
      "source": [
        "conf_matrix = confusion_matrix(labels_flat, preds_flat)"
      ],
      "execution_count": null,
      "outputs": []
    },
    {
      "cell_type": "code",
      "metadata": {
        "colab": {
          "base_uri": "https://localhost:8080/",
          "height": 548
        },
        "id": "wriurkIlbD03",
        "outputId": "e0e49210-a038-4c83-f668-b35c101cfcbd"
      },
      "source": [
        "fig = plt.figure(figsize=(15,9))\n",
        "ax = sns.heatmap(conf_matrix, annot=True, fmt=\"d\")"
      ],
      "execution_count": null,
      "outputs": [
        {
          "output_type": "display_data",
          "data": {
            "image/png": "[encoded data removed]",
            "text/plain": [
              "<Figure size 1080x648 with 2 Axes>"
            ]
          },
          "metadata": {
            "tags": []
          }
        }
      ]
    },
    {
      "cell_type": "code",
      "metadata": {
        "colab": {
          "base_uri": "https://localhost:8080/",
          "height": 669
        },
        "id": "A7wSXH31lPMd",
        "outputId": "bb2343aa-4857-4d9f-a152-5a069b56098e"
      },
      "source": [
        "pd.DataFrame(newsgroups.target_names)"
      ],
      "execution_count": null,
      "outputs": [
        {
          "output_type": "execute_result",
          "data": {
            "text/html": [
              "<div>\n",
              "<style scoped>\n",
              "    .dataframe tbody tr th:only-of-type {\n",
              "        vertical-align: middle;\n",
              "    }\n",
              "\n",
              "    .dataframe tbody tr th {\n",
              "        vertical-align: top;\n",
              "    }\n",
              "\n",
              "    .dataframe thead th {\n",
              "        text-align: right;\n",
              "    }\n",
              "</style>\n",
              "<table border=\"1\" class=\"dataframe\">\n",
              "  <thead>\n",
              "    <tr style=\"text-align: right;\">\n",
              "      <th></th>\n",
              "      <th>0</th>\n",
              "    </tr>\n",
              "  </thead>\n",
              "  <tbody>\n",
              "    <tr>\n",
              "      <th>0</th>\n",
              "      <td>alt.atheism</td>\n",
              "    </tr>\n",
              "    <tr>\n",
              "      <th>1</th>\n",
              "      <td>comp.graphics</td>\n",
              "    </tr>\n",
              "    <tr>\n",
              "      <th>2</th>\n",
              "      <td>comp.os.ms-windows.misc</td>\n",
              "    </tr>\n",
              "    <tr>\n",
              "      <th>3</th>\n",
              "      <td>comp.sys.ibm.pc.hardware</td>\n",
              "    </tr>\n",
              "    <tr>\n",
              "      <th>4</th>\n",
              "      <td>comp.sys.mac.hardware</td>\n",
              "    </tr>\n",
              "    <tr>\n",
              "      <th>5</th>\n",
              "      <td>comp.windows.x</td>\n",
              "    </tr>\n",
              "    <tr>\n",
              "      <th>6</th>\n",
              "      <td>misc.forsale</td>\n",
              "    </tr>\n",
              "    <tr>\n",
              "      <th>7</th>\n",
              "      <td>rec.autos</td>\n",
              "    </tr>\n",
              "    <tr>\n",
              "      <th>8</th>\n",
              "      <td>rec.motorcycles</td>\n",
              "    </tr>\n",
              "    <tr>\n",
              "      <th>9</th>\n",
              "      <td>rec.sport.baseball</td>\n",
              "    </tr>\n",
              "    <tr>\n",
              "      <th>10</th>\n",
              "      <td>rec.sport.hockey</td>\n",
              "    </tr>\n",
              "    <tr>\n",
              "      <th>11</th>\n",
              "      <td>sci.crypt</td>\n",
              "    </tr>\n",
              "    <tr>\n",
              "      <th>12</th>\n",
              "      <td>sci.electronics</td>\n",
              "    </tr>\n",
              "    <tr>\n",
              "      <th>13</th>\n",
              "      <td>sci.med</td>\n",
              "    </tr>\n",
              "    <tr>\n",
              "      <th>14</th>\n",
              "      <td>sci.space</td>\n",
              "    </tr>\n",
              "    <tr>\n",
              "      <th>15</th>\n",
              "      <td>soc.religion.christian</td>\n",
              "    </tr>\n",
              "    <tr>\n",
              "      <th>16</th>\n",
              "      <td>talk.politics.guns</td>\n",
              "    </tr>\n",
              "    <tr>\n",
              "      <th>17</th>\n",
              "      <td>talk.politics.mideast</td>\n",
              "    </tr>\n",
              "    <tr>\n",
              "      <th>18</th>\n",
              "      <td>talk.politics.misc</td>\n",
              "    </tr>\n",
              "    <tr>\n",
              "      <th>19</th>\n",
              "      <td>talk.religion.misc</td>\n",
              "    </tr>\n",
              "  </tbody>\n",
              "</table>\n",
              "</div>"
            ],
            "text/plain": [
              "                           0\n",
              "0                alt.atheism\n",
              "1              comp.graphics\n",
              "2    comp.os.ms-windows.misc\n",
              "3   comp.sys.ibm.pc.hardware\n",
              "4      comp.sys.mac.hardware\n",
              "5             comp.windows.x\n",
              "6               misc.forsale\n",
              "7                  rec.autos\n",
              "8            rec.motorcycles\n",
              "9         rec.sport.baseball\n",
              "10          rec.sport.hockey\n",
              "11                 sci.crypt\n",
              "12           sci.electronics\n",
              "13                   sci.med\n",
              "14                 sci.space\n",
              "15    soc.religion.christian\n",
              "16        talk.politics.guns\n",
              "17     talk.politics.mideast\n",
              "18        talk.politics.misc\n",
              "19        talk.religion.misc"
            ]
          },
          "metadata": {
            "tags": []
          },
          "execution_count": 63
        }
      ]
    },
    {
      "cell_type": "code",
      "metadata": {
        "colab": {
          "base_uri": "https://localhost:8080/"
        },
        "id": "36hXYwj0ce7R",
        "outputId": "2834230c-da20-4f05-f211-8a39802b48bb"
      },
      "source": [
        "precision_score(labels_flat, preds_flat, average='macro')"
      ],
      "execution_count": null,
      "outputs": [
        {
          "output_type": "execute_result",
          "data": {
            "text/plain": [
              "0.7751572885592204"
            ]
          },
          "metadata": {
            "tags": []
          },
          "execution_count": 69
        }
      ]
    },
    {
      "cell_type": "code",
      "metadata": {
        "colab": {
          "base_uri": "https://localhost:8080/"
        },
        "id": "whw5ZDkudl9U",
        "outputId": "a65a3ce2-7b60-443d-cee4-579ccc4a45d0"
      },
      "source": [
        "recall_score(labels_flat, preds_flat, average='macro')"
      ],
      "execution_count": null,
      "outputs": [
        {
          "output_type": "execute_result",
          "data": {
            "text/plain": [
              "0.7646821819708798"
            ]
          },
          "metadata": {
            "tags": []
          },
          "execution_count": 70
        }
      ]
    },
    {
      "cell_type": "code",
      "metadata": {
        "colab": {
          "base_uri": "https://localhost:8080/"
        },
        "id": "7Lbd6GfdfZCL",
        "outputId": "f79bcf69-c9c8-46ee-e438-6b6f1998bb7f"
      },
      "source": [
        "f1_score(labels_flat, preds_flat, average='macro')"
      ],
      "execution_count": null,
      "outputs": [
        {
          "output_type": "execute_result",
          "data": {
            "text/plain": [
              "0.7645994403679999"
            ]
          },
          "metadata": {
            "tags": []
          },
          "execution_count": 71
        }
      ]
    }
  ]
}