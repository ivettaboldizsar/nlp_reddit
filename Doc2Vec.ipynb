{
  "nbformat": 4,
  "nbformat_minor": 0,
  "metadata": {
    "colab": {
      "name": "Doc2Vec.ipynb",
      "provenance": [],
      "collapsed_sections": [
        "R2R2kHjip5oG",
        "tZCQGpUrqNQ0",
        "lVeym8gArQ_U"
      ],
      "toc_visible": true
    },
    "kernelspec": {
      "name": "python3",
      "display_name": "Python 3"
    },
    "language_info": {
      "name": "python"
    }
  },
  "cells": [
    {
      "cell_type": "markdown",
      "metadata": {
        "id": "Np-z6uv7TpUk"
      },
      "source": [
        "# Data Pre-processing"
      ]
    },
    {
      "cell_type": "code",
      "metadata": {
        "id": "mZ7rR4wfToam"
      },
      "source": [
        "import pandas as pd\n",
        "from sklearn.datasets import fetch_20newsgroups"
      ],
      "execution_count": null,
      "outputs": []
    },
    {
      "cell_type": "code",
      "metadata": {
        "colab": {
          "base_uri": "https://localhost:8080/"
        },
        "id": "w6X8U-SVHsLh",
        "outputId": "1f1f6cfb-b89a-47ed-f10d-a3502e2cad8e"
      },
      "source": [
        "import pandas as pd\n",
        "import numpy as np\n",
        "from tqdm import tqdm\n",
        "tqdm.pandas(desc=\"progress-bar\")\n",
        "from gensim.models import Doc2Vec\n",
        "from sklearn import utils\n",
        "from sklearn.model_selection import train_test_split\n",
        "import gensim\n",
        "from gensim.models.doc2vec import TaggedDocument\n",
        "import re\n",
        "import seaborn as sns\n",
        "import matplotlib.pyplot as plt\n",
        "from sklearn.metrics import accuracy_score, precision_score, recall_score, f1_score"
      ],
      "execution_count": null,
      "outputs": [
        {
          "output_type": "stream",
          "text": [
            "/usr/local/lib/python3.7/dist-packages/tqdm/std.py:658: FutureWarning: The Panel class is removed from pandas. Accessing it from the top-level namespace will also be removed in the next version\n",
            "  from pandas import Panel\n"
          ],
          "name": "stderr"
        }
      ]
    },
    {
      "cell_type": "code",
      "metadata": {
        "colab": {
          "base_uri": "https://localhost:8080/"
        },
        "id": "LkcUgttdTtU7",
        "outputId": "90e4198b-b17d-4c13-ac4c-7ae641117f7f"
      },
      "source": [
        "newsgroups = fetch_20newsgroups(remove=('footers', 'quotes'), subset='all')"
      ],
      "execution_count": null,
      "outputs": [
        {
          "output_type": "stream",
          "text": [
            "Downloading 20news dataset. This may take a few minutes.\n",
            "Downloading dataset from https://ndownloader.figshare.com/files/5975967 (14 MB)\n"
          ],
          "name": "stderr"
        }
      ]
    },
    {
      "cell_type": "code",
      "metadata": {
        "id": "imfn66dcTxCr"
      },
      "source": [
        "df = pd.DataFrame()\n",
        "df['data'] = newsgroups['data']\n",
        "df['target'] = newsgroups['target']"
      ],
      "execution_count": null,
      "outputs": []
    },
    {
      "cell_type": "markdown",
      "metadata": {
        "id": "plII_vrOTPAC"
      },
      "source": [
        "Same step as with BERT except for transforming to lower case."
      ]
    },
    {
      "cell_type": "code",
      "metadata": {
        "id": "ziwhj3hPPQQ4"
      },
      "source": [
        "df['data'] = df['data'].apply(lambda x: x.replace(\"\\n\", \"\").replace(\"-\", \"\").replace(\"....\", \"\").lower()) "
      ],
      "execution_count": null,
      "outputs": []
    },
    {
      "cell_type": "code",
      "metadata": {
        "id": "AvH4pUy7PRPw"
      },
      "source": [
        "df = df.drop(df[df['data']==''].index)"
      ],
      "execution_count": null,
      "outputs": []
    },
    {
      "cell_type": "markdown",
      "metadata": {
        "id": "VDX0Xz3JHpOM"
      },
      "source": [
        "## Filtering"
      ]
    },
    {
      "cell_type": "code",
      "metadata": {
        "id": "yq_0iJgKIAyS"
      },
      "source": [
        "def chars_for_words(doc, threshold):\n",
        "    n_words = len(doc.split())\n",
        "    n_chars = len(doc)\n",
        "    avg = n_chars/max(n_words,1)\n",
        "    if (avg > threshold):\n",
        "        return True\n",
        "    else:\n",
        "        False"
      ],
      "execution_count": null,
      "outputs": []
    },
    {
      "cell_type": "code",
      "metadata": {
        "id": "khH2C2_pIB1R"
      },
      "source": [
        "def count_charlen(df, threshold):\n",
        "    count = 0\n",
        "    index_list = []\n",
        "    for index, row in df.iterrows():\n",
        "        if (len(row['data'])>threshold):\n",
        "            print(len(row['data']))\n",
        "            count = count + 1\n",
        "            index_list.append(index)\n",
        "    return count, index_list"
      ],
      "execution_count": null,
      "outputs": []
    },
    {
      "cell_type": "code",
      "metadata": {
        "id": "hd11ZqCHIEos"
      },
      "source": [
        "def filter_encoded(df, threshold):\n",
        "    index_list = []\n",
        "    for index, row in df.iterrows():\n",
        "        if chars_for_words(row['data'], threshold):\n",
        "            index_list.append(index)\n",
        "    return index_list"
      ],
      "execution_count": null,
      "outputs": []
    },
    {
      "cell_type": "code",
      "metadata": {
        "id": "FCxxF1dKIKAW"
      },
      "source": [
        "i = filter_encoded(df,9)"
      ],
      "execution_count": null,
      "outputs": []
    },
    {
      "cell_type": "code",
      "metadata": {
        "id": "Ze0hsjf5Iy4C"
      },
      "source": [
        "df = df.drop(i)"
      ],
      "execution_count": null,
      "outputs": []
    },
    {
      "cell_type": "markdown",
      "metadata": {
        "id": "SAi3EwWqHufi"
      },
      "source": [
        "## Train-Test Split"
      ]
    },
    {
      "cell_type": "code",
      "metadata": {
        "id": "EtmqHUIyPnGG"
      },
      "source": [
        "train, test = train_test_split(df, test_size=0.1, random_state=42)"
      ],
      "execution_count": null,
      "outputs": []
    },
    {
      "cell_type": "code",
      "metadata": {
        "colab": {
          "base_uri": "https://localhost:8080/"
        },
        "id": "DlVrxTYIP8hM",
        "outputId": "f3f53173-b7d8-4221-8592-171866d121e0"
      },
      "source": [
        "import nltk\n",
        "nltk.download('punkt')\n",
        "from nltk.corpus import stopwords\n",
        "def tokenize_text(text):\n",
        "    tokens = []\n",
        "    for sent in nltk.sent_tokenize(text):\n",
        "        for word in nltk.word_tokenize(sent):\n",
        "            if len(word) < 2:\n",
        "                continue\n",
        "            tokens.append(word.lower())\n",
        "    return tokens"
      ],
      "execution_count": null,
      "outputs": [
        {
          "output_type": "stream",
          "text": [
            "[nltk_data] Downloading package punkt to /root/nltk_data...\n",
            "[nltk_data]   Package punkt is already up-to-date!\n"
          ],
          "name": "stdout"
        }
      ]
    },
    {
      "cell_type": "markdown",
      "metadata": {
        "id": "oaUvEBohefyy"
      },
      "source": [
        "### **Version 1 Tagging:** tag every train and test document with a unique ID."
      ]
    },
    {
      "cell_type": "code",
      "metadata": {
        "id": "BS_x4fCoGAgc"
      },
      "source": [
        "train_tagged = []\n",
        "for i in range(len(train)):\n",
        "  train_tagged.append(TaggedDocument(words=tokenize_text(train.iloc[i].data), tags=[i]))"
      ],
      "execution_count": null,
      "outputs": []
    },
    {
      "cell_type": "markdown",
      "metadata": {
        "id": "w1VbF06Ee3z3"
      },
      "source": [
        "### **Version 2 Tagging:** tag the train documents with the class labels while tag the test documents with unique IDs."
      ]
    },
    {
      "cell_type": "code",
      "metadata": {
        "id": "4LAYRAlxgY31"
      },
      "source": [
        "train_tagged = train.apply(lambda x: TaggedDocument(words=tokenize_text(x['data']), tags=[x.target]), axis=1)"
      ],
      "execution_count": null,
      "outputs": []
    },
    {
      "cell_type": "markdown",
      "metadata": {
        "id": "FedV53VyHMvL"
      },
      "source": [
        "# Train Doc2Vec"
      ]
    },
    {
      "cell_type": "markdown",
      "metadata": {
        "id": "J40TCy2Mqql8"
      },
      "source": [
        "\n",
        "* **dm** : {1,0}, optional\n",
        "            Defines the training algorithm. If `dm=1`, 'distributed memory' (PV-DM) is used.\n",
        "            Otherwise, `distributed bag of words` (PV-DBOW) is employed.\n",
        "* **vector_size** : int, optional\n",
        "            Dimensionality of the feature vectors.\n",
        "* **negative** : int, optional\n",
        "            If > 0, negative sampling will be used, the int for negative specifies how many \"noise words\"\n",
        "            should be drawn (usually between 5-20).\n",
        "            If set to 0, no negative sampling is used.\n",
        "* **hs** : {1,0}, optional\n",
        "            If 1, hierarchical softmax will be used for model training.\n",
        "            If set to 0, and `negative` is non-zero, negative sampling will be used.\n",
        "* **min_count** : int, optional\n",
        "            Ignores all words with total frequency lower than this.\n",
        "\n",
        "* **sample** : float, optional\n",
        "            The threshold for configuring which higher-frequency words are randomly downsampled,\n",
        "            useful range is (0, 1e-5).\n",
        "* **dbow_words** : {1,0}, optional\n",
        "            If set to 1 trains word-vectors (in skip-gram fashion) simultaneous with DBOW\n",
        "            doc-vector training; If 0, only trains doc-vectors (faster).\n"
      ]
    },
    {
      "cell_type": "code",
      "metadata": {
        "id": "VRSij9JuSMNl"
      },
      "source": [
        " import multiprocessing\n",
        "\n",
        "cores = multiprocessing.cpu_count()"
      ],
      "execution_count": null,
      "outputs": []
    },
    {
      "cell_type": "code",
      "metadata": {
        "colab": {
          "base_uri": "https://localhost:8080/"
        },
        "id": "EVBAN7NXUbHe",
        "outputId": "378453b5-624c-476c-b791-61df6c125081"
      },
      "source": [
        "model_dbow = Doc2Vec(dm=0, vector_size=200, negative=5, hs=0, min_count=2, sample = 0, dbow_words = 1, workers=cores, seed = 42)\n",
        "model_dbow.build_vocab([x for x in tqdm(train_tagged)])"
      ],
      "execution_count": null,
      "outputs": [
        {
          "output_type": "stream",
          "text": [
            "100%|██████████| 14800/14800 [00:00<00:00, 1538354.96it/s]\n"
          ],
          "name": "stderr"
        }
      ]
    },
    {
      "cell_type": "code",
      "metadata": {
        "colab": {
          "base_uri": "https://localhost:8080/"
        },
        "id": "ySgvwx-lUkb-",
        "outputId": "73762ac7-46f4-4ff1-dba6-5ef285175d01"
      },
      "source": [
        "%%time\n",
        "model_dbow.train(train_tagged,total_examples=len(train_tagged), epochs=20)"
      ],
      "execution_count": null,
      "outputs": [
        {
          "output_type": "stream",
          "text": [
            "CPU times: user 17min 35s, sys: 1.86 s, total: 17min 36s\n",
            "Wall time: 8min 59s\n"
          ],
          "name": "stdout"
        }
      ]
    },
    {
      "cell_type": "code",
      "metadata": {
        "id": "Ew-t-h8zUr7a"
      },
      "source": [
        "def vec_for_learning(model, tagged_docs):\n",
        "    sents = tagged_docs\n",
        "    targets, vectors = zip(*[(doc.tags[0], model.infer_vector(doc.words, steps=20)) for doc in sents])\n",
        "    return vectors"
      ],
      "execution_count": null,
      "outputs": []
    },
    {
      "cell_type": "markdown",
      "metadata": {
        "id": "Bwuo1FCMJdnj"
      },
      "source": [
        "# **Version 1** Classification"
      ]
    },
    {
      "cell_type": "code",
      "metadata": {
        "id": "wz9fBdbB7WgB"
      },
      "source": [
        "test_tagged = []\n",
        "for i in range(len(train),len(test)+len(train)):\n",
        "  test_tagged.append(TaggedDocument(words=tokenize_text(test.iloc[i-len(train)].data), tags=[i]))"
      ],
      "execution_count": null,
      "outputs": []
    },
    {
      "cell_type": "code",
      "metadata": {
        "id": "dKOU9HawJYCj"
      },
      "source": [
        "X_train = vec_for_learning(model_dbow, train_tagged)\n",
        "X_test = vec_for_learning(model_dbow, test_tagged)\n",
        "y_train = train['target'].values\n",
        "y_test = test['target'].values"
      ],
      "execution_count": null,
      "outputs": []
    },
    {
      "cell_type": "markdown",
      "metadata": {
        "id": "ow01NIRvJhJJ"
      },
      "source": [
        "## Logistic Regression"
      ]
    },
    {
      "cell_type": "markdown",
      "metadata": {
        "id": "aIbtc1P2oHIQ"
      },
      "source": [
        "### Grid Search"
      ]
    },
    {
      "cell_type": "code",
      "metadata": {
        "colab": {
          "base_uri": "https://localhost:8080/"
        },
        "id": "K4xN5Q0CuAxy",
        "outputId": "7d8971a3-272f-4137-e8f6-b283c8a6cd8a"
      },
      "source": [
        "from sklearn.linear_model import LogisticRegression\n",
        "from sklearn.model_selection import GridSearchCV\n",
        "\n",
        "clf = LogisticRegression(random_state=0, solver='liblinear')\n",
        "penalty = ['l1','l2']\n",
        "C = [0.1,0.5,1, 10, 50,100]\n",
        "#C = range(2,15)\n",
        "weights = [\"balanced\",None]\n",
        "param_grid_lr = dict(C=C, class_weight=weights, penalty=penalty)\n",
        "\n",
        "grid = GridSearchCV(clf, param_grid_lr, cv=5, scoring='accuracy', error_score=np.nan, verbose=1)\n",
        "\n",
        "grid.fit(X_train, y_train)\n",
        "\n",
        "grid.score(X_test, y_test)"
      ],
      "execution_count": null,
      "outputs": [
        {
          "output_type": "stream",
          "text": [
            "Fitting 5 folds for each of 24 candidates, totalling 120 fits\n"
          ],
          "name": "stdout"
        },
        {
          "output_type": "stream",
          "text": [
            "[Parallel(n_jobs=1)]: Using backend SequentialBackend with 1 concurrent workers.\n",
            "[Parallel(n_jobs=1)]: Done 120 out of 120 | elapsed: 38.2min finished\n"
          ],
          "name": "stderr"
        },
        {
          "output_type": "execute_result",
          "data": {
            "text/plain": [
              "0.8790273556231003"
            ]
          },
          "metadata": {
            "tags": []
          },
          "execution_count": 56
        }
      ]
    },
    {
      "cell_type": "markdown",
      "metadata": {
        "id": "R2R2kHjip5oG"
      },
      "source": [
        "### Train tags:0 Test tags: 0 **76%**"
      ]
    },
    {
      "cell_type": "markdown",
      "metadata": {
        "id": "PGkinDOerZmi"
      },
      "source": [
        "### Train tags present while test tags = 0."
      ]
    },
    {
      "cell_type": "code",
      "metadata": {
        "colab": {
          "base_uri": "https://localhost:8080/"
        },
        "id": "0xWUjBFY9izz",
        "outputId": "0977997b-97f7-4de6-a764-52f634bad3d4"
      },
      "source": [
        "from sklearn.linear_model import LogisticRegression\n",
        "clf = LogisticRegression(random_state=0, solver='liblinear', C=0.1, class_weight='balanced', penalty='l2')\n",
        "clf.fit(X_train, y_train)\n",
        "clf.score(X_test, y_test)"
      ],
      "execution_count": null,
      "outputs": [
        {
          "output_type": "execute_result",
          "data": {
            "text/plain": [
              "0.8723404255319149"
            ]
          },
          "metadata": {
            "tags": []
          },
          "execution_count": 27
        }
      ]
    },
    {
      "cell_type": "markdown",
      "metadata": {
        "id": "qpOpvSw78k9M"
      },
      "source": [
        "### **Versin 1** Unique Train and Test Tags"
      ]
    },
    {
      "cell_type": "code",
      "metadata": {
        "colab": {
          "base_uri": "https://localhost:8080/"
        },
        "id": "Jjo0Bq548ro7",
        "outputId": "ff3a6ef4-d97d-4a31-ac7f-1878594022f7"
      },
      "source": [
        "from sklearn.linear_model import LogisticRegression\n",
        "clf = LogisticRegression(random_state=0, solver='liblinear', C=0.1, class_weight='balanced', penalty='l2')\n",
        "clf.fit(X_train, y_train)\n",
        "clf.score(X_test, y_test)"
      ],
      "execution_count": null,
      "outputs": [
        {
          "output_type": "execute_result",
          "data": {
            "text/plain": [
              "0.780547112462006"
            ]
          },
          "metadata": {
            "tags": []
          },
          "execution_count": 27
        }
      ]
    },
    {
      "cell_type": "code",
      "metadata": {
        "id": "xKpfMJXYuj6b"
      },
      "source": [
        "y_pred = clf.predict(X_test)\n",
        "print(precision_score(y_test, y_pred, average='macro'))\n",
        "print(recall_score(y_test, y_pred, average='macro'))\n",
        "print(f1_score(y_test, y_pred, average='macro'))"
      ],
      "execution_count": null,
      "outputs": []
    },
    {
      "cell_type": "markdown",
      "metadata": {
        "id": "yzlBaWpMJvaq"
      },
      "source": [
        "## Support Vector Machine"
      ]
    },
    {
      "cell_type": "markdown",
      "metadata": {
        "id": "XTW0m3_YoBqv"
      },
      "source": [
        "### Grid Search"
      ]
    },
    {
      "cell_type": "code",
      "metadata": {
        "colab": {
          "base_uri": "https://localhost:8080/"
        },
        "id": "HkZUpQdWJzGC",
        "outputId": "9711d24b-273a-4ad0-94e6-6f57db1fa595"
      },
      "source": [
        "from sklearn.svm import SVC\n",
        "from sklearn.model_selection import GridSearchCV\n",
        "\n",
        "csv = SVC(random_state=0)\n",
        "kernel_list = ['rbf','sigmoid','linear']\n",
        "gamma_list = ['auto', 'scale']\n",
        "C_list = [1/10, 1, 10, 100]\n",
        "param_grid_csv = dict(C=C_list, gamma=gamma_list, kernel=kernel_list)\n",
        "grid = GridSearchCV(csv, param_grid_csv, cv=5, scoring='accuracy', error_score=np.nan, verbose=1)\n",
        "\n",
        "grid.fit(X_train, y_train)\n",
        "\n",
        "print(grid.score(X_test, y_test))"
      ],
      "execution_count": null,
      "outputs": [
        {
          "output_type": "stream",
          "text": [
            "Fitting 5 folds for each of 24 candidates, totalling 120 fits\n"
          ],
          "name": "stdout"
        },
        {
          "output_type": "stream",
          "text": [
            "[Parallel(n_jobs=1)]: Using backend SequentialBackend with 1 concurrent workers.\n",
            "[Parallel(n_jobs=1)]: Done 120 out of 120 | elapsed: 43.4min finished\n"
          ],
          "name": "stderr"
        },
        {
          "output_type": "stream",
          "text": [
            "0.880243161094225\n"
          ],
          "name": "stdout"
        }
      ]
    },
    {
      "cell_type": "code",
      "metadata": {
        "colab": {
          "base_uri": "https://localhost:8080/"
        },
        "id": "ATgKW8_QhRNm",
        "outputId": "d44c7839-7250-43f5-e898-a2a1032fc504"
      },
      "source": [
        "grid.best_params_"
      ],
      "execution_count": null,
      "outputs": [
        {
          "output_type": "execute_result",
          "data": {
            "text/plain": [
              "{'C': 1, 'gamma': 'scale', 'kernel': 'rbf'}"
            ]
          },
          "metadata": {
            "tags": []
          },
          "execution_count": 72
        }
      ]
    },
    {
      "cell_type": "markdown",
      "metadata": {
        "id": "tZCQGpUrqNQ0"
      },
      "source": [
        "### Train tags:0 Test tags: 0 **79%**"
      ]
    },
    {
      "cell_type": "markdown",
      "metadata": {
        "id": "lVeym8gArQ_U"
      },
      "source": [
        "### Train tags present while test tags = 0."
      ]
    },
    {
      "cell_type": "code",
      "metadata": {
        "colab": {
          "base_uri": "https://localhost:8080/"
        },
        "id": "cbinT8If92dl",
        "outputId": "3d92eafd-ab12-4e03-86b1-1c849f8fd2e9"
      },
      "source": [
        "from sklearn.svm import SVC\n",
        "clf = SVC(random_state=0, C= 1, gamma= 'scale', kernel= 'rbf')\n",
        "clf.fit(X_train, y_train)\n",
        "clf.score(X_test, y_test)"
      ],
      "execution_count": null,
      "outputs": [
        {
          "output_type": "execute_result",
          "data": {
            "text/plain": [
              "0.8182370820668693"
            ]
          },
          "metadata": {
            "tags": []
          },
          "execution_count": 41
        }
      ]
    },
    {
      "cell_type": "markdown",
      "metadata": {
        "id": "ydKt1Aqh9sWc"
      },
      "source": [
        "###  **Versin 1** Unique Train and Test Tags"
      ]
    },
    {
      "cell_type": "code",
      "metadata": {
        "colab": {
          "base_uri": "https://localhost:8080/"
        },
        "id": "G9L_aKf1-vij",
        "outputId": "e81a8eac-e221-4b3c-ff83-d874f60793eb"
      },
      "source": [
        "from sklearn.svm import SVC\n",
        "clf = SVC(random_state=0, C= 1, gamma= 'scale', kernel= 'rbf')\n",
        "clf.fit(X_train, y_train)\n",
        "clf.score(X_test, y_test)"
      ],
      "execution_count": null,
      "outputs": [
        {
          "output_type": "execute_result",
          "data": {
            "text/plain": [
              "0.8066869300911854"
            ]
          },
          "metadata": {
            "tags": []
          },
          "execution_count": 36
        }
      ]
    },
    {
      "cell_type": "code",
      "metadata": {
        "colab": {
          "base_uri": "https://localhost:8080/"
        },
        "id": "bFe9C9yhwG9L",
        "outputId": "0a45309e-01ba-4341-d6ac-3205915e90b2"
      },
      "source": [
        "y_pred = clf.predict(X_test)\n",
        "print(precision_score(y_test, y_pred, average='macro'))\n",
        "print(recall_score(y_test, y_pred, average='macro'))\n",
        "print(f1_score(y_test, y_pred, average='macro'))"
      ],
      "execution_count": null,
      "outputs": [
        {
          "output_type": "stream",
          "text": [
            "0.8027131379719517\n",
            "0.7993065383080358\n",
            "0.7972606178988009\n"
          ],
          "name": "stdout"
        }
      ]
    },
    {
      "cell_type": "markdown",
      "metadata": {
        "id": "N-q7lDWWy2AK"
      },
      "source": [
        "# **Version 2** Similarity"
      ]
    },
    {
      "cell_type": "code",
      "metadata": {
        "id": "-ngFf3kO1j91"
      },
      "source": [
        "test_tagged = []\n",
        "for i in range(len(train),len(test)+len(train)):\n",
        "  test_tagged.append(TaggedDocument(words=tokenize_text(test.iloc[i-len(train)].data), tags=[i]))"
      ],
      "execution_count": null,
      "outputs": []
    },
    {
      "cell_type": "code",
      "metadata": {
        "id": "pyU_8ZeU1nz0"
      },
      "source": [
        "X_train = vec_for_learning(model_dbow, train_tagged)\n",
        "X_test = vec_for_learning(model_dbow, test_tagged)\n",
        "y_train = train['target'].values\n",
        "y_test = test['target'].values"
      ],
      "execution_count": null,
      "outputs": []
    },
    {
      "cell_type": "code",
      "metadata": {
        "id": "3p3q0TR6zEI3"
      },
      "source": [
        "def pred(model, X_test):\n",
        "  y_pred = []\n",
        "  for x in X_test:\n",
        "    label = model_dbow.docvecs.most_similar([x], topn = 1)[0][0]\n",
        "    y_pred.append(label)\n",
        "  return y_pred"
      ],
      "execution_count": null,
      "outputs": []
    },
    {
      "cell_type": "code",
      "metadata": {
        "id": "tIuzyPN3JXkl"
      },
      "source": [
        " y_pred = pred(model_dbow, X_test)"
      ],
      "execution_count": null,
      "outputs": []
    },
    {
      "cell_type": "code",
      "metadata": {
        "colab": {
          "base_uri": "https://localhost:8080/"
        },
        "id": "kL8Sqo7oNXaz",
        "outputId": "6a7e6959-dd5d-4ad0-f406-0e6a038574e7"
      },
      "source": [
        "print('Testing accuracy %s' % accuracy_score(y_test, y_pred))"
      ],
      "execution_count": null,
      "outputs": [
        {
          "output_type": "stream",
          "text": [
            "Testing accuracy 0.8693009118541033\n"
          ],
          "name": "stdout"
        }
      ]
    },
    {
      "cell_type": "code",
      "metadata": {
        "colab": {
          "base_uri": "https://localhost:8080/"
        },
        "id": "n6dAGhf72bYM",
        "outputId": "2bc7b3e3-ffbb-4868-f6e5-834eaf7f7f39"
      },
      "source": [
        "print(precision_score(y_test, y_pred, average='macro'))\n",
        "print(recall_score(y_test, y_pred, average='macro'))\n",
        "print(f1_score(y_test, y_pred, average='macro'))"
      ],
      "execution_count": null,
      "outputs": [
        {
          "output_type": "stream",
          "text": [
            "0.8679393001552421\n",
            "0.8620532516974345\n",
            "0.8621334536810025\n"
          ],
          "name": "stdout"
        }
      ]
    },
    {
      "cell_type": "markdown",
      "metadata": {
        "id": "K72VNvVkJ7Ny"
      },
      "source": [
        "## Metrics"
      ]
    },
    {
      "cell_type": "code",
      "metadata": {
        "id": "vsQN1hU2LKgs"
      },
      "source": [
        "y_pred = clf.predict(X_test)"
      ],
      "execution_count": null,
      "outputs": []
    },
    {
      "cell_type": "code",
      "metadata": {
        "colab": {
          "base_uri": "https://localhost:8080/"
        },
        "id": "LvDLcK2O1Ohh",
        "outputId": "4f6a59ee-72cf-4f8f-f957-389e471abbae"
      },
      "source": [
        "from sklearn.metrics import accuracy_score, f1_score, confusion_matrix\n",
        "import seaborn as sns\n",
        "import matplotlib.pyplot as plt\n",
        "\n",
        "print('Testing accuracy %s' % accuracy_score(y_test, y_pred))\n",
        "print('Testing F1 score: {}'.format(f1_score(y_test, y_pred, average='weighted')))"
      ],
      "execution_count": null,
      "outputs": [
        {
          "output_type": "stream",
          "text": [
            "Testing accuracy 0.8772036474164133\n",
            "Testing F1 score: 0.8765082121269971\n"
          ],
          "name": "stdout"
        }
      ]
    },
    {
      "cell_type": "code",
      "metadata": {
        "id": "RVi1D7nA1Pm9"
      },
      "source": [
        "conf_matrix = confusion_matrix(y_test, y_pred)"
      ],
      "execution_count": null,
      "outputs": []
    },
    {
      "cell_type": "code",
      "metadata": {
        "colab": {
          "base_uri": "https://localhost:8080/",
          "height": 541
        },
        "id": "G0aOf7zO1f4t",
        "outputId": "4091f5bd-9823-4e0c-c92d-9c021956fead"
      },
      "source": [
        "fig = plt.figure(figsize=(15,9))\n",
        "ax = sns.heatmap(conf_matrix, annot=True, fmt=\"d\")"
      ],
      "execution_count": null,
      "outputs": [
        {
          "output_type": "display_data",
          "data": {
            "image/png": "[encoded data removed]",
            "text/plain": [
              "<Figure size 1080x648 with 2 Axes>"
            ]
          },
          "metadata": {
            "tags": [],
            "needs_background": "light"
          }
        }
      ]
    },
    {
      "cell_type": "code",
      "metadata": {
        "colab": {
          "base_uri": "https://localhost:8080/",
          "height": 639
        },
        "id": "61GcZdMN1xlf",
        "outputId": "c9d4c78f-eeed-485f-da4e-b83263c072d8"
      },
      "source": [
        "pd.DataFrame(newsgroups.target_names)"
      ],
      "execution_count": null,
      "outputs": [
        {
          "output_type": "execute_result",
          "data": {
            "text/html": [
              "<div>\n",
              "<style scoped>\n",
              "    .dataframe tbody tr th:only-of-type {\n",
              "        vertical-align: middle;\n",
              "    }\n",
              "\n",
              "    .dataframe tbody tr th {\n",
              "        vertical-align: top;\n",
              "    }\n",
              "\n",
              "    .dataframe thead th {\n",
              "        text-align: right;\n",
              "    }\n",
              "</style>\n",
              "<table border=\"1\" class=\"dataframe\">\n",
              "  <thead>\n",
              "    <tr style=\"text-align: right;\">\n",
              "      <th></th>\n",
              "      <th>0</th>\n",
              "    </tr>\n",
              "  </thead>\n",
              "  <tbody>\n",
              "    <tr>\n",
              "      <th>0</th>\n",
              "      <td>alt.atheism</td>\n",
              "    </tr>\n",
              "    <tr>\n",
              "      <th>1</th>\n",
              "      <td>comp.graphics</td>\n",
              "    </tr>\n",
              "    <tr>\n",
              "      <th>2</th>\n",
              "      <td>comp.os.ms-windows.misc</td>\n",
              "    </tr>\n",
              "    <tr>\n",
              "      <th>3</th>\n",
              "      <td>comp.sys.ibm.pc.hardware</td>\n",
              "    </tr>\n",
              "    <tr>\n",
              "      <th>4</th>\n",
              "      <td>comp.sys.mac.hardware</td>\n",
              "    </tr>\n",
              "    <tr>\n",
              "      <th>5</th>\n",
              "      <td>comp.windows.x</td>\n",
              "    </tr>\n",
              "    <tr>\n",
              "      <th>6</th>\n",
              "      <td>misc.forsale</td>\n",
              "    </tr>\n",
              "    <tr>\n",
              "      <th>7</th>\n",
              "      <td>rec.autos</td>\n",
              "    </tr>\n",
              "    <tr>\n",
              "      <th>8</th>\n",
              "      <td>rec.motorcycles</td>\n",
              "    </tr>\n",
              "    <tr>\n",
              "      <th>9</th>\n",
              "      <td>rec.sport.baseball</td>\n",
              "    </tr>\n",
              "    <tr>\n",
              "      <th>10</th>\n",
              "      <td>rec.sport.hockey</td>\n",
              "    </tr>\n",
              "    <tr>\n",
              "      <th>11</th>\n",
              "      <td>sci.crypt</td>\n",
              "    </tr>\n",
              "    <tr>\n",
              "      <th>12</th>\n",
              "      <td>sci.electronics</td>\n",
              "    </tr>\n",
              "    <tr>\n",
              "      <th>13</th>\n",
              "      <td>sci.med</td>\n",
              "    </tr>\n",
              "    <tr>\n",
              "      <th>14</th>\n",
              "      <td>sci.space</td>\n",
              "    </tr>\n",
              "    <tr>\n",
              "      <th>15</th>\n",
              "      <td>soc.religion.christian</td>\n",
              "    </tr>\n",
              "    <tr>\n",
              "      <th>16</th>\n",
              "      <td>talk.politics.guns</td>\n",
              "    </tr>\n",
              "    <tr>\n",
              "      <th>17</th>\n",
              "      <td>talk.politics.mideast</td>\n",
              "    </tr>\n",
              "    <tr>\n",
              "      <th>18</th>\n",
              "      <td>talk.politics.misc</td>\n",
              "    </tr>\n",
              "    <tr>\n",
              "      <th>19</th>\n",
              "      <td>talk.religion.misc</td>\n",
              "    </tr>\n",
              "  </tbody>\n",
              "</table>\n",
              "</div>"
            ],
            "text/plain": [
              "                           0\n",
              "0                alt.atheism\n",
              "1              comp.graphics\n",
              "2    comp.os.ms-windows.misc\n",
              "3   comp.sys.ibm.pc.hardware\n",
              "4      comp.sys.mac.hardware\n",
              "5             comp.windows.x\n",
              "6               misc.forsale\n",
              "7                  rec.autos\n",
              "8            rec.motorcycles\n",
              "9         rec.sport.baseball\n",
              "10          rec.sport.hockey\n",
              "11                 sci.crypt\n",
              "12           sci.electronics\n",
              "13                   sci.med\n",
              "14                 sci.space\n",
              "15    soc.religion.christian\n",
              "16        talk.politics.guns\n",
              "17     talk.politics.mideast\n",
              "18        talk.politics.misc\n",
              "19        talk.religion.misc"
            ]
          },
          "metadata": {
            "tags": []
          },
          "execution_count": 69
        }
      ]
    }
  ]
}