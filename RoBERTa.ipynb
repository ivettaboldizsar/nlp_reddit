{
  "nbformat": 4,
  "nbformat_minor": 0,
  "metadata": {
    "colab": {
      "name": "RoBERTa.ipynb",
      "provenance": [],
      "collapsed_sections": [
        "TVXtx578bmvq"
      ],
      "toc_visible": true
    },
    "kernelspec": {
      "name": "python3",
      "display_name": "Python 3"
    },
    "language_info": {
      "name": "python"
    },
    "accelerator": "GPU",
    "widgets": {
      "application/vnd.jupyter.widget-state+json": {
        "378da5f6403b481097efb0ab1f8c68c5": {
          "model_module": "@jupyter-widgets/controls",
          "model_name": "HBoxModel",
          "model_module_version": "1.5.0",
          "state": {
            "_view_name": "HBoxView",
            "_dom_classes": [],
            "_model_name": "HBoxModel",
            "_view_module": "@jupyter-widgets/controls",
            "_model_module_version": "1.5.0",
            "_view_count": null,
            "_view_module_version": "1.5.0",
            "box_style": "",
            "layout": "IPY_MODEL_cf165a0f9df24582857c758ccb1aafd0",
            "_model_module": "@jupyter-widgets/controls",
            "children": [
              "IPY_MODEL_589a6da676e942b8a55f9da94b4db03c",
              "IPY_MODEL_4099d26782bd42b29003d3f51328c6ac"
            ]
          }
        },
        "cf165a0f9df24582857c758ccb1aafd0": {
          "model_module": "@jupyter-widgets/base",
          "model_name": "LayoutModel",
          "model_module_version": "1.2.0",
          "state": {
            "_view_name": "LayoutView",
            "grid_template_rows": null,
            "right": null,
            "justify_content": null,
            "_view_module": "@jupyter-widgets/base",
            "overflow": null,
            "_model_module_version": "1.2.0",
            "_view_count": null,
            "flex_flow": null,
            "width": null,
            "min_width": null,
            "border": null,
            "align_items": null,
            "bottom": null,
            "_model_module": "@jupyter-widgets/base",
            "top": null,
            "grid_column": null,
            "overflow_y": null,
            "overflow_x": null,
            "grid_auto_flow": null,
            "grid_area": null,
            "grid_template_columns": null,
            "flex": null,
            "_model_name": "LayoutModel",
            "justify_items": null,
            "grid_row": null,
            "max_height": null,
            "align_content": null,
            "visibility": null,
            "align_self": null,
            "height": null,
            "min_height": null,
            "padding": null,
            "grid_auto_rows": null,
            "grid_gap": null,
            "max_width": null,
            "order": null,
            "_view_module_version": "1.2.0",
            "grid_template_areas": null,
            "object_position": null,
            "object_fit": null,
            "grid_auto_columns": null,
            "margin": null,
            "display": null,
            "left": null
          }
        },
        "589a6da676e942b8a55f9da94b4db03c": {
          "model_module": "@jupyter-widgets/controls",
          "model_name": "FloatProgressModel",
          "model_module_version": "1.5.0",
          "state": {
            "_view_name": "ProgressView",
            "style": "IPY_MODEL_6f888db072794097b6e7a38b73760286",
            "_dom_classes": [],
            "description": "Downloading: 100%",
            "_model_name": "FloatProgressModel",
            "bar_style": "success",
            "max": 898823,
            "_view_module": "@jupyter-widgets/controls",
            "_model_module_version": "1.5.0",
            "value": 898823,
            "_view_count": null,
            "_view_module_version": "1.5.0",
            "orientation": "horizontal",
            "min": 0,
            "description_tooltip": null,
            "_model_module": "@jupyter-widgets/controls",
            "layout": "IPY_MODEL_f393aa176bdf4e43966b62444983c09c"
          }
        },
        "4099d26782bd42b29003d3f51328c6ac": {
          "model_module": "@jupyter-widgets/controls",
          "model_name": "HTMLModel",
          "model_module_version": "1.5.0",
          "state": {
            "_view_name": "HTMLView",
            "style": "IPY_MODEL_3fab2517fd5341188aed59855ddfdbc3",
            "_dom_classes": [],
            "description": "",
            "_model_name": "HTMLModel",
            "placeholder": "​",
            "_view_module": "@jupyter-widgets/controls",
            "_model_module_version": "1.5.0",
            "value": " 899k/899k [00:02&lt;00:00, 421kB/s]",
            "_view_count": null,
            "_view_module_version": "1.5.0",
            "description_tooltip": null,
            "_model_module": "@jupyter-widgets/controls",
            "layout": "IPY_MODEL_d293ede3f38d49f39ce902ad6dc9726f"
          }
        },
        "6f888db072794097b6e7a38b73760286": {
          "model_module": "@jupyter-widgets/controls",
          "model_name": "ProgressStyleModel",
          "model_module_version": "1.5.0",
          "state": {
            "_view_name": "StyleView",
            "_model_name": "ProgressStyleModel",
            "description_width": "initial",
            "_view_module": "@jupyter-widgets/base",
            "_model_module_version": "1.5.0",
            "_view_count": null,
            "_view_module_version": "1.2.0",
            "bar_color": null,
            "_model_module": "@jupyter-widgets/controls"
          }
        },
        "f393aa176bdf4e43966b62444983c09c": {
          "model_module": "@jupyter-widgets/base",
          "model_name": "LayoutModel",
          "model_module_version": "1.2.0",
          "state": {
            "_view_name": "LayoutView",
            "grid_template_rows": null,
            "right": null,
            "justify_content": null,
            "_view_module": "@jupyter-widgets/base",
            "overflow": null,
            "_model_module_version": "1.2.0",
            "_view_count": null,
            "flex_flow": null,
            "width": null,
            "min_width": null,
            "border": null,
            "align_items": null,
            "bottom": null,
            "_model_module": "@jupyter-widgets/base",
            "top": null,
            "grid_column": null,
            "overflow_y": null,
            "overflow_x": null,
            "grid_auto_flow": null,
            "grid_area": null,
            "grid_template_columns": null,
            "flex": null,
            "_model_name": "LayoutModel",
            "justify_items": null,
            "grid_row": null,
            "max_height": null,
            "align_content": null,
            "visibility": null,
            "align_self": null,
            "height": null,
            "min_height": null,
            "padding": null,
            "grid_auto_rows": null,
            "grid_gap": null,
            "max_width": null,
            "order": null,
            "_view_module_version": "1.2.0",
            "grid_template_areas": null,
            "object_position": null,
            "object_fit": null,
            "grid_auto_columns": null,
            "margin": null,
            "display": null,
            "left": null
          }
        },
        "3fab2517fd5341188aed59855ddfdbc3": {
          "model_module": "@jupyter-widgets/controls",
          "model_name": "DescriptionStyleModel",
          "model_module_version": "1.5.0",
          "state": {
            "_view_name": "StyleView",
            "_model_name": "DescriptionStyleModel",
            "description_width": "",
            "_view_module": "@jupyter-widgets/base",
            "_model_module_version": "1.5.0",
            "_view_count": null,
            "_view_module_version": "1.2.0",
            "_model_module": "@jupyter-widgets/controls"
          }
        },
        "d293ede3f38d49f39ce902ad6dc9726f": {
          "model_module": "@jupyter-widgets/base",
          "model_name": "LayoutModel",
          "model_module_version": "1.2.0",
          "state": {
            "_view_name": "LayoutView",
            "grid_template_rows": null,
            "right": null,
            "justify_content": null,
            "_view_module": "@jupyter-widgets/base",
            "overflow": null,
            "_model_module_version": "1.2.0",
            "_view_count": null,
            "flex_flow": null,
            "width": null,
            "min_width": null,
            "border": null,
            "align_items": null,
            "bottom": null,
            "_model_module": "@jupyter-widgets/base",
            "top": null,
            "grid_column": null,
            "overflow_y": null,
            "overflow_x": null,
            "grid_auto_flow": null,
            "grid_area": null,
            "grid_template_columns": null,
            "flex": null,
            "_model_name": "LayoutModel",
            "justify_items": null,
            "grid_row": null,
            "max_height": null,
            "align_content": null,
            "visibility": null,
            "align_self": null,
            "height": null,
            "min_height": null,
            "padding": null,
            "grid_auto_rows": null,
            "grid_gap": null,
            "max_width": null,
            "order": null,
            "_view_module_version": "1.2.0",
            "grid_template_areas": null,
            "object_position": null,
            "object_fit": null,
            "grid_auto_columns": null,
            "margin": null,
            "display": null,
            "left": null
          }
        },
        "ffd892a18d4741caafe838e875c5891f": {
          "model_module": "@jupyter-widgets/controls",
          "model_name": "HBoxModel",
          "model_module_version": "1.5.0",
          "state": {
            "_view_name": "HBoxView",
            "_dom_classes": [],
            "_model_name": "HBoxModel",
            "_view_module": "@jupyter-widgets/controls",
            "_model_module_version": "1.5.0",
            "_view_count": null,
            "_view_module_version": "1.5.0",
            "box_style": "",
            "layout": "IPY_MODEL_1dd00045b8cb4b5a91c80ae756e1f70b",
            "_model_module": "@jupyter-widgets/controls",
            "children": [
              "IPY_MODEL_629447f7166e4957a3c30a69969d5437",
              "IPY_MODEL_1649b7953d89458aaf9029a8f2d098d7"
            ]
          }
        },
        "1dd00045b8cb4b5a91c80ae756e1f70b": {
          "model_module": "@jupyter-widgets/base",
          "model_name": "LayoutModel",
          "model_module_version": "1.2.0",
          "state": {
            "_view_name": "LayoutView",
            "grid_template_rows": null,
            "right": null,
            "justify_content": null,
            "_view_module": "@jupyter-widgets/base",
            "overflow": null,
            "_model_module_version": "1.2.0",
            "_view_count": null,
            "flex_flow": null,
            "width": null,
            "min_width": null,
            "border": null,
            "align_items": null,
            "bottom": null,
            "_model_module": "@jupyter-widgets/base",
            "top": null,
            "grid_column": null,
            "overflow_y": null,
            "overflow_x": null,
            "grid_auto_flow": null,
            "grid_area": null,
            "grid_template_columns": null,
            "flex": null,
            "_model_name": "LayoutModel",
            "justify_items": null,
            "grid_row": null,
            "max_height": null,
            "align_content": null,
            "visibility": null,
            "align_self": null,
            "height": null,
            "min_height": null,
            "padding": null,
            "grid_auto_rows": null,
            "grid_gap": null,
            "max_width": null,
            "order": null,
            "_view_module_version": "1.2.0",
            "grid_template_areas": null,
            "object_position": null,
            "object_fit": null,
            "grid_auto_columns": null,
            "margin": null,
            "display": null,
            "left": null
          }
        },
        "629447f7166e4957a3c30a69969d5437": {
          "model_module": "@jupyter-widgets/controls",
          "model_name": "FloatProgressModel",
          "model_module_version": "1.5.0",
          "state": {
            "_view_name": "ProgressView",
            "style": "IPY_MODEL_a64541f4e0944da08b1911f183b92e37",
            "_dom_classes": [],
            "description": "Downloading: 100%",
            "_model_name": "FloatProgressModel",
            "bar_style": "success",
            "max": 456318,
            "_view_module": "@jupyter-widgets/controls",
            "_model_module_version": "1.5.0",
            "value": 456318,
            "_view_count": null,
            "_view_module_version": "1.5.0",
            "orientation": "horizontal",
            "min": 0,
            "description_tooltip": null,
            "_model_module": "@jupyter-widgets/controls",
            "layout": "IPY_MODEL_a0ed38a5e8b0446eb9f9a2197e569f32"
          }
        },
        "1649b7953d89458aaf9029a8f2d098d7": {
          "model_module": "@jupyter-widgets/controls",
          "model_name": "HTMLModel",
          "model_module_version": "1.5.0",
          "state": {
            "_view_name": "HTMLView",
            "style": "IPY_MODEL_841c312b878b497b88770578ded8fb61",
            "_dom_classes": [],
            "description": "",
            "_model_name": "HTMLModel",
            "placeholder": "​",
            "_view_module": "@jupyter-widgets/controls",
            "_model_module_version": "1.5.0",
            "value": " 456k/456k [00:05&lt;00:00, 88.8kB/s]",
            "_view_count": null,
            "_view_module_version": "1.5.0",
            "description_tooltip": null,
            "_model_module": "@jupyter-widgets/controls",
            "layout": "IPY_MODEL_e1e179b9cfd444509d12e54c4d0d0c8c"
          }
        },
        "a64541f4e0944da08b1911f183b92e37": {
          "model_module": "@jupyter-widgets/controls",
          "model_name": "ProgressStyleModel",
          "model_module_version": "1.5.0",
          "state": {
            "_view_name": "StyleView",
            "_model_name": "ProgressStyleModel",
            "description_width": "initial",
            "_view_module": "@jupyter-widgets/base",
            "_model_module_version": "1.5.0",
            "_view_count": null,
            "_view_module_version": "1.2.0",
            "bar_color": null,
            "_model_module": "@jupyter-widgets/controls"
          }
        },
        "a0ed38a5e8b0446eb9f9a2197e569f32": {
          "model_module": "@jupyter-widgets/base",
          "model_name": "LayoutModel",
          "model_module_version": "1.2.0",
          "state": {
            "_view_name": "LayoutView",
            "grid_template_rows": null,
            "right": null,
            "justify_content": null,
            "_view_module": "@jupyter-widgets/base",
            "overflow": null,
            "_model_module_version": "1.2.0",
            "_view_count": null,
            "flex_flow": null,
            "width": null,
            "min_width": null,
            "border": null,
            "align_items": null,
            "bottom": null,
            "_model_module": "@jupyter-widgets/base",
            "top": null,
            "grid_column": null,
            "overflow_y": null,
            "overflow_x": null,
            "grid_auto_flow": null,
            "grid_area": null,
            "grid_template_columns": null,
            "flex": null,
            "_model_name": "LayoutModel",
            "justify_items": null,
            "grid_row": null,
            "max_height": null,
            "align_content": null,
            "visibility": null,
            "align_self": null,
            "height": null,
            "min_height": null,
            "padding": null,
            "grid_auto_rows": null,
            "grid_gap": null,
            "max_width": null,
            "order": null,
            "_view_module_version": "1.2.0",
            "grid_template_areas": null,
            "object_position": null,
            "object_fit": null,
            "grid_auto_columns": null,
            "margin": null,
            "display": null,
            "left": null
          }
        },
        "841c312b878b497b88770578ded8fb61": {
          "model_module": "@jupyter-widgets/controls",
          "model_name": "DescriptionStyleModel",
          "model_module_version": "1.5.0",
          "state": {
            "_view_name": "StyleView",
            "_model_name": "DescriptionStyleModel",
            "description_width": "",
            "_view_module": "@jupyter-widgets/base",
            "_model_module_version": "1.5.0",
            "_view_count": null,
            "_view_module_version": "1.2.0",
            "_model_module": "@jupyter-widgets/controls"
          }
        },
        "e1e179b9cfd444509d12e54c4d0d0c8c": {
          "model_module": "@jupyter-widgets/base",
          "model_name": "LayoutModel",
          "model_module_version": "1.2.0",
          "state": {
            "_view_name": "LayoutView",
            "grid_template_rows": null,
            "right": null,
            "justify_content": null,
            "_view_module": "@jupyter-widgets/base",
            "overflow": null,
            "_model_module_version": "1.2.0",
            "_view_count": null,
            "flex_flow": null,
            "width": null,
            "min_width": null,
            "border": null,
            "align_items": null,
            "bottom": null,
            "_model_module": "@jupyter-widgets/base",
            "top": null,
            "grid_column": null,
            "overflow_y": null,
            "overflow_x": null,
            "grid_auto_flow": null,
            "grid_area": null,
            "grid_template_columns": null,
            "flex": null,
            "_model_name": "LayoutModel",
            "justify_items": null,
            "grid_row": null,
            "max_height": null,
            "align_content": null,
            "visibility": null,
            "align_self": null,
            "height": null,
            "min_height": null,
            "padding": null,
            "grid_auto_rows": null,
            "grid_gap": null,
            "max_width": null,
            "order": null,
            "_view_module_version": "1.2.0",
            "grid_template_areas": null,
            "object_position": null,
            "object_fit": null,
            "grid_auto_columns": null,
            "margin": null,
            "display": null,
            "left": null
          }
        },
        "04ffd1d209c44b65aad80ed3e3e04f72": {
          "model_module": "@jupyter-widgets/controls",
          "model_name": "HBoxModel",
          "model_module_version": "1.5.0",
          "state": {
            "_view_name": "HBoxView",
            "_dom_classes": [],
            "_model_name": "HBoxModel",
            "_view_module": "@jupyter-widgets/controls",
            "_model_module_version": "1.5.0",
            "_view_count": null,
            "_view_module_version": "1.5.0",
            "box_style": "",
            "layout": "IPY_MODEL_796beee6e47f479cb25c5de51e89ba38",
            "_model_module": "@jupyter-widgets/controls",
            "children": [
              "IPY_MODEL_b37ccf8f7e394c10a8d3cc5390582c02",
              "IPY_MODEL_3cd683b7da174dda96ad59906d6e4ad6"
            ]
          }
        },
        "796beee6e47f479cb25c5de51e89ba38": {
          "model_module": "@jupyter-widgets/base",
          "model_name": "LayoutModel",
          "model_module_version": "1.2.0",
          "state": {
            "_view_name": "LayoutView",
            "grid_template_rows": null,
            "right": null,
            "justify_content": null,
            "_view_module": "@jupyter-widgets/base",
            "overflow": null,
            "_model_module_version": "1.2.0",
            "_view_count": null,
            "flex_flow": null,
            "width": null,
            "min_width": null,
            "border": null,
            "align_items": null,
            "bottom": null,
            "_model_module": "@jupyter-widgets/base",
            "top": null,
            "grid_column": null,
            "overflow_y": null,
            "overflow_x": null,
            "grid_auto_flow": null,
            "grid_area": null,
            "grid_template_columns": null,
            "flex": null,
            "_model_name": "LayoutModel",
            "justify_items": null,
            "grid_row": null,
            "max_height": null,
            "align_content": null,
            "visibility": null,
            "align_self": null,
            "height": null,
            "min_height": null,
            "padding": null,
            "grid_auto_rows": null,
            "grid_gap": null,
            "max_width": null,
            "order": null,
            "_view_module_version": "1.2.0",
            "grid_template_areas": null,
            "object_position": null,
            "object_fit": null,
            "grid_auto_columns": null,
            "margin": null,
            "display": null,
            "left": null
          }
        },
        "b37ccf8f7e394c10a8d3cc5390582c02": {
          "model_module": "@jupyter-widgets/controls",
          "model_name": "FloatProgressModel",
          "model_module_version": "1.5.0",
          "state": {
            "_view_name": "ProgressView",
            "style": "IPY_MODEL_c989ac27b43b42a59737bae436f2f963",
            "_dom_classes": [],
            "description": "Downloading: 100%",
            "_model_name": "FloatProgressModel",
            "bar_style": "success",
            "max": 1355863,
            "_view_module": "@jupyter-widgets/controls",
            "_model_module_version": "1.5.0",
            "value": 1355863,
            "_view_count": null,
            "_view_module_version": "1.5.0",
            "orientation": "horizontal",
            "min": 0,
            "description_tooltip": null,
            "_model_module": "@jupyter-widgets/controls",
            "layout": "IPY_MODEL_6aaf223fc1794231a829bf6b1a0f4a9a"
          }
        },
        "3cd683b7da174dda96ad59906d6e4ad6": {
          "model_module": "@jupyter-widgets/controls",
          "model_name": "HTMLModel",
          "model_module_version": "1.5.0",
          "state": {
            "_view_name": "HTMLView",
            "style": "IPY_MODEL_0af39ec9bb0e4a28b684e8d9f6e85571",
            "_dom_classes": [],
            "description": "",
            "_model_name": "HTMLModel",
            "placeholder": "​",
            "_view_module": "@jupyter-widgets/controls",
            "_model_module_version": "1.5.0",
            "value": " 1.36M/1.36M [00:01&lt;00:00, 1.16MB/s]",
            "_view_count": null,
            "_view_module_version": "1.5.0",
            "description_tooltip": null,
            "_model_module": "@jupyter-widgets/controls",
            "layout": "IPY_MODEL_9ef38a52f9bc46de839c46083e421a61"
          }
        },
        "c989ac27b43b42a59737bae436f2f963": {
          "model_module": "@jupyter-widgets/controls",
          "model_name": "ProgressStyleModel",
          "model_module_version": "1.5.0",
          "state": {
            "_view_name": "StyleView",
            "_model_name": "ProgressStyleModel",
            "description_width": "initial",
            "_view_module": "@jupyter-widgets/base",
            "_model_module_version": "1.5.0",
            "_view_count": null,
            "_view_module_version": "1.2.0",
            "bar_color": null,
            "_model_module": "@jupyter-widgets/controls"
          }
        },
        "6aaf223fc1794231a829bf6b1a0f4a9a": {
          "model_module": "@jupyter-widgets/base",
          "model_name": "LayoutModel",
          "model_module_version": "1.2.0",
          "state": {
            "_view_name": "LayoutView",
            "grid_template_rows": null,
            "right": null,
            "justify_content": null,
            "_view_module": "@jupyter-widgets/base",
            "overflow": null,
            "_model_module_version": "1.2.0",
            "_view_count": null,
            "flex_flow": null,
            "width": null,
            "min_width": null,
            "border": null,
            "align_items": null,
            "bottom": null,
            "_model_module": "@jupyter-widgets/base",
            "top": null,
            "grid_column": null,
            "overflow_y": null,
            "overflow_x": null,
            "grid_auto_flow": null,
            "grid_area": null,
            "grid_template_columns": null,
            "flex": null,
            "_model_name": "LayoutModel",
            "justify_items": null,
            "grid_row": null,
            "max_height": null,
            "align_content": null,
            "visibility": null,
            "align_self": null,
            "height": null,
            "min_height": null,
            "padding": null,
            "grid_auto_rows": null,
            "grid_gap": null,
            "max_width": null,
            "order": null,
            "_view_module_version": "1.2.0",
            "grid_template_areas": null,
            "object_position": null,
            "object_fit": null,
            "grid_auto_columns": null,
            "margin": null,
            "display": null,
            "left": null
          }
        },
        "0af39ec9bb0e4a28b684e8d9f6e85571": {
          "model_module": "@jupyter-widgets/controls",
          "model_name": "DescriptionStyleModel",
          "model_module_version": "1.5.0",
          "state": {
            "_view_name": "StyleView",
            "_model_name": "DescriptionStyleModel",
            "description_width": "",
            "_view_module": "@jupyter-widgets/base",
            "_model_module_version": "1.5.0",
            "_view_count": null,
            "_view_module_version": "1.2.0",
            "_model_module": "@jupyter-widgets/controls"
          }
        },
        "9ef38a52f9bc46de839c46083e421a61": {
          "model_module": "@jupyter-widgets/base",
          "model_name": "LayoutModel",
          "model_module_version": "1.2.0",
          "state": {
            "_view_name": "LayoutView",
            "grid_template_rows": null,
            "right": null,
            "justify_content": null,
            "_view_module": "@jupyter-widgets/base",
            "overflow": null,
            "_model_module_version": "1.2.0",
            "_view_count": null,
            "flex_flow": null,
            "width": null,
            "min_width": null,
            "border": null,
            "align_items": null,
            "bottom": null,
            "_model_module": "@jupyter-widgets/base",
            "top": null,
            "grid_column": null,
            "overflow_y": null,
            "overflow_x": null,
            "grid_auto_flow": null,
            "grid_area": null,
            "grid_template_columns": null,
            "flex": null,
            "_model_name": "LayoutModel",
            "justify_items": null,
            "grid_row": null,
            "max_height": null,
            "align_content": null,
            "visibility": null,
            "align_self": null,
            "height": null,
            "min_height": null,
            "padding": null,
            "grid_auto_rows": null,
            "grid_gap": null,
            "max_width": null,
            "order": null,
            "_view_module_version": "1.2.0",
            "grid_template_areas": null,
            "object_position": null,
            "object_fit": null,
            "grid_auto_columns": null,
            "margin": null,
            "display": null,
            "left": null
          }
        },
        "1f3506bd3ca7420d9a42c1a96425c293": {
          "model_module": "@jupyter-widgets/controls",
          "model_name": "HBoxModel",
          "model_module_version": "1.5.0",
          "state": {
            "_view_name": "HBoxView",
            "_dom_classes": [],
            "_model_name": "HBoxModel",
            "_view_module": "@jupyter-widgets/controls",
            "_model_module_version": "1.5.0",
            "_view_count": null,
            "_view_module_version": "1.5.0",
            "box_style": "",
            "layout": "IPY_MODEL_e02fec7fa37548ef8005e0f3931b6fd7",
            "_model_module": "@jupyter-widgets/controls",
            "children": [
              "IPY_MODEL_287b9dc7e9df4967a02ac2499045afa2",
              "IPY_MODEL_d20068d5a1d147faad5ebf22acc8daa0"
            ]
          }
        },
        "e02fec7fa37548ef8005e0f3931b6fd7": {
          "model_module": "@jupyter-widgets/base",
          "model_name": "LayoutModel",
          "model_module_version": "1.2.0",
          "state": {
            "_view_name": "LayoutView",
            "grid_template_rows": null,
            "right": null,
            "justify_content": null,
            "_view_module": "@jupyter-widgets/base",
            "overflow": null,
            "_model_module_version": "1.2.0",
            "_view_count": null,
            "flex_flow": null,
            "width": null,
            "min_width": null,
            "border": null,
            "align_items": null,
            "bottom": null,
            "_model_module": "@jupyter-widgets/base",
            "top": null,
            "grid_column": null,
            "overflow_y": null,
            "overflow_x": null,
            "grid_auto_flow": null,
            "grid_area": null,
            "grid_template_columns": null,
            "flex": null,
            "_model_name": "LayoutModel",
            "justify_items": null,
            "grid_row": null,
            "max_height": null,
            "align_content": null,
            "visibility": null,
            "align_self": null,
            "height": null,
            "min_height": null,
            "padding": null,
            "grid_auto_rows": null,
            "grid_gap": null,
            "max_width": null,
            "order": null,
            "_view_module_version": "1.2.0",
            "grid_template_areas": null,
            "object_position": null,
            "object_fit": null,
            "grid_auto_columns": null,
            "margin": null,
            "display": null,
            "left": null
          }
        },
        "287b9dc7e9df4967a02ac2499045afa2": {
          "model_module": "@jupyter-widgets/controls",
          "model_name": "FloatProgressModel",
          "model_module_version": "1.5.0",
          "state": {
            "_view_name": "ProgressView",
            "style": "IPY_MODEL_6300e7560ea5444bbb459eb3916c477e",
            "_dom_classes": [],
            "description": "Downloading: 100%",
            "_model_name": "FloatProgressModel",
            "bar_style": "success",
            "max": 481,
            "_view_module": "@jupyter-widgets/controls",
            "_model_module_version": "1.5.0",
            "value": 481,
            "_view_count": null,
            "_view_module_version": "1.5.0",
            "orientation": "horizontal",
            "min": 0,
            "description_tooltip": null,
            "_model_module": "@jupyter-widgets/controls",
            "layout": "IPY_MODEL_6ac7bff21d764a5b81912aa1f7797a89"
          }
        },
        "d20068d5a1d147faad5ebf22acc8daa0": {
          "model_module": "@jupyter-widgets/controls",
          "model_name": "HTMLModel",
          "model_module_version": "1.5.0",
          "state": {
            "_view_name": "HTMLView",
            "style": "IPY_MODEL_d10be11a2a3b4ac581fda046a41f1d04",
            "_dom_classes": [],
            "description": "",
            "_model_name": "HTMLModel",
            "placeholder": "​",
            "_view_module": "@jupyter-widgets/controls",
            "_model_module_version": "1.5.0",
            "value": " 481/481 [00:16&lt;00:00, 30.0B/s]",
            "_view_count": null,
            "_view_module_version": "1.5.0",
            "description_tooltip": null,
            "_model_module": "@jupyter-widgets/controls",
            "layout": "IPY_MODEL_7ac95bb2fc134f1082f77488ab6bbf3f"
          }
        },
        "6300e7560ea5444bbb459eb3916c477e": {
          "model_module": "@jupyter-widgets/controls",
          "model_name": "ProgressStyleModel",
          "model_module_version": "1.5.0",
          "state": {
            "_view_name": "StyleView",
            "_model_name": "ProgressStyleModel",
            "description_width": "initial",
            "_view_module": "@jupyter-widgets/base",
            "_model_module_version": "1.5.0",
            "_view_count": null,
            "_view_module_version": "1.2.0",
            "bar_color": null,
            "_model_module": "@jupyter-widgets/controls"
          }
        },
        "6ac7bff21d764a5b81912aa1f7797a89": {
          "model_module": "@jupyter-widgets/base",
          "model_name": "LayoutModel",
          "model_module_version": "1.2.0",
          "state": {
            "_view_name": "LayoutView",
            "grid_template_rows": null,
            "right": null,
            "justify_content": null,
            "_view_module": "@jupyter-widgets/base",
            "overflow": null,
            "_model_module_version": "1.2.0",
            "_view_count": null,
            "flex_flow": null,
            "width": null,
            "min_width": null,
            "border": null,
            "align_items": null,
            "bottom": null,
            "_model_module": "@jupyter-widgets/base",
            "top": null,
            "grid_column": null,
            "overflow_y": null,
            "overflow_x": null,
            "grid_auto_flow": null,
            "grid_area": null,
            "grid_template_columns": null,
            "flex": null,
            "_model_name": "LayoutModel",
            "justify_items": null,
            "grid_row": null,
            "max_height": null,
            "align_content": null,
            "visibility": null,
            "align_self": null,
            "height": null,
            "min_height": null,
            "padding": null,
            "grid_auto_rows": null,
            "grid_gap": null,
            "max_width": null,
            "order": null,
            "_view_module_version": "1.2.0",
            "grid_template_areas": null,
            "object_position": null,
            "object_fit": null,
            "grid_auto_columns": null,
            "margin": null,
            "display": null,
            "left": null
          }
        },
        "d10be11a2a3b4ac581fda046a41f1d04": {
          "model_module": "@jupyter-widgets/controls",
          "model_name": "DescriptionStyleModel",
          "model_module_version": "1.5.0",
          "state": {
            "_view_name": "StyleView",
            "_model_name": "DescriptionStyleModel",
            "description_width": "",
            "_view_module": "@jupyter-widgets/base",
            "_model_module_version": "1.5.0",
            "_view_count": null,
            "_view_module_version": "1.2.0",
            "_model_module": "@jupyter-widgets/controls"
          }
        },
        "7ac95bb2fc134f1082f77488ab6bbf3f": {
          "model_module": "@jupyter-widgets/base",
          "model_name": "LayoutModel",
          "model_module_version": "1.2.0",
          "state": {
            "_view_name": "LayoutView",
            "grid_template_rows": null,
            "right": null,
            "justify_content": null,
            "_view_module": "@jupyter-widgets/base",
            "overflow": null,
            "_model_module_version": "1.2.0",
            "_view_count": null,
            "flex_flow": null,
            "width": null,
            "min_width": null,
            "border": null,
            "align_items": null,
            "bottom": null,
            "_model_module": "@jupyter-widgets/base",
            "top": null,
            "grid_column": null,
            "overflow_y": null,
            "overflow_x": null,
            "grid_auto_flow": null,
            "grid_area": null,
            "grid_template_columns": null,
            "flex": null,
            "_model_name": "LayoutModel",
            "justify_items": null,
            "grid_row": null,
            "max_height": null,
            "align_content": null,
            "visibility": null,
            "align_self": null,
            "height": null,
            "min_height": null,
            "padding": null,
            "grid_auto_rows": null,
            "grid_gap": null,
            "max_width": null,
            "order": null,
            "_view_module_version": "1.2.0",
            "grid_template_areas": null,
            "object_position": null,
            "object_fit": null,
            "grid_auto_columns": null,
            "margin": null,
            "display": null,
            "left": null
          }
        },
        "8d97562e511b4d14960429d5eca101f2": {
          "model_module": "@jupyter-widgets/controls",
          "model_name": "HBoxModel",
          "model_module_version": "1.5.0",
          "state": {
            "_view_name": "HBoxView",
            "_dom_classes": [],
            "_model_name": "HBoxModel",
            "_view_module": "@jupyter-widgets/controls",
            "_model_module_version": "1.5.0",
            "_view_count": null,
            "_view_module_version": "1.5.0",
            "box_style": "",
            "layout": "IPY_MODEL_6985f98469c34cde922156156e21716a",
            "_model_module": "@jupyter-widgets/controls",
            "children": [
              "IPY_MODEL_49c4223b5e69462e96e6c7a5a66d7bf8",
              "IPY_MODEL_e1b230486718438facbd9f485a40e983"
            ]
          }
        },
        "6985f98469c34cde922156156e21716a": {
          "model_module": "@jupyter-widgets/base",
          "model_name": "LayoutModel",
          "model_module_version": "1.2.0",
          "state": {
            "_view_name": "LayoutView",
            "grid_template_rows": null,
            "right": null,
            "justify_content": null,
            "_view_module": "@jupyter-widgets/base",
            "overflow": null,
            "_model_module_version": "1.2.0",
            "_view_count": null,
            "flex_flow": null,
            "width": null,
            "min_width": null,
            "border": null,
            "align_items": null,
            "bottom": null,
            "_model_module": "@jupyter-widgets/base",
            "top": null,
            "grid_column": null,
            "overflow_y": null,
            "overflow_x": null,
            "grid_auto_flow": null,
            "grid_area": null,
            "grid_template_columns": null,
            "flex": null,
            "_model_name": "LayoutModel",
            "justify_items": null,
            "grid_row": null,
            "max_height": null,
            "align_content": null,
            "visibility": null,
            "align_self": null,
            "height": null,
            "min_height": null,
            "padding": null,
            "grid_auto_rows": null,
            "grid_gap": null,
            "max_width": null,
            "order": null,
            "_view_module_version": "1.2.0",
            "grid_template_areas": null,
            "object_position": null,
            "object_fit": null,
            "grid_auto_columns": null,
            "margin": null,
            "display": null,
            "left": null
          }
        },
        "49c4223b5e69462e96e6c7a5a66d7bf8": {
          "model_module": "@jupyter-widgets/controls",
          "model_name": "FloatProgressModel",
          "model_module_version": "1.5.0",
          "state": {
            "_view_name": "ProgressView",
            "style": "IPY_MODEL_0a8f5c6b455748cbba5c1354a0298307",
            "_dom_classes": [],
            "description": "Downloading: 100%",
            "_model_name": "FloatProgressModel",
            "bar_style": "success",
            "max": 501200538,
            "_view_module": "@jupyter-widgets/controls",
            "_model_module_version": "1.5.0",
            "value": 501200538,
            "_view_count": null,
            "_view_module_version": "1.5.0",
            "orientation": "horizontal",
            "min": 0,
            "description_tooltip": null,
            "_model_module": "@jupyter-widgets/controls",
            "layout": "IPY_MODEL_ff5075042dc74291984b05c1060617a5"
          }
        },
        "e1b230486718438facbd9f485a40e983": {
          "model_module": "@jupyter-widgets/controls",
          "model_name": "HTMLModel",
          "model_module_version": "1.5.0",
          "state": {
            "_view_name": "HTMLView",
            "style": "IPY_MODEL_daa2b42ea0e94f1bba20338876cffdc2",
            "_dom_classes": [],
            "description": "",
            "_model_name": "HTMLModel",
            "placeholder": "​",
            "_view_module": "@jupyter-widgets/controls",
            "_model_module_version": "1.5.0",
            "value": " 501M/501M [00:14&lt;00:00, 35.4MB/s]",
            "_view_count": null,
            "_view_module_version": "1.5.0",
            "description_tooltip": null,
            "_model_module": "@jupyter-widgets/controls",
            "layout": "IPY_MODEL_a10562234b6e40e6965a81f34baa4c37"
          }
        },
        "0a8f5c6b455748cbba5c1354a0298307": {
          "model_module": "@jupyter-widgets/controls",
          "model_name": "ProgressStyleModel",
          "model_module_version": "1.5.0",
          "state": {
            "_view_name": "StyleView",
            "_model_name": "ProgressStyleModel",
            "description_width": "initial",
            "_view_module": "@jupyter-widgets/base",
            "_model_module_version": "1.5.0",
            "_view_count": null,
            "_view_module_version": "1.2.0",
            "bar_color": null,
            "_model_module": "@jupyter-widgets/controls"
          }
        },
        "ff5075042dc74291984b05c1060617a5": {
          "model_module": "@jupyter-widgets/base",
          "model_name": "LayoutModel",
          "model_module_version": "1.2.0",
          "state": {
            "_view_name": "LayoutView",
            "grid_template_rows": null,
            "right": null,
            "justify_content": null,
            "_view_module": "@jupyter-widgets/base",
            "overflow": null,
            "_model_module_version": "1.2.0",
            "_view_count": null,
            "flex_flow": null,
            "width": null,
            "min_width": null,
            "border": null,
            "align_items": null,
            "bottom": null,
            "_model_module": "@jupyter-widgets/base",
            "top": null,
            "grid_column": null,
            "overflow_y": null,
            "overflow_x": null,
            "grid_auto_flow": null,
            "grid_area": null,
            "grid_template_columns": null,
            "flex": null,
            "_model_name": "LayoutModel",
            "justify_items": null,
            "grid_row": null,
            "max_height": null,
            "align_content": null,
            "visibility": null,
            "align_self": null,
            "height": null,
            "min_height": null,
            "padding": null,
            "grid_auto_rows": null,
            "grid_gap": null,
            "max_width": null,
            "order": null,
            "_view_module_version": "1.2.0",
            "grid_template_areas": null,
            "object_position": null,
            "object_fit": null,
            "grid_auto_columns": null,
            "margin": null,
            "display": null,
            "left": null
          }
        },
        "daa2b42ea0e94f1bba20338876cffdc2": {
          "model_module": "@jupyter-widgets/controls",
          "model_name": "DescriptionStyleModel",
          "model_module_version": "1.5.0",
          "state": {
            "_view_name": "StyleView",
            "_model_name": "DescriptionStyleModel",
            "description_width": "",
            "_view_module": "@jupyter-widgets/base",
            "_model_module_version": "1.5.0",
            "_view_count": null,
            "_view_module_version": "1.2.0",
            "_model_module": "@jupyter-widgets/controls"
          }
        },
        "a10562234b6e40e6965a81f34baa4c37": {
          "model_module": "@jupyter-widgets/base",
          "model_name": "LayoutModel",
          "model_module_version": "1.2.0",
          "state": {
            "_view_name": "LayoutView",
            "grid_template_rows": null,
            "right": null,
            "justify_content": null,
            "_view_module": "@jupyter-widgets/base",
            "overflow": null,
            "_model_module_version": "1.2.0",
            "_view_count": null,
            "flex_flow": null,
            "width": null,
            "min_width": null,
            "border": null,
            "align_items": null,
            "bottom": null,
            "_model_module": "@jupyter-widgets/base",
            "top": null,
            "grid_column": null,
            "overflow_y": null,
            "overflow_x": null,
            "grid_auto_flow": null,
            "grid_area": null,
            "grid_template_columns": null,
            "flex": null,
            "_model_name": "LayoutModel",
            "justify_items": null,
            "grid_row": null,
            "max_height": null,
            "align_content": null,
            "visibility": null,
            "align_self": null,
            "height": null,
            "min_height": null,
            "padding": null,
            "grid_auto_rows": null,
            "grid_gap": null,
            "max_width": null,
            "order": null,
            "_view_module_version": "1.2.0",
            "grid_template_areas": null,
            "object_position": null,
            "object_fit": null,
            "grid_auto_columns": null,
            "margin": null,
            "display": null,
            "left": null
          }
        }
      }
    }
  },
  "cells": [
    {
      "cell_type": "markdown",
      "metadata": {
        "id": "8p9nv-2lNcsD"
      },
      "source": [
        "# Installation and System Check"
      ]
    },
    {
      "cell_type": "code",
      "metadata": {
        "colab": {
          "base_uri": "https://localhost:8080/"
        },
        "id": "5eprE5JOnv9E",
        "outputId": "6432464a-aba5-4fc1-ebba-47f3011926d2"
      },
      "source": [
        "!pip install transformers"
      ],
      "execution_count": null,
      "outputs": [
        {
          "output_type": "stream",
          "text": [
            "Collecting transformers\n",
            "\u001b[?25l  Downloading https://files.pythonhosted.org/packages/d8/b2/57495b5309f09fa501866e225c84532d1fd89536ea62406b2181933fb418/transformers-4.5.1-py3-none-any.whl (2.1MB)\n",
            "\u001b[K     |████████████████████████████████| 2.1MB 5.2MB/s \n",
            "\u001b[?25hCollecting sacremoses\n",
            "\u001b[?25l  Downloading https://files.pythonhosted.org/packages/75/ee/67241dc87f266093c533a2d4d3d69438e57d7a90abb216fa076e7d475d4a/sacremoses-0.0.45-py3-none-any.whl (895kB)\n",
            "\u001b[K     |████████████████████████████████| 901kB 17.6MB/s \n",
            "\u001b[?25hRequirement already satisfied: requests in /usr/local/lib/python3.7/dist-packages (from transformers) (2.23.0)\n",
            "Requirement already satisfied: filelock in /usr/local/lib/python3.7/dist-packages (from transformers) (3.0.12)\n",
            "Collecting tokenizers<0.11,>=0.10.1\n",
            "\u001b[?25l  Downloading https://files.pythonhosted.org/packages/ae/04/5b870f26a858552025a62f1649c20d29d2672c02ff3c3fb4c688ca46467a/tokenizers-0.10.2-cp37-cp37m-manylinux2010_x86_64.whl (3.3MB)\n",
            "\u001b[K     |████████████████████████████████| 3.3MB 27.0MB/s \n",
            "\u001b[?25hRequirement already satisfied: tqdm>=4.27 in /usr/local/lib/python3.7/dist-packages (from transformers) (4.41.1)\n",
            "Requirement already satisfied: packaging in /usr/local/lib/python3.7/dist-packages (from transformers) (20.9)\n",
            "Requirement already satisfied: numpy>=1.17 in /usr/local/lib/python3.7/dist-packages (from transformers) (1.19.5)\n",
            "Requirement already satisfied: importlib-metadata; python_version < \"3.8\" in /usr/local/lib/python3.7/dist-packages (from transformers) (3.10.1)\n",
            "Requirement already satisfied: regex!=2019.12.17 in /usr/local/lib/python3.7/dist-packages (from transformers) (2019.12.20)\n",
            "Requirement already satisfied: click in /usr/local/lib/python3.7/dist-packages (from sacremoses->transformers) (7.1.2)\n",
            "Requirement already satisfied: six in /usr/local/lib/python3.7/dist-packages (from sacremoses->transformers) (1.15.0)\n",
            "Requirement already satisfied: joblib in /usr/local/lib/python3.7/dist-packages (from sacremoses->transformers) (1.0.1)\n",
            "Requirement already satisfied: certifi>=2017.4.17 in /usr/local/lib/python3.7/dist-packages (from requests->transformers) (2020.12.5)\n",
            "Requirement already satisfied: idna<3,>=2.5 in /usr/local/lib/python3.7/dist-packages (from requests->transformers) (2.10)\n",
            "Requirement already satisfied: chardet<4,>=3.0.2 in /usr/local/lib/python3.7/dist-packages (from requests->transformers) (3.0.4)\n",
            "Requirement already satisfied: urllib3!=1.25.0,!=1.25.1,<1.26,>=1.21.1 in /usr/local/lib/python3.7/dist-packages (from requests->transformers) (1.24.3)\n",
            "Requirement already satisfied: pyparsing>=2.0.2 in /usr/local/lib/python3.7/dist-packages (from packaging->transformers) (2.4.7)\n",
            "Requirement already satisfied: zipp>=0.5 in /usr/local/lib/python3.7/dist-packages (from importlib-metadata; python_version < \"3.8\"->transformers) (3.4.1)\n",
            "Requirement already satisfied: typing-extensions>=3.6.4; python_version < \"3.8\" in /usr/local/lib/python3.7/dist-packages (from importlib-metadata; python_version < \"3.8\"->transformers) (3.7.4.3)\n",
            "Installing collected packages: sacremoses, tokenizers, transformers\n",
            "Successfully installed sacremoses-0.0.45 tokenizers-0.10.2 transformers-4.5.1\n"
          ],
          "name": "stdout"
        }
      ]
    },
    {
      "cell_type": "code",
      "metadata": {
        "colab": {
          "base_uri": "https://localhost:8080/"
        },
        "id": "jdlFJePCn9zA",
        "outputId": "22d743e3-6fd4-49a9-9877-67335efe9a3a"
      },
      "source": [
        "import torch\n",
        "\n",
        "# If there's a GPU available...\n",
        "if torch.cuda.is_available():    \n",
        "\n",
        "    # Tell PyTorch to use the GPU.    \n",
        "    device = torch.device(\"cuda\")\n",
        "\n",
        "    print('There are %d GPU(s) available.' % torch.cuda.device_count())\n",
        "\n",
        "    print('We will use the GPU:', torch.cuda.get_device_name(0))\n",
        "\n",
        "# If not...\n",
        "else:\n",
        "    print('No GPU available, using the CPU instead.')\n",
        "    device = torch.device(\"cpu\")"
      ],
      "execution_count": null,
      "outputs": [
        {
          "output_type": "stream",
          "text": [
            "There are 1 GPU(s) available.\n",
            "We will use the GPU: Tesla K80\n"
          ],
          "name": "stdout"
        }
      ]
    },
    {
      "cell_type": "markdown",
      "metadata": {
        "id": "mZpr-uHFpgyC"
      },
      "source": [
        "# Data Pre-processing"
      ]
    },
    {
      "cell_type": "markdown",
      "metadata": {
        "id": "bKMZyf54pn5R"
      },
      "source": [
        "Reading the data from the sklearn library."
      ]
    },
    {
      "cell_type": "code",
      "metadata": {
        "id": "l0Hu9kOQpliQ"
      },
      "source": [
        "import pandas as pd\n",
        "from sklearn.datasets import fetch_20newsgroups\n",
        "import numpy as np"
      ],
      "execution_count": null,
      "outputs": []
    },
    {
      "cell_type": "code",
      "metadata": {
        "id": "rRExANtBpuh4",
        "colab": {
          "base_uri": "https://localhost:8080/"
        },
        "outputId": "bef20efe-22f6-4610-c020-8748901cfd93"
      },
      "source": [
        "newsgroups = fetch_20newsgroups(remove=('footers', 'quotes'), subset='all')"
      ],
      "execution_count": null,
      "outputs": [
        {
          "output_type": "stream",
          "text": [
            "Downloading 20news dataset. This may take a few minutes.\n",
            "Downloading dataset from https://ndownloader.figshare.com/files/5975967 (14 MB)\n"
          ],
          "name": "stderr"
        }
      ]
    },
    {
      "cell_type": "code",
      "metadata": {
        "id": "jYEGur9xpyUQ"
      },
      "source": [
        "df = pd.DataFrame()\n",
        "df['data'] = newsgroups['data']\n",
        "df['target'] = newsgroups['target']"
      ],
      "execution_count": null,
      "outputs": []
    },
    {
      "cell_type": "markdown",
      "metadata": {
        "id": "GYihubIKaFMv"
      },
      "source": [
        "## Train/Validation/Test Split"
      ]
    },
    {
      "cell_type": "code",
      "metadata": {
        "id": "4QWM2RsZaG93"
      },
      "source": [
        "from sklearn.model_selection import train_test_split"
      ],
      "execution_count": null,
      "outputs": []
    },
    {
      "cell_type": "code",
      "metadata": {
        "id": "Bv5Llt4yabyW"
      },
      "source": [
        "df, df_test = train_test_split(df, test_size=0.1, random_state=42)"
      ],
      "execution_count": null,
      "outputs": []
    },
    {
      "cell_type": "markdown",
      "metadata": {
        "id": "ekNu6xg-qCtR"
      },
      "source": [
        "## Cleaning"
      ]
    },
    {
      "cell_type": "markdown",
      "metadata": {
        "id": "ZqQG3ejdqETY"
      },
      "source": [
        "Deleting special characters from the text documents.\n"
      ]
    },
    {
      "cell_type": "code",
      "metadata": {
        "id": "rdaeBEuXp-Gg"
      },
      "source": [
        "df['data'] = df['data'].apply(lambda x: x.replace(\"\\n\", \"\").replace(\"-\", \"\").replace(\"....\", \"\")) "
      ],
      "execution_count": null,
      "outputs": []
    },
    {
      "cell_type": "markdown",
      "metadata": {
        "id": "-nefRVyXqQHx"
      },
      "source": [
        "Deleting missing values."
      ]
    },
    {
      "cell_type": "code",
      "metadata": {
        "id": "lwcNMzyYqL-g"
      },
      "source": [
        "df = df.drop(df[df['data']==''].index)"
      ],
      "execution_count": null,
      "outputs": []
    },
    {
      "cell_type": "markdown",
      "metadata": {
        "id": "z2nUT_psqfux"
      },
      "source": [
        "### Splitting the documents into *n* equal parts"
      ]
    },
    {
      "cell_type": "markdown",
      "metadata": {
        "id": "HYnLRpXQqj0Z"
      },
      "source": [
        "Defined functions:\n",
        "\n",
        "\n",
        "*   **split_doc**: splits the document into *n* equal parts based on the **threshold** (number of words) and returns the the list of shorter documents\n",
        "*   **count_len**: returns the number of documents where the word count exceeds the given threshold\n",
        "*   **split_df**: splits the documents in the *data* column of a dataframe based on a given **threshold** (number of words) and returns the splitted parts of the document while saving a list of indeces which need to be removed (records which exceed the threshold)\n",
        "\n"
      ]
    },
    {
      "cell_type": "code",
      "metadata": {
        "id": "m9qetrcKqi7I"
      },
      "source": [
        "def split_doc(document, threshold):\n",
        "    #split the document into words\n",
        "    splitted_doc = document.split()\n",
        "    #doc length\n",
        "    length_original = len(splitted_doc)\n",
        "    length = length_original\n",
        "    n_groups = length // threshold\n",
        "    n_words = length // (n_groups + 1) \n",
        "    s = ' '\n",
        "    result = []\n",
        "    i = 0\n",
        "    while length > 0:\n",
        "        if length >= n_words:\n",
        "            new_doc = [splitted_doc[j] for j in range(i*n_words, i*n_words + n_words)]\n",
        "            result.append(s.join(new_doc))\n",
        "            length = length - n_words\n",
        "        else:\n",
        "            new_doc = [splitted_doc[j] for j in range(i*n_words, length_original)]\n",
        "            result.append(s.join(new_doc))\n",
        "            length = 0\n",
        "\n",
        "        i = i + 1\n",
        "    return result"
      ],
      "execution_count": null,
      "outputs": []
    },
    {
      "cell_type": "code",
      "metadata": {
        "id": "vABnyy8VqndQ"
      },
      "source": [
        "def count_len(df, threshold):\n",
        "    count = 0\n",
        "    for index, row in df.iterrows():\n",
        "        if len(row['data'].split())>threshold:\n",
        "            count = count + 1\n",
        "            #print(len(row['data'].split()))\n",
        "    return count"
      ],
      "execution_count": null,
      "outputs": []
    },
    {
      "cell_type": "code",
      "metadata": {
        "id": "SMdSwTRrrsP5"
      },
      "source": [
        "def split_df(dataframe, threshold):\n",
        "\n",
        "    index_list = []\n",
        "    data = []\n",
        "    for index, row in dataframe.iterrows():\n",
        "        if len(row['data'].split())>threshold:\n",
        "            splitted_doc_list = split_doc(row['data'], threshold)\n",
        "            target = row['target']\n",
        "            for doc in splitted_doc_list:\n",
        "                data.append({'data': doc, 'target': target})\n",
        "            index_list.append(index)\n",
        "    return index_list, data           \n",
        "    "
      ],
      "execution_count": null,
      "outputs": []
    },
    {
      "cell_type": "code",
      "metadata": {
        "id": "_zM80lfQruTI"
      },
      "source": [
        "threshold = 150\n",
        "index_list, data = split_df(df, threshold)\n",
        "df = df.drop(index_list)\n",
        "df = df.append(data, True)\n"
      ],
      "execution_count": null,
      "outputs": []
    },
    {
      "cell_type": "code",
      "metadata": {
        "colab": {
          "base_uri": "https://localhost:8080/"
        },
        "id": "R-ltTw2_rwXX",
        "outputId": "217920c8-cc35-49cc-cfc5-ed13e82fda36"
      },
      "source": [
        "count_len(df, 200)"
      ],
      "execution_count": null,
      "outputs": [
        {
          "output_type": "execute_result",
          "data": {
            "text/plain": [
              "0"
            ]
          },
          "metadata": {
            "tags": []
          },
          "execution_count": 16
        }
      ]
    },
    {
      "cell_type": "markdown",
      "metadata": {
        "id": "H-fLIDtnspjq"
      },
      "source": [
        "### Filtering encoded documents"
      ]
    },
    {
      "cell_type": "markdown",
      "metadata": {
        "id": "vvoURSLdssOa"
      },
      "source": [
        "There are some encoded documents in the data set which need to be filtered. These will be filtered based on the ratio between the number of characters and number of words in the documents. This ratio is around 5 in the english language."
      ]
    },
    {
      "cell_type": "markdown",
      "metadata": {
        "id": "nqNk4uTFsxbb"
      },
      "source": [
        "Defined functions:\n",
        "\n",
        "\n",
        "*   **chars_for_words**: returns a Boolean value which is **True** if the ratio for the given document is above threshold (number of characters and number of words ratio)\n",
        "*   **count_charlen**: count the number of documents in a dataframe where the character count exceeds a given threshold\n",
        "*   **filter_encoded**: returns the indeces of records where the character-words ratio exceeds a given threshold\n",
        "\n"
      ]
    },
    {
      "cell_type": "code",
      "metadata": {
        "id": "3Nd9ji3xr1Kv"
      },
      "source": [
        "def chars_for_words(doc, threshold):\n",
        "    n_words = len(doc.split())\n",
        "    n_chars = len(doc)\n",
        "    avg = n_chars/max(n_words,1)\n",
        "    if (avg > threshold):\n",
        "        return True\n",
        "    else:\n",
        "        False"
      ],
      "execution_count": null,
      "outputs": []
    },
    {
      "cell_type": "code",
      "metadata": {
        "id": "_LKyDKZJs0Hp"
      },
      "source": [
        "def count_charlen(df, threshold):\n",
        "    count = 0\n",
        "    index_list = []\n",
        "    for index, row in df.iterrows():\n",
        "        if (len(row['data'])>threshold):\n",
        "            print(len(row['data']))\n",
        "            count = count + 1\n",
        "            index_list.append(index)\n",
        "    return count, index_list"
      ],
      "execution_count": null,
      "outputs": []
    },
    {
      "cell_type": "code",
      "metadata": {
        "id": "wuT9jf8Os1_Q"
      },
      "source": [
        "def filter_encoded(df, threshold):\n",
        "    index_list = []\n",
        "    for index, row in df.iterrows():\n",
        "        if chars_for_words(row['data'], threshold):\n",
        "            index_list.append(index)\n",
        "    return index_list"
      ],
      "execution_count": null,
      "outputs": []
    },
    {
      "cell_type": "code",
      "metadata": {
        "id": "0KhqPCKVs5Vw"
      },
      "source": [
        "i = filter_encoded(df,9)"
      ],
      "execution_count": null,
      "outputs": []
    },
    {
      "cell_type": "code",
      "metadata": {
        "colab": {
          "base_uri": "https://localhost:8080/"
        },
        "id": "Q-R48i66s7EY",
        "outputId": "835c25a5-7582-4416-ebc5-2435fa3894b8"
      },
      "source": [
        "df.loc[i]"
      ],
      "execution_count": null,
      "outputs": [
        {
          "output_type": "execute_result",
          "data": {
            "text/html": [
              "<div>\n",
              "<style scoped>\n",
              "    .dataframe tbody tr th:only-of-type {\n",
              "        vertical-align: middle;\n",
              "    }\n",
              "\n",
              "    .dataframe tbody tr th {\n",
              "        vertical-align: top;\n",
              "    }\n",
              "\n",
              "    .dataframe thead th {\n",
              "        text-align: right;\n",
              "    }\n",
              "</style>\n",
              "<table border=\"1\" class=\"dataframe\">\n",
              "  <thead>\n",
              "    <tr style=\"text-align: right;\">\n",
              "      <th></th>\n",
              "      <th>data</th>\n",
              "      <th>target</th>\n",
              "    </tr>\n",
              "  </thead>\n",
              "  <tbody>\n",
              "    <tr>\n",
              "      <th>0</th>\n",
              "      <td>From: Mamatha Devineni Ratnam &lt;mr47+@andrew.cm...</td>\n",
              "      <td>10</td>\n",
              "    </tr>\n",
              "    <tr>\n",
              "      <th>34</th>\n",
              "      <td>From: mmatusev@radford.vak12ed.edu (Melissa N....</td>\n",
              "      <td>13</td>\n",
              "    </tr>\n",
              "    <tr>\n",
              "      <th>43</th>\n",
              "      <td>From: welty@cabot.balltown.cma.COM (richard we...</td>\n",
              "      <td>7</td>\n",
              "    </tr>\n",
              "    <tr>\n",
              "      <th>44</th>\n",
              "      <td>From: gritter@cs.purdue.edu (Carl Gritter)Subj...</td>\n",
              "      <td>10</td>\n",
              "    </tr>\n",
              "    <tr>\n",
              "      <th>47</th>\n",
              "      <td>From: dwf@kepler.unh.edu (Dennis W Fitanides)S...</td>\n",
              "      <td>6</td>\n",
              "    </tr>\n",
              "    <tr>\n",
              "      <th>...</th>\n",
              "      <td>...</td>\n",
              "      <td>...</td>\n",
              "    </tr>\n",
              "    <tr>\n",
              "      <th>18789</th>\n",
              "      <td>From: rjwade@rainbow.ecn.purdue.edu (Robert J....</td>\n",
              "      <td>7</td>\n",
              "    </tr>\n",
              "    <tr>\n",
              "      <th>18792</th>\n",
              "      <td>From: dsnyder@falcon.aamrl.wpafb.af.milSubject...</td>\n",
              "      <td>1</td>\n",
              "    </tr>\n",
              "    <tr>\n",
              "      <th>18803</th>\n",
              "      <td>From: egreen@east.sun.com (Ed Green  Pixel Cru...</td>\n",
              "      <td>8</td>\n",
              "    </tr>\n",
              "    <tr>\n",
              "      <th>18830</th>\n",
              "      <td>From: pkeenan@s.psych.uiuc.edu (Patricia Keena...</td>\n",
              "      <td>9</td>\n",
              "    </tr>\n",
              "    <tr>\n",
              "      <th>18834</th>\n",
              "      <td>From: rdippold@qualcomm.com (Ron \"Asbestos\" Di...</td>\n",
              "      <td>11</td>\n",
              "    </tr>\n",
              "  </tbody>\n",
              "</table>\n",
              "<p>2401 rows × 2 columns</p>\n",
              "</div>"
            ],
            "text/plain": [
              "                                                    data  target\n",
              "0      From: Mamatha Devineni Ratnam <mr47+@andrew.cm...      10\n",
              "34     From: mmatusev@radford.vak12ed.edu (Melissa N....      13\n",
              "43     From: welty@cabot.balltown.cma.COM (richard we...       7\n",
              "44     From: gritter@cs.purdue.edu (Carl Gritter)Subj...      10\n",
              "47     From: dwf@kepler.unh.edu (Dennis W Fitanides)S...       6\n",
              "...                                                  ...     ...\n",
              "18789  From: rjwade@rainbow.ecn.purdue.edu (Robert J....       7\n",
              "18792  From: dsnyder@falcon.aamrl.wpafb.af.milSubject...       1\n",
              "18803  From: egreen@east.sun.com (Ed Green  Pixel Cru...       8\n",
              "18830  From: pkeenan@s.psych.uiuc.edu (Patricia Keena...       9\n",
              "18834  From: rdippold@qualcomm.com (Ron \"Asbestos\" Di...      11\n",
              "\n",
              "[2401 rows x 2 columns]"
            ]
          },
          "metadata": {
            "tags": []
          },
          "execution_count": 15
        }
      ]
    },
    {
      "cell_type": "code",
      "metadata": {
        "id": "3CKNWhF4s-C_"
      },
      "source": [
        "df = df.drop(i)"
      ],
      "execution_count": null,
      "outputs": []
    },
    {
      "cell_type": "markdown",
      "metadata": {
        "id": "rylAw6IttEAq"
      },
      "source": [
        "# RoBERTa Model"
      ]
    },
    {
      "cell_type": "code",
      "metadata": {
        "id": "93P7N5xItAg4"
      },
      "source": [
        "from transformers import RobertaTokenizer"
      ],
      "execution_count": null,
      "outputs": []
    },
    {
      "cell_type": "code",
      "metadata": {
        "colab": {
          "base_uri": "https://localhost:8080/",
          "height": 163,
          "referenced_widgets": [
            "378da5f6403b481097efb0ab1f8c68c5",
            "cf165a0f9df24582857c758ccb1aafd0",
            "589a6da676e942b8a55f9da94b4db03c",
            "4099d26782bd42b29003d3f51328c6ac",
            "6f888db072794097b6e7a38b73760286",
            "f393aa176bdf4e43966b62444983c09c",
            "3fab2517fd5341188aed59855ddfdbc3",
            "d293ede3f38d49f39ce902ad6dc9726f",
            "ffd892a18d4741caafe838e875c5891f",
            "1dd00045b8cb4b5a91c80ae756e1f70b",
            "629447f7166e4957a3c30a69969d5437",
            "1649b7953d89458aaf9029a8f2d098d7",
            "a64541f4e0944da08b1911f183b92e37",
            "a0ed38a5e8b0446eb9f9a2197e569f32",
            "841c312b878b497b88770578ded8fb61",
            "e1e179b9cfd444509d12e54c4d0d0c8c",
            "04ffd1d209c44b65aad80ed3e3e04f72",
            "796beee6e47f479cb25c5de51e89ba38",
            "b37ccf8f7e394c10a8d3cc5390582c02",
            "3cd683b7da174dda96ad59906d6e4ad6",
            "c989ac27b43b42a59737bae436f2f963",
            "6aaf223fc1794231a829bf6b1a0f4a9a",
            "0af39ec9bb0e4a28b684e8d9f6e85571",
            "9ef38a52f9bc46de839c46083e421a61"
          ]
        },
        "id": "wFeauhWGwEt5",
        "outputId": "df48af91-39fa-4ecc-8328-ca43d1e03462"
      },
      "source": [
        "tokenizer = RobertaTokenizer.from_pretrained('roberta-base')"
      ],
      "execution_count": null,
      "outputs": [
        {
          "output_type": "display_data",
          "data": {
            "application/vnd.jupyter.widget-view+json": {
              "model_id": "378da5f6403b481097efb0ab1f8c68c5",
              "version_minor": 0,
              "version_major": 2
            },
            "text/plain": [
              "HBox(children=(FloatProgress(value=0.0, description='Downloading', max=898823.0, style=ProgressStyle(descripti…"
            ]
          },
          "metadata": {
            "tags": []
          }
        },
        {
          "output_type": "stream",
          "text": [
            "\n"
          ],
          "name": "stdout"
        },
        {
          "output_type": "display_data",
          "data": {
            "application/vnd.jupyter.widget-view+json": {
              "model_id": "ffd892a18d4741caafe838e875c5891f",
              "version_minor": 0,
              "version_major": 2
            },
            "text/plain": [
              "HBox(children=(FloatProgress(value=0.0, description='Downloading', max=456318.0, style=ProgressStyle(descripti…"
            ]
          },
          "metadata": {
            "tags": []
          }
        },
        {
          "output_type": "stream",
          "text": [
            "\n"
          ],
          "name": "stdout"
        },
        {
          "output_type": "display_data",
          "data": {
            "application/vnd.jupyter.widget-view+json": {
              "model_id": "04ffd1d209c44b65aad80ed3e3e04f72",
              "version_minor": 0,
              "version_major": 2
            },
            "text/plain": [
              "HBox(children=(FloatProgress(value=0.0, description='Downloading', max=1355863.0, style=ProgressStyle(descript…"
            ]
          },
          "metadata": {
            "tags": []
          }
        },
        {
          "output_type": "stream",
          "text": [
            "\n"
          ],
          "name": "stdout"
        }
      ]
    },
    {
      "cell_type": "code",
      "metadata": {
        "colab": {
          "base_uri": "https://localhost:8080/"
        },
        "id": "gEVRroJNx0-A",
        "outputId": "abaf5b4f-dd6f-4eb4-d9b8-db88fa25d727"
      },
      "source": [
        "import torch\n",
        "torch.cuda.is_available()"
      ],
      "execution_count": null,
      "outputs": [
        {
          "output_type": "execute_result",
          "data": {
            "text/plain": [
              "True"
            ]
          },
          "metadata": {
            "tags": []
          },
          "execution_count": 20
        }
      ]
    },
    {
      "cell_type": "markdown",
      "metadata": {
        "id": "RWKNSYRpzC2y"
      },
      "source": [
        "## Tokenizer"
      ]
    },
    {
      "cell_type": "code",
      "metadata": {
        "id": "lfy3QIaQx7CH"
      },
      "source": [
        "sentence_train = df['data'].values\n",
        "labels_train = df['target'].values"
      ],
      "execution_count": null,
      "outputs": []
    },
    {
      "cell_type": "code",
      "metadata": {
        "colab": {
          "base_uri": "https://localhost:8080/"
        },
        "id": "gL6N2COezWHB",
        "outputId": "e73d3bb1-03b9-4324-c892-d748b66a9b73"
      },
      "source": [
        "# Tokenize all of the sentences and map the tokens to thier word IDs.\n",
        "input_ids = []\n",
        "attention_masks = []\n",
        "\n",
        "# For every sentence...\n",
        "for sent in sentence_train:\n",
        "    # `encode_plus` will:\n",
        "    #   (1) Tokenize the sentence.\n",
        "    #   (2) Prepend the `[CLS]` token to the start.\n",
        "    #   (3) Append the `[SEP]` token to the end.\n",
        "    #   (4) Map tokens to their IDs.\n",
        "    #   (5) Pad or truncate the sentence to `max_length`\n",
        "    #   (6) Create attention masks for [PAD] tokens.\n",
        "    encoded_dict = tokenizer.encode_plus(\n",
        "                        sent,                      # Sentence to encode.\n",
        "                        add_special_tokens = True, # Add '[CLS]' and '[SEP]'\n",
        "                        max_length = 512,           # Pad & truncate all sentences.\n",
        "                        padding = 'max_length',\n",
        "                        truncation = True,\n",
        "                        return_attention_mask = True,   # Construct attn. masks.\n",
        "                        return_tensors = 'pt',     # Return pytorch tensors.\n",
        "                   )\n",
        "    \n",
        "    # Add the encoded sentence to the list.    \n",
        "    input_ids.append(encoded_dict['input_ids'])\n",
        "    \n",
        "    # And its attention mask (simply differentiates padding from non-padding).\n",
        "    attention_masks.append(encoded_dict['attention_mask'])\n",
        "\n",
        "# Convert the lists into tensors.\n",
        "input_ids = torch.cat(input_ids, dim=0)\n",
        "attention_masks = torch.cat(attention_masks, dim=0)\n",
        "labels = torch.tensor(labels_train)\n"
      ],
      "execution_count": null,
      "outputs": [
        {
          "output_type": "stream",
          "text": [
            "Original:  From: mblawson@midway.ecn.uoknor.edu (Matthew B Lawson)Subject: Which highperformance VLB video card?Summary: Seek recommendations for VLB video cardNntpPostingHost: midway.ecn.uoknor.eduOrganization: Engineering Computer Network, University of Oklahoma, Norman, OK, USAKeywords: orchid, stealth, vlbLines: 21  My brother is in the market for a highperformance video card that supportsVESA local bus with 12MB RAM.  Does anyone have suggestions/ideas on:   Diamond Stealth Pro Local Bus   Orchid Farenheit 1280   ATI Graphics Ultra Pro   Any other highperformance VLB cardPlease post or email.  Thank you!   Matt\n",
            "Token IDs: tensor([    0,  7605,    35,   475,  3662,  1584,  1478,  1039, 16079,  1970,\n",
            "            4,  3204,   282,     4,   257,  1638, 21651,     4, 13452,    36,\n",
            "        33667,   163, 16074,    43, 47159,    35,  6834,   239, 15526,   468,\n",
            "        29920,   569,  1886,   116, 47977,    35, 37528,  4664,    13,   468,\n",
            "        29920,   569,  1886,   487,  3999,   642, 21585,   154, 40534,    35,\n",
            "        12898,     4,  3204,   282,     4,   257,  1638, 21651,     4, 13452,\n",
            "        37034,  1938,    35,  9466, 16772,  3658,     6,   589,     9,  4020,\n",
            "            6, 11704,     6,  4954,     6,  2805, 28152, 30938,    35,    50,\n",
            "        38019,     6, 27026,     6,   748, 17243,   574,  3141,    35,   733,\n",
            "         1437,  1308,  2138,    16,    11,     5,   210,    13,    10,   239,\n",
            "        15526,   569,  1886,    14,  4548,   846, 32416,   400,  2353,    19,\n",
            "          316,  8651, 10646,     4,  1437,  8901,  1268,    33,  9622,    73,\n",
            "         1949,   281,    15,    35,  1437,  1437,  7128, 42322,  1698,  4004,\n",
            "         6926,  1437,  1437,  1793, 38019,   274,  9475, 24212, 45576,  1437,\n",
            "         1437, 46047, 33645, 16643,  1698,  1437,  1437,  5053,    97,   239,\n",
            "        15526,   468, 29920,  1886,  6715,   618,    50,  1047,     4,  1437,\n",
            "         3837,    47,   328,  1437,  1437,  2150,     2,     1,     1,     1,\n",
            "            1,     1,     1,     1,     1,     1,     1,     1,     1,     1,\n",
            "            1,     1,     1,     1,     1,     1,     1,     1,     1,     1,\n",
            "            1,     1,     1,     1,     1,     1,     1,     1,     1,     1,\n",
            "            1,     1,     1,     1,     1,     1,     1,     1,     1,     1,\n",
            "            1,     1,     1,     1,     1,     1,     1,     1,     1,     1,\n",
            "            1,     1,     1,     1,     1,     1,     1,     1,     1,     1,\n",
            "            1,     1,     1,     1,     1,     1,     1,     1,     1,     1,\n",
            "            1,     1,     1,     1,     1,     1,     1,     1,     1,     1,\n",
            "            1,     1,     1,     1,     1,     1,     1,     1,     1,     1,\n",
            "            1,     1,     1,     1,     1,     1,     1,     1,     1,     1,\n",
            "            1,     1,     1,     1,     1,     1,     1,     1,     1,     1,\n",
            "            1,     1,     1,     1,     1,     1,     1,     1,     1,     1,\n",
            "            1,     1,     1,     1,     1,     1,     1,     1,     1,     1,\n",
            "            1,     1,     1,     1,     1,     1,     1,     1,     1,     1,\n",
            "            1,     1,     1,     1,     1,     1,     1,     1,     1,     1,\n",
            "            1,     1,     1,     1,     1,     1,     1,     1,     1,     1,\n",
            "            1,     1,     1,     1,     1,     1,     1,     1,     1,     1,\n",
            "            1,     1,     1,     1,     1,     1,     1,     1,     1,     1,\n",
            "            1,     1,     1,     1,     1,     1,     1,     1,     1,     1,\n",
            "            1,     1,     1,     1,     1,     1,     1,     1,     1,     1,\n",
            "            1,     1,     1,     1,     1,     1,     1,     1,     1,     1,\n",
            "            1,     1,     1,     1,     1,     1,     1,     1,     1,     1,\n",
            "            1,     1,     1,     1,     1,     1,     1,     1,     1,     1,\n",
            "            1,     1,     1,     1,     1,     1,     1,     1,     1,     1,\n",
            "            1,     1,     1,     1,     1,     1,     1,     1,     1,     1,\n",
            "            1,     1,     1,     1,     1,     1,     1,     1,     1,     1,\n",
            "            1,     1,     1,     1,     1,     1,     1,     1,     1,     1,\n",
            "            1,     1,     1,     1,     1,     1,     1,     1,     1,     1,\n",
            "            1,     1,     1,     1,     1,     1,     1,     1,     1,     1,\n",
            "            1,     1,     1,     1,     1,     1,     1,     1,     1,     1,\n",
            "            1,     1,     1,     1,     1,     1,     1,     1,     1,     1,\n",
            "            1,     1,     1,     1,     1,     1,     1,     1,     1,     1,\n",
            "            1,     1,     1,     1,     1,     1,     1,     1,     1,     1,\n",
            "            1,     1,     1,     1,     1,     1,     1,     1,     1,     1,\n",
            "            1,     1])\n"
          ],
          "name": "stdout"
        }
      ]
    },
    {
      "cell_type": "markdown",
      "metadata": {
        "id": "cSgKFQZh0C3B"
      },
      "source": [
        "## Validation Set Split and DataLoader"
      ]
    },
    {
      "cell_type": "code",
      "metadata": {
        "colab": {
          "base_uri": "https://localhost:8080/"
        },
        "id": "sZOethRR0Ege",
        "outputId": "efe6f450-9863-4d43-c84d-6ddddf2136d1"
      },
      "source": [
        "from torch.utils.data import TensorDataset, random_split\n",
        "\n",
        "# Combine the training inputs into a TensorDataset.\n",
        "dataset = TensorDataset(input_ids, attention_masks, labels)\n",
        "\n",
        "# Create a 90-10 train-validation split.\n",
        "\n",
        "# Calculate the number of samples to include in each set.\n",
        "train_size = int(0.9 * len(dataset))\n",
        "val_size = len(dataset) - train_size\n",
        "\n",
        "# Divide the dataset by randomly selecting samples.\n",
        "train_dataset, val_dataset = random_split(dataset, [train_size, val_size])\n",
        "\n",
        "print('{:>5,} training samples'.format(train_size))\n",
        "print('{:>5,} validation samples'.format(val_size))"
      ],
      "execution_count": null,
      "outputs": [
        {
          "output_type": "stream",
          "text": [
            "14,800 training samples\n",
            "1,645 validation samples\n"
          ],
          "name": "stdout"
        }
      ]
    },
    {
      "cell_type": "code",
      "metadata": {
        "id": "d0yppZDe0V7H"
      },
      "source": [
        "from torch.utils.data import DataLoader, RandomSampler, SequentialSampler\n",
        "\n",
        "# The DataLoader needs to know our batch size for training, so we specify it \n",
        "# here. For fine-tuning BERT on a specific task, the authors recommend a batch \n",
        "# size of 16 or 32.\n",
        "batch_size = 4\n",
        "\n",
        "# Create the DataLoaders for our training and validation sets.\n",
        "# We'll take training samples in random order. \n",
        "train_dataloader = DataLoader(\n",
        "            train_dataset,  # The training samples.\n",
        "            sampler = RandomSampler(train_dataset), # Select batches randomly\n",
        "            batch_size = batch_size # Trains with this batch size.\n",
        "        )\n",
        "\n",
        "# For validation the order doesn't matter, so we'll just read them sequentially.\n",
        "validation_dataloader = DataLoader(\n",
        "            val_dataset, # The validation samples.\n",
        "            sampler = SequentialSampler(val_dataset), # Pull out batches sequentially.\n",
        "            batch_size = batch_size # Evaluate with this batch size.\n",
        "        )"
      ],
      "execution_count": null,
      "outputs": []
    },
    {
      "cell_type": "markdown",
      "metadata": {
        "id": "LvhL1qZv1TDT"
      },
      "source": [
        "## Modelling"
      ]
    },
    {
      "cell_type": "code",
      "metadata": {
        "id": "yNMb01U707Rf",
        "colab": {
          "base_uri": "https://localhost:8080/",
          "height": 1000,
          "referenced_widgets": [
            "1f3506bd3ca7420d9a42c1a96425c293",
            "e02fec7fa37548ef8005e0f3931b6fd7",
            "287b9dc7e9df4967a02ac2499045afa2",
            "d20068d5a1d147faad5ebf22acc8daa0",
            "6300e7560ea5444bbb459eb3916c477e",
            "6ac7bff21d764a5b81912aa1f7797a89",
            "d10be11a2a3b4ac581fda046a41f1d04",
            "7ac95bb2fc134f1082f77488ab6bbf3f",
            "8d97562e511b4d14960429d5eca101f2",
            "6985f98469c34cde922156156e21716a",
            "49c4223b5e69462e96e6c7a5a66d7bf8",
            "e1b230486718438facbd9f485a40e983",
            "0a8f5c6b455748cbba5c1354a0298307",
            "ff5075042dc74291984b05c1060617a5",
            "daa2b42ea0e94f1bba20338876cffdc2",
            "a10562234b6e40e6965a81f34baa4c37"
          ]
        },
        "outputId": "5a4cc765-2ac7-4bb9-a840-1dfd0a2e0d51"
      },
      "source": [
        "from transformers import RobertaForSequenceClassification, AdamW, BertConfig\n",
        "\n",
        "# Load RobertaForSequenceClassification, the pretrained RoBERTa model with a single \n",
        "# linear classification layer on top. \n",
        "model = RobertaForSequenceClassification.from_pretrained(\n",
        "    \"roberta-base\", \n",
        "    num_labels = 20, # The number of output labels--2 for binary classification.\n",
        "                    # You can increase this for multi-class tasks.   \n",
        "    output_attentions = False, # Whether the model returns attentions weights.\n",
        "    output_hidden_states = False, # Whether the model returns all hidden-states.\n",
        ")\n",
        "\n",
        "# Tell pytorch to run this model on the GPU.\n",
        "model.cuda()"
      ],
      "execution_count": null,
      "outputs": [
        {
          "output_type": "display_data",
          "data": {
            "application/vnd.jupyter.widget-view+json": {
              "model_id": "1f3506bd3ca7420d9a42c1a96425c293",
              "version_minor": 0,
              "version_major": 2
            },
            "text/plain": [
              "HBox(children=(FloatProgress(value=0.0, description='Downloading', max=481.0, style=ProgressStyle(description_…"
            ]
          },
          "metadata": {
            "tags": []
          }
        },
        {
          "output_type": "stream",
          "text": [
            "\n"
          ],
          "name": "stdout"
        },
        {
          "output_type": "display_data",
          "data": {
            "application/vnd.jupyter.widget-view+json": {
              "model_id": "8d97562e511b4d14960429d5eca101f2",
              "version_minor": 0,
              "version_major": 2
            },
            "text/plain": [
              "HBox(children=(FloatProgress(value=0.0, description='Downloading', max=501200538.0, style=ProgressStyle(descri…"
            ]
          },
          "metadata": {
            "tags": []
          }
        },
        {
          "output_type": "stream",
          "text": [
            "\n"
          ],
          "name": "stdout"
        },
        {
          "output_type": "stream",
          "text": [
            "Some weights of the model checkpoint at roberta-base were not used when initializing RobertaForSequenceClassification: ['lm_head.bias', 'lm_head.dense.weight', 'lm_head.dense.bias', 'lm_head.layer_norm.weight', 'lm_head.layer_norm.bias', 'lm_head.decoder.weight', 'roberta.pooler.dense.weight', 'roberta.pooler.dense.bias']\n",
            "- This IS expected if you are initializing RobertaForSequenceClassification from the checkpoint of a model trained on another task or with another architecture (e.g. initializing a BertForSequenceClassification model from a BertForPreTraining model).\n",
            "- This IS NOT expected if you are initializing RobertaForSequenceClassification from the checkpoint of a model that you expect to be exactly identical (initializing a BertForSequenceClassification model from a BertForSequenceClassification model).\n",
            "Some weights of RobertaForSequenceClassification were not initialized from the model checkpoint at roberta-base and are newly initialized: ['classifier.dense.weight', 'classifier.dense.bias', 'classifier.out_proj.weight', 'classifier.out_proj.bias']\n",
            "You should probably TRAIN this model on a down-stream task to be able to use it for predictions and inference.\n"
          ],
          "name": "stderr"
        },
        {
          "output_type": "execute_result",
          "data": {
            "text/plain": [
              "RobertaForSequenceClassification(\n",
              "  (roberta): RobertaModel(\n",
              "    (embeddings): RobertaEmbeddings(\n",
              "      (word_embeddings): Embedding(50265, 768, padding_idx=1)\n",
              "      (position_embeddings): Embedding(514, 768, padding_idx=1)\n",
              "      (token_type_embeddings): Embedding(1, 768)\n",
              "      (LayerNorm): LayerNorm((768,), eps=1e-05, elementwise_affine=True)\n",
              "      (dropout): Dropout(p=0.1, inplace=False)\n",
              "    )\n",
              "    (encoder): RobertaEncoder(\n",
              "      (layer): ModuleList(\n",
              "        (0): RobertaLayer(\n",
              "          (attention): RobertaAttention(\n",
              "            (self): RobertaSelfAttention(\n",
              "              (query): Linear(in_features=768, out_features=768, bias=True)\n",
              "              (key): Linear(in_features=768, out_features=768, bias=True)\n",
              "              (value): Linear(in_features=768, out_features=768, bias=True)\n",
              "              (dropout): Dropout(p=0.1, inplace=False)\n",
              "            )\n",
              "            (output): RobertaSelfOutput(\n",
              "              (dense): Linear(in_features=768, out_features=768, bias=True)\n",
              "              (LayerNorm): LayerNorm((768,), eps=1e-05, elementwise_affine=True)\n",
              "              (dropout): Dropout(p=0.1, inplace=False)\n",
              "            )\n",
              "          )\n",
              "          (intermediate): RobertaIntermediate(\n",
              "            (dense): Linear(in_features=768, out_features=3072, bias=True)\n",
              "          )\n",
              "          (output): RobertaOutput(\n",
              "            (dense): Linear(in_features=3072, out_features=768, bias=True)\n",
              "            (LayerNorm): LayerNorm((768,), eps=1e-05, elementwise_affine=True)\n",
              "            (dropout): Dropout(p=0.1, inplace=False)\n",
              "          )\n",
              "        )\n",
              "        (1): RobertaLayer(\n",
              "          (attention): RobertaAttention(\n",
              "            (self): RobertaSelfAttention(\n",
              "              (query): Linear(in_features=768, out_features=768, bias=True)\n",
              "              (key): Linear(in_features=768, out_features=768, bias=True)\n",
              "              (value): Linear(in_features=768, out_features=768, bias=True)\n",
              "              (dropout): Dropout(p=0.1, inplace=False)\n",
              "            )\n",
              "            (output): RobertaSelfOutput(\n",
              "              (dense): Linear(in_features=768, out_features=768, bias=True)\n",
              "              (LayerNorm): LayerNorm((768,), eps=1e-05, elementwise_affine=True)\n",
              "              (dropout): Dropout(p=0.1, inplace=False)\n",
              "            )\n",
              "          )\n",
              "          (intermediate): RobertaIntermediate(\n",
              "            (dense): Linear(in_features=768, out_features=3072, bias=True)\n",
              "          )\n",
              "          (output): RobertaOutput(\n",
              "            (dense): Linear(in_features=3072, out_features=768, bias=True)\n",
              "            (LayerNorm): LayerNorm((768,), eps=1e-05, elementwise_affine=True)\n",
              "            (dropout): Dropout(p=0.1, inplace=False)\n",
              "          )\n",
              "        )\n",
              "        (2): RobertaLayer(\n",
              "          (attention): RobertaAttention(\n",
              "            (self): RobertaSelfAttention(\n",
              "              (query): Linear(in_features=768, out_features=768, bias=True)\n",
              "              (key): Linear(in_features=768, out_features=768, bias=True)\n",
              "              (value): Linear(in_features=768, out_features=768, bias=True)\n",
              "              (dropout): Dropout(p=0.1, inplace=False)\n",
              "            )\n",
              "            (output): RobertaSelfOutput(\n",
              "              (dense): Linear(in_features=768, out_features=768, bias=True)\n",
              "              (LayerNorm): LayerNorm((768,), eps=1e-05, elementwise_affine=True)\n",
              "              (dropout): Dropout(p=0.1, inplace=False)\n",
              "            )\n",
              "          )\n",
              "          (intermediate): RobertaIntermediate(\n",
              "            (dense): Linear(in_features=768, out_features=3072, bias=True)\n",
              "          )\n",
              "          (output): RobertaOutput(\n",
              "            (dense): Linear(in_features=3072, out_features=768, bias=True)\n",
              "            (LayerNorm): LayerNorm((768,), eps=1e-05, elementwise_affine=True)\n",
              "            (dropout): Dropout(p=0.1, inplace=False)\n",
              "          )\n",
              "        )\n",
              "        (3): RobertaLayer(\n",
              "          (attention): RobertaAttention(\n",
              "            (self): RobertaSelfAttention(\n",
              "              (query): Linear(in_features=768, out_features=768, bias=True)\n",
              "              (key): Linear(in_features=768, out_features=768, bias=True)\n",
              "              (value): Linear(in_features=768, out_features=768, bias=True)\n",
              "              (dropout): Dropout(p=0.1, inplace=False)\n",
              "            )\n",
              "            (output): RobertaSelfOutput(\n",
              "              (dense): Linear(in_features=768, out_features=768, bias=True)\n",
              "              (LayerNorm): LayerNorm((768,), eps=1e-05, elementwise_affine=True)\n",
              "              (dropout): Dropout(p=0.1, inplace=False)\n",
              "            )\n",
              "          )\n",
              "          (intermediate): RobertaIntermediate(\n",
              "            (dense): Linear(in_features=768, out_features=3072, bias=True)\n",
              "          )\n",
              "          (output): RobertaOutput(\n",
              "            (dense): Linear(in_features=3072, out_features=768, bias=True)\n",
              "            (LayerNorm): LayerNorm((768,), eps=1e-05, elementwise_affine=True)\n",
              "            (dropout): Dropout(p=0.1, inplace=False)\n",
              "          )\n",
              "        )\n",
              "        (4): RobertaLayer(\n",
              "          (attention): RobertaAttention(\n",
              "            (self): RobertaSelfAttention(\n",
              "              (query): Linear(in_features=768, out_features=768, bias=True)\n",
              "              (key): Linear(in_features=768, out_features=768, bias=True)\n",
              "              (value): Linear(in_features=768, out_features=768, bias=True)\n",
              "              (dropout): Dropout(p=0.1, inplace=False)\n",
              "            )\n",
              "            (output): RobertaSelfOutput(\n",
              "              (dense): Linear(in_features=768, out_features=768, bias=True)\n",
              "              (LayerNorm): LayerNorm((768,), eps=1e-05, elementwise_affine=True)\n",
              "              (dropout): Dropout(p=0.1, inplace=False)\n",
              "            )\n",
              "          )\n",
              "          (intermediate): RobertaIntermediate(\n",
              "            (dense): Linear(in_features=768, out_features=3072, bias=True)\n",
              "          )\n",
              "          (output): RobertaOutput(\n",
              "            (dense): Linear(in_features=3072, out_features=768, bias=True)\n",
              "            (LayerNorm): LayerNorm((768,), eps=1e-05, elementwise_affine=True)\n",
              "            (dropout): Dropout(p=0.1, inplace=False)\n",
              "          )\n",
              "        )\n",
              "        (5): RobertaLayer(\n",
              "          (attention): RobertaAttention(\n",
              "            (self): RobertaSelfAttention(\n",
              "              (query): Linear(in_features=768, out_features=768, bias=True)\n",
              "              (key): Linear(in_features=768, out_features=768, bias=True)\n",
              "              (value): Linear(in_features=768, out_features=768, bias=True)\n",
              "              (dropout): Dropout(p=0.1, inplace=False)\n",
              "            )\n",
              "            (output): RobertaSelfOutput(\n",
              "              (dense): Linear(in_features=768, out_features=768, bias=True)\n",
              "              (LayerNorm): LayerNorm((768,), eps=1e-05, elementwise_affine=True)\n",
              "              (dropout): Dropout(p=0.1, inplace=False)\n",
              "            )\n",
              "          )\n",
              "          (intermediate): RobertaIntermediate(\n",
              "            (dense): Linear(in_features=768, out_features=3072, bias=True)\n",
              "          )\n",
              "          (output): RobertaOutput(\n",
              "            (dense): Linear(in_features=3072, out_features=768, bias=True)\n",
              "            (LayerNorm): LayerNorm((768,), eps=1e-05, elementwise_affine=True)\n",
              "            (dropout): Dropout(p=0.1, inplace=False)\n",
              "          )\n",
              "        )\n",
              "        (6): RobertaLayer(\n",
              "          (attention): RobertaAttention(\n",
              "            (self): RobertaSelfAttention(\n",
              "              (query): Linear(in_features=768, out_features=768, bias=True)\n",
              "              (key): Linear(in_features=768, out_features=768, bias=True)\n",
              "              (value): Linear(in_features=768, out_features=768, bias=True)\n",
              "              (dropout): Dropout(p=0.1, inplace=False)\n",
              "            )\n",
              "            (output): RobertaSelfOutput(\n",
              "              (dense): Linear(in_features=768, out_features=768, bias=True)\n",
              "              (LayerNorm): LayerNorm((768,), eps=1e-05, elementwise_affine=True)\n",
              "              (dropout): Dropout(p=0.1, inplace=False)\n",
              "            )\n",
              "          )\n",
              "          (intermediate): RobertaIntermediate(\n",
              "            (dense): Linear(in_features=768, out_features=3072, bias=True)\n",
              "          )\n",
              "          (output): RobertaOutput(\n",
              "            (dense): Linear(in_features=3072, out_features=768, bias=True)\n",
              "            (LayerNorm): LayerNorm((768,), eps=1e-05, elementwise_affine=True)\n",
              "            (dropout): Dropout(p=0.1, inplace=False)\n",
              "          )\n",
              "        )\n",
              "        (7): RobertaLayer(\n",
              "          (attention): RobertaAttention(\n",
              "            (self): RobertaSelfAttention(\n",
              "              (query): Linear(in_features=768, out_features=768, bias=True)\n",
              "              (key): Linear(in_features=768, out_features=768, bias=True)\n",
              "              (value): Linear(in_features=768, out_features=768, bias=True)\n",
              "              (dropout): Dropout(p=0.1, inplace=False)\n",
              "            )\n",
              "            (output): RobertaSelfOutput(\n",
              "              (dense): Linear(in_features=768, out_features=768, bias=True)\n",
              "              (LayerNorm): LayerNorm((768,), eps=1e-05, elementwise_affine=True)\n",
              "              (dropout): Dropout(p=0.1, inplace=False)\n",
              "            )\n",
              "          )\n",
              "          (intermediate): RobertaIntermediate(\n",
              "            (dense): Linear(in_features=768, out_features=3072, bias=True)\n",
              "          )\n",
              "          (output): RobertaOutput(\n",
              "            (dense): Linear(in_features=3072, out_features=768, bias=True)\n",
              "            (LayerNorm): LayerNorm((768,), eps=1e-05, elementwise_affine=True)\n",
              "            (dropout): Dropout(p=0.1, inplace=False)\n",
              "          )\n",
              "        )\n",
              "        (8): RobertaLayer(\n",
              "          (attention): RobertaAttention(\n",
              "            (self): RobertaSelfAttention(\n",
              "              (query): Linear(in_features=768, out_features=768, bias=True)\n",
              "              (key): Linear(in_features=768, out_features=768, bias=True)\n",
              "              (value): Linear(in_features=768, out_features=768, bias=True)\n",
              "              (dropout): Dropout(p=0.1, inplace=False)\n",
              "            )\n",
              "            (output): RobertaSelfOutput(\n",
              "              (dense): Linear(in_features=768, out_features=768, bias=True)\n",
              "              (LayerNorm): LayerNorm((768,), eps=1e-05, elementwise_affine=True)\n",
              "              (dropout): Dropout(p=0.1, inplace=False)\n",
              "            )\n",
              "          )\n",
              "          (intermediate): RobertaIntermediate(\n",
              "            (dense): Linear(in_features=768, out_features=3072, bias=True)\n",
              "          )\n",
              "          (output): RobertaOutput(\n",
              "            (dense): Linear(in_features=3072, out_features=768, bias=True)\n",
              "            (LayerNorm): LayerNorm((768,), eps=1e-05, elementwise_affine=True)\n",
              "            (dropout): Dropout(p=0.1, inplace=False)\n",
              "          )\n",
              "        )\n",
              "        (9): RobertaLayer(\n",
              "          (attention): RobertaAttention(\n",
              "            (self): RobertaSelfAttention(\n",
              "              (query): Linear(in_features=768, out_features=768, bias=True)\n",
              "              (key): Linear(in_features=768, out_features=768, bias=True)\n",
              "              (value): Linear(in_features=768, out_features=768, bias=True)\n",
              "              (dropout): Dropout(p=0.1, inplace=False)\n",
              "            )\n",
              "            (output): RobertaSelfOutput(\n",
              "              (dense): Linear(in_features=768, out_features=768, bias=True)\n",
              "              (LayerNorm): LayerNorm((768,), eps=1e-05, elementwise_affine=True)\n",
              "              (dropout): Dropout(p=0.1, inplace=False)\n",
              "            )\n",
              "          )\n",
              "          (intermediate): RobertaIntermediate(\n",
              "            (dense): Linear(in_features=768, out_features=3072, bias=True)\n",
              "          )\n",
              "          (output): RobertaOutput(\n",
              "            (dense): Linear(in_features=3072, out_features=768, bias=True)\n",
              "            (LayerNorm): LayerNorm((768,), eps=1e-05, elementwise_affine=True)\n",
              "            (dropout): Dropout(p=0.1, inplace=False)\n",
              "          )\n",
              "        )\n",
              "        (10): RobertaLayer(\n",
              "          (attention): RobertaAttention(\n",
              "            (self): RobertaSelfAttention(\n",
              "              (query): Linear(in_features=768, out_features=768, bias=True)\n",
              "              (key): Linear(in_features=768, out_features=768, bias=True)\n",
              "              (value): Linear(in_features=768, out_features=768, bias=True)\n",
              "              (dropout): Dropout(p=0.1, inplace=False)\n",
              "            )\n",
              "            (output): RobertaSelfOutput(\n",
              "              (dense): Linear(in_features=768, out_features=768, bias=True)\n",
              "              (LayerNorm): LayerNorm((768,), eps=1e-05, elementwise_affine=True)\n",
              "              (dropout): Dropout(p=0.1, inplace=False)\n",
              "            )\n",
              "          )\n",
              "          (intermediate): RobertaIntermediate(\n",
              "            (dense): Linear(in_features=768, out_features=3072, bias=True)\n",
              "          )\n",
              "          (output): RobertaOutput(\n",
              "            (dense): Linear(in_features=3072, out_features=768, bias=True)\n",
              "            (LayerNorm): LayerNorm((768,), eps=1e-05, elementwise_affine=True)\n",
              "            (dropout): Dropout(p=0.1, inplace=False)\n",
              "          )\n",
              "        )\n",
              "        (11): RobertaLayer(\n",
              "          (attention): RobertaAttention(\n",
              "            (self): RobertaSelfAttention(\n",
              "              (query): Linear(in_features=768, out_features=768, bias=True)\n",
              "              (key): Linear(in_features=768, out_features=768, bias=True)\n",
              "              (value): Linear(in_features=768, out_features=768, bias=True)\n",
              "              (dropout): Dropout(p=0.1, inplace=False)\n",
              "            )\n",
              "            (output): RobertaSelfOutput(\n",
              "              (dense): Linear(in_features=768, out_features=768, bias=True)\n",
              "              (LayerNorm): LayerNorm((768,), eps=1e-05, elementwise_affine=True)\n",
              "              (dropout): Dropout(p=0.1, inplace=False)\n",
              "            )\n",
              "          )\n",
              "          (intermediate): RobertaIntermediate(\n",
              "            (dense): Linear(in_features=768, out_features=3072, bias=True)\n",
              "          )\n",
              "          (output): RobertaOutput(\n",
              "            (dense): Linear(in_features=3072, out_features=768, bias=True)\n",
              "            (LayerNorm): LayerNorm((768,), eps=1e-05, elementwise_affine=True)\n",
              "            (dropout): Dropout(p=0.1, inplace=False)\n",
              "          )\n",
              "        )\n",
              "      )\n",
              "    )\n",
              "  )\n",
              "  (classifier): RobertaClassificationHead(\n",
              "    (dense): Linear(in_features=768, out_features=768, bias=True)\n",
              "    (dropout): Dropout(p=0.1, inplace=False)\n",
              "    (out_proj): Linear(in_features=768, out_features=20, bias=True)\n",
              "  )\n",
              ")"
            ]
          },
          "metadata": {
            "tags": []
          },
          "execution_count": 26
        }
      ]
    },
    {
      "cell_type": "code",
      "metadata": {
        "id": "_mQTZ_FubX21"
      },
      "source": [
        "learning_rate = 2e-6\n",
        "pretrained = model.roberta.parameters()\n",
        "# Get names of pretrained parameters (including `bert.` prefix)\n",
        "pretrained_names = [f'roberta.{k}' for (k, v) in model.roberta.named_parameters()]\n",
        "\n",
        "new_params= [v for k, v in model.named_parameters() if k not in pretrained_names]\n",
        "\n",
        "optimizer = AdamW(\n",
        "    [{'params': pretrained}, {'params': new_params, 'lr': learning_rate * 100}],\n",
        "    lr=learning_rate,\n",
        ")"
      ],
      "execution_count": null,
      "outputs": []
    },
    {
      "cell_type": "code",
      "metadata": {
        "id": "N7UI2HtFbd5r"
      },
      "source": [
        "from transformers import get_linear_schedule_with_warmup\n",
        "\n",
        "# Number of training epochs. The BERT authors recommend between 2 and 4. \n",
        "# We chose to run for 4, but we'll see later that this may be over-fitting the\n",
        "# training data.\n",
        "epochs = 7\n",
        "\n",
        "# Total number of training steps is [number of batches] x [number of epochs]. \n",
        "# (Note that this is not the same as the number of training samples).\n",
        "total_steps = len(train_dataloader) * epochs\n",
        "\n",
        "# Create the learning rate scheduler.\n",
        "scheduler = get_linear_schedule_with_warmup(optimizer, \n",
        "                                            num_warmup_steps = 0, # Default value in run_glue.py\n",
        "                                            num_training_steps = total_steps)"
      ],
      "execution_count": null,
      "outputs": []
    },
    {
      "cell_type": "code",
      "metadata": {
        "id": "BW9fpUmybiCK"
      },
      "source": [
        "def flat_accuracy(preds, labels):\n",
        "    pred_flat = np.argmax(preds, axis=1).flatten()\n",
        "    labels_flat = labels.flatten()\n",
        "    return np.sum(pred_flat == labels_flat) / len(labels_flat)"
      ],
      "execution_count": null,
      "outputs": []
    },
    {
      "cell_type": "code",
      "metadata": {
        "id": "5uahvTAxbkqM"
      },
      "source": [
        "import time\n",
        "import datetime\n",
        "\n",
        "def format_time(elapsed):\n",
        "    # Round to the nearest second.\n",
        "    elapsed_rounded = int(round((elapsed)))\n",
        "    \n",
        "    # Format as hh:mm:ss\n",
        "    return str(datetime.timedelta(seconds=elapsed_rounded))\n"
      ],
      "execution_count": null,
      "outputs": []
    },
    {
      "cell_type": "code",
      "metadata": {
        "id": "5Vpx-6kn_cGa"
      },
      "source": [
        "def save_checkpoint(epoch, model, optimizer, avg_val_loss):\n",
        "\n",
        "    save_path = F\"/content/gdrive/My Drive/Reddit/roberta_best_bert/model_epoch_%s.tar\" % str(epoch)\n",
        "    if save_path == None:\n",
        "        return\n",
        "    \n",
        "    torch.save({\n",
        "            'epoch': epoch_i,\n",
        "            'model_state_dict': model.state_dict(),\n",
        "            'optimizer_state_dict': optimizer.state_dict(),\n",
        "            'validation_loss': avg_val_loss\n",
        "            }, save_path)\n",
        "    print(f'Model saved to ==> {save_path}')"
      ],
      "execution_count": null,
      "outputs": []
    },
    {
      "cell_type": "code",
      "metadata": {
        "id": "sM4dGV9l_jRT"
      },
      "source": [
        "def save_metrics(epoch, avg_val_loss, avg_val_accuracy, avg_train_loss, predictions, true_labels):\n",
        "\n",
        "    save_path = F\"/content/gdrive/My Drive/Reddit/roberta_best_bert/metrics_epoch_%s.tar\" % str(epoch)\n",
        "    if save_path == None:\n",
        "        return\n",
        "    \n",
        "    torch.save({\n",
        "            'epoch': epoch_i,\n",
        "            'validation_loss': avg_val_loss,\n",
        "            'validation_accuracy': avg_val_accuracy,\n",
        "            'train_loss': avg_train_loss,\n",
        "            'validation_logits': predictions,\n",
        "            'validation_labels': true_labels\n",
        "            }, save_path)\n",
        "    print(f'Metrics saved to ==> {save_path}')"
      ],
      "execution_count": null,
      "outputs": []
    },
    {
      "cell_type": "markdown",
      "metadata": {
        "id": "TVXtx578bmvq"
      },
      "source": [
        "### Training"
      ]
    },
    {
      "cell_type": "code",
      "metadata": {
        "id": "655OYj_VbpQR",
        "colab": {
          "base_uri": "https://localhost:8080/"
        },
        "outputId": "4d016709-95f8-4a1f-c75d-24ef1ef68b5b"
      },
      "source": [
        "import random\n",
        "import numpy as np\n",
        "import gc\n",
        "\n",
        "# Set the seed value all over the place to make this reproducible.\n",
        "seed_val = 42\n",
        "\n",
        "random.seed(seed_val)\n",
        "np.random.seed(seed_val)\n",
        "torch.manual_seed(seed_val)\n",
        "torch.cuda.manual_seed_all(seed_val)\n",
        "\n",
        "# We'll store a number of quantities such as training and validation loss, \n",
        "# validation accuracy, and timings.\n",
        "training_stats = []\n",
        "\n",
        "# Measure the total training time for the whole run.\n",
        "total_t0 = time.time()\n",
        "\n",
        "# For each epoch...\n",
        "for epoch_i in range(0, epochs):\n",
        "    \n",
        "    # ========================================\n",
        "    #               Training\n",
        "    # ========================================\n",
        "    \n",
        "    # Perform one full pass over the training set.\n",
        "\n",
        "    print(\"\")\n",
        "    print('======== Epoch {:} / {:} ========'.format(epoch_i + 1, epochs))\n",
        "    print('Training...')\n",
        "\n",
        "    # Measure how long the training epoch takes.\n",
        "    t0 = time.time()\n",
        "\n",
        "    # Reset the total loss for this epoch.\n",
        "    total_train_loss = 0\n",
        "    \n",
        "    #training mode\n",
        "    model.train()\n",
        "\n",
        "    # For each batch of training data...\n",
        "    for step, batch in enumerate(train_dataloader):\n",
        "\n",
        "        # Progress update every 40 batches.\n",
        "        if step % 40 == 0 and not step == 0:\n",
        "            # Calculate elapsed time in minutes.\n",
        "            elapsed = format_time(time.time() - t0)\n",
        "            \n",
        "            # Report progress.\n",
        "            print('  Batch {:>5,}  of  {:>5,}.    Elapsed: {:}.'.format(step, len(train_dataloader), elapsed))\n",
        "\n",
        "        # As we unpack the batch, we'll also copy each tensor to the GPU using the \n",
        "        # `to` method.\n",
        "    \n",
        "        b_input_ids = batch[0].to(device)\n",
        "        b_input_mask = batch[1].to(device)\n",
        "        b_labels = batch[2].to(device)\n",
        "\n",
        "        # Always clear any previously calculated gradients before performing a\n",
        "        # backward pass. PyTorch doesn't do this automatically because \n",
        "        # accumulating the gradients is \"convenient while training RNNs\". \n",
        "\n",
        "        model.zero_grad()        \n",
        "\n",
        "        # Perform a forward pass (evaluate the model on this training batch).\n",
        "        outputs = model(b_input_ids, \n",
        "                             token_type_ids=None, \n",
        "                             attention_mask=b_input_mask, \n",
        "                             labels=b_labels)\n",
        "        loss = outputs.loss\n",
        "\n",
        "        # Accumulate the training loss over all of the batches so that we can\n",
        "        # calculate the average loss at the end. `loss` is a Tensor containing a\n",
        "        # single value; the `.item()` function just returns the Python value \n",
        "        # from the tensor.\n",
        "        total_train_loss += loss.item()\n",
        "\n",
        "        # Perform a backward pass to calculate the gradients.\n",
        "        loss.backward()\n",
        "\n",
        "        # Clip the norm of the gradients to 1.0.\n",
        "        # This is to help prevent the \"exploding gradients\" problem.\n",
        "        torch.nn.utils.clip_grad_norm_(model.parameters(), 1.0)\n",
        "\n",
        "        # Update parameters and take a step using the computed gradient.\n",
        "        # The optimizer dictates the \"update rule\"--how the parameters are\n",
        "        # modified based on their gradients, the learning rate, etc.\n",
        "        optimizer.step()\n",
        "\n",
        "        # Update the learning rate.\n",
        "        scheduler.step()\n",
        "\n",
        "    # Calculate the average loss over all of the batches.\n",
        "    avg_train_loss = total_train_loss / len(train_dataloader)            \n",
        "    \n",
        "    # Measure how long this epoch took.\n",
        "    training_time = format_time(time.time() - t0)\n",
        "\n",
        "    print(\"\")\n",
        "    print(\"  Average training loss: {0:.2f}\".format(avg_train_loss))\n",
        "    print(\"  Training epcoh took: {:}\".format(training_time))\n",
        "        \n",
        "    # ========================================\n",
        "    #               Validation\n",
        "    # ========================================\n",
        "    # After the completion of each training epoch, measure our performance on\n",
        "    # our validation set.\n",
        "\n",
        "    print(\"\")\n",
        "    print(\"Running Validation...\")\n",
        "\n",
        "    t0 = time.time()\n",
        "\n",
        "    # Put the model in evaluation mode--the dropout layers behave differently\n",
        "    # during evaluation.\n",
        "    model.eval()\n",
        "\n",
        "    # Tracking variables \n",
        "    total_eval_accuracy = 0\n",
        "    total_eval_loss = 0\n",
        "    nb_eval_steps = 0\n",
        "\n",
        "    predictions , true_labels = [], []\n",
        "\n",
        "    # Evaluate data for one epoch\n",
        "    for batch in validation_dataloader:\n",
        "        \n",
        "        b_input_ids = batch[0].to(device)\n",
        "        b_input_mask = batch[1].to(device)\n",
        "        b_labels = batch[2].to(device)\n",
        "        \n",
        "        # Tell pytorch not to bother with constructing the compute graph during\n",
        "        # the forward pass, since this is only needed for backprop (training).\n",
        "        with torch.no_grad():        \n",
        "\n",
        "\n",
        "            outputs = model(b_input_ids, \n",
        "                                   token_type_ids=None, \n",
        "                                   attention_mask=b_input_mask,\n",
        "                                   labels=b_labels)\n",
        "        loss = outputs.loss\n",
        "        logits = outputs.logits\n",
        "            \n",
        "        # Accumulate the validation loss.\n",
        "        total_eval_loss += loss.item()\n",
        "\n",
        "        # Move logits and labels to CPU\n",
        "        logits = logits.detach().cpu().numpy()\n",
        "        label_ids = b_labels.to('cpu').numpy()\n",
        "\n",
        "        # Store predictions and true labels\n",
        "        predictions.append(logits)\n",
        "        true_labels.append(label_ids)\n",
        "\n",
        "        # Calculate the accuracy for this batch of test sentences, and\n",
        "        # accumulate it over all batches.\n",
        "        total_eval_accuracy += flat_accuracy(logits, label_ids)\n",
        "        \n",
        "\n",
        "    # Report the final accuracy for this validation run.\n",
        "    avg_val_accuracy = total_eval_accuracy / len(validation_dataloader)\n",
        "    print(\"  Accuracy: {0:.2f}\".format(avg_val_accuracy))\n",
        "\n",
        "    # Calculate the average loss over all of the batches.\n",
        "    avg_val_loss = total_eval_loss / len(validation_dataloader)\n",
        "    \n",
        "    # Measure how long the validation run took.\n",
        "    validation_time = format_time(time.time() - t0)\n",
        "    \n",
        "    print(\"  Validation Loss: {0:.2f}\".format(avg_val_loss))\n",
        "    print(\"  Validation took: {:}\".format(validation_time))\n",
        "\n",
        "    # Record all statistics from this epoch.\n",
        "    training_stats.append(\n",
        "        {\n",
        "            'epoch': epoch_i + 1,\n",
        "            'Training Loss': avg_train_loss,\n",
        "            'Valid. Loss': avg_val_loss,\n",
        "            'Valid. Accur.': avg_val_accuracy,\n",
        "            'Training Time': training_time,\n",
        "            'Validation Time': validation_time\n",
        "        }\n",
        "    )\n",
        "    torch.save({\n",
        "            'epoch': epoch_i,\n",
        "            'model_state_dict': model.state_dict(),\n",
        "            'optimizer_state_dict': optimizer.state_dict(),\n",
        "            'validation_loss': avg_val_loss,\n",
        "            'validation_accuracy': avg_val_accuracy,\n",
        "            'train_loss': avg_train_loss,\n",
        "            'validation_logits': predictions,\n",
        "            'validation_labels': true_labels\n",
        "            }, F\"/content/gdrive/My Drive/roberta_model_epoch_%s.tar\" % str(epoch_i))\n",
        "    save_checkpoint(epoch_i, model, optimizer, avg_val_loss)\n",
        "    save_metrics(epoch_i, avg_val_loss, avg_val_accuracy, avg_train_loss, predictions, true_labels)\n",
        "\n",
        "    gc.collect()\n",
        "    torch.cuda.empty_cache()\n",
        "\n",
        "print(\"\")\n",
        "print(\"Training complete!\")\n",
        "\n",
        "print(\"Total training took {:} (h:mm:ss)\".format(format_time(time.time()-total_t0)))"
      ],
      "execution_count": null,
      "outputs": [
        {
          "output_type": "stream",
          "text": [
            "\n",
            "======== Epoch 1 / 7 ========\n",
            "Training...\n",
            "  Batch    40  of  3,328.    Elapsed: 0:00:10.\n",
            "  Batch    80  of  3,328.    Elapsed: 0:00:20.\n",
            "  Batch   120  of  3,328.    Elapsed: 0:00:30.\n",
            "  Batch   160  of  3,328.    Elapsed: 0:00:40.\n",
            "  Batch   200  of  3,328.    Elapsed: 0:00:50.\n",
            "  Batch   240  of  3,328.    Elapsed: 0:01:00.\n",
            "  Batch   280  of  3,328.    Elapsed: 0:01:10.\n",
            "  Batch   320  of  3,328.    Elapsed: 0:01:20.\n",
            "  Batch   360  of  3,328.    Elapsed: 0:01:30.\n",
            "  Batch   400  of  3,328.    Elapsed: 0:01:40.\n",
            "  Batch   440  of  3,328.    Elapsed: 0:01:50.\n",
            "  Batch   480  of  3,328.    Elapsed: 0:02:00.\n",
            "  Batch   520  of  3,328.    Elapsed: 0:02:10.\n",
            "  Batch   560  of  3,328.    Elapsed: 0:02:20.\n",
            "  Batch   600  of  3,328.    Elapsed: 0:02:30.\n",
            "  Batch   640  of  3,328.    Elapsed: 0:02:40.\n",
            "  Batch   680  of  3,328.    Elapsed: 0:02:50.\n",
            "  Batch   720  of  3,328.    Elapsed: 0:03:00.\n",
            "  Batch   760  of  3,328.    Elapsed: 0:03:10.\n",
            "  Batch   800  of  3,328.    Elapsed: 0:03:20.\n",
            "  Batch   840  of  3,328.    Elapsed: 0:03:30.\n",
            "  Batch   880  of  3,328.    Elapsed: 0:03:40.\n",
            "  Batch   920  of  3,328.    Elapsed: 0:03:51.\n",
            "  Batch   960  of  3,328.    Elapsed: 0:04:01.\n",
            "  Batch 1,000  of  3,328.    Elapsed: 0:04:11.\n",
            "  Batch 1,040  of  3,328.    Elapsed: 0:04:21.\n",
            "  Batch 1,080  of  3,328.    Elapsed: 0:04:31.\n",
            "  Batch 1,120  of  3,328.    Elapsed: 0:04:41.\n",
            "  Batch 1,160  of  3,328.    Elapsed: 0:04:51.\n",
            "  Batch 1,200  of  3,328.    Elapsed: 0:05:01.\n",
            "  Batch 1,240  of  3,328.    Elapsed: 0:05:11.\n",
            "  Batch 1,280  of  3,328.    Elapsed: 0:05:21.\n",
            "  Batch 1,320  of  3,328.    Elapsed: 0:05:31.\n",
            "  Batch 1,360  of  3,328.    Elapsed: 0:05:41.\n",
            "  Batch 1,400  of  3,328.    Elapsed: 0:05:51.\n",
            "  Batch 1,440  of  3,328.    Elapsed: 0:06:01.\n",
            "  Batch 1,480  of  3,328.    Elapsed: 0:06:11.\n",
            "  Batch 1,520  of  3,328.    Elapsed: 0:06:21.\n",
            "  Batch 1,560  of  3,328.    Elapsed: 0:06:31.\n",
            "  Batch 1,600  of  3,328.    Elapsed: 0:06:41.\n",
            "  Batch 1,640  of  3,328.    Elapsed: 0:06:51.\n",
            "  Batch 1,680  of  3,328.    Elapsed: 0:07:01.\n",
            "  Batch 1,720  of  3,328.    Elapsed: 0:07:11.\n",
            "  Batch 1,760  of  3,328.    Elapsed: 0:07:21.\n",
            "  Batch 1,800  of  3,328.    Elapsed: 0:07:31.\n",
            "  Batch 1,840  of  3,328.    Elapsed: 0:07:41.\n",
            "  Batch 1,880  of  3,328.    Elapsed: 0:07:51.\n",
            "  Batch 1,920  of  3,328.    Elapsed: 0:08:01.\n",
            "  Batch 1,960  of  3,328.    Elapsed: 0:08:11.\n",
            "  Batch 2,000  of  3,328.    Elapsed: 0:08:21.\n",
            "  Batch 2,040  of  3,328.    Elapsed: 0:08:31.\n",
            "  Batch 2,080  of  3,328.    Elapsed: 0:08:41.\n",
            "  Batch 2,120  of  3,328.    Elapsed: 0:08:51.\n",
            "  Batch 2,160  of  3,328.    Elapsed: 0:09:01.\n",
            "  Batch 2,200  of  3,328.    Elapsed: 0:09:11.\n",
            "  Batch 2,240  of  3,328.    Elapsed: 0:09:21.\n",
            "  Batch 2,280  of  3,328.    Elapsed: 0:09:31.\n",
            "  Batch 2,320  of  3,328.    Elapsed: 0:09:41.\n",
            "  Batch 2,360  of  3,328.    Elapsed: 0:09:51.\n",
            "  Batch 2,400  of  3,328.    Elapsed: 0:10:01.\n",
            "  Batch 2,440  of  3,328.    Elapsed: 0:10:11.\n",
            "  Batch 2,480  of  3,328.    Elapsed: 0:10:21.\n",
            "  Batch 2,520  of  3,328.    Elapsed: 0:10:31.\n",
            "  Batch 2,560  of  3,328.    Elapsed: 0:10:41.\n",
            "  Batch 2,600  of  3,328.    Elapsed: 0:10:51.\n",
            "  Batch 2,640  of  3,328.    Elapsed: 0:11:01.\n",
            "  Batch 2,680  of  3,328.    Elapsed: 0:11:11.\n",
            "  Batch 2,720  of  3,328.    Elapsed: 0:11:21.\n",
            "  Batch 2,760  of  3,328.    Elapsed: 0:11:31.\n",
            "  Batch 2,800  of  3,328.    Elapsed: 0:11:41.\n",
            "  Batch 2,840  of  3,328.    Elapsed: 0:11:51.\n",
            "  Batch 2,880  of  3,328.    Elapsed: 0:12:01.\n",
            "  Batch 2,920  of  3,328.    Elapsed: 0:12:11.\n",
            "  Batch 2,960  of  3,328.    Elapsed: 0:12:21.\n",
            "  Batch 3,000  of  3,328.    Elapsed: 0:12:31.\n",
            "  Batch 3,040  of  3,328.    Elapsed: 0:12:41.\n",
            "  Batch 3,080  of  3,328.    Elapsed: 0:12:51.\n",
            "  Batch 3,120  of  3,328.    Elapsed: 0:13:01.\n",
            "  Batch 3,160  of  3,328.    Elapsed: 0:13:11.\n",
            "  Batch 3,200  of  3,328.    Elapsed: 0:13:21.\n",
            "  Batch 3,240  of  3,328.    Elapsed: 0:13:31.\n",
            "  Batch 3,280  of  3,328.    Elapsed: 0:13:41.\n",
            "  Batch 3,320  of  3,328.    Elapsed: 0:13:51.\n",
            "\n",
            "  Average training loss: 0.93\n",
            "  Training epcoh took: 0:13:53\n",
            "\n",
            "Running Validation...\n",
            "  Accuracy: 0.84\n",
            "  Validation Loss: 0.59\n",
            "  Validation took: 0:00:28\n",
            "Model saved to ==> /content/gdrive/My Drive/Reddit/roberta_best_bert/model_epoch_0.tar\n",
            "Metrics saved to ==> /content/gdrive/My Drive/Reddit/roberta_best_bert/metrics_epoch_0.tar\n",
            "\n",
            "======== Epoch 2 / 7 ========\n",
            "Training...\n",
            "  Batch    40  of  3,328.    Elapsed: 0:00:10.\n",
            "  Batch    80  of  3,328.    Elapsed: 0:00:20.\n",
            "  Batch   120  of  3,328.    Elapsed: 0:00:30.\n",
            "  Batch   160  of  3,328.    Elapsed: 0:00:40.\n",
            "  Batch   200  of  3,328.    Elapsed: 0:00:50.\n",
            "  Batch   240  of  3,328.    Elapsed: 0:01:00.\n",
            "  Batch   280  of  3,328.    Elapsed: 0:01:10.\n",
            "  Batch   320  of  3,328.    Elapsed: 0:01:20.\n",
            "  Batch   360  of  3,328.    Elapsed: 0:01:30.\n",
            "  Batch   400  of  3,328.    Elapsed: 0:01:40.\n",
            "  Batch   440  of  3,328.    Elapsed: 0:01:50.\n",
            "  Batch   480  of  3,328.    Elapsed: 0:02:00.\n",
            "  Batch   520  of  3,328.    Elapsed: 0:02:10.\n",
            "  Batch   560  of  3,328.    Elapsed: 0:02:21.\n",
            "  Batch   600  of  3,328.    Elapsed: 0:02:31.\n",
            "  Batch   640  of  3,328.    Elapsed: 0:02:41.\n",
            "  Batch   680  of  3,328.    Elapsed: 0:02:51.\n",
            "  Batch   720  of  3,328.    Elapsed: 0:03:01.\n",
            "  Batch   760  of  3,328.    Elapsed: 0:03:11.\n",
            "  Batch   800  of  3,328.    Elapsed: 0:03:21.\n",
            "  Batch   840  of  3,328.    Elapsed: 0:03:31.\n",
            "  Batch   880  of  3,328.    Elapsed: 0:03:41.\n",
            "  Batch   920  of  3,328.    Elapsed: 0:03:51.\n",
            "  Batch   960  of  3,328.    Elapsed: 0:04:01.\n",
            "  Batch 1,000  of  3,328.    Elapsed: 0:04:11.\n",
            "  Batch 1,040  of  3,328.    Elapsed: 0:04:21.\n",
            "  Batch 1,080  of  3,328.    Elapsed: 0:04:31.\n",
            "  Batch 1,120  of  3,328.    Elapsed: 0:04:41.\n",
            "  Batch 1,160  of  3,328.    Elapsed: 0:04:51.\n",
            "  Batch 1,200  of  3,328.    Elapsed: 0:05:01.\n",
            "  Batch 1,240  of  3,328.    Elapsed: 0:05:11.\n",
            "  Batch 1,280  of  3,328.    Elapsed: 0:05:21.\n",
            "  Batch 1,320  of  3,328.    Elapsed: 0:05:31.\n",
            "  Batch 1,360  of  3,328.    Elapsed: 0:05:41.\n",
            "  Batch 1,400  of  3,328.    Elapsed: 0:05:51.\n",
            "  Batch 1,440  of  3,328.    Elapsed: 0:06:01.\n",
            "  Batch 1,480  of  3,328.    Elapsed: 0:06:11.\n",
            "  Batch 1,520  of  3,328.    Elapsed: 0:06:21.\n",
            "  Batch 1,560  of  3,328.    Elapsed: 0:06:31.\n",
            "  Batch 1,600  of  3,328.    Elapsed: 0:06:41.\n",
            "  Batch 1,640  of  3,328.    Elapsed: 0:06:51.\n",
            "  Batch 1,680  of  3,328.    Elapsed: 0:07:01.\n",
            "  Batch 1,720  of  3,328.    Elapsed: 0:07:11.\n",
            "  Batch 1,760  of  3,328.    Elapsed: 0:07:21.\n",
            "  Batch 1,800  of  3,328.    Elapsed: 0:07:31.\n",
            "  Batch 1,840  of  3,328.    Elapsed: 0:07:41.\n",
            "  Batch 1,880  of  3,328.    Elapsed: 0:07:51.\n",
            "  Batch 1,920  of  3,328.    Elapsed: 0:08:01.\n",
            "  Batch 1,960  of  3,328.    Elapsed: 0:08:11.\n",
            "  Batch 2,000  of  3,328.    Elapsed: 0:08:21.\n",
            "  Batch 2,040  of  3,328.    Elapsed: 0:08:31.\n",
            "  Batch 2,080  of  3,328.    Elapsed: 0:08:41.\n",
            "  Batch 2,120  of  3,328.    Elapsed: 0:08:51.\n",
            "  Batch 2,160  of  3,328.    Elapsed: 0:09:01.\n",
            "  Batch 2,200  of  3,328.    Elapsed: 0:09:11.\n",
            "  Batch 2,240  of  3,328.    Elapsed: 0:09:21.\n",
            "  Batch 2,280  of  3,328.    Elapsed: 0:09:31.\n",
            "  Batch 2,320  of  3,328.    Elapsed: 0:09:41.\n",
            "  Batch 2,360  of  3,328.    Elapsed: 0:09:51.\n",
            "  Batch 2,400  of  3,328.    Elapsed: 0:10:01.\n",
            "  Batch 2,440  of  3,328.    Elapsed: 0:10:11.\n",
            "  Batch 2,480  of  3,328.    Elapsed: 0:10:21.\n",
            "  Batch 2,520  of  3,328.    Elapsed: 0:10:31.\n",
            "  Batch 2,560  of  3,328.    Elapsed: 0:10:41.\n",
            "  Batch 2,600  of  3,328.    Elapsed: 0:10:51.\n",
            "  Batch 2,640  of  3,328.    Elapsed: 0:11:01.\n",
            "  Batch 2,680  of  3,328.    Elapsed: 0:11:11.\n",
            "  Batch 2,720  of  3,328.    Elapsed: 0:11:21.\n",
            "  Batch 2,760  of  3,328.    Elapsed: 0:11:31.\n",
            "  Batch 2,800  of  3,328.    Elapsed: 0:11:41.\n",
            "  Batch 2,840  of  3,328.    Elapsed: 0:11:51.\n",
            "  Batch 2,880  of  3,328.    Elapsed: 0:12:01.\n",
            "  Batch 2,920  of  3,328.    Elapsed: 0:12:11.\n",
            "  Batch 2,960  of  3,328.    Elapsed: 0:12:21.\n",
            "  Batch 3,000  of  3,328.    Elapsed: 0:12:31.\n",
            "  Batch 3,040  of  3,328.    Elapsed: 0:12:41.\n",
            "  Batch 3,080  of  3,328.    Elapsed: 0:12:51.\n",
            "  Batch 3,120  of  3,328.    Elapsed: 0:13:01.\n",
            "  Batch 3,160  of  3,328.    Elapsed: 0:13:11.\n",
            "  Batch 3,200  of  3,328.    Elapsed: 0:13:21.\n",
            "  Batch 3,240  of  3,328.    Elapsed: 0:13:31.\n",
            "  Batch 3,280  of  3,328.    Elapsed: 0:13:41.\n",
            "  Batch 3,320  of  3,328.    Elapsed: 0:13:51.\n",
            "\n",
            "  Average training loss: 0.56\n",
            "  Training epcoh took: 0:13:53\n",
            "\n",
            "Running Validation...\n",
            "  Accuracy: 0.86\n",
            "  Validation Loss: 0.66\n",
            "  Validation took: 0:00:28\n",
            "Model saved to ==> /content/gdrive/My Drive/Reddit/roberta_best_bert/model_epoch_1.tar\n",
            "Metrics saved to ==> /content/gdrive/My Drive/Reddit/roberta_best_bert/metrics_epoch_1.tar\n",
            "\n",
            "======== Epoch 3 / 7 ========\n",
            "Training...\n",
            "  Batch    40  of  3,328.    Elapsed: 0:00:10.\n",
            "  Batch    80  of  3,328.    Elapsed: 0:00:20.\n",
            "  Batch   120  of  3,328.    Elapsed: 0:00:30.\n",
            "  Batch   160  of  3,328.    Elapsed: 0:00:40.\n",
            "  Batch   200  of  3,328.    Elapsed: 0:00:50.\n",
            "  Batch   240  of  3,328.    Elapsed: 0:01:00.\n",
            "  Batch   280  of  3,328.    Elapsed: 0:01:10.\n",
            "  Batch   320  of  3,328.    Elapsed: 0:01:20.\n",
            "  Batch   360  of  3,328.    Elapsed: 0:01:30.\n",
            "  Batch   400  of  3,328.    Elapsed: 0:01:40.\n",
            "  Batch   440  of  3,328.    Elapsed: 0:01:50.\n",
            "  Batch   480  of  3,328.    Elapsed: 0:02:00.\n",
            "  Batch   520  of  3,328.    Elapsed: 0:02:10.\n",
            "  Batch   560  of  3,328.    Elapsed: 0:02:20.\n",
            "  Batch   600  of  3,328.    Elapsed: 0:02:30.\n",
            "  Batch   640  of  3,328.    Elapsed: 0:02:40.\n",
            "  Batch   680  of  3,328.    Elapsed: 0:02:50.\n",
            "  Batch   720  of  3,328.    Elapsed: 0:03:00.\n",
            "  Batch   760  of  3,328.    Elapsed: 0:03:10.\n",
            "  Batch   800  of  3,328.    Elapsed: 0:03:20.\n",
            "  Batch   840  of  3,328.    Elapsed: 0:03:30.\n",
            "  Batch   880  of  3,328.    Elapsed: 0:03:40.\n",
            "  Batch   920  of  3,328.    Elapsed: 0:03:50.\n",
            "  Batch   960  of  3,328.    Elapsed: 0:04:00.\n",
            "  Batch 1,000  of  3,328.    Elapsed: 0:04:10.\n",
            "  Batch 1,040  of  3,328.    Elapsed: 0:04:20.\n",
            "  Batch 1,080  of  3,328.    Elapsed: 0:04:30.\n",
            "  Batch 1,120  of  3,328.    Elapsed: 0:04:40.\n",
            "  Batch 1,160  of  3,328.    Elapsed: 0:04:50.\n",
            "  Batch 1,200  of  3,328.    Elapsed: 0:05:00.\n",
            "  Batch 1,240  of  3,328.    Elapsed: 0:05:10.\n",
            "  Batch 1,280  of  3,328.    Elapsed: 0:05:20.\n",
            "  Batch 1,320  of  3,328.    Elapsed: 0:05:30.\n",
            "  Batch 1,360  of  3,328.    Elapsed: 0:05:40.\n",
            "  Batch 1,400  of  3,328.    Elapsed: 0:05:50.\n",
            "  Batch 1,440  of  3,328.    Elapsed: 0:06:00.\n",
            "  Batch 1,480  of  3,328.    Elapsed: 0:06:10.\n",
            "  Batch 1,520  of  3,328.    Elapsed: 0:06:20.\n",
            "  Batch 1,560  of  3,328.    Elapsed: 0:06:30.\n",
            "  Batch 1,600  of  3,328.    Elapsed: 0:06:40.\n",
            "  Batch 1,640  of  3,328.    Elapsed: 0:06:50.\n",
            "  Batch 1,680  of  3,328.    Elapsed: 0:07:00.\n",
            "  Batch 1,720  of  3,328.    Elapsed: 0:07:10.\n",
            "  Batch 1,760  of  3,328.    Elapsed: 0:07:20.\n",
            "  Batch 1,800  of  3,328.    Elapsed: 0:07:30.\n",
            "  Batch 1,840  of  3,328.    Elapsed: 0:07:40.\n",
            "  Batch 1,880  of  3,328.    Elapsed: 0:07:50.\n",
            "  Batch 1,920  of  3,328.    Elapsed: 0:08:00.\n",
            "  Batch 1,960  of  3,328.    Elapsed: 0:08:10.\n",
            "  Batch 2,000  of  3,328.    Elapsed: 0:08:20.\n",
            "  Batch 2,040  of  3,328.    Elapsed: 0:08:30.\n",
            "  Batch 2,080  of  3,328.    Elapsed: 0:08:40.\n",
            "  Batch 2,120  of  3,328.    Elapsed: 0:08:50.\n",
            "  Batch 2,160  of  3,328.    Elapsed: 0:09:00.\n",
            "  Batch 2,200  of  3,328.    Elapsed: 0:09:10.\n",
            "  Batch 2,240  of  3,328.    Elapsed: 0:09:20.\n",
            "  Batch 2,280  of  3,328.    Elapsed: 0:09:30.\n",
            "  Batch 2,320  of  3,328.    Elapsed: 0:09:40.\n",
            "  Batch 2,360  of  3,328.    Elapsed: 0:09:50.\n",
            "  Batch 2,400  of  3,328.    Elapsed: 0:10:00.\n",
            "  Batch 2,440  of  3,328.    Elapsed: 0:10:10.\n",
            "  Batch 2,480  of  3,328.    Elapsed: 0:10:20.\n",
            "  Batch 2,520  of  3,328.    Elapsed: 0:10:30.\n",
            "  Batch 2,560  of  3,328.    Elapsed: 0:10:40.\n",
            "  Batch 2,600  of  3,328.    Elapsed: 0:10:50.\n",
            "  Batch 2,640  of  3,328.    Elapsed: 0:11:00.\n",
            "  Batch 2,680  of  3,328.    Elapsed: 0:11:10.\n",
            "  Batch 2,720  of  3,328.    Elapsed: 0:11:19.\n",
            "  Batch 2,760  of  3,328.    Elapsed: 0:11:29.\n",
            "  Batch 2,800  of  3,328.    Elapsed: 0:11:39.\n",
            "  Batch 2,840  of  3,328.    Elapsed: 0:11:49.\n",
            "  Batch 2,880  of  3,328.    Elapsed: 0:11:59.\n",
            "  Batch 2,920  of  3,328.    Elapsed: 0:12:09.\n",
            "  Batch 2,960  of  3,328.    Elapsed: 0:12:19.\n",
            "  Batch 3,000  of  3,328.    Elapsed: 0:12:29.\n",
            "  Batch 3,040  of  3,328.    Elapsed: 0:12:39.\n",
            "  Batch 3,080  of  3,328.    Elapsed: 0:12:49.\n",
            "  Batch 3,120  of  3,328.    Elapsed: 0:12:59.\n",
            "  Batch 3,160  of  3,328.    Elapsed: 0:13:09.\n",
            "  Batch 3,200  of  3,328.    Elapsed: 0:13:19.\n",
            "  Batch 3,240  of  3,328.    Elapsed: 0:13:29.\n",
            "  Batch 3,280  of  3,328.    Elapsed: 0:13:39.\n",
            "  Batch 3,320  of  3,328.    Elapsed: 0:13:49.\n",
            "\n",
            "  Average training loss: 0.48\n",
            "  Training epcoh took: 0:13:51\n",
            "\n",
            "Running Validation...\n",
            "  Accuracy: 0.87\n",
            "  Validation Loss: 0.68\n",
            "  Validation took: 0:00:28\n",
            "Model saved to ==> /content/gdrive/My Drive/Reddit/roberta_best_bert/model_epoch_2.tar\n",
            "Metrics saved to ==> /content/gdrive/My Drive/Reddit/roberta_best_bert/metrics_epoch_2.tar\n",
            "\n",
            "======== Epoch 4 / 7 ========\n",
            "Training...\n",
            "  Batch    40  of  3,328.    Elapsed: 0:00:10.\n",
            "  Batch    80  of  3,328.    Elapsed: 0:00:20.\n",
            "  Batch   120  of  3,328.    Elapsed: 0:00:30.\n",
            "  Batch   160  of  3,328.    Elapsed: 0:00:40.\n",
            "  Batch   200  of  3,328.    Elapsed: 0:00:50.\n",
            "  Batch   240  of  3,328.    Elapsed: 0:01:00.\n",
            "  Batch   280  of  3,328.    Elapsed: 0:01:10.\n",
            "  Batch   320  of  3,328.    Elapsed: 0:01:20.\n",
            "  Batch   360  of  3,328.    Elapsed: 0:01:30.\n",
            "  Batch   400  of  3,328.    Elapsed: 0:01:40.\n",
            "  Batch   440  of  3,328.    Elapsed: 0:01:50.\n",
            "  Batch   480  of  3,328.    Elapsed: 0:02:00.\n",
            "  Batch   520  of  3,328.    Elapsed: 0:02:10.\n",
            "  Batch   560  of  3,328.    Elapsed: 0:02:20.\n",
            "  Batch   600  of  3,328.    Elapsed: 0:02:30.\n",
            "  Batch   640  of  3,328.    Elapsed: 0:02:40.\n",
            "  Batch   680  of  3,328.    Elapsed: 0:02:50.\n",
            "  Batch   720  of  3,328.    Elapsed: 0:03:00.\n",
            "  Batch   760  of  3,328.    Elapsed: 0:03:10.\n",
            "  Batch   800  of  3,328.    Elapsed: 0:03:20.\n",
            "  Batch   840  of  3,328.    Elapsed: 0:03:30.\n",
            "  Batch   880  of  3,328.    Elapsed: 0:03:40.\n",
            "  Batch   920  of  3,328.    Elapsed: 0:03:50.\n",
            "  Batch   960  of  3,328.    Elapsed: 0:04:00.\n",
            "  Batch 1,000  of  3,328.    Elapsed: 0:04:10.\n",
            "  Batch 1,040  of  3,328.    Elapsed: 0:04:20.\n",
            "  Batch 1,080  of  3,328.    Elapsed: 0:04:30.\n",
            "  Batch 1,120  of  3,328.    Elapsed: 0:04:40.\n",
            "  Batch 1,160  of  3,328.    Elapsed: 0:04:50.\n",
            "  Batch 1,200  of  3,328.    Elapsed: 0:05:00.\n",
            "  Batch 1,240  of  3,328.    Elapsed: 0:05:10.\n",
            "  Batch 1,280  of  3,328.    Elapsed: 0:05:20.\n",
            "  Batch 1,320  of  3,328.    Elapsed: 0:05:30.\n",
            "  Batch 1,360  of  3,328.    Elapsed: 0:05:40.\n",
            "  Batch 1,400  of  3,328.    Elapsed: 0:05:50.\n",
            "  Batch 1,440  of  3,328.    Elapsed: 0:05:59.\n",
            "  Batch 1,480  of  3,328.    Elapsed: 0:06:09.\n",
            "  Batch 1,520  of  3,328.    Elapsed: 0:06:19.\n",
            "  Batch 1,560  of  3,328.    Elapsed: 0:06:29.\n",
            "  Batch 1,600  of  3,328.    Elapsed: 0:06:39.\n",
            "  Batch 1,640  of  3,328.    Elapsed: 0:06:49.\n",
            "  Batch 1,680  of  3,328.    Elapsed: 0:06:59.\n",
            "  Batch 1,720  of  3,328.    Elapsed: 0:07:09.\n",
            "  Batch 1,760  of  3,328.    Elapsed: 0:07:19.\n",
            "  Batch 1,800  of  3,328.    Elapsed: 0:07:29.\n",
            "  Batch 1,840  of  3,328.    Elapsed: 0:07:39.\n",
            "  Batch 1,880  of  3,328.    Elapsed: 0:07:49.\n",
            "  Batch 1,920  of  3,328.    Elapsed: 0:07:59.\n",
            "  Batch 1,960  of  3,328.    Elapsed: 0:08:09.\n",
            "  Batch 2,000  of  3,328.    Elapsed: 0:08:19.\n",
            "  Batch 2,040  of  3,328.    Elapsed: 0:08:29.\n",
            "  Batch 2,080  of  3,328.    Elapsed: 0:08:39.\n",
            "  Batch 2,120  of  3,328.    Elapsed: 0:08:49.\n",
            "  Batch 2,160  of  3,328.    Elapsed: 0:08:59.\n",
            "  Batch 2,200  of  3,328.    Elapsed: 0:09:09.\n",
            "  Batch 2,240  of  3,328.    Elapsed: 0:09:19.\n",
            "  Batch 2,280  of  3,328.    Elapsed: 0:09:29.\n",
            "  Batch 2,320  of  3,328.    Elapsed: 0:09:39.\n",
            "  Batch 2,360  of  3,328.    Elapsed: 0:09:49.\n",
            "  Batch 2,400  of  3,328.    Elapsed: 0:09:59.\n",
            "  Batch 2,440  of  3,328.    Elapsed: 0:10:09.\n",
            "  Batch 2,480  of  3,328.    Elapsed: 0:10:19.\n",
            "  Batch 2,520  of  3,328.    Elapsed: 0:10:29.\n",
            "  Batch 2,560  of  3,328.    Elapsed: 0:10:39.\n",
            "  Batch 2,600  of  3,328.    Elapsed: 0:10:49.\n",
            "  Batch 2,640  of  3,328.    Elapsed: 0:10:59.\n",
            "  Batch 2,680  of  3,328.    Elapsed: 0:11:09.\n",
            "  Batch 2,720  of  3,328.    Elapsed: 0:11:19.\n",
            "  Batch 2,760  of  3,328.    Elapsed: 0:11:29.\n",
            "  Batch 2,800  of  3,328.    Elapsed: 0:11:39.\n",
            "  Batch 2,840  of  3,328.    Elapsed: 0:11:49.\n",
            "  Batch 2,880  of  3,328.    Elapsed: 0:11:59.\n",
            "  Batch 2,920  of  3,328.    Elapsed: 0:12:09.\n",
            "  Batch 2,960  of  3,328.    Elapsed: 0:12:19.\n",
            "  Batch 3,000  of  3,328.    Elapsed: 0:12:29.\n",
            "  Batch 3,040  of  3,328.    Elapsed: 0:12:39.\n",
            "  Batch 3,080  of  3,328.    Elapsed: 0:12:49.\n",
            "  Batch 3,120  of  3,328.    Elapsed: 0:12:59.\n",
            "  Batch 3,160  of  3,328.    Elapsed: 0:13:09.\n",
            "  Batch 3,200  of  3,328.    Elapsed: 0:13:19.\n",
            "  Batch 3,240  of  3,328.    Elapsed: 0:13:29.\n",
            "  Batch 3,280  of  3,328.    Elapsed: 0:13:38.\n",
            "  Batch 3,320  of  3,328.    Elapsed: 0:13:48.\n",
            "\n",
            "  Average training loss: 0.39\n",
            "  Training epcoh took: 0:13:50\n",
            "\n",
            "Running Validation...\n",
            "  Accuracy: 0.88\n",
            "  Validation Loss: 0.70\n",
            "  Validation took: 0:00:28\n",
            "Model saved to ==> /content/gdrive/My Drive/Reddit/roberta_best_bert/model_epoch_3.tar\n",
            "Metrics saved to ==> /content/gdrive/My Drive/Reddit/roberta_best_bert/metrics_epoch_3.tar\n",
            "\n",
            "======== Epoch 5 / 7 ========\n",
            "Training...\n",
            "  Batch    40  of  3,328.    Elapsed: 0:00:10.\n",
            "  Batch    80  of  3,328.    Elapsed: 0:00:20.\n",
            "  Batch   120  of  3,328.    Elapsed: 0:00:30.\n",
            "  Batch   160  of  3,328.    Elapsed: 0:00:40.\n",
            "  Batch   200  of  3,328.    Elapsed: 0:00:50.\n",
            "  Batch   240  of  3,328.    Elapsed: 0:01:00.\n",
            "  Batch   280  of  3,328.    Elapsed: 0:01:10.\n",
            "  Batch   320  of  3,328.    Elapsed: 0:01:20.\n",
            "  Batch   360  of  3,328.    Elapsed: 0:01:30.\n",
            "  Batch   400  of  3,328.    Elapsed: 0:01:40.\n",
            "  Batch   440  of  3,328.    Elapsed: 0:01:50.\n",
            "  Batch   480  of  3,328.    Elapsed: 0:02:00.\n",
            "  Batch   520  of  3,328.    Elapsed: 0:02:10.\n",
            "  Batch   560  of  3,328.    Elapsed: 0:02:20.\n",
            "  Batch   600  of  3,328.    Elapsed: 0:02:30.\n",
            "  Batch   640  of  3,328.    Elapsed: 0:02:40.\n",
            "  Batch   680  of  3,328.    Elapsed: 0:02:50.\n",
            "  Batch   720  of  3,328.    Elapsed: 0:03:00.\n",
            "  Batch   760  of  3,328.    Elapsed: 0:03:10.\n",
            "  Batch   800  of  3,328.    Elapsed: 0:03:20.\n",
            "  Batch   840  of  3,328.    Elapsed: 0:03:30.\n",
            "  Batch   880  of  3,328.    Elapsed: 0:03:40.\n",
            "  Batch   920  of  3,328.    Elapsed: 0:03:50.\n",
            "  Batch   960  of  3,328.    Elapsed: 0:04:00.\n",
            "  Batch 1,000  of  3,328.    Elapsed: 0:04:10.\n",
            "  Batch 1,040  of  3,328.    Elapsed: 0:04:20.\n",
            "  Batch 1,080  of  3,328.    Elapsed: 0:04:29.\n",
            "  Batch 1,120  of  3,328.    Elapsed: 0:04:39.\n",
            "  Batch 1,160  of  3,328.    Elapsed: 0:04:49.\n",
            "  Batch 1,200  of  3,328.    Elapsed: 0:04:59.\n",
            "  Batch 1,240  of  3,328.    Elapsed: 0:05:09.\n",
            "  Batch 1,280  of  3,328.    Elapsed: 0:05:19.\n",
            "  Batch 1,320  of  3,328.    Elapsed: 0:05:29.\n",
            "  Batch 1,360  of  3,328.    Elapsed: 0:05:39.\n",
            "  Batch 1,400  of  3,328.    Elapsed: 0:05:49.\n",
            "  Batch 1,440  of  3,328.    Elapsed: 0:05:59.\n",
            "  Batch 1,480  of  3,328.    Elapsed: 0:06:09.\n",
            "  Batch 1,520  of  3,328.    Elapsed: 0:06:19.\n",
            "  Batch 1,560  of  3,328.    Elapsed: 0:06:29.\n",
            "  Batch 1,600  of  3,328.    Elapsed: 0:06:39.\n",
            "  Batch 1,640  of  3,328.    Elapsed: 0:06:49.\n",
            "  Batch 1,680  of  3,328.    Elapsed: 0:06:59.\n",
            "  Batch 1,720  of  3,328.    Elapsed: 0:07:09.\n",
            "  Batch 1,760  of  3,328.    Elapsed: 0:07:19.\n",
            "  Batch 1,800  of  3,328.    Elapsed: 0:07:29.\n",
            "  Batch 1,840  of  3,328.    Elapsed: 0:07:39.\n",
            "  Batch 1,880  of  3,328.    Elapsed: 0:07:49.\n",
            "  Batch 1,920  of  3,328.    Elapsed: 0:07:59.\n",
            "  Batch 1,960  of  3,328.    Elapsed: 0:08:09.\n",
            "  Batch 2,000  of  3,328.    Elapsed: 0:08:19.\n",
            "  Batch 2,040  of  3,328.    Elapsed: 0:08:29.\n",
            "  Batch 2,080  of  3,328.    Elapsed: 0:08:39.\n",
            "  Batch 2,120  of  3,328.    Elapsed: 0:08:49.\n",
            "  Batch 2,160  of  3,328.    Elapsed: 0:08:59.\n",
            "  Batch 2,200  of  3,328.    Elapsed: 0:09:09.\n",
            "  Batch 2,240  of  3,328.    Elapsed: 0:09:19.\n",
            "  Batch 2,280  of  3,328.    Elapsed: 0:09:29.\n",
            "  Batch 2,320  of  3,328.    Elapsed: 0:09:39.\n",
            "  Batch 2,360  of  3,328.    Elapsed: 0:09:49.\n",
            "  Batch 2,400  of  3,328.    Elapsed: 0:09:58.\n",
            "  Batch 2,440  of  3,328.    Elapsed: 0:10:08.\n",
            "  Batch 2,480  of  3,328.    Elapsed: 0:10:18.\n",
            "  Batch 2,520  of  3,328.    Elapsed: 0:10:28.\n",
            "  Batch 2,560  of  3,328.    Elapsed: 0:10:38.\n",
            "  Batch 2,600  of  3,328.    Elapsed: 0:10:48.\n",
            "  Batch 2,640  of  3,328.    Elapsed: 0:10:58.\n",
            "  Batch 2,680  of  3,328.    Elapsed: 0:11:08.\n",
            "  Batch 2,720  of  3,328.    Elapsed: 0:11:18.\n",
            "  Batch 2,760  of  3,328.    Elapsed: 0:11:28.\n",
            "  Batch 2,800  of  3,328.    Elapsed: 0:11:38.\n",
            "  Batch 2,840  of  3,328.    Elapsed: 0:11:48.\n",
            "  Batch 2,880  of  3,328.    Elapsed: 0:11:58.\n",
            "  Batch 2,920  of  3,328.    Elapsed: 0:12:08.\n",
            "  Batch 2,960  of  3,328.    Elapsed: 0:12:18.\n",
            "  Batch 3,000  of  3,328.    Elapsed: 0:12:28.\n",
            "  Batch 3,040  of  3,328.    Elapsed: 0:12:38.\n",
            "  Batch 3,080  of  3,328.    Elapsed: 0:12:48.\n",
            "  Batch 3,120  of  3,328.    Elapsed: 0:12:58.\n",
            "  Batch 3,160  of  3,328.    Elapsed: 0:13:08.\n",
            "  Batch 3,200  of  3,328.    Elapsed: 0:13:18.\n",
            "  Batch 3,240  of  3,328.    Elapsed: 0:13:28.\n",
            "  Batch 3,280  of  3,328.    Elapsed: 0:13:38.\n",
            "  Batch 3,320  of  3,328.    Elapsed: 0:13:48.\n",
            "\n",
            "  Average training loss: 0.32\n",
            "  Training epcoh took: 0:13:50\n",
            "\n",
            "Running Validation...\n",
            "  Accuracy: 0.89\n",
            "  Validation Loss: 0.70\n",
            "  Validation took: 0:00:28\n",
            "Model saved to ==> /content/gdrive/My Drive/Reddit/roberta_best_bert/model_epoch_4.tar\n",
            "Metrics saved to ==> /content/gdrive/My Drive/Reddit/roberta_best_bert/metrics_epoch_4.tar\n",
            "\n",
            "======== Epoch 6 / 7 ========\n",
            "Training...\n",
            "  Batch    40  of  3,328.    Elapsed: 0:00:10.\n",
            "  Batch    80  of  3,328.    Elapsed: 0:00:20.\n",
            "  Batch   120  of  3,328.    Elapsed: 0:00:30.\n",
            "  Batch   160  of  3,328.    Elapsed: 0:00:40.\n",
            "  Batch   200  of  3,328.    Elapsed: 0:00:50.\n",
            "  Batch   240  of  3,328.    Elapsed: 0:01:00.\n",
            "  Batch   280  of  3,328.    Elapsed: 0:01:10.\n",
            "  Batch   320  of  3,328.    Elapsed: 0:01:20.\n",
            "  Batch   360  of  3,328.    Elapsed: 0:01:30.\n",
            "  Batch   400  of  3,328.    Elapsed: 0:01:40.\n",
            "  Batch   440  of  3,328.    Elapsed: 0:01:50.\n",
            "  Batch   480  of  3,328.    Elapsed: 0:02:00.\n",
            "  Batch   520  of  3,328.    Elapsed: 0:02:10.\n",
            "  Batch   560  of  3,328.    Elapsed: 0:02:20.\n",
            "  Batch   600  of  3,328.    Elapsed: 0:02:30.\n",
            "  Batch   640  of  3,328.    Elapsed: 0:02:40.\n",
            "  Batch   680  of  3,328.    Elapsed: 0:02:50.\n",
            "  Batch   720  of  3,328.    Elapsed: 0:03:00.\n",
            "  Batch   760  of  3,328.    Elapsed: 0:03:10.\n",
            "  Batch   800  of  3,328.    Elapsed: 0:03:20.\n",
            "  Batch   840  of  3,328.    Elapsed: 0:03:30.\n",
            "  Batch   880  of  3,328.    Elapsed: 0:03:40.\n",
            "  Batch   920  of  3,328.    Elapsed: 0:03:50.\n",
            "  Batch   960  of  3,328.    Elapsed: 0:04:00.\n",
            "  Batch 1,000  of  3,328.    Elapsed: 0:04:10.\n",
            "  Batch 1,040  of  3,328.    Elapsed: 0:04:20.\n",
            "  Batch 1,080  of  3,328.    Elapsed: 0:04:30.\n",
            "  Batch 1,120  of  3,328.    Elapsed: 0:04:40.\n",
            "  Batch 1,160  of  3,328.    Elapsed: 0:04:50.\n",
            "  Batch 1,200  of  3,328.    Elapsed: 0:04:59.\n",
            "  Batch 1,240  of  3,328.    Elapsed: 0:05:09.\n",
            "  Batch 1,280  of  3,328.    Elapsed: 0:05:19.\n",
            "  Batch 1,320  of  3,328.    Elapsed: 0:05:29.\n",
            "  Batch 1,360  of  3,328.    Elapsed: 0:05:39.\n",
            "  Batch 1,400  of  3,328.    Elapsed: 0:05:49.\n",
            "  Batch 1,440  of  3,328.    Elapsed: 0:05:59.\n",
            "  Batch 1,480  of  3,328.    Elapsed: 0:06:09.\n",
            "  Batch 1,520  of  3,328.    Elapsed: 0:06:19.\n",
            "  Batch 1,560  of  3,328.    Elapsed: 0:06:29.\n",
            "  Batch 1,600  of  3,328.    Elapsed: 0:06:39.\n",
            "  Batch 1,640  of  3,328.    Elapsed: 0:06:49.\n",
            "  Batch 1,680  of  3,328.    Elapsed: 0:06:59.\n",
            "  Batch 1,720  of  3,328.    Elapsed: 0:07:09.\n",
            "  Batch 1,760  of  3,328.    Elapsed: 0:07:19.\n",
            "  Batch 1,800  of  3,328.    Elapsed: 0:07:29.\n",
            "  Batch 1,840  of  3,328.    Elapsed: 0:07:39.\n",
            "  Batch 1,880  of  3,328.    Elapsed: 0:07:49.\n",
            "  Batch 1,920  of  3,328.    Elapsed: 0:07:59.\n",
            "  Batch 1,960  of  3,328.    Elapsed: 0:08:09.\n",
            "  Batch 2,000  of  3,328.    Elapsed: 0:08:19.\n",
            "  Batch 2,040  of  3,328.    Elapsed: 0:08:29.\n",
            "  Batch 2,080  of  3,328.    Elapsed: 0:08:39.\n",
            "  Batch 2,120  of  3,328.    Elapsed: 0:08:49.\n",
            "  Batch 2,160  of  3,328.    Elapsed: 0:08:59.\n",
            "  Batch 2,200  of  3,328.    Elapsed: 0:09:09.\n",
            "  Batch 2,240  of  3,328.    Elapsed: 0:09:18.\n",
            "  Batch 2,280  of  3,328.    Elapsed: 0:09:28.\n",
            "  Batch 2,320  of  3,328.    Elapsed: 0:09:38.\n",
            "  Batch 2,360  of  3,328.    Elapsed: 0:09:48.\n",
            "  Batch 2,400  of  3,328.    Elapsed: 0:09:58.\n",
            "  Batch 2,440  of  3,328.    Elapsed: 0:10:08.\n",
            "  Batch 2,480  of  3,328.    Elapsed: 0:10:18.\n",
            "  Batch 2,520  of  3,328.    Elapsed: 0:10:28.\n",
            "  Batch 2,560  of  3,328.    Elapsed: 0:10:38.\n",
            "  Batch 2,600  of  3,328.    Elapsed: 0:10:48.\n",
            "  Batch 2,640  of  3,328.    Elapsed: 0:10:58.\n",
            "  Batch 2,680  of  3,328.    Elapsed: 0:11:08.\n",
            "  Batch 2,720  of  3,328.    Elapsed: 0:11:18.\n",
            "  Batch 2,760  of  3,328.    Elapsed: 0:11:28.\n",
            "  Batch 2,800  of  3,328.    Elapsed: 0:11:38.\n",
            "  Batch 2,840  of  3,328.    Elapsed: 0:11:48.\n",
            "  Batch 2,880  of  3,328.    Elapsed: 0:11:58.\n",
            "  Batch 2,920  of  3,328.    Elapsed: 0:12:08.\n",
            "  Batch 2,960  of  3,328.    Elapsed: 0:12:18.\n",
            "  Batch 3,000  of  3,328.    Elapsed: 0:12:28.\n",
            "  Batch 3,040  of  3,328.    Elapsed: 0:12:38.\n",
            "  Batch 3,080  of  3,328.    Elapsed: 0:12:48.\n",
            "  Batch 3,120  of  3,328.    Elapsed: 0:12:58.\n",
            "  Batch 3,160  of  3,328.    Elapsed: 0:13:08.\n",
            "  Batch 3,200  of  3,328.    Elapsed: 0:13:18.\n",
            "  Batch 3,240  of  3,328.    Elapsed: 0:13:28.\n",
            "  Batch 3,280  of  3,328.    Elapsed: 0:13:38.\n",
            "  Batch 3,320  of  3,328.    Elapsed: 0:13:47.\n",
            "\n",
            "  Average training loss: 0.26\n",
            "  Training epcoh took: 0:13:49\n",
            "\n",
            "Running Validation...\n",
            "  Accuracy: 0.90\n",
            "  Validation Loss: 0.71\n",
            "  Validation took: 0:00:28\n",
            "Model saved to ==> /content/gdrive/My Drive/Reddit/roberta_best_bert/model_epoch_5.tar\n",
            "Metrics saved to ==> /content/gdrive/My Drive/Reddit/roberta_best_bert/metrics_epoch_5.tar\n",
            "\n",
            "======== Epoch 7 / 7 ========\n",
            "Training...\n",
            "  Batch    40  of  3,328.    Elapsed: 0:00:10.\n",
            "  Batch    80  of  3,328.    Elapsed: 0:00:20.\n",
            "  Batch   120  of  3,328.    Elapsed: 0:00:30.\n",
            "  Batch   160  of  3,328.    Elapsed: 0:00:40.\n",
            "  Batch   200  of  3,328.    Elapsed: 0:00:50.\n",
            "  Batch   240  of  3,328.    Elapsed: 0:01:00.\n",
            "  Batch   280  of  3,328.    Elapsed: 0:01:10.\n",
            "  Batch   320  of  3,328.    Elapsed: 0:01:20.\n",
            "  Batch   360  of  3,328.    Elapsed: 0:01:30.\n",
            "  Batch   400  of  3,328.    Elapsed: 0:01:40.\n",
            "  Batch   440  of  3,328.    Elapsed: 0:01:50.\n",
            "  Batch   480  of  3,328.    Elapsed: 0:02:00.\n",
            "  Batch   520  of  3,328.    Elapsed: 0:02:10.\n",
            "  Batch   560  of  3,328.    Elapsed: 0:02:20.\n",
            "  Batch   600  of  3,328.    Elapsed: 0:02:30.\n",
            "  Batch   640  of  3,328.    Elapsed: 0:02:40.\n",
            "  Batch   680  of  3,328.    Elapsed: 0:02:50.\n",
            "  Batch   720  of  3,328.    Elapsed: 0:03:00.\n",
            "  Batch   760  of  3,328.    Elapsed: 0:03:10.\n",
            "  Batch   800  of  3,328.    Elapsed: 0:03:20.\n",
            "  Batch   840  of  3,328.    Elapsed: 0:03:30.\n",
            "  Batch   880  of  3,328.    Elapsed: 0:03:40.\n",
            "  Batch   920  of  3,328.    Elapsed: 0:03:50.\n",
            "  Batch   960  of  3,328.    Elapsed: 0:04:00.\n",
            "  Batch 1,000  of  3,328.    Elapsed: 0:04:10.\n",
            "  Batch 1,040  of  3,328.    Elapsed: 0:04:20.\n",
            "  Batch 1,080  of  3,328.    Elapsed: 0:04:30.\n",
            "  Batch 1,120  of  3,328.    Elapsed: 0:04:40.\n",
            "  Batch 1,160  of  3,328.    Elapsed: 0:04:50.\n",
            "  Batch 1,200  of  3,328.    Elapsed: 0:04:59.\n",
            "  Batch 1,240  of  3,328.    Elapsed: 0:05:09.\n",
            "  Batch 1,280  of  3,328.    Elapsed: 0:05:19.\n",
            "  Batch 1,320  of  3,328.    Elapsed: 0:05:29.\n",
            "  Batch 1,360  of  3,328.    Elapsed: 0:05:39.\n",
            "  Batch 1,400  of  3,328.    Elapsed: 0:05:49.\n",
            "  Batch 1,440  of  3,328.    Elapsed: 0:05:59.\n",
            "  Batch 1,480  of  3,328.    Elapsed: 0:06:09.\n",
            "  Batch 1,520  of  3,328.    Elapsed: 0:06:19.\n",
            "  Batch 1,560  of  3,328.    Elapsed: 0:06:29.\n",
            "  Batch 1,600  of  3,328.    Elapsed: 0:06:39.\n",
            "  Batch 1,640  of  3,328.    Elapsed: 0:06:49.\n",
            "  Batch 1,680  of  3,328.    Elapsed: 0:06:59.\n",
            "  Batch 1,720  of  3,328.    Elapsed: 0:07:09.\n",
            "  Batch 1,760  of  3,328.    Elapsed: 0:07:19.\n",
            "  Batch 1,800  of  3,328.    Elapsed: 0:07:29.\n",
            "  Batch 1,840  of  3,328.    Elapsed: 0:07:39.\n",
            "  Batch 1,880  of  3,328.    Elapsed: 0:07:49.\n",
            "  Batch 1,920  of  3,328.    Elapsed: 0:07:59.\n",
            "  Batch 1,960  of  3,328.    Elapsed: 0:08:09.\n",
            "  Batch 2,000  of  3,328.    Elapsed: 0:08:19.\n",
            "  Batch 2,040  of  3,328.    Elapsed: 0:08:29.\n",
            "  Batch 2,080  of  3,328.    Elapsed: 0:08:39.\n",
            "  Batch 2,120  of  3,328.    Elapsed: 0:08:49.\n",
            "  Batch 2,160  of  3,328.    Elapsed: 0:08:59.\n",
            "  Batch 2,200  of  3,328.    Elapsed: 0:09:09.\n",
            "  Batch 2,240  of  3,328.    Elapsed: 0:09:18.\n",
            "  Batch 2,280  of  3,328.    Elapsed: 0:09:28.\n",
            "  Batch 2,320  of  3,328.    Elapsed: 0:09:38.\n",
            "  Batch 2,360  of  3,328.    Elapsed: 0:09:48.\n",
            "  Batch 2,400  of  3,328.    Elapsed: 0:09:58.\n",
            "  Batch 2,440  of  3,328.    Elapsed: 0:10:08.\n",
            "  Batch 2,480  of  3,328.    Elapsed: 0:10:18.\n",
            "  Batch 2,520  of  3,328.    Elapsed: 0:10:28.\n",
            "  Batch 2,560  of  3,328.    Elapsed: 0:10:38.\n",
            "  Batch 2,600  of  3,328.    Elapsed: 0:10:48.\n",
            "  Batch 2,640  of  3,328.    Elapsed: 0:10:58.\n",
            "  Batch 2,680  of  3,328.    Elapsed: 0:11:08.\n",
            "  Batch 2,720  of  3,328.    Elapsed: 0:11:18.\n",
            "  Batch 2,760  of  3,328.    Elapsed: 0:11:28.\n",
            "  Batch 2,800  of  3,328.    Elapsed: 0:11:38.\n",
            "  Batch 2,840  of  3,328.    Elapsed: 0:11:48.\n",
            "  Batch 2,880  of  3,328.    Elapsed: 0:11:58.\n",
            "  Batch 2,920  of  3,328.    Elapsed: 0:12:08.\n",
            "  Batch 2,960  of  3,328.    Elapsed: 0:12:18.\n",
            "  Batch 3,000  of  3,328.    Elapsed: 0:12:28.\n",
            "  Batch 3,040  of  3,328.    Elapsed: 0:12:38.\n",
            "  Batch 3,080  of  3,328.    Elapsed: 0:12:48.\n",
            "  Batch 3,120  of  3,328.    Elapsed: 0:12:58.\n",
            "  Batch 3,160  of  3,328.    Elapsed: 0:13:07.\n",
            "  Batch 3,200  of  3,328.    Elapsed: 0:13:17.\n",
            "  Batch 3,240  of  3,328.    Elapsed: 0:13:27.\n",
            "  Batch 3,280  of  3,328.    Elapsed: 0:13:37.\n",
            "  Batch 3,320  of  3,328.    Elapsed: 0:13:47.\n",
            "\n",
            "  Average training loss: 0.23\n",
            "  Training epcoh took: 0:13:49\n",
            "\n",
            "Running Validation...\n",
            "  Accuracy: 0.89\n",
            "  Validation Loss: 0.71\n",
            "  Validation took: 0:00:28\n",
            "Model saved to ==> /content/gdrive/My Drive/Reddit/roberta_best_bert/model_epoch_6.tar\n",
            "Metrics saved to ==> /content/gdrive/My Drive/Reddit/roberta_best_bert/metrics_epoch_6.tar\n",
            "\n",
            "Training complete!\n",
            "Total training took 1:50:03 (h:mm:ss)\n"
          ],
          "name": "stdout"
        }
      ]
    },
    {
      "cell_type": "markdown",
      "metadata": {
        "id": "ewrWpcAvhU4b"
      },
      "source": [
        "### Load Training Results"
      ]
    },
    {
      "cell_type": "code",
      "metadata": {
        "id": "8-z2m8iAh6Ql"
      },
      "source": [
        "epochs = 7\n",
        "val_loss = []\n",
        "train_loss = []\n",
        "val_accuracy = []\n",
        "val_logits = []\n",
        "val_labels = []\n",
        "for epoch_i in range(0, epochs):\n",
        "  PATH  = F\"/content/gdrive/My Drive/Reddit/roberta_best_bert/metrics_epoch_%s.tar\" % str(epoch_i)\n",
        "  checkpoint = torch.load(PATH, map_location=torch.device('cpu'))\n",
        "  val_loss.append(checkpoint['validation_loss'])\n",
        "  train_loss.append(checkpoint['train_loss'])\n",
        "  val_accuracy.append(checkpoint['validation_accuracy'])\n",
        "  val_logits.append(checkpoint['validation_logits'])\n",
        "  val_labels.append(checkpoint['validation_labels'])"
      ],
      "execution_count": null,
      "outputs": []
    },
    {
      "cell_type": "code",
      "metadata": {
        "colab": {
          "base_uri": "https://localhost:8080/",
          "height": 427
        },
        "id": "HoS7Pk8iiF1J",
        "outputId": "badb6a82-0fd2-448e-929f-93b82fef1151"
      },
      "source": [
        "import matplotlib.pyplot as plt\n",
        "% matplotlib inline\n",
        "\n",
        "import seaborn as sns\n",
        "\n",
        "# Use plot styling from seaborn.\n",
        "sns.set(style='darkgrid')\n",
        "\n",
        "# Increase the plot size and font size.\n",
        "sns.set(font_scale=1.5)\n",
        "plt.rcParams[\"figure.figsize\"] = (12,6)\n",
        "\n",
        "# Plot the learning curve.\n",
        "plt.plot(train_loss, 'b-o', label=\"Training\")\n",
        "plt.plot(val_loss, 'g-o', label=\"Validation\")\n",
        "\n",
        "# Label the plot.\n",
        "plt.title(\"Training & Validation Loss\")\n",
        "plt.xlabel(\"Epoch\")\n",
        "plt.ylabel(\"Loss\")\n",
        "plt.legend()\n",
        "plt.xticks([0, 1, 2, 3, 4, 5, 6])\n",
        "\n",
        "plt.show()"
      ],
      "execution_count": null,
      "outputs": [
        {
          "output_type": "display_data",
          "data": {
            "image/png": "[encoded data removed]",
            "text/plain": [
              "<Figure size 864x432 with 1 Axes>"
            ]
          },
          "metadata": {
            "tags": []
          }
        }
      ]
    },
    {
      "cell_type": "code",
      "metadata": {
        "colab": {
          "base_uri": "https://localhost:8080/",
          "height": 427
        },
        "id": "XswCnYiFiKcZ",
        "outputId": "9b923c1d-e5ff-4855-fbf8-de594fe65cc6"
      },
      "source": [
        "plt.plot(val_accuracy, 'b-o', label=\"Training\")\n",
        "\n",
        "plt.title(\"Validation Accuracy\")\n",
        "plt.xlabel(\"Epoch\")\n",
        "plt.ylabel(\"Accuracy\")\n",
        "plt.xticks([0, 1, 2, 3, 4, 5, 6])\n",
        "\n",
        "plt.show()"
      ],
      "execution_count": null,
      "outputs": [
        {
          "output_type": "display_data",
          "data": {
            "image/png": "[encoded data removed]",
            "text/plain": [
              "<Figure size 864x432 with 1 Axes>"
            ]
          },
          "metadata": {
            "tags": []
          }
        }
      ]
    },
    {
      "cell_type": "code",
      "metadata": {
        "colab": {
          "base_uri": "https://localhost:8080/"
        },
        "id": "tYtX4jL0iPbT",
        "outputId": "b6d35d56-21bd-47de-b203-1e39e401446b"
      },
      "source": [
        "epoch = 5\n",
        "PATH  = F\"/content/gdrive/My Drive/Reddit/roberta_best_bert/model_epoch_%s.tar\" % str(epoch)\n",
        "state_dict = torch.load(PATH, map_location=device)\n",
        "model.load_state_dict(state_dict['model_state_dict'])"
      ],
      "execution_count": null,
      "outputs": [
        {
          "output_type": "execute_result",
          "data": {
            "text/plain": [
              "<All keys matched successfully>"
            ]
          },
          "metadata": {
            "tags": []
          },
          "execution_count": 56
        }
      ]
    },
    {
      "cell_type": "markdown",
      "metadata": {
        "id": "B_xJPnNlb_4c"
      },
      "source": [
        "### Results"
      ]
    },
    {
      "cell_type": "code",
      "metadata": {
        "id": "d_jJ_9Q9b9Ns",
        "colab": {
          "base_uri": "https://localhost:8080/",
          "height": 284
        },
        "outputId": "2daec97d-a315-472a-d6f4-5cd12b5c8485"
      },
      "source": [
        "pd.set_option('precision', 2)\n",
        "\n",
        "df_stats = pd.DataFrame(data=training_stats)\n",
        "\n",
        "df_stats = df_stats.set_index('epoch')\n",
        "\n",
        "df_stats"
      ],
      "execution_count": null,
      "outputs": [
        {
          "output_type": "execute_result",
          "data": {
            "text/html": [
              "<div>\n",
              "<style scoped>\n",
              "    .dataframe tbody tr th:only-of-type {\n",
              "        vertical-align: middle;\n",
              "    }\n",
              "\n",
              "    .dataframe tbody tr th {\n",
              "        vertical-align: top;\n",
              "    }\n",
              "\n",
              "    .dataframe thead th {\n",
              "        text-align: right;\n",
              "    }\n",
              "</style>\n",
              "<table border=\"1\" class=\"dataframe\">\n",
              "  <thead>\n",
              "    <tr style=\"text-align: right;\">\n",
              "      <th></th>\n",
              "      <th>Training Loss</th>\n",
              "      <th>Valid. Loss</th>\n",
              "      <th>Valid. Accur.</th>\n",
              "      <th>Training Time</th>\n",
              "      <th>Validation Time</th>\n",
              "    </tr>\n",
              "    <tr>\n",
              "      <th>epoch</th>\n",
              "      <th></th>\n",
              "      <th></th>\n",
              "      <th></th>\n",
              "      <th></th>\n",
              "      <th></th>\n",
              "    </tr>\n",
              "  </thead>\n",
              "  <tbody>\n",
              "    <tr>\n",
              "      <th>1</th>\n",
              "      <td>0.93</td>\n",
              "      <td>0.59</td>\n",
              "      <td>0.84</td>\n",
              "      <td>0:13:53</td>\n",
              "      <td>0:00:28</td>\n",
              "    </tr>\n",
              "    <tr>\n",
              "      <th>2</th>\n",
              "      <td>0.56</td>\n",
              "      <td>0.66</td>\n",
              "      <td>0.86</td>\n",
              "      <td>0:13:53</td>\n",
              "      <td>0:00:28</td>\n",
              "    </tr>\n",
              "    <tr>\n",
              "      <th>3</th>\n",
              "      <td>0.48</td>\n",
              "      <td>0.68</td>\n",
              "      <td>0.87</td>\n",
              "      <td>0:13:51</td>\n",
              "      <td>0:00:28</td>\n",
              "    </tr>\n",
              "    <tr>\n",
              "      <th>4</th>\n",
              "      <td>0.39</td>\n",
              "      <td>0.70</td>\n",
              "      <td>0.88</td>\n",
              "      <td>0:13:50</td>\n",
              "      <td>0:00:28</td>\n",
              "    </tr>\n",
              "    <tr>\n",
              "      <th>5</th>\n",
              "      <td>0.32</td>\n",
              "      <td>0.70</td>\n",
              "      <td>0.89</td>\n",
              "      <td>0:13:50</td>\n",
              "      <td>0:00:28</td>\n",
              "    </tr>\n",
              "    <tr>\n",
              "      <th>6</th>\n",
              "      <td>0.26</td>\n",
              "      <td>0.71</td>\n",
              "      <td>0.90</td>\n",
              "      <td>0:13:49</td>\n",
              "      <td>0:00:28</td>\n",
              "    </tr>\n",
              "    <tr>\n",
              "      <th>7</th>\n",
              "      <td>0.23</td>\n",
              "      <td>0.71</td>\n",
              "      <td>0.89</td>\n",
              "      <td>0:13:49</td>\n",
              "      <td>0:00:28</td>\n",
              "    </tr>\n",
              "  </tbody>\n",
              "</table>\n",
              "</div>"
            ],
            "text/plain": [
              "       Training Loss  Valid. Loss  Valid. Accur. Training Time Validation Time\n",
              "epoch                                                                         \n",
              "1               0.93         0.59           0.84       0:13:53         0:00:28\n",
              "2               0.56         0.66           0.86       0:13:53         0:00:28\n",
              "3               0.48         0.68           0.87       0:13:51         0:00:28\n",
              "4               0.39         0.70           0.88       0:13:50         0:00:28\n",
              "5               0.32         0.70           0.89       0:13:50         0:00:28\n",
              "6               0.26         0.71           0.90       0:13:49         0:00:28\n",
              "7               0.23         0.71           0.89       0:13:49         0:00:28"
            ]
          },
          "metadata": {
            "tags": []
          },
          "execution_count": 36
        }
      ]
    },
    {
      "cell_type": "code",
      "metadata": {
        "id": "25MTIPAncGl0",
        "colab": {
          "base_uri": "https://localhost:8080/",
          "height": 427
        },
        "outputId": "cab55f7f-36bd-4a3d-adc1-83900f16ccb1"
      },
      "source": [
        "import matplotlib.pyplot as plt\n",
        "% matplotlib inline\n",
        "\n",
        "import seaborn as sns\n",
        "\n",
        "# Use plot styling from seaborn.\n",
        "sns.set(style='darkgrid')\n",
        "\n",
        "# Increase the plot size and font size.\n",
        "sns.set(font_scale=1.5)\n",
        "plt.rcParams[\"figure.figsize\"] = (12,6)\n",
        "\n",
        "# Plot the learning curve.\n",
        "plt.plot(df_stats['Training Loss'], 'b-o', label=\"Training\")\n",
        "plt.plot(df_stats['Valid. Loss'], 'g-o', label=\"Validation\")\n",
        "\n",
        "# Label the plot.\n",
        "plt.title(\"Training & Validation Loss\")\n",
        "plt.xlabel(\"Epoch\")\n",
        "plt.ylabel(\"Loss\")\n",
        "plt.legend()\n",
        "plt.xticks([1, 2, 3, 4, 5, 6, 7])\n",
        "\n",
        "plt.show()"
      ],
      "execution_count": null,
      "outputs": [
        {
          "output_type": "display_data",
          "data": {
            "image/png": "[encoded data removed]",
            "text/plain": [
              "<Figure size 864x432 with 1 Axes>"
            ]
          },
          "metadata": {
            "tags": []
          }
        }
      ]
    },
    {
      "cell_type": "code",
      "metadata": {
        "colab": {
          "base_uri": "https://localhost:8080/",
          "height": 427
        },
        "id": "GOKe3zNGbrmC",
        "outputId": "d2885bc6-337a-4488-99e3-cac66fee4050"
      },
      "source": [
        "plt.plot(df_stats['Valid. Accur.'], 'g-o', label=\"Validation\")\n",
        "\n",
        "# Label the plot.\n",
        "plt.title(\"Validation Accuracy\")\n",
        "plt.xlabel(\"Epoch\")\n",
        "plt.ylabel(\"Loss\")\n",
        "plt.legend()\n",
        "plt.xticks([1, 2, 3, 4, 5, 6, 7])\n",
        "\n",
        "plt.show()"
      ],
      "execution_count": null,
      "outputs": [
        {
          "output_type": "display_data",
          "data": {
            "image/png": "[encoded data removed]",
            "text/plain": [
              "<Figure size 864x432 with 1 Axes>"
            ]
          },
          "metadata": {
            "tags": []
          }
        }
      ]
    },
    {
      "cell_type": "markdown",
      "metadata": {
        "id": "xXza1tpRcMy_"
      },
      "source": [
        "### Save Model"
      ]
    },
    {
      "cell_type": "code",
      "metadata": {
        "id": "oaK4mSFccJ2A"
      },
      "source": [
        "model_save_name = 'roberta_version1_uncased.pt'\n",
        "path = F\"/content/gdrive/My Drive/{model_save_name}\" \n",
        "torch.save(model.state_dict(), path)"
      ],
      "execution_count": null,
      "outputs": []
    },
    {
      "cell_type": "markdown",
      "metadata": {
        "id": "5oDl_0DccX_U"
      },
      "source": [
        "### Load Model"
      ]
    },
    {
      "cell_type": "code",
      "metadata": {
        "id": "D2dEH8LMcZ8o"
      },
      "source": [
        "model_save_name = 'classifier_version3_75_uncased.pt'\n",
        "path = F\"/content/gdrive/My Drive/{model_save_name}\"\n",
        "model.load_state_dict(torch.load(path))"
      ],
      "execution_count": null,
      "outputs": []
    },
    {
      "cell_type": "markdown",
      "metadata": {
        "id": "5llYGoHDcfVk"
      },
      "source": [
        "## Testing "
      ]
    },
    {
      "cell_type": "markdown",
      "metadata": {
        "id": "BZVEB4Mpdnwh"
      },
      "source": [
        "### Performing prepocessing steps on test data"
      ]
    },
    {
      "cell_type": "code",
      "metadata": {
        "id": "fJNvhGdddwgl"
      },
      "source": [
        "df_test['data'] = df_test['data'].apply(lambda x: x.replace(\"\\n\", \"\").replace(\"-\", \"\").replace(\"....\", \"\")) "
      ],
      "execution_count": null,
      "outputs": []
    },
    {
      "cell_type": "code",
      "metadata": {
        "id": "rWEbH9gAd0xe"
      },
      "source": [
        "df_test = df_test.drop(df_test[df_test['data']==''].index)"
      ],
      "execution_count": null,
      "outputs": []
    },
    {
      "cell_type": "code",
      "metadata": {
        "id": "9qzreCEBeFGe"
      },
      "source": [
        "i_test = filter_encoded(df_test,9)"
      ],
      "execution_count": null,
      "outputs": []
    },
    {
      "cell_type": "code",
      "metadata": {
        "id": "iv99LE67eJUW"
      },
      "source": [
        "df_test = df_test.drop(i_test)"
      ],
      "execution_count": null,
      "outputs": []
    },
    {
      "cell_type": "markdown",
      "metadata": {
        "id": "mjo65tHReN-1"
      },
      "source": [
        "### Tokenizer"
      ]
    },
    {
      "cell_type": "code",
      "metadata": {
        "id": "pXPzElBJeOfi"
      },
      "source": [
        "sentence_test= df_test['data'].values\n",
        "labels_test = df_test['target'].values"
      ],
      "execution_count": null,
      "outputs": []
    },
    {
      "cell_type": "code",
      "metadata": {
        "id": "bw96CPkkfCU1"
      },
      "source": [
        "input_ids = []\n",
        "attention_masks = []\n",
        "\n",
        "# For every sentence...\n",
        "for sent in sentence_test:\n",
        "    # `encode_plus` will:\n",
        "    #   (1) Tokenize the sentence.\n",
        "    #   (2) Prepend the `[CLS]` token to the start.\n",
        "    #   (3) Append the `[SEP]` token to the end.\n",
        "    #   (4) Map tokens to their IDs.\n",
        "    #   (5) Pad or truncate the sentence to `max_length`\n",
        "    #   (6) Create attention masks for [PAD] tokens.\n",
        "    encoded_dict = tokenizer.encode_plus(\n",
        "                        sent,                      # Sentence to encode.\n",
        "                        add_special_tokens = True, # Add '[CLS]' and '[SEP]'\n",
        "                        max_length = 512,           # Pad & truncate all sentences.\n",
        "                        padding = 'max_length',\n",
        "                        truncation = True,\n",
        "                        return_attention_mask = True,   # Construct attn. masks.\n",
        "                        return_tensors = 'pt',     # Return pytorch tensors.\n",
        "                   )\n",
        "    \n",
        "    # Add the encoded sentence to the list.    \n",
        "    input_ids.append(encoded_dict['input_ids'])\n",
        "    \n",
        "    # And its attention mask (simply differentiates padding from non-padding).\n",
        "    attention_masks.append(encoded_dict['attention_mask'])\n",
        "\n",
        "# Convert the lists into tensors.\n",
        "input_ids = torch.cat(input_ids, dim=0)\n",
        "attention_masks = torch.cat(attention_masks, dim=0)\n",
        "labels = torch.tensor(labels_test)\n",
        "\n",
        "\n",
        "prediction_data = TensorDataset(input_ids, attention_masks, labels)\n",
        "prediction_sampler = SequentialSampler(prediction_data)\n",
        "prediction_dataloader = DataLoader(prediction_data, sampler=prediction_sampler, batch_size=batch_size)"
      ],
      "execution_count": null,
      "outputs": []
    },
    {
      "cell_type": "markdown",
      "metadata": {
        "id": "yTZRQp0ufR6I"
      },
      "source": [
        "### Prediction"
      ]
    },
    {
      "cell_type": "code",
      "metadata": {
        "id": "8GdV-Ju4fUg5",
        "colab": {
          "base_uri": "https://localhost:8080/"
        },
        "outputId": "cfb45b48-c595-4824-88e9-7f38ce1fc57c"
      },
      "source": [
        "print('Predicting labels for {:,} test sentences...'.format(len(input_ids)))\n",
        "\n",
        "# Put model in evaluation mode\n",
        "model.eval()\n",
        "\n",
        "# Tracking variables \n",
        "predictions , true_labels = [], []\n",
        "\n",
        "# Predict \n",
        "for batch in prediction_dataloader:\n",
        "  # Add batch to GPU\n",
        "  batch = tuple(t.to(device) for t in batch)\n",
        "  \n",
        "  # Unpack the inputs from our dataloader\n",
        "  b_input_ids, b_input_mask, b_labels = batch\n",
        "  \n",
        "  # Telling the model not to compute or store gradients, saving memory and \n",
        "  # speeding up prediction\n",
        "  with torch.no_grad():\n",
        "      # Forward pass, calculate logit predictions\n",
        "      outputs = model(b_input_ids, token_type_ids=None, \n",
        "                      attention_mask=b_input_mask)\n",
        "\n",
        "  logits = outputs.logits\n",
        "\n",
        "  # Move logits and labels to CPU\n",
        "  logits = logits.detach().cpu().numpy()\n",
        "  label_ids = b_labels.to('cpu').numpy()\n",
        "  \n",
        "  # Store predictions and true labels\n",
        "  predictions.append(logits)\n",
        "  true_labels.append(label_ids)\n",
        "\n",
        "print('    DONE.')"
      ],
      "execution_count": null,
      "outputs": [
        {
          "output_type": "stream",
          "text": [
            "Predicting labels for 1,657 test sentences...\n",
            "    DONE.\n"
          ],
          "name": "stdout"
        }
      ]
    },
    {
      "cell_type": "code",
      "metadata": {
        "id": "v05iMx0HgIJ_"
      },
      "source": [
        "def flat_accuracy_pred(preds, labels):\n",
        "  preds_flat = np.hstack(np.array(list(map(lambda x: np.argmax(x, axis=1),preds)),dtype='object'))\n",
        "  labels_flat = np.hstack(np.array(labels, dtype='object'))\n",
        "  return np.sum(preds_flat == labels_flat) / len(labels_flat)"
      ],
      "execution_count": null,
      "outputs": []
    },
    {
      "cell_type": "code",
      "metadata": {
        "id": "6TUEKCVdgJUV",
        "colab": {
          "base_uri": "https://localhost:8080/"
        },
        "outputId": "c4bfd028-424c-423b-b0cb-7215ea7252a4"
      },
      "source": [
        "flat_accuracy_pred(predictions, true_labels)  "
      ],
      "execution_count": null,
      "outputs": [
        {
          "output_type": "execute_result",
          "data": {
            "text/plain": [
              "0.896197948098974"
            ]
          },
          "metadata": {
            "tags": []
          },
          "execution_count": 59
        }
      ]
    },
    {
      "cell_type": "code",
      "metadata": {
        "id": "ApQrPpfRo5HB"
      },
      "source": [
        "preds_flat = np.hstack(np.array(list(map(lambda x: np.argmax(x, axis=1),predictions)),dtype='object'))\n",
        "labels_flat = np.hstack(np.array(true_labels, dtype='object'))"
      ],
      "execution_count": null,
      "outputs": []
    },
    {
      "cell_type": "code",
      "metadata": {
        "id": "-W116hFkpBH4"
      },
      "source": [
        "from sklearn.metrics import precision_score, recall_score, f1_score"
      ],
      "execution_count": null,
      "outputs": []
    },
    {
      "cell_type": "code",
      "metadata": {
        "colab": {
          "base_uri": "https://localhost:8080/"
        },
        "id": "i8MU90nVpJKI",
        "outputId": "9c006236-c765-4640-875a-cfb4bce25f6d"
      },
      "source": [
        "precision_score(labels_flat, preds_flat, average='macro')"
      ],
      "execution_count": null,
      "outputs": [
        {
          "output_type": "execute_result",
          "data": {
            "text/plain": [
              "0.8979306572020752"
            ]
          },
          "metadata": {
            "tags": []
          },
          "execution_count": 64
        }
      ]
    },
    {
      "cell_type": "code",
      "metadata": {
        "id": "z3y-Bt03pTjZ",
        "colab": {
          "base_uri": "https://localhost:8080/"
        },
        "outputId": "2150ccb7-88db-433e-9d1c-c7dd259b1d8f"
      },
      "source": [
        "recall_score(labels_flat, preds_flat, average='macro')"
      ],
      "execution_count": null,
      "outputs": [
        {
          "output_type": "execute_result",
          "data": {
            "text/plain": [
              "0.8952176473817657"
            ]
          },
          "metadata": {
            "tags": []
          },
          "execution_count": 65
        }
      ]
    },
    {
      "cell_type": "code",
      "metadata": {
        "id": "vocz8O6mpX3g",
        "colab": {
          "base_uri": "https://localhost:8080/"
        },
        "outputId": "79397c38-6f80-452a-cc3f-e7e4829412e6"
      },
      "source": [
        "f1_score(labels_flat, preds_flat, average='macro')"
      ],
      "execution_count": null,
      "outputs": [
        {
          "output_type": "execute_result",
          "data": {
            "text/plain": [
              "0.8952668716422325"
            ]
          },
          "metadata": {
            "tags": []
          },
          "execution_count": 66
        }
      ]
    },
    {
      "cell_type": "markdown",
      "metadata": {
        "id": "9uhwJD1zkHA0"
      },
      "source": [
        "### Metrics"
      ]
    },
    {
      "cell_type": "code",
      "metadata": {
        "id": "Dh4jPdwDkNZ1"
      },
      "source": [
        "from sklearn.metrics import confusion_matrix\n",
        "import seaborn as sns\n",
        "import matplotlib.pyplot as plt"
      ],
      "execution_count": null,
      "outputs": []
    },
    {
      "cell_type": "code",
      "metadata": {
        "id": "oMP7yvVQkPMd"
      },
      "source": [
        "preds_flat = np.hstack(np.array(list(map(lambda x: np.argmax(x, axis=1),predictions)),dtype='object'))\n",
        "labels_flat = np.hstack(np.array(true_labels, dtype='object'))"
      ],
      "execution_count": null,
      "outputs": []
    },
    {
      "cell_type": "code",
      "metadata": {
        "id": "gLBwtH2XkRB-"
      },
      "source": [
        "conf_matrix = confusion_matrix(labels_flat, preds_flat)"
      ],
      "execution_count": null,
      "outputs": []
    },
    {
      "cell_type": "code",
      "metadata": {
        "colab": {
          "base_uri": "https://localhost:8080/",
          "height": 548
        },
        "id": "FGJsZvcokT3y",
        "outputId": "ae4c3c07-b39d-4c7c-c140-7e89d41cecda"
      },
      "source": [
        "fig = plt.figure(figsize=(15,9))\n",
        "ax = sns.heatmap(conf_matrix, annot=True, fmt=\"d\")"
      ],
      "execution_count": null,
      "outputs": [
        {
          "output_type": "display_data",
          "data": {
            "image/png": "[encoded data removed]",
            "text/plain": [
              "<Figure size 1080x648 with 2 Axes>"
            ]
          },
          "metadata": {
            "tags": []
          }
        }
      ]
    },
    {
      "cell_type": "code",
      "metadata": {
        "colab": {
          "base_uri": "https://localhost:8080/",
          "height": 639
        },
        "id": "ofPncfJPfhmS",
        "outputId": "be0bdf60-b885-4d68-996c-effb0f67b21a"
      },
      "source": [
        "pd.DataFrame(newsgroups.target_names)"
      ],
      "execution_count": null,
      "outputs": [
        {
          "output_type": "execute_result",
          "data": {
            "text/html": [
              "<div>\n",
              "<style scoped>\n",
              "    .dataframe tbody tr th:only-of-type {\n",
              "        vertical-align: middle;\n",
              "    }\n",
              "\n",
              "    .dataframe tbody tr th {\n",
              "        vertical-align: top;\n",
              "    }\n",
              "\n",
              "    .dataframe thead th {\n",
              "        text-align: right;\n",
              "    }\n",
              "</style>\n",
              "<table border=\"1\" class=\"dataframe\">\n",
              "  <thead>\n",
              "    <tr style=\"text-align: right;\">\n",
              "      <th></th>\n",
              "      <th>0</th>\n",
              "    </tr>\n",
              "  </thead>\n",
              "  <tbody>\n",
              "    <tr>\n",
              "      <th>0</th>\n",
              "      <td>alt.atheism</td>\n",
              "    </tr>\n",
              "    <tr>\n",
              "      <th>1</th>\n",
              "      <td>comp.graphics</td>\n",
              "    </tr>\n",
              "    <tr>\n",
              "      <th>2</th>\n",
              "      <td>comp.os.ms-windows.misc</td>\n",
              "    </tr>\n",
              "    <tr>\n",
              "      <th>3</th>\n",
              "      <td>comp.sys.ibm.pc.hardware</td>\n",
              "    </tr>\n",
              "    <tr>\n",
              "      <th>4</th>\n",
              "      <td>comp.sys.mac.hardware</td>\n",
              "    </tr>\n",
              "    <tr>\n",
              "      <th>5</th>\n",
              "      <td>comp.windows.x</td>\n",
              "    </tr>\n",
              "    <tr>\n",
              "      <th>6</th>\n",
              "      <td>misc.forsale</td>\n",
              "    </tr>\n",
              "    <tr>\n",
              "      <th>7</th>\n",
              "      <td>rec.autos</td>\n",
              "    </tr>\n",
              "    <tr>\n",
              "      <th>8</th>\n",
              "      <td>rec.motorcycles</td>\n",
              "    </tr>\n",
              "    <tr>\n",
              "      <th>9</th>\n",
              "      <td>rec.sport.baseball</td>\n",
              "    </tr>\n",
              "    <tr>\n",
              "      <th>10</th>\n",
              "      <td>rec.sport.hockey</td>\n",
              "    </tr>\n",
              "    <tr>\n",
              "      <th>11</th>\n",
              "      <td>sci.crypt</td>\n",
              "    </tr>\n",
              "    <tr>\n",
              "      <th>12</th>\n",
              "      <td>sci.electronics</td>\n",
              "    </tr>\n",
              "    <tr>\n",
              "      <th>13</th>\n",
              "      <td>sci.med</td>\n",
              "    </tr>\n",
              "    <tr>\n",
              "      <th>14</th>\n",
              "      <td>sci.space</td>\n",
              "    </tr>\n",
              "    <tr>\n",
              "      <th>15</th>\n",
              "      <td>soc.religion.christian</td>\n",
              "    </tr>\n",
              "    <tr>\n",
              "      <th>16</th>\n",
              "      <td>talk.politics.guns</td>\n",
              "    </tr>\n",
              "    <tr>\n",
              "      <th>17</th>\n",
              "      <td>talk.politics.mideast</td>\n",
              "    </tr>\n",
              "    <tr>\n",
              "      <th>18</th>\n",
              "      <td>talk.politics.misc</td>\n",
              "    </tr>\n",
              "    <tr>\n",
              "      <th>19</th>\n",
              "      <td>talk.religion.misc</td>\n",
              "    </tr>\n",
              "  </tbody>\n",
              "</table>\n",
              "</div>"
            ],
            "text/plain": [
              "                           0\n",
              "0                alt.atheism\n",
              "1              comp.graphics\n",
              "2    comp.os.ms-windows.misc\n",
              "3   comp.sys.ibm.pc.hardware\n",
              "4      comp.sys.mac.hardware\n",
              "5             comp.windows.x\n",
              "6               misc.forsale\n",
              "7                  rec.autos\n",
              "8            rec.motorcycles\n",
              "9         rec.sport.baseball\n",
              "10          rec.sport.hockey\n",
              "11                 sci.crypt\n",
              "12           sci.electronics\n",
              "13                   sci.med\n",
              "14                 sci.space\n",
              "15    soc.religion.christian\n",
              "16        talk.politics.guns\n",
              "17     talk.politics.mideast\n",
              "18        talk.politics.misc\n",
              "19        talk.religion.misc"
            ]
          },
          "metadata": {
            "tags": []
          },
          "execution_count": 58
        }
      ]
    }
  ]
}